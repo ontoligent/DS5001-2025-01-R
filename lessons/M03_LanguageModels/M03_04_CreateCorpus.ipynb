{
 "cells": [
  {
   "cell_type": "markdown",
   "metadata": {
    "slideshow": {
     "slide_type": "slide"
    },
    "tags": []
   },
   "source": [
    "# Create Corpus\n",
    "\n",
    "```yaml\n",
    "Course:  DS 5001\n",
    "Module:  03 Lab\n",
    "Topic:   Create a Corpus\n",
    "Author:  R.C. Alvarado\n",
    "Date:    12 December 2023\n",
    "```"
   ]
  },
  {
   "cell_type": "markdown",
   "metadata": {
    "slideshow": {
     "slide_type": "slide"
    },
    "tags": []
   },
   "source": [
    "## Purpose\n",
    "\n",
    "We create a small corpus out of two Jane Austen novles to generate a vocabulary.\n",
    "\n",
    "This vocabulary will be used to generete a series of n-gram language models in subsequent notebooks."
   ]
  },
  {
   "cell_type": "markdown",
   "metadata": {
    "slideshow": {
     "slide_type": "slide"
    },
    "tags": []
   },
   "source": [
    "## Set Up"
   ]
  },
  {
   "cell_type": "markdown",
   "metadata": {
    "slideshow": {
     "slide_type": "slide"
    },
    "tags": []
   },
   "source": [
    "### Import "
   ]
  },
  {
   "cell_type": "code",
   "execution_count": 6,
   "metadata": {
    "tags": [],
    "ExecuteTime": {
     "end_time": "2025-02-03T21:39:41.005691Z",
     "start_time": "2025-02-03T21:39:40.985306Z"
    }
   },
   "outputs": [],
   "source": [
    "import pandas as pd"
   ]
  },
  {
   "cell_type": "markdown",
   "metadata": {
    "slideshow": {
     "slide_type": "slide"
    },
    "tags": []
   },
   "source": [
    "### Configure"
   ]
  },
  {
   "cell_type": "code",
   "execution_count": 7,
   "metadata": {
    "tags": [],
    "ExecuteTime": {
     "end_time": "2025-02-03T21:39:41.015874Z",
     "start_time": "2025-02-03T21:39:41.008718Z"
    }
   },
   "outputs": [],
   "source": [
    "import configparser\n",
    "config = configparser.ConfigParser()\n",
    "config.read(\"../../../env.ini\")\n",
    "data_dir = config['DEFAULT']['data_home']\n",
    "output_dir = config['DEFAULT']['output_dir']"
   ]
  },
  {
   "cell_type": "code",
   "execution_count": 8,
   "metadata": {
    "tags": [],
    "ExecuteTime": {
     "end_time": "2025-02-03T21:39:41.016311Z",
     "start_time": "2025-02-03T21:39:41.012074Z"
    }
   },
   "outputs": [
    {
     "data": {
      "text/plain": "('/Users/jamessiegener/MSDS/DS5001/data',\n '/Users/jamessiegener/MSDS/DS5001/output')"
     },
     "execution_count": 8,
     "metadata": {},
     "output_type": "execute_result"
    }
   ],
   "source": [
    "data_dir, output_dir"
   ]
  },
  {
   "cell_type": "code",
   "execution_count": 9,
   "metadata": {
    "tags": [],
    "ExecuteTime": {
     "end_time": "2025-02-03T21:39:41.018418Z",
     "start_time": "2025-02-03T21:39:41.015530Z"
    }
   },
   "outputs": [],
   "source": [
    "OHCO = ['book_id', 'chap_num', 'para_num', 'sent_num', 'token_num']\n",
    "text_file1 = f'{output_dir}/austen-persuasion.csv'\n",
    "text_file2 = f'{output_dir}/austen-sense-and-sensibility.csv'"
   ]
  },
  {
   "cell_type": "markdown",
   "metadata": {
    "slideshow": {
     "slide_type": "slide"
    },
    "tags": []
   },
   "source": [
    "## Import and combine texts"
   ]
  },
  {
   "cell_type": "code",
   "execution_count": 10,
   "metadata": {
    "tags": [],
    "ExecuteTime": {
     "end_time": "2025-02-03T21:39:41.079252Z",
     "start_time": "2025-02-03T21:39:41.024811Z"
    }
   },
   "outputs": [],
   "source": [
    "text1 = pd.read_csv(text_file1)\n",
    "text2 = pd.read_csv(text_file2)"
   ]
  },
  {
   "cell_type": "code",
   "execution_count": 11,
   "metadata": {
    "tags": [],
    "ExecuteTime": {
     "end_time": "2025-02-03T21:39:41.100094Z",
     "start_time": "2025-02-03T21:39:41.095920Z"
    }
   },
   "outputs": [
    {
     "data": {
      "text/plain": "   chap_num  para_num  sent_num  token_num token_str  term_str\n0         1         0         0          0       Sir       sir\n1         1         0         0          1    Walter    walter\n2         1         0         0          2    Elliot    elliot\n3         1         0         0          3        of        of\n4         1         0         0          4  Kellynch  kellynch",
      "text/html": "<div>\n<style scoped>\n    .dataframe tbody tr th:only-of-type {\n        vertical-align: middle;\n    }\n\n    .dataframe tbody tr th {\n        vertical-align: top;\n    }\n\n    .dataframe thead th {\n        text-align: right;\n    }\n</style>\n<table border=\"1\" class=\"dataframe\">\n  <thead>\n    <tr style=\"text-align: right;\">\n      <th></th>\n      <th>chap_num</th>\n      <th>para_num</th>\n      <th>sent_num</th>\n      <th>token_num</th>\n      <th>token_str</th>\n      <th>term_str</th>\n    </tr>\n  </thead>\n  <tbody>\n    <tr>\n      <th>0</th>\n      <td>1</td>\n      <td>0</td>\n      <td>0</td>\n      <td>0</td>\n      <td>Sir</td>\n      <td>sir</td>\n    </tr>\n    <tr>\n      <th>1</th>\n      <td>1</td>\n      <td>0</td>\n      <td>0</td>\n      <td>1</td>\n      <td>Walter</td>\n      <td>walter</td>\n    </tr>\n    <tr>\n      <th>2</th>\n      <td>1</td>\n      <td>0</td>\n      <td>0</td>\n      <td>2</td>\n      <td>Elliot</td>\n      <td>elliot</td>\n    </tr>\n    <tr>\n      <th>3</th>\n      <td>1</td>\n      <td>0</td>\n      <td>0</td>\n      <td>3</td>\n      <td>of</td>\n      <td>of</td>\n    </tr>\n    <tr>\n      <th>4</th>\n      <td>1</td>\n      <td>0</td>\n      <td>0</td>\n      <td>4</td>\n      <td>Kellynch</td>\n      <td>kellynch</td>\n    </tr>\n  </tbody>\n</table>\n</div>"
     },
     "execution_count": 11,
     "metadata": {},
     "output_type": "execute_result"
    }
   ],
   "source": [
    "text1.head()"
   ]
  },
  {
   "cell_type": "code",
   "execution_count": 12,
   "metadata": {
    "tags": [],
    "ExecuteTime": {
     "end_time": "2025-02-03T21:39:41.108125Z",
     "start_time": "2025-02-03T21:39:41.101469Z"
    }
   },
   "outputs": [
    {
     "data": {
      "text/plain": "   chap_num  para_num  sent_num  token_num token_str  term_str\n0         1         0         0          0       The       the\n1         1         0         0          1    family    family\n2         1         0         0          2        of        of\n3         1         0         0          3  Dashwood  dashwood\n4         1         0         0          4       had       had",
      "text/html": "<div>\n<style scoped>\n    .dataframe tbody tr th:only-of-type {\n        vertical-align: middle;\n    }\n\n    .dataframe tbody tr th {\n        vertical-align: top;\n    }\n\n    .dataframe thead th {\n        text-align: right;\n    }\n</style>\n<table border=\"1\" class=\"dataframe\">\n  <thead>\n    <tr style=\"text-align: right;\">\n      <th></th>\n      <th>chap_num</th>\n      <th>para_num</th>\n      <th>sent_num</th>\n      <th>token_num</th>\n      <th>token_str</th>\n      <th>term_str</th>\n    </tr>\n  </thead>\n  <tbody>\n    <tr>\n      <th>0</th>\n      <td>1</td>\n      <td>0</td>\n      <td>0</td>\n      <td>0</td>\n      <td>The</td>\n      <td>the</td>\n    </tr>\n    <tr>\n      <th>1</th>\n      <td>1</td>\n      <td>0</td>\n      <td>0</td>\n      <td>1</td>\n      <td>family</td>\n      <td>family</td>\n    </tr>\n    <tr>\n      <th>2</th>\n      <td>1</td>\n      <td>0</td>\n      <td>0</td>\n      <td>2</td>\n      <td>of</td>\n      <td>of</td>\n    </tr>\n    <tr>\n      <th>3</th>\n      <td>1</td>\n      <td>0</td>\n      <td>0</td>\n      <td>3</td>\n      <td>Dashwood</td>\n      <td>dashwood</td>\n    </tr>\n    <tr>\n      <th>4</th>\n      <td>1</td>\n      <td>0</td>\n      <td>0</td>\n      <td>4</td>\n      <td>had</td>\n      <td>had</td>\n    </tr>\n  </tbody>\n</table>\n</div>"
     },
     "execution_count": 12,
     "metadata": {},
     "output_type": "execute_result"
    }
   ],
   "source": [
    "text2.head()"
   ]
  },
  {
   "cell_type": "code",
   "execution_count": 13,
   "metadata": {
    "tags": [],
    "ExecuteTime": {
     "end_time": "2025-02-03T21:39:41.108536Z",
     "start_time": "2025-02-03T21:39:41.104601Z"
    }
   },
   "outputs": [],
   "source": [
    "text1['book_id'] = 1 # pg105 Persuasion\n",
    "text2['book_id'] = 2 # pg161 Sense and Sensibility"
   ]
  },
  {
   "cell_type": "code",
   "execution_count": 14,
   "metadata": {
    "tags": [],
    "ExecuteTime": {
     "end_time": "2025-02-03T21:39:41.116843Z",
     "start_time": "2025-02-03T21:39:41.108092Z"
    }
   },
   "outputs": [],
   "source": [
    "LIB = pd.DataFrame(columns=['pg_id', 'book_title', 'book_author'], index=[1,2])\n",
    "LIB.index.name = 'book_id'"
   ]
  },
  {
   "cell_type": "code",
   "execution_count": 15,
   "metadata": {
    "tags": [],
    "ExecuteTime": {
     "end_time": "2025-02-03T21:39:41.120974Z",
     "start_time": "2025-02-03T21:39:41.111949Z"
    }
   },
   "outputs": [],
   "source": [
    "LIB.loc[1, ['pg_id', 'book_title', 'book_author']] = ('pg105', 'Persuasion', 'Jane Austen')\n",
    "LIB.loc[2, ['pg_id', 'book_title', 'book_author']] = ('pg161', 'Sense and Sensibility', 'Jane Austen')"
   ]
  },
  {
   "cell_type": "code",
   "execution_count": 16,
   "metadata": {
    "tags": [],
    "ExecuteTime": {
     "end_time": "2025-02-03T21:39:41.138155Z",
     "start_time": "2025-02-03T21:39:41.115531Z"
    }
   },
   "outputs": [
    {
     "data": {
      "text/plain": "         pg_id             book_title  book_author\nbook_id                                           \n1        pg105             Persuasion  Jane Austen\n2        pg161  Sense and Sensibility  Jane Austen",
      "text/html": "<div>\n<style scoped>\n    .dataframe tbody tr th:only-of-type {\n        vertical-align: middle;\n    }\n\n    .dataframe tbody tr th {\n        vertical-align: top;\n    }\n\n    .dataframe thead th {\n        text-align: right;\n    }\n</style>\n<table border=\"1\" class=\"dataframe\">\n  <thead>\n    <tr style=\"text-align: right;\">\n      <th></th>\n      <th>pg_id</th>\n      <th>book_title</th>\n      <th>book_author</th>\n    </tr>\n    <tr>\n      <th>book_id</th>\n      <th></th>\n      <th></th>\n      <th></th>\n    </tr>\n  </thead>\n  <tbody>\n    <tr>\n      <th>1</th>\n      <td>pg105</td>\n      <td>Persuasion</td>\n      <td>Jane Austen</td>\n    </tr>\n    <tr>\n      <th>2</th>\n      <td>pg161</td>\n      <td>Sense and Sensibility</td>\n      <td>Jane Austen</td>\n    </tr>\n  </tbody>\n</table>\n</div>"
     },
     "execution_count": 16,
     "metadata": {},
     "output_type": "execute_result"
    }
   ],
   "source": [
    "LIB"
   ]
  },
  {
   "cell_type": "code",
   "execution_count": 17,
   "metadata": {
    "tags": [],
    "ExecuteTime": {
     "end_time": "2025-02-03T21:39:41.205695Z",
     "start_time": "2025-02-03T21:39:41.117853Z"
    }
   },
   "outputs": [],
   "source": [
    "TOKEN = pd.concat([text1, text2]).dropna().set_index(OHCO)"
   ]
  },
  {
   "cell_type": "code",
   "execution_count": 18,
   "metadata": {
    "tags": [],
    "ExecuteTime": {
     "end_time": "2025-02-03T21:39:41.206404Z",
     "start_time": "2025-02-03T21:39:41.171794Z"
    }
   },
   "outputs": [
    {
     "data": {
      "text/plain": "                                             token_str  term_str\nbook_id chap_num para_num sent_num token_num                    \n1       1        0        0        0               Sir       sir\n                                   1            Walter    walter\n                                   2            Elliot    elliot\n                                   3                of        of\n                                   4          Kellynch  kellynch",
      "text/html": "<div>\n<style scoped>\n    .dataframe tbody tr th:only-of-type {\n        vertical-align: middle;\n    }\n\n    .dataframe tbody tr th {\n        vertical-align: top;\n    }\n\n    .dataframe thead th {\n        text-align: right;\n    }\n</style>\n<table border=\"1\" class=\"dataframe\">\n  <thead>\n    <tr style=\"text-align: right;\">\n      <th></th>\n      <th></th>\n      <th></th>\n      <th></th>\n      <th></th>\n      <th>token_str</th>\n      <th>term_str</th>\n    </tr>\n    <tr>\n      <th>book_id</th>\n      <th>chap_num</th>\n      <th>para_num</th>\n      <th>sent_num</th>\n      <th>token_num</th>\n      <th></th>\n      <th></th>\n    </tr>\n  </thead>\n  <tbody>\n    <tr>\n      <th rowspan=\"5\" valign=\"top\">1</th>\n      <th rowspan=\"5\" valign=\"top\">1</th>\n      <th rowspan=\"5\" valign=\"top\">0</th>\n      <th rowspan=\"5\" valign=\"top\">0</th>\n      <th>0</th>\n      <td>Sir</td>\n      <td>sir</td>\n    </tr>\n    <tr>\n      <th>1</th>\n      <td>Walter</td>\n      <td>walter</td>\n    </tr>\n    <tr>\n      <th>2</th>\n      <td>Elliot</td>\n      <td>elliot</td>\n    </tr>\n    <tr>\n      <th>3</th>\n      <td>of</td>\n      <td>of</td>\n    </tr>\n    <tr>\n      <th>4</th>\n      <td>Kellynch</td>\n      <td>kellynch</td>\n    </tr>\n  </tbody>\n</table>\n</div>"
     },
     "execution_count": 18,
     "metadata": {},
     "output_type": "execute_result"
    }
   ],
   "source": [
    "TOKEN.head()"
   ]
  },
  {
   "cell_type": "markdown",
   "metadata": {
    "slideshow": {
     "slide_type": "slide"
    },
    "tags": []
   },
   "source": [
    "## Extract a vocabulary"
   ]
  },
  {
   "cell_type": "markdown",
   "metadata": {},
   "source": [
    "### Nornalize tokens\n",
    "\n",
    "We use a simple normalization scheme -- remove all non-alphanumeric characters, including underscores."
   ]
  },
  {
   "cell_type": "code",
   "execution_count": 19,
   "metadata": {
    "tags": [],
    "ExecuteTime": {
     "end_time": "2025-02-03T21:39:41.281646Z",
     "start_time": "2025-02-03T21:39:41.196366Z"
    }
   },
   "outputs": [],
   "source": [
    "TOKEN['term_str'] = TOKEN['token_str'].str.lower().str.replace(r'[\\W_]', '', regex=True).dropna()"
   ]
  },
  {
   "cell_type": "code",
   "execution_count": 20,
   "metadata": {
    "tags": [],
    "ExecuteTime": {
     "end_time": "2025-02-03T21:39:41.282395Z",
     "start_time": "2025-02-03T21:39:41.254285Z"
    }
   },
   "outputs": [
    {
     "data": {
      "text/plain": "                                                token_str     term_str\nbook_id chap_num para_num sent_num token_num                          \n1       1        0        0        0                  Sir          sir\n                                   1               Walter       walter\n                                   2               Elliot       elliot\n                                   3                   of           of\n                                   4             Kellynch     kellynch\n...                                                   ...          ...\n2       50       22       0        8                  and          and\n                                   9          Sensibility  sensibility\n                                   10                  by           by\n                                   11                Jane         jane\n                                   12              Austen       austen\n\n[204802 rows x 2 columns]",
      "text/html": "<div>\n<style scoped>\n    .dataframe tbody tr th:only-of-type {\n        vertical-align: middle;\n    }\n\n    .dataframe tbody tr th {\n        vertical-align: top;\n    }\n\n    .dataframe thead th {\n        text-align: right;\n    }\n</style>\n<table border=\"1\" class=\"dataframe\">\n  <thead>\n    <tr style=\"text-align: right;\">\n      <th></th>\n      <th></th>\n      <th></th>\n      <th></th>\n      <th></th>\n      <th>token_str</th>\n      <th>term_str</th>\n    </tr>\n    <tr>\n      <th>book_id</th>\n      <th>chap_num</th>\n      <th>para_num</th>\n      <th>sent_num</th>\n      <th>token_num</th>\n      <th></th>\n      <th></th>\n    </tr>\n  </thead>\n  <tbody>\n    <tr>\n      <th rowspan=\"5\" valign=\"top\">1</th>\n      <th rowspan=\"5\" valign=\"top\">1</th>\n      <th rowspan=\"5\" valign=\"top\">0</th>\n      <th rowspan=\"5\" valign=\"top\">0</th>\n      <th>0</th>\n      <td>Sir</td>\n      <td>sir</td>\n    </tr>\n    <tr>\n      <th>1</th>\n      <td>Walter</td>\n      <td>walter</td>\n    </tr>\n    <tr>\n      <th>2</th>\n      <td>Elliot</td>\n      <td>elliot</td>\n    </tr>\n    <tr>\n      <th>3</th>\n      <td>of</td>\n      <td>of</td>\n    </tr>\n    <tr>\n      <th>4</th>\n      <td>Kellynch</td>\n      <td>kellynch</td>\n    </tr>\n    <tr>\n      <th>...</th>\n      <th>...</th>\n      <th>...</th>\n      <th>...</th>\n      <th>...</th>\n      <td>...</td>\n      <td>...</td>\n    </tr>\n    <tr>\n      <th rowspan=\"5\" valign=\"top\">2</th>\n      <th rowspan=\"5\" valign=\"top\">50</th>\n      <th rowspan=\"5\" valign=\"top\">22</th>\n      <th rowspan=\"5\" valign=\"top\">0</th>\n      <th>8</th>\n      <td>and</td>\n      <td>and</td>\n    </tr>\n    <tr>\n      <th>9</th>\n      <td>Sensibility</td>\n      <td>sensibility</td>\n    </tr>\n    <tr>\n      <th>10</th>\n      <td>by</td>\n      <td>by</td>\n    </tr>\n    <tr>\n      <th>11</th>\n      <td>Jane</td>\n      <td>jane</td>\n    </tr>\n    <tr>\n      <th>12</th>\n      <td>Austen</td>\n      <td>austen</td>\n    </tr>\n  </tbody>\n</table>\n<p>204802 rows × 2 columns</p>\n</div>"
     },
     "execution_count": 20,
     "metadata": {},
     "output_type": "execute_result"
    }
   ],
   "source": [
    "TOKEN"
   ]
  },
  {
   "cell_type": "markdown",
   "metadata": {},
   "source": [
    "### Count tokens\n",
    "\n",
    "We create a dataframe of unique tokens, i.e. token *types*, which we will call \"terms\". Our first feature will be their counts."
   ]
  },
  {
   "cell_type": "code",
   "execution_count": 21,
   "metadata": {
    "tags": [],
    "ExecuteTime": {
     "end_time": "2025-02-03T21:39:41.296400Z",
     "start_time": "2025-02-03T21:39:41.256786Z"
    }
   },
   "outputs": [],
   "source": [
    "VOCAB = TOKEN['term_str'].value_counts()\\\n",
    "    .to_frame('n')\\\n",
    "    .sort_index()"
   ]
  },
  {
   "cell_type": "code",
   "execution_count": 22,
   "metadata": {
    "tags": [],
    "ExecuteTime": {
     "end_time": "2025-02-03T21:39:41.297487Z",
     "start_time": "2025-02-03T21:39:41.279970Z"
    }
   },
   "outputs": [
    {
     "data": {
      "text/plain": "                n\nterm_str         \ncrowd           5\nfury            1\nfar           100\nconjecturing    1\nluxury          2\nslighter        1\nvery          934\nteach           3\npoverty         7\nmeeting        46",
      "text/html": "<div>\n<style scoped>\n    .dataframe tbody tr th:only-of-type {\n        vertical-align: middle;\n    }\n\n    .dataframe tbody tr th {\n        vertical-align: top;\n    }\n\n    .dataframe thead th {\n        text-align: right;\n    }\n</style>\n<table border=\"1\" class=\"dataframe\">\n  <thead>\n    <tr style=\"text-align: right;\">\n      <th></th>\n      <th>n</th>\n    </tr>\n    <tr>\n      <th>term_str</th>\n      <th></th>\n    </tr>\n  </thead>\n  <tbody>\n    <tr>\n      <th>crowd</th>\n      <td>5</td>\n    </tr>\n    <tr>\n      <th>fury</th>\n      <td>1</td>\n    </tr>\n    <tr>\n      <th>far</th>\n      <td>100</td>\n    </tr>\n    <tr>\n      <th>conjecturing</th>\n      <td>1</td>\n    </tr>\n    <tr>\n      <th>luxury</th>\n      <td>2</td>\n    </tr>\n    <tr>\n      <th>slighter</th>\n      <td>1</td>\n    </tr>\n    <tr>\n      <th>very</th>\n      <td>934</td>\n    </tr>\n    <tr>\n      <th>teach</th>\n      <td>3</td>\n    </tr>\n    <tr>\n      <th>poverty</th>\n      <td>7</td>\n    </tr>\n    <tr>\n      <th>meeting</th>\n      <td>46</td>\n    </tr>\n  </tbody>\n</table>\n</div>"
     },
     "execution_count": 22,
     "metadata": {},
     "output_type": "execute_result"
    }
   ],
   "source": [
    "VOCAB.sample(10)"
   ]
  },
  {
   "cell_type": "markdown",
   "metadata": {},
   "source": [
    "### Quick look at most frequent terms"
   ]
  },
  {
   "cell_type": "code",
   "execution_count": 23,
   "metadata": {
    "tags": [],
    "ExecuteTime": {
     "end_time": "2025-02-03T21:39:41.566784Z",
     "start_time": "2025-02-03T21:39:41.284979Z"
    }
   },
   "outputs": [
    {
     "data": {
      "text/plain": "<Figure size 1000x1000 with 1 Axes>",
      "image/png": "[encoded data removed]"
     },
     "metadata": {},
     "output_type": "display_data"
    }
   ],
   "source": [
    "VOCAB.n.nlargest(20).sort_values().plot.barh(figsize=(10, 10), fontsize=16);"
   ]
  },
  {
   "cell_type": "markdown",
   "metadata": {},
   "source": [
    "Which of these are not stop words?\n",
    "\n",
    "Would these words become less frequent as the corpus grows and includes a wide range of sources?"
   ]
  },
  {
   "cell_type": "markdown",
   "metadata": {},
   "source": [
    "## Save"
   ]
  },
  {
   "cell_type": "code",
   "execution_count": 24,
   "metadata": {
    "tags": [],
    "ExecuteTime": {
     "end_time": "2025-02-03T21:39:41.832816Z",
     "start_time": "2025-02-03T21:39:41.566740Z"
    }
   },
   "outputs": [],
   "source": [
    "path_prefix = f\"{output_dir}/austen-combo\"\n",
    "TOKEN.to_csv(f\"{path_prefix}-TOKENS.csv\", index=True)\n",
    "LIB.to_csv(f\"{path_prefix}-LIB.csv\", index=True)\n",
    "VOCAB.to_csv(f\"{path_prefix}-VOCAB.csv\", index=True)"
   ]
  },
  {
   "cell_type": "code",
   "execution_count": 24,
   "metadata": {
    "ExecuteTime": {
     "end_time": "2025-02-03T21:39:41.836925Z",
     "start_time": "2025-02-03T21:39:41.833039Z"
    }
   },
   "outputs": [],
   "source": []
  }
 ],
 "metadata": {
  "kernelspec": {
   "display_name": "Python 3 (ipykernel)",
   "language": "python",
   "name": "python3"
  },
  "language_info": {
   "codemirror_mode": {
    "name": "ipython",
    "version": 3
   },
   "file_extension": ".py",
   "mimetype": "text/x-python",
   "name": "python",
   "nbconvert_exporter": "python",
   "pygments_lexer": "ipython3",
   "version": "3.11.4"
  }
 },
 "nbformat": 4,
 "nbformat_minor": 4
}
