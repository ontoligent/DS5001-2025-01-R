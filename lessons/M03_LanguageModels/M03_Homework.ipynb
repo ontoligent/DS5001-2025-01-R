{
 "cells": [
  {
   "cell_type": "markdown",
   "id": "39dd828b0b7b996c",
   "metadata": {
    "collapsed": false
   },
   "source": [
    "## Set Up"
   ]
  },
  {
   "cell_type": "markdown",
   "id": "9402661ad5c22a9d",
   "metadata": {
    "collapsed": false
   },
   "source": [
    "## Import libraries"
   ]
  },
  {
   "cell_type": "code",
   "execution_count": 2,
   "id": "30b12a1830460ce1",
   "metadata": {
    "ExecuteTime": {
     "end_time": "2025-02-04T17:07:15.457386Z",
     "start_time": "2025-02-04T17:07:15.027325Z"
    },
    "collapsed": false
   },
   "outputs": [],
   "source": [
    "import pandas as pd\n",
    "import numpy as np"
   ]
  },
  {
   "cell_type": "markdown",
   "id": "ed4bf1a5e041b8f7",
   "metadata": {
    "collapsed": false
   },
   "source": [
    "### Import Config"
   ]
  },
  {
   "cell_type": "code",
   "execution_count": 3,
   "id": "7287756f9a439393",
   "metadata": {
    "ExecuteTime": {
     "end_time": "2025-02-04T17:07:15.470471Z",
     "start_time": "2025-02-04T17:07:15.449601Z"
    },
    "collapsed": false
   },
   "outputs": [],
   "source": [
    "import configparser\n",
    "\n",
    "config = configparser.ConfigParser()\n",
    "config.read(\"../../../env.ini\")\n",
    "data_home = config['DEFAULT']['data_home']\n",
    "output_dir = config['DEFAULT']['output_dir']"
   ]
  },
  {
   "cell_type": "code",
   "execution_count": 4,
   "id": "6fbd269e31290a95",
   "metadata": {
    "ExecuteTime": {
     "end_time": "2025-02-04T17:07:15.511577Z",
     "start_time": "2025-02-04T17:07:15.471793Z"
    },
    "collapsed": false
   },
   "outputs": [
    {
     "data": {
      "text/plain": [
       "('/Users/jamessiegener/MSDS/DS5001/data',\n",
       " '/Users/jamessiegener/MSDS/DS5001/output')"
      ]
     },
     "execution_count": 4,
     "metadata": {},
     "output_type": "execute_result"
    }
   ],
   "source": [
    "data_home, output_dir"
   ]
  },
  {
   "cell_type": "code",
   "execution_count": 5,
   "id": "1883b4e7e873dc90",
   "metadata": {
    "ExecuteTime": {
     "end_time": "2025-02-04T17:07:15.540919Z",
     "start_time": "2025-02-04T17:07:15.492372Z"
    },
    "collapsed": false
   },
   "outputs": [],
   "source": [
    "text_file = f\"{data_home}/gutenberg/pg42324.txt\"\n",
    "csv_file = f\"{output_dir}/austen-combo-TOKENS.csv\""
   ]
  },
  {
   "cell_type": "code",
   "execution_count": 6,
   "id": "a36f9493e07d02a1",
   "metadata": {
    "ExecuteTime": {
     "end_time": "2025-02-04T17:07:15.614989Z",
     "start_time": "2025-02-04T17:07:15.542002Z"
    },
    "collapsed": false
   },
   "outputs": [],
   "source": [
    "OHCO = ['book_id','chap_num', 'para_num', 'sent_num', 'token_num']\n",
    "ngrams = 3\n",
    "widx = [f\"w{i}\" for i in range(ngrams)]"
   ]
  },
  {
   "cell_type": "markdown",
   "id": "76dfca05bcebffc2",
   "metadata": {
    "collapsed": false
   },
   "source": [
    "## Import file into a dataframe"
   ]
  },
  {
   "cell_type": "code",
   "execution_count": 7,
   "id": "e6729824b9e671b",
   "metadata": {
    "ExecuteTime": {
     "end_time": "2025-02-04T17:07:15.672414Z",
     "start_time": "2025-02-04T17:07:15.602190Z"
    },
    "collapsed": false
   },
   "outputs": [
    {
     "data": {
      "text/html": [
       "<div>\n",
       "<style scoped>\n",
       "    .dataframe tbody tr th:only-of-type {\n",
       "        vertical-align: middle;\n",
       "    }\n",
       "\n",
       "    .dataframe tbody tr th {\n",
       "        vertical-align: top;\n",
       "    }\n",
       "\n",
       "    .dataframe thead th {\n",
       "        text-align: right;\n",
       "    }\n",
       "</style>\n",
       "<table border=\"1\" class=\"dataframe\">\n",
       "  <thead>\n",
       "    <tr style=\"text-align: right;\">\n",
       "      <th></th>\n",
       "      <th>line_str</th>\n",
       "    </tr>\n",
       "    <tr>\n",
       "      <th>line_num</th>\n",
       "      <th></th>\n",
       "    </tr>\n",
       "  </thead>\n",
       "  <tbody>\n",
       "    <tr>\n",
       "      <th>831</th>\n",
       "      <td></td>\n",
       "    </tr>\n",
       "    <tr>\n",
       "      <th>7123</th>\n",
       "      <td>exhausted, and I should soon have sunk under m...</td>\n",
       "    </tr>\n",
       "    <tr>\n",
       "      <th>3231</th>\n",
       "      <td>We rest; a dream has power to poison sleep.</td>\n",
       "    </tr>\n",
       "    <tr>\n",
       "      <th>5262</th>\n",
       "      <td>banks of this divine river, that I never befor...</td>\n",
       "    </tr>\n",
       "    <tr>\n",
       "      <th>1336</th>\n",
       "      <td>before the mind can persuade itself that she, ...</td>\n",
       "    </tr>\n",
       "    <tr>\n",
       "      <th>5866</th>\n",
       "      <td>stranger; and I was also disconcerted on perce...</td>\n",
       "    </tr>\n",
       "    <tr>\n",
       "      <th>1828</th>\n",
       "      <td>saw Elizabeth, in the bloom of health, walking...</td>\n",
       "    </tr>\n",
       "    <tr>\n",
       "      <th>809</th>\n",
       "      <td>listener's countenance. At first I perceived t...</td>\n",
       "    </tr>\n",
       "    <tr>\n",
       "      <th>5145</th>\n",
       "      <td>him, and put an end to my slavery for ever.</td>\n",
       "    </tr>\n",
       "    <tr>\n",
       "      <th>5525</th>\n",
       "      <td>penury. The thatch had fallen in, the walls we...</td>\n",
       "    </tr>\n",
       "    <tr>\n",
       "      <th>5908</th>\n",
       "      <td>I was soon introduced into the presence of the...</td>\n",
       "    </tr>\n",
       "    <tr>\n",
       "      <th>6486</th>\n",
       "      <td></td>\n",
       "    </tr>\n",
       "    <tr>\n",
       "      <th>851</th>\n",
       "      <td></td>\n",
       "    </tr>\n",
       "    <tr>\n",
       "      <th>7208</th>\n",
       "      <td>judgment that fitted me for illustrious achiev...</td>\n",
       "    </tr>\n",
       "    <tr>\n",
       "      <th>5672</th>\n",
       "      <td>vice. Shall I, in cool blood, set loose upon t...</td>\n",
       "    </tr>\n",
       "    <tr>\n",
       "      <th>1024</th>\n",
       "      <td>afflicted. During one of their walks a poor co...</td>\n",
       "    </tr>\n",
       "    <tr>\n",
       "      <th>6806</th>\n",
       "      <td>shudder with horror, at others a lively surpri...</td>\n",
       "    </tr>\n",
       "    <tr>\n",
       "      <th>5667</th>\n",
       "      <td>master;--obey!\"</td>\n",
       "    </tr>\n",
       "    <tr>\n",
       "      <th>5729</th>\n",
       "      <td>I returned, it was to be sacrificed, or to see...</td>\n",
       "    </tr>\n",
       "    <tr>\n",
       "      <th>4982</th>\n",
       "      <td>which he had displayed on the opening of his e...</td>\n",
       "    </tr>\n",
       "  </tbody>\n",
       "</table>\n",
       "</div>"
      ],
      "text/plain": [
       "                                                   line_str\n",
       "line_num                                                   \n",
       "831                                                        \n",
       "7123      exhausted, and I should soon have sunk under m...\n",
       "3231            We rest; a dream has power to poison sleep.\n",
       "5262      banks of this divine river, that I never befor...\n",
       "1336      before the mind can persuade itself that she, ...\n",
       "5866      stranger; and I was also disconcerted on perce...\n",
       "1828      saw Elizabeth, in the bloom of health, walking...\n",
       "809       listener's countenance. At first I perceived t...\n",
       "5145            him, and put an end to my slavery for ever.\n",
       "5525      penury. The thatch had fallen in, the walls we...\n",
       "5908      I was soon introduced into the presence of the...\n",
       "6486                                                       \n",
       "851                                                        \n",
       "7208      judgment that fitted me for illustrious achiev...\n",
       "5672      vice. Shall I, in cool blood, set loose upon t...\n",
       "1024      afflicted. During one of their walks a poor co...\n",
       "6806      shudder with horror, at others a lively surpri...\n",
       "5667                                        master;--obey!\"\n",
       "5729      I returned, it was to be sacrificed, or to see...\n",
       "4982      which he had displayed on the opening of his e..."
      ]
     },
     "execution_count": 7,
     "metadata": {},
     "output_type": "execute_result"
    }
   ],
   "source": [
    "LINES = pd.DataFrame(open(text_file, 'r', encoding='utf-8-sig').readlines(), columns=['line_str'])\n",
    "LINES.index.name = 'line_num'\n",
    "LINES.line_str = LINES.line_str.str.replace(r'\\n+', ' ', regex=True).str.strip()\n",
    "LINES.sample(20)"
   ]
  },
  {
   "cell_type": "markdown",
   "id": "b08b96343d751890",
   "metadata": {
    "collapsed": false
   },
   "source": [
    "## Extract Title"
   ]
  },
  {
   "cell_type": "code",
   "execution_count": 8,
   "id": "24bf92f954660068",
   "metadata": {
    "ExecuteTime": {
     "end_time": "2025-02-04T17:07:15.687985Z",
     "start_time": "2025-02-04T17:07:15.630660Z"
    },
    "collapsed": false
   },
   "outputs": [
    {
     "data": {
      "text/plain": [
       "'Frankenstein, by Mary W. Shelley'"
      ]
     },
     "execution_count": 8,
     "metadata": {},
     "output_type": "execute_result"
    }
   ],
   "source": [
    "title = LINES.loc[0].line_str.replace('The Project Gutenberg EBook of ', '')\n",
    "title"
   ]
  },
  {
   "cell_type": "markdown",
   "id": "51bfa9cf54fa30f8",
   "metadata": {
    "collapsed": false
   },
   "source": [
    "## Clip the Cruft"
   ]
  },
  {
   "cell_type": "code",
   "execution_count": 9,
   "id": "9271480370d45c80",
   "metadata": {
    "ExecuteTime": {
     "end_time": "2025-02-04T17:07:15.702098Z",
     "start_time": "2025-02-04T17:07:15.678912Z"
    },
    "collapsed": false
   },
   "outputs": [],
   "source": [
    "clip_pats = [\n",
    "    r\"\\*\\*\\*\\s*START OF (?:THE|THIS) PROJECT\",\n",
    "    r\"\\*\\*\\*\\s*END OF (?:THE|THIS) PROJECT\"\n",
    "]"
   ]
  },
  {
   "cell_type": "code",
   "execution_count": 10,
   "id": "8000a520a4cc908a",
   "metadata": {
    "ExecuteTime": {
     "end_time": "2025-02-04T17:07:15.764124Z",
     "start_time": "2025-02-04T17:07:15.706183Z"
    },
    "collapsed": false
   },
   "outputs": [],
   "source": [
    "pat_a = LINES.line_str.str.match(clip_pats[0])\n",
    "pat_b = LINES.line_str.str.match(clip_pats[1])"
   ]
  },
  {
   "cell_type": "code",
   "execution_count": 11,
   "id": "cee76d6ca3df2833",
   "metadata": {
    "ExecuteTime": {
     "end_time": "2025-02-04T17:07:15.808742Z",
     "start_time": "2025-02-04T17:07:15.752048Z"
    },
    "collapsed": false
   },
   "outputs": [
    {
     "data": {
      "text/plain": [
       "(19, 7671)"
      ]
     },
     "execution_count": 11,
     "metadata": {},
     "output_type": "execute_result"
    }
   ],
   "source": [
    "line_a = LINES.loc[pat_a].index[0] + 1\n",
    "line_b = LINES.loc[pat_b].index[0] - 1\n",
    "line_a, line_b"
   ]
  },
  {
   "cell_type": "code",
   "execution_count": 12,
   "id": "f57ca6f3ad7223a6",
   "metadata": {
    "ExecuteTime": {
     "end_time": "2025-02-04T17:07:15.885656Z",
     "start_time": "2025-02-04T17:07:15.789985Z"
    },
    "collapsed": false
   },
   "outputs": [],
   "source": [
    "LINES = LINES.loc[line_a: line_b]"
   ]
  },
  {
   "cell_type": "code",
   "execution_count": 13,
   "id": "5d66976e15b2099b",
   "metadata": {
    "ExecuteTime": {
     "end_time": "2025-02-04T17:07:15.927019Z",
     "start_time": "2025-02-04T17:07:15.876386Z"
    },
    "collapsed": false
   },
   "outputs": [
    {
     "data": {
      "text/html": [
       "<div>\n",
       "<style scoped>\n",
       "    .dataframe tbody tr th:only-of-type {\n",
       "        vertical-align: middle;\n",
       "    }\n",
       "\n",
       "    .dataframe tbody tr th {\n",
       "        vertical-align: top;\n",
       "    }\n",
       "\n",
       "    .dataframe thead th {\n",
       "        text-align: right;\n",
       "    }\n",
       "</style>\n",
       "<table border=\"1\" class=\"dataframe\">\n",
       "  <thead>\n",
       "    <tr style=\"text-align: right;\">\n",
       "      <th></th>\n",
       "      <th>line_str</th>\n",
       "    </tr>\n",
       "    <tr>\n",
       "      <th>line_num</th>\n",
       "      <th></th>\n",
       "    </tr>\n",
       "  </thead>\n",
       "  <tbody>\n",
       "    <tr>\n",
       "      <th>19</th>\n",
       "      <td></td>\n",
       "    </tr>\n",
       "    <tr>\n",
       "      <th>20</th>\n",
       "      <td></td>\n",
       "    </tr>\n",
       "    <tr>\n",
       "      <th>21</th>\n",
       "      <td></td>\n",
       "    </tr>\n",
       "    <tr>\n",
       "      <th>22</th>\n",
       "      <td></td>\n",
       "    </tr>\n",
       "    <tr>\n",
       "      <th>23</th>\n",
       "      <td>Produced by Greg Weeks, Mary Meehan and the On...</td>\n",
       "    </tr>\n",
       "    <tr>\n",
       "      <th>24</th>\n",
       "      <td>Distributed Proofreading Team at http://www.pg...</td>\n",
       "    </tr>\n",
       "    <tr>\n",
       "      <th>25</th>\n",
       "      <td></td>\n",
       "    </tr>\n",
       "    <tr>\n",
       "      <th>26</th>\n",
       "      <td></td>\n",
       "    </tr>\n",
       "    <tr>\n",
       "      <th>27</th>\n",
       "      <td></td>\n",
       "    </tr>\n",
       "    <tr>\n",
       "      <th>28</th>\n",
       "      <td></td>\n",
       "    </tr>\n",
       "  </tbody>\n",
       "</table>\n",
       "</div>"
      ],
      "text/plain": [
       "                                                   line_str\n",
       "line_num                                                   \n",
       "19                                                         \n",
       "20                                                         \n",
       "21                                                         \n",
       "22                                                         \n",
       "23        Produced by Greg Weeks, Mary Meehan and the On...\n",
       "24        Distributed Proofreading Team at http://www.pg...\n",
       "25                                                         \n",
       "26                                                         \n",
       "27                                                         \n",
       "28                                                         "
      ]
     },
     "execution_count": 13,
     "metadata": {},
     "output_type": "execute_result"
    }
   ],
   "source": [
    "LINES.head(10)"
   ]
  },
  {
   "cell_type": "code",
   "execution_count": 14,
   "id": "a8e1f968eb2fa539",
   "metadata": {
    "ExecuteTime": {
     "end_time": "2025-02-04T17:07:15.988532Z",
     "start_time": "2025-02-04T17:07:15.931280Z"
    },
    "collapsed": false
   },
   "outputs": [
    {
     "data": {
      "text/html": [
       "<div>\n",
       "<style scoped>\n",
       "    .dataframe tbody tr th:only-of-type {\n",
       "        vertical-align: middle;\n",
       "    }\n",
       "\n",
       "    .dataframe tbody tr th {\n",
       "        vertical-align: top;\n",
       "    }\n",
       "\n",
       "    .dataframe thead th {\n",
       "        text-align: right;\n",
       "    }\n",
       "</style>\n",
       "<table border=\"1\" class=\"dataframe\">\n",
       "  <thead>\n",
       "    <tr style=\"text-align: right;\">\n",
       "      <th></th>\n",
       "      <th>line_str</th>\n",
       "    </tr>\n",
       "    <tr>\n",
       "      <th>line_num</th>\n",
       "      <th></th>\n",
       "    </tr>\n",
       "  </thead>\n",
       "  <tbody>\n",
       "    <tr>\n",
       "      <th>7662</th>\n",
       "      <td>[Transcriber's Note: Possible printer errors c...</td>\n",
       "    </tr>\n",
       "    <tr>\n",
       "      <th>7663</th>\n",
       "      <td>Line 2863: \"I do no not fear to die\" to \"I do ...</td>\n",
       "    </tr>\n",
       "    <tr>\n",
       "      <th>7664</th>\n",
       "      <td>Line 6375: \"fulfil the wishes of you parents\" ...</td>\n",
       "    </tr>\n",
       "    <tr>\n",
       "      <th>7665</th>\n",
       "      <td></td>\n",
       "    </tr>\n",
       "    <tr>\n",
       "      <th>7666</th>\n",
       "      <td></td>\n",
       "    </tr>\n",
       "    <tr>\n",
       "      <th>7667</th>\n",
       "      <td></td>\n",
       "    </tr>\n",
       "    <tr>\n",
       "      <th>7668</th>\n",
       "      <td></td>\n",
       "    </tr>\n",
       "    <tr>\n",
       "      <th>7669</th>\n",
       "      <td></td>\n",
       "    </tr>\n",
       "    <tr>\n",
       "      <th>7670</th>\n",
       "      <td>End of the Project Gutenberg EBook of Frankens...</td>\n",
       "    </tr>\n",
       "    <tr>\n",
       "      <th>7671</th>\n",
       "      <td></td>\n",
       "    </tr>\n",
       "  </tbody>\n",
       "</table>\n",
       "</div>"
      ],
      "text/plain": [
       "                                                   line_str\n",
       "line_num                                                   \n",
       "7662      [Transcriber's Note: Possible printer errors c...\n",
       "7663      Line 2863: \"I do no not fear to die\" to \"I do ...\n",
       "7664      Line 6375: \"fulfil the wishes of you parents\" ...\n",
       "7665                                                       \n",
       "7666                                                       \n",
       "7667                                                       \n",
       "7668                                                       \n",
       "7669                                                       \n",
       "7670      End of the Project Gutenberg EBook of Frankens...\n",
       "7671                                                       "
      ]
     },
     "execution_count": 14,
     "metadata": {},
     "output_type": "execute_result"
    }
   ],
   "source": [
    "LINES.tail(10)"
   ]
  },
  {
   "cell_type": "markdown",
   "id": "cb2f96c5656efabd",
   "metadata": {
    "collapsed": false
   },
   "source": [
    "## Chunk by Chapter"
   ]
  },
  {
   "cell_type": "markdown",
   "id": "c3bba0f7e6815eab",
   "metadata": {
    "collapsed": false
   },
   "source": [
    "### Find all chapter headers"
   ]
  },
  {
   "cell_type": "code",
   "execution_count": 15,
   "id": "511cc9690c5e5616",
   "metadata": {
    "ExecuteTime": {
     "end_time": "2025-02-04T17:07:16.030872Z",
     "start_time": "2025-02-04T17:07:15.971664Z"
    },
    "collapsed": false
   },
   "outputs": [],
   "source": [
    "chap_pat = r\"^\\s*(?:chapter|letter)\\s+[IVXLCDM]+\""
   ]
  },
  {
   "cell_type": "code",
   "execution_count": 16,
   "id": "8514ecdf1759611b",
   "metadata": {
    "ExecuteTime": {
     "end_time": "2025-02-04T17:07:16.143781Z",
     "start_time": "2025-02-04T17:07:16.020152Z"
    },
    "collapsed": false
   },
   "outputs": [],
   "source": [
    "chap_lines = (LINES.line_str.str.match(chap_pat, case=False) | LINES.line_str.str.contains(r\"^\\s*PREFACE.\\s*$\", case=False))"
   ]
  },
  {
   "cell_type": "code",
   "execution_count": 17,
   "id": "f76fbc63b53a30c4",
   "metadata": {
    "ExecuteTime": {
     "end_time": "2025-02-04T17:07:16.200884Z",
     "start_time": "2025-02-04T17:07:16.137821Z"
    },
    "collapsed": false
   },
   "outputs": [
    {
     "data": {
      "text/html": [
       "<div>\n",
       "<style scoped>\n",
       "    .dataframe tbody tr th:only-of-type {\n",
       "        vertical-align: middle;\n",
       "    }\n",
       "\n",
       "    .dataframe tbody tr th {\n",
       "        vertical-align: top;\n",
       "    }\n",
       "\n",
       "    .dataframe thead th {\n",
       "        text-align: right;\n",
       "    }\n",
       "</style>\n",
       "<table border=\"1\" class=\"dataframe\">\n",
       "  <thead>\n",
       "    <tr style=\"text-align: right;\">\n",
       "      <th></th>\n",
       "      <th>line_str</th>\n",
       "    </tr>\n",
       "    <tr>\n",
       "      <th>line_num</th>\n",
       "      <th></th>\n",
       "    </tr>\n",
       "  </thead>\n",
       "  <tbody>\n",
       "    <tr>\n",
       "      <th>271</th>\n",
       "      <td>PREFACE.</td>\n",
       "    </tr>\n",
       "    <tr>\n",
       "      <th>343</th>\n",
       "      <td>LETTER I.</td>\n",
       "    </tr>\n",
       "    <tr>\n",
       "      <th>467</th>\n",
       "      <td>LETTER II.</td>\n",
       "    </tr>\n",
       "    <tr>\n",
       "      <th>594</th>\n",
       "      <td>LETTER III.</td>\n",
       "    </tr>\n",
       "    <tr>\n",
       "      <th>636</th>\n",
       "      <td>LETTER IV.</td>\n",
       "    </tr>\n",
       "    <tr>\n",
       "      <th>918</th>\n",
       "      <td>CHAPTER I.</td>\n",
       "    </tr>\n",
       "    <tr>\n",
       "      <th>1085</th>\n",
       "      <td>CHAPTER II.</td>\n",
       "    </tr>\n",
       "    <tr>\n",
       "      <th>1299</th>\n",
       "      <td>CHAPTER III.</td>\n",
       "    </tr>\n",
       "    <tr>\n",
       "      <th>1555</th>\n",
       "      <td>CHAPTER IV.</td>\n",
       "    </tr>\n",
       "    <tr>\n",
       "      <th>1789</th>\n",
       "      <td>CHAPTER V.</td>\n",
       "    </tr>\n",
       "    <tr>\n",
       "      <th>2028</th>\n",
       "      <td>CHAPTER VI.</td>\n",
       "    </tr>\n",
       "    <tr>\n",
       "      <th>2292</th>\n",
       "      <td>CHAPTER VII.</td>\n",
       "    </tr>\n",
       "    <tr>\n",
       "      <th>2655</th>\n",
       "      <td>CHAPTER VIII.</td>\n",
       "    </tr>\n",
       "    <tr>\n",
       "      <th>2958</th>\n",
       "      <td>CHAPTER IX.</td>\n",
       "    </tr>\n",
       "    <tr>\n",
       "      <th>3165</th>\n",
       "      <td>CHAPTER X.</td>\n",
       "    </tr>\n",
       "    <tr>\n",
       "      <th>3385</th>\n",
       "      <td>CHAPTER XI.</td>\n",
       "    </tr>\n",
       "    <tr>\n",
       "      <th>3651</th>\n",
       "      <td>CHAPTER XII.</td>\n",
       "    </tr>\n",
       "    <tr>\n",
       "      <th>3856</th>\n",
       "      <td>CHAPTER XIII.</td>\n",
       "    </tr>\n",
       "    <tr>\n",
       "      <th>4061</th>\n",
       "      <td>CHAPTER XIV.</td>\n",
       "    </tr>\n",
       "    <tr>\n",
       "      <th>4245</th>\n",
       "      <td>CHAPTER XV.</td>\n",
       "    </tr>\n",
       "    <tr>\n",
       "      <th>4552</th>\n",
       "      <td>CHAPTER XVI.</td>\n",
       "    </tr>\n",
       "    <tr>\n",
       "      <th>4861</th>\n",
       "      <td>CHAPTER XVII.</td>\n",
       "    </tr>\n",
       "    <tr>\n",
       "      <th>5046</th>\n",
       "      <td>CHAPTER XVIII.</td>\n",
       "    </tr>\n",
       "    <tr>\n",
       "      <th>5324</th>\n",
       "      <td>CHAPTER XIX.</td>\n",
       "    </tr>\n",
       "    <tr>\n",
       "      <th>5572</th>\n",
       "      <td>CHAPTER XX.</td>\n",
       "    </tr>\n",
       "    <tr>\n",
       "      <th>5905</th>\n",
       "      <td>CHAPTER XXI.</td>\n",
       "    </tr>\n",
       "    <tr>\n",
       "      <th>6274</th>\n",
       "      <td>CHAPTER XXII.</td>\n",
       "    </tr>\n",
       "    <tr>\n",
       "      <th>6615</th>\n",
       "      <td>CHAPTER XXIII.</td>\n",
       "    </tr>\n",
       "    <tr>\n",
       "      <th>6867</th>\n",
       "      <td>CHAPTER XXIV.</td>\n",
       "    </tr>\n",
       "  </tbody>\n",
       "</table>\n",
       "</div>"
      ],
      "text/plain": [
       "                line_str\n",
       "line_num                \n",
       "271             PREFACE.\n",
       "343            LETTER I.\n",
       "467           LETTER II.\n",
       "594          LETTER III.\n",
       "636           LETTER IV.\n",
       "918           CHAPTER I.\n",
       "1085         CHAPTER II.\n",
       "1299        CHAPTER III.\n",
       "1555         CHAPTER IV.\n",
       "1789          CHAPTER V.\n",
       "2028         CHAPTER VI.\n",
       "2292        CHAPTER VII.\n",
       "2655       CHAPTER VIII.\n",
       "2958         CHAPTER IX.\n",
       "3165          CHAPTER X.\n",
       "3385         CHAPTER XI.\n",
       "3651        CHAPTER XII.\n",
       "3856       CHAPTER XIII.\n",
       "4061        CHAPTER XIV.\n",
       "4245         CHAPTER XV.\n",
       "4552        CHAPTER XVI.\n",
       "4861       CHAPTER XVII.\n",
       "5046      CHAPTER XVIII.\n",
       "5324        CHAPTER XIX.\n",
       "5572         CHAPTER XX.\n",
       "5905        CHAPTER XXI.\n",
       "6274       CHAPTER XXII.\n",
       "6615      CHAPTER XXIII.\n",
       "6867       CHAPTER XXIV."
      ]
     },
     "execution_count": 17,
     "metadata": {},
     "output_type": "execute_result"
    }
   ],
   "source": [
    "LINES.loc[chap_lines]"
   ]
  },
  {
   "cell_type": "markdown",
   "id": "c5f9c4519e3233ce",
   "metadata": {
    "collapsed": false
   },
   "source": [
    "### Assign numbers to chapters"
   ]
  },
  {
   "cell_type": "code",
   "execution_count": 18,
   "id": "77cb7dbdfafcba30",
   "metadata": {
    "ExecuteTime": {
     "end_time": "2025-02-04T17:07:16.302657Z",
     "start_time": "2025-02-04T17:07:16.204487Z"
    },
    "collapsed": false
   },
   "outputs": [],
   "source": [
    "LINES.loc[chap_lines, 'chap_num'] = [i + 1 for i in range(LINES.loc[chap_lines].shape[0])]"
   ]
  },
  {
   "cell_type": "code",
   "execution_count": 19,
   "id": "3d0b4c9dad5ebc8b",
   "metadata": {
    "ExecuteTime": {
     "end_time": "2025-02-04T17:07:16.341453Z",
     "start_time": "2025-02-04T17:07:16.284596Z"
    },
    "collapsed": false
   },
   "outputs": [
    {
     "data": {
      "text/html": [
       "<div>\n",
       "<style scoped>\n",
       "    .dataframe tbody tr th:only-of-type {\n",
       "        vertical-align: middle;\n",
       "    }\n",
       "\n",
       "    .dataframe tbody tr th {\n",
       "        vertical-align: top;\n",
       "    }\n",
       "\n",
       "    .dataframe thead th {\n",
       "        text-align: right;\n",
       "    }\n",
       "</style>\n",
       "<table border=\"1\" class=\"dataframe\">\n",
       "  <thead>\n",
       "    <tr style=\"text-align: right;\">\n",
       "      <th></th>\n",
       "      <th>line_str</th>\n",
       "      <th>chap_num</th>\n",
       "    </tr>\n",
       "    <tr>\n",
       "      <th>line_num</th>\n",
       "      <th></th>\n",
       "      <th></th>\n",
       "    </tr>\n",
       "  </thead>\n",
       "  <tbody>\n",
       "    <tr>\n",
       "      <th>271</th>\n",
       "      <td>PREFACE.</td>\n",
       "      <td>1.0</td>\n",
       "    </tr>\n",
       "    <tr>\n",
       "      <th>343</th>\n",
       "      <td>LETTER I.</td>\n",
       "      <td>2.0</td>\n",
       "    </tr>\n",
       "    <tr>\n",
       "      <th>467</th>\n",
       "      <td>LETTER II.</td>\n",
       "      <td>3.0</td>\n",
       "    </tr>\n",
       "    <tr>\n",
       "      <th>594</th>\n",
       "      <td>LETTER III.</td>\n",
       "      <td>4.0</td>\n",
       "    </tr>\n",
       "    <tr>\n",
       "      <th>636</th>\n",
       "      <td>LETTER IV.</td>\n",
       "      <td>5.0</td>\n",
       "    </tr>\n",
       "    <tr>\n",
       "      <th>918</th>\n",
       "      <td>CHAPTER I.</td>\n",
       "      <td>6.0</td>\n",
       "    </tr>\n",
       "    <tr>\n",
       "      <th>1085</th>\n",
       "      <td>CHAPTER II.</td>\n",
       "      <td>7.0</td>\n",
       "    </tr>\n",
       "    <tr>\n",
       "      <th>1299</th>\n",
       "      <td>CHAPTER III.</td>\n",
       "      <td>8.0</td>\n",
       "    </tr>\n",
       "    <tr>\n",
       "      <th>1555</th>\n",
       "      <td>CHAPTER IV.</td>\n",
       "      <td>9.0</td>\n",
       "    </tr>\n",
       "    <tr>\n",
       "      <th>1789</th>\n",
       "      <td>CHAPTER V.</td>\n",
       "      <td>10.0</td>\n",
       "    </tr>\n",
       "    <tr>\n",
       "      <th>2028</th>\n",
       "      <td>CHAPTER VI.</td>\n",
       "      <td>11.0</td>\n",
       "    </tr>\n",
       "    <tr>\n",
       "      <th>2292</th>\n",
       "      <td>CHAPTER VII.</td>\n",
       "      <td>12.0</td>\n",
       "    </tr>\n",
       "    <tr>\n",
       "      <th>2655</th>\n",
       "      <td>CHAPTER VIII.</td>\n",
       "      <td>13.0</td>\n",
       "    </tr>\n",
       "    <tr>\n",
       "      <th>2958</th>\n",
       "      <td>CHAPTER IX.</td>\n",
       "      <td>14.0</td>\n",
       "    </tr>\n",
       "    <tr>\n",
       "      <th>3165</th>\n",
       "      <td>CHAPTER X.</td>\n",
       "      <td>15.0</td>\n",
       "    </tr>\n",
       "    <tr>\n",
       "      <th>3385</th>\n",
       "      <td>CHAPTER XI.</td>\n",
       "      <td>16.0</td>\n",
       "    </tr>\n",
       "    <tr>\n",
       "      <th>3651</th>\n",
       "      <td>CHAPTER XII.</td>\n",
       "      <td>17.0</td>\n",
       "    </tr>\n",
       "    <tr>\n",
       "      <th>3856</th>\n",
       "      <td>CHAPTER XIII.</td>\n",
       "      <td>18.0</td>\n",
       "    </tr>\n",
       "    <tr>\n",
       "      <th>4061</th>\n",
       "      <td>CHAPTER XIV.</td>\n",
       "      <td>19.0</td>\n",
       "    </tr>\n",
       "    <tr>\n",
       "      <th>4245</th>\n",
       "      <td>CHAPTER XV.</td>\n",
       "      <td>20.0</td>\n",
       "    </tr>\n",
       "    <tr>\n",
       "      <th>4552</th>\n",
       "      <td>CHAPTER XVI.</td>\n",
       "      <td>21.0</td>\n",
       "    </tr>\n",
       "    <tr>\n",
       "      <th>4861</th>\n",
       "      <td>CHAPTER XVII.</td>\n",
       "      <td>22.0</td>\n",
       "    </tr>\n",
       "    <tr>\n",
       "      <th>5046</th>\n",
       "      <td>CHAPTER XVIII.</td>\n",
       "      <td>23.0</td>\n",
       "    </tr>\n",
       "    <tr>\n",
       "      <th>5324</th>\n",
       "      <td>CHAPTER XIX.</td>\n",
       "      <td>24.0</td>\n",
       "    </tr>\n",
       "    <tr>\n",
       "      <th>5572</th>\n",
       "      <td>CHAPTER XX.</td>\n",
       "      <td>25.0</td>\n",
       "    </tr>\n",
       "    <tr>\n",
       "      <th>5905</th>\n",
       "      <td>CHAPTER XXI.</td>\n",
       "      <td>26.0</td>\n",
       "    </tr>\n",
       "    <tr>\n",
       "      <th>6274</th>\n",
       "      <td>CHAPTER XXII.</td>\n",
       "      <td>27.0</td>\n",
       "    </tr>\n",
       "    <tr>\n",
       "      <th>6615</th>\n",
       "      <td>CHAPTER XXIII.</td>\n",
       "      <td>28.0</td>\n",
       "    </tr>\n",
       "    <tr>\n",
       "      <th>6867</th>\n",
       "      <td>CHAPTER XXIV.</td>\n",
       "      <td>29.0</td>\n",
       "    </tr>\n",
       "  </tbody>\n",
       "</table>\n",
       "</div>"
      ],
      "text/plain": [
       "                line_str  chap_num\n",
       "line_num                          \n",
       "271             PREFACE.       1.0\n",
       "343            LETTER I.       2.0\n",
       "467           LETTER II.       3.0\n",
       "594          LETTER III.       4.0\n",
       "636           LETTER IV.       5.0\n",
       "918           CHAPTER I.       6.0\n",
       "1085         CHAPTER II.       7.0\n",
       "1299        CHAPTER III.       8.0\n",
       "1555         CHAPTER IV.       9.0\n",
       "1789          CHAPTER V.      10.0\n",
       "2028         CHAPTER VI.      11.0\n",
       "2292        CHAPTER VII.      12.0\n",
       "2655       CHAPTER VIII.      13.0\n",
       "2958         CHAPTER IX.      14.0\n",
       "3165          CHAPTER X.      15.0\n",
       "3385         CHAPTER XI.      16.0\n",
       "3651        CHAPTER XII.      17.0\n",
       "3856       CHAPTER XIII.      18.0\n",
       "4061        CHAPTER XIV.      19.0\n",
       "4245         CHAPTER XV.      20.0\n",
       "4552        CHAPTER XVI.      21.0\n",
       "4861       CHAPTER XVII.      22.0\n",
       "5046      CHAPTER XVIII.      23.0\n",
       "5324        CHAPTER XIX.      24.0\n",
       "5572         CHAPTER XX.      25.0\n",
       "5905        CHAPTER XXI.      26.0\n",
       "6274       CHAPTER XXII.      27.0\n",
       "6615      CHAPTER XXIII.      28.0\n",
       "6867       CHAPTER XXIV.      29.0"
      ]
     },
     "execution_count": 19,
     "metadata": {},
     "output_type": "execute_result"
    }
   ],
   "source": [
    "LINES.loc[chap_lines]"
   ]
  },
  {
   "cell_type": "code",
   "execution_count": 20,
   "id": "bd81757bd97fcd8a",
   "metadata": {
    "ExecuteTime": {
     "end_time": "2025-02-04T17:07:16.414808Z",
     "start_time": "2025-02-04T17:07:16.342838Z"
    },
    "collapsed": false
   },
   "outputs": [
    {
     "data": {
      "text/html": [
       "<div>\n",
       "<style scoped>\n",
       "    .dataframe tbody tr th:only-of-type {\n",
       "        vertical-align: middle;\n",
       "    }\n",
       "\n",
       "    .dataframe tbody tr th {\n",
       "        vertical-align: top;\n",
       "    }\n",
       "\n",
       "    .dataframe thead th {\n",
       "        text-align: right;\n",
       "    }\n",
       "</style>\n",
       "<table border=\"1\" class=\"dataframe\">\n",
       "  <thead>\n",
       "    <tr style=\"text-align: right;\">\n",
       "      <th></th>\n",
       "      <th>line_str</th>\n",
       "      <th>chap_num</th>\n",
       "    </tr>\n",
       "    <tr>\n",
       "      <th>line_num</th>\n",
       "      <th></th>\n",
       "      <th></th>\n",
       "    </tr>\n",
       "  </thead>\n",
       "  <tbody>\n",
       "    <tr>\n",
       "      <th>6422</th>\n",
       "      <td>crimes by my death. Well, be it so; a deadly s...</td>\n",
       "      <td>NaN</td>\n",
       "    </tr>\n",
       "    <tr>\n",
       "      <th>6912</th>\n",
       "      <td>aid and conduct me in my work. Let the cursed ...</td>\n",
       "      <td>NaN</td>\n",
       "    </tr>\n",
       "    <tr>\n",
       "      <th>2433</th>\n",
       "      <td>these preliminary circumstances; but they were...</td>\n",
       "      <td>NaN</td>\n",
       "    </tr>\n",
       "    <tr>\n",
       "      <th>6619</th>\n",
       "      <td>shore, enjoying the transitory light, and then...</td>\n",
       "      <td>NaN</td>\n",
       "    </tr>\n",
       "    <tr>\n",
       "      <th>2785</th>\n",
       "      <td>but it was excited by her generous interferenc...</td>\n",
       "      <td>NaN</td>\n",
       "    </tr>\n",
       "    <tr>\n",
       "      <th>6833</th>\n",
       "      <td></td>\n",
       "      <td>NaN</td>\n",
       "    </tr>\n",
       "    <tr>\n",
       "      <th>6989</th>\n",
       "      <td></td>\n",
       "      <td>NaN</td>\n",
       "    </tr>\n",
       "    <tr>\n",
       "      <th>5507</th>\n",
       "      <td>Having parted from my friend, I determined to ...</td>\n",
       "      <td>NaN</td>\n",
       "    </tr>\n",
       "    <tr>\n",
       "      <th>1659</th>\n",
       "      <td>my story, and you will easily perceive why I a...</td>\n",
       "      <td>NaN</td>\n",
       "    </tr>\n",
       "    <tr>\n",
       "      <th>1319</th>\n",
       "      <td>mother sickened; her fever was accompanied by ...</td>\n",
       "      <td>NaN</td>\n",
       "    </tr>\n",
       "  </tbody>\n",
       "</table>\n",
       "</div>"
      ],
      "text/plain": [
       "                                                   line_str  chap_num\n",
       "line_num                                                             \n",
       "6422      crimes by my death. Well, be it so; a deadly s...       NaN\n",
       "6912      aid and conduct me in my work. Let the cursed ...       NaN\n",
       "2433      these preliminary circumstances; but they were...       NaN\n",
       "6619      shore, enjoying the transitory light, and then...       NaN\n",
       "2785      but it was excited by her generous interferenc...       NaN\n",
       "6833                                                              NaN\n",
       "6989                                                              NaN\n",
       "5507      Having parted from my friend, I determined to ...       NaN\n",
       "1659      my story, and you will easily perceive why I a...       NaN\n",
       "1319      mother sickened; her fever was accompanied by ...       NaN"
      ]
     },
     "execution_count": 20,
     "metadata": {},
     "output_type": "execute_result"
    }
   ],
   "source": [
    "LINES.sample(10)"
   ]
  },
  {
   "cell_type": "code",
   "execution_count": 21,
   "id": "285272cf382d3458",
   "metadata": {
    "ExecuteTime": {
     "end_time": "2025-02-04T17:07:16.475464Z",
     "start_time": "2025-02-04T17:07:16.406588Z"
    },
    "collapsed": false
   },
   "outputs": [],
   "source": [
    "LINES.chap_num = LINES.chap_num.ffill()"
   ]
  },
  {
   "cell_type": "code",
   "execution_count": 22,
   "id": "69d01fad543a5138",
   "metadata": {
    "ExecuteTime": {
     "end_time": "2025-02-04T17:07:16.554165Z",
     "start_time": "2025-02-04T17:07:16.467562Z"
    },
    "collapsed": false
   },
   "outputs": [
    {
     "data": {
      "text/html": [
       "<div>\n",
       "<style scoped>\n",
       "    .dataframe tbody tr th:only-of-type {\n",
       "        vertical-align: middle;\n",
       "    }\n",
       "\n",
       "    .dataframe tbody tr th {\n",
       "        vertical-align: top;\n",
       "    }\n",
       "\n",
       "    .dataframe thead th {\n",
       "        text-align: right;\n",
       "    }\n",
       "</style>\n",
       "<table border=\"1\" class=\"dataframe\">\n",
       "  <thead>\n",
       "    <tr style=\"text-align: right;\">\n",
       "      <th></th>\n",
       "      <th>line_str</th>\n",
       "      <th>chap_num</th>\n",
       "    </tr>\n",
       "    <tr>\n",
       "      <th>line_num</th>\n",
       "      <th></th>\n",
       "      <th></th>\n",
       "    </tr>\n",
       "  </thead>\n",
       "  <tbody>\n",
       "    <tr>\n",
       "      <th>795</th>\n",
       "      <td>deck, apparently watching for the sledge that ...</td>\n",
       "      <td>5.0</td>\n",
       "    </tr>\n",
       "    <tr>\n",
       "      <th>3782</th>\n",
       "      <td>easily perceived that, although I eagerly long...</td>\n",
       "      <td>17.0</td>\n",
       "    </tr>\n",
       "    <tr>\n",
       "      <th>3399</th>\n",
       "      <td>or sight; but I now found that I could wander ...</td>\n",
       "      <td>16.0</td>\n",
       "    </tr>\n",
       "    <tr>\n",
       "      <th>5621</th>\n",
       "      <td>tore to pieces the thing on which I was engage...</td>\n",
       "      <td>25.0</td>\n",
       "    </tr>\n",
       "    <tr>\n",
       "      <th>5395</th>\n",
       "      <td>the whole nation had forsaken his cause to joi...</td>\n",
       "      <td>24.0</td>\n",
       "    </tr>\n",
       "    <tr>\n",
       "      <th>3783</th>\n",
       "      <td>the cottagers, I ought not to make the attempt...</td>\n",
       "      <td>17.0</td>\n",
       "    </tr>\n",
       "    <tr>\n",
       "      <th>6502</th>\n",
       "      <td>threat returned: nor can you wonder, that, omn...</td>\n",
       "      <td>27.0</td>\n",
       "    </tr>\n",
       "    <tr>\n",
       "      <th>7193</th>\n",
       "      <td>themselves who visit him from the regions of a...</td>\n",
       "      <td>29.0</td>\n",
       "    </tr>\n",
       "    <tr>\n",
       "      <th>6459</th>\n",
       "      <td>until then, I conjure you, do not mention or a...</td>\n",
       "      <td>27.0</td>\n",
       "    </tr>\n",
       "    <tr>\n",
       "      <th>6374</th>\n",
       "      <td>\"You well know, Victor, that our union had bee...</td>\n",
       "      <td>27.0</td>\n",
       "    </tr>\n",
       "  </tbody>\n",
       "</table>\n",
       "</div>"
      ],
      "text/plain": [
       "                                                   line_str  chap_num\n",
       "line_num                                                             \n",
       "795       deck, apparently watching for the sledge that ...       5.0\n",
       "3782      easily perceived that, although I eagerly long...      17.0\n",
       "3399      or sight; but I now found that I could wander ...      16.0\n",
       "5621      tore to pieces the thing on which I was engage...      25.0\n",
       "5395      the whole nation had forsaken his cause to joi...      24.0\n",
       "3783      the cottagers, I ought not to make the attempt...      17.0\n",
       "6502      threat returned: nor can you wonder, that, omn...      27.0\n",
       "7193      themselves who visit him from the regions of a...      29.0\n",
       "6459      until then, I conjure you, do not mention or a...      27.0\n",
       "6374      \"You well know, Victor, that our union had bee...      27.0"
      ]
     },
     "execution_count": 22,
     "metadata": {},
     "output_type": "execute_result"
    }
   ],
   "source": [
    "LINES.sample(10)"
   ]
  },
  {
   "cell_type": "code",
   "execution_count": 23,
   "id": "fa43f0262d538250",
   "metadata": {
    "ExecuteTime": {
     "end_time": "2025-02-04T17:07:16.643503Z",
     "start_time": "2025-02-04T17:07:16.536506Z"
    },
    "collapsed": false
   },
   "outputs": [
    {
     "data": {
      "text/html": [
       "<div>\n",
       "<style scoped>\n",
       "    .dataframe tbody tr th:only-of-type {\n",
       "        vertical-align: middle;\n",
       "    }\n",
       "\n",
       "    .dataframe tbody tr th {\n",
       "        vertical-align: top;\n",
       "    }\n",
       "\n",
       "    .dataframe thead th {\n",
       "        text-align: right;\n",
       "    }\n",
       "</style>\n",
       "<table border=\"1\" class=\"dataframe\">\n",
       "  <thead>\n",
       "    <tr style=\"text-align: right;\">\n",
       "      <th></th>\n",
       "      <th>line_str</th>\n",
       "      <th>chap_num</th>\n",
       "    </tr>\n",
       "    <tr>\n",
       "      <th>line_num</th>\n",
       "      <th></th>\n",
       "      <th></th>\n",
       "    </tr>\n",
       "  </thead>\n",
       "  <tbody>\n",
       "    <tr>\n",
       "      <th>19</th>\n",
       "      <td></td>\n",
       "      <td>NaN</td>\n",
       "    </tr>\n",
       "    <tr>\n",
       "      <th>20</th>\n",
       "      <td></td>\n",
       "      <td>NaN</td>\n",
       "    </tr>\n",
       "    <tr>\n",
       "      <th>21</th>\n",
       "      <td></td>\n",
       "      <td>NaN</td>\n",
       "    </tr>\n",
       "    <tr>\n",
       "      <th>22</th>\n",
       "      <td></td>\n",
       "      <td>NaN</td>\n",
       "    </tr>\n",
       "    <tr>\n",
       "      <th>23</th>\n",
       "      <td>Produced by Greg Weeks, Mary Meehan and the On...</td>\n",
       "      <td>NaN</td>\n",
       "    </tr>\n",
       "    <tr>\n",
       "      <th>24</th>\n",
       "      <td>Distributed Proofreading Team at http://www.pg...</td>\n",
       "      <td>NaN</td>\n",
       "    </tr>\n",
       "    <tr>\n",
       "      <th>25</th>\n",
       "      <td></td>\n",
       "      <td>NaN</td>\n",
       "    </tr>\n",
       "    <tr>\n",
       "      <th>26</th>\n",
       "      <td></td>\n",
       "      <td>NaN</td>\n",
       "    </tr>\n",
       "    <tr>\n",
       "      <th>27</th>\n",
       "      <td></td>\n",
       "      <td>NaN</td>\n",
       "    </tr>\n",
       "    <tr>\n",
       "      <th>28</th>\n",
       "      <td></td>\n",
       "      <td>NaN</td>\n",
       "    </tr>\n",
       "    <tr>\n",
       "      <th>29</th>\n",
       "      <td></td>\n",
       "      <td>NaN</td>\n",
       "    </tr>\n",
       "    <tr>\n",
       "      <th>30</th>\n",
       "      <td></td>\n",
       "      <td>NaN</td>\n",
       "    </tr>\n",
       "    <tr>\n",
       "      <th>31</th>\n",
       "      <td></td>\n",
       "      <td>NaN</td>\n",
       "    </tr>\n",
       "    <tr>\n",
       "      <th>32</th>\n",
       "      <td></td>\n",
       "      <td>NaN</td>\n",
       "    </tr>\n",
       "    <tr>\n",
       "      <th>33</th>\n",
       "      <td></td>\n",
       "      <td>NaN</td>\n",
       "    </tr>\n",
       "    <tr>\n",
       "      <th>34</th>\n",
       "      <td>FRANKENSTEIN:</td>\n",
       "      <td>NaN</td>\n",
       "    </tr>\n",
       "    <tr>\n",
       "      <th>35</th>\n",
       "      <td></td>\n",
       "      <td>NaN</td>\n",
       "    </tr>\n",
       "    <tr>\n",
       "      <th>36</th>\n",
       "      <td>OR,</td>\n",
       "      <td>NaN</td>\n",
       "    </tr>\n",
       "    <tr>\n",
       "      <th>37</th>\n",
       "      <td></td>\n",
       "      <td>NaN</td>\n",
       "    </tr>\n",
       "    <tr>\n",
       "      <th>38</th>\n",
       "      <td>THE MODERN PROMETHEUS.</td>\n",
       "      <td>NaN</td>\n",
       "    </tr>\n",
       "  </tbody>\n",
       "</table>\n",
       "</div>"
      ],
      "text/plain": [
       "                                                   line_str  chap_num\n",
       "line_num                                                             \n",
       "19                                                                NaN\n",
       "20                                                                NaN\n",
       "21                                                                NaN\n",
       "22                                                                NaN\n",
       "23        Produced by Greg Weeks, Mary Meehan and the On...       NaN\n",
       "24        Distributed Proofreading Team at http://www.pg...       NaN\n",
       "25                                                                NaN\n",
       "26                                                                NaN\n",
       "27                                                                NaN\n",
       "28                                                                NaN\n",
       "29                                                                NaN\n",
       "30                                                                NaN\n",
       "31                                                                NaN\n",
       "32                                                                NaN\n",
       "33                                                                NaN\n",
       "34                                            FRANKENSTEIN:       NaN\n",
       "35                                                                NaN\n",
       "36                                                      OR,       NaN\n",
       "37                                                                NaN\n",
       "38                                   THE MODERN PROMETHEUS.       NaN"
      ]
     },
     "execution_count": 23,
     "metadata": {},
     "output_type": "execute_result"
    }
   ],
   "source": [
    "LINES.head(20)"
   ]
  },
  {
   "cell_type": "code",
   "execution_count": 24,
   "id": "103d4255709a1072",
   "metadata": {
    "ExecuteTime": {
     "end_time": "2025-02-04T17:07:16.694900Z",
     "start_time": "2025-02-04T17:07:16.636043Z"
    },
    "collapsed": false
   },
   "outputs": [],
   "source": [
    "LINES = LINES.dropna(subset=['chap_num'])\n",
    "LINES = LINES.loc[~chap_lines]\n",
    "LINES.chap_num = LINES.chap_num.astype('int')"
   ]
  },
  {
   "cell_type": "code",
   "execution_count": 25,
   "id": "7ce35980507cc0db",
   "metadata": {
    "ExecuteTime": {
     "end_time": "2025-02-04T17:07:16.770601Z",
     "start_time": "2025-02-04T17:07:16.694044Z"
    },
    "collapsed": false
   },
   "outputs": [
    {
     "data": {
      "text/html": [
       "<div>\n",
       "<style scoped>\n",
       "    .dataframe tbody tr th:only-of-type {\n",
       "        vertical-align: middle;\n",
       "    }\n",
       "\n",
       "    .dataframe tbody tr th {\n",
       "        vertical-align: top;\n",
       "    }\n",
       "\n",
       "    .dataframe thead th {\n",
       "        text-align: right;\n",
       "    }\n",
       "</style>\n",
       "<table border=\"1\" class=\"dataframe\">\n",
       "  <thead>\n",
       "    <tr style=\"text-align: right;\">\n",
       "      <th></th>\n",
       "      <th>line_str</th>\n",
       "      <th>chap_num</th>\n",
       "    </tr>\n",
       "    <tr>\n",
       "      <th>line_num</th>\n",
       "      <th></th>\n",
       "      <th></th>\n",
       "    </tr>\n",
       "  </thead>\n",
       "  <tbody>\n",
       "    <tr>\n",
       "      <th>2752</th>\n",
       "      <td>innocence.\"</td>\n",
       "      <td>13</td>\n",
       "    </tr>\n",
       "    <tr>\n",
       "      <th>4914</th>\n",
       "      <td>true, we shall be monsters, cut off from all t...</td>\n",
       "      <td>22</td>\n",
       "    </tr>\n",
       "    <tr>\n",
       "      <th>3741</th>\n",
       "      <td></td>\n",
       "      <td>17</td>\n",
       "    </tr>\n",
       "    <tr>\n",
       "      <th>5929</th>\n",
       "      <td>spot, and endeavoured, but in vain, to restore...</td>\n",
       "      <td>26</td>\n",
       "    </tr>\n",
       "    <tr>\n",
       "      <th>6350</th>\n",
       "      <td></td>\n",
       "      <td>27</td>\n",
       "    </tr>\n",
       "    <tr>\n",
       "      <th>6528</th>\n",
       "      <td>everlasting regret.</td>\n",
       "      <td>27</td>\n",
       "    </tr>\n",
       "    <tr>\n",
       "      <th>6321</th>\n",
       "      <td>wonder, \"My dearest Victor, what infatuation i...</td>\n",
       "      <td>27</td>\n",
       "    </tr>\n",
       "    <tr>\n",
       "      <th>5103</th>\n",
       "      <td>gives me more pleasure than I have for some ti...</td>\n",
       "      <td>23</td>\n",
       "    </tr>\n",
       "    <tr>\n",
       "      <th>1583</th>\n",
       "      <td>of science. In other studies you go as far as ...</td>\n",
       "      <td>9</td>\n",
       "    </tr>\n",
       "    <tr>\n",
       "      <th>6098</th>\n",
       "      <td>As Mr. Kirwin said this, notwithstanding the a...</td>\n",
       "      <td>26</td>\n",
       "    </tr>\n",
       "  </tbody>\n",
       "</table>\n",
       "</div>"
      ],
      "text/plain": [
       "                                                   line_str  chap_num\n",
       "line_num                                                             \n",
       "2752                                            innocence.\"        13\n",
       "4914      true, we shall be monsters, cut off from all t...        22\n",
       "3741                                                               17\n",
       "5929      spot, and endeavoured, but in vain, to restore...        26\n",
       "6350                                                               27\n",
       "6528                                    everlasting regret.        27\n",
       "6321      wonder, \"My dearest Victor, what infatuation i...        27\n",
       "5103      gives me more pleasure than I have for some ti...        23\n",
       "1583      of science. In other studies you go as far as ...         9\n",
       "6098      As Mr. Kirwin said this, notwithstanding the a...        26"
      ]
     },
     "execution_count": 25,
     "metadata": {},
     "output_type": "execute_result"
    }
   ],
   "source": [
    "LINES.sample(10)"
   ]
  },
  {
   "cell_type": "code",
   "execution_count": 26,
   "id": "c778fdce34b76105",
   "metadata": {
    "ExecuteTime": {
     "end_time": "2025-02-04T17:07:16.839142Z",
     "start_time": "2025-02-04T17:07:16.771302Z"
    },
    "collapsed": false
   },
   "outputs": [],
   "source": [
    "CHAPS = LINES.groupby(OHCO[1:2]) \\\n",
    "    .line_str.apply(lambda x: '\\n'.join(x)) \\\n",
    "    .to_frame('chap_str')"
   ]
  },
  {
   "cell_type": "code",
   "execution_count": 27,
   "id": "8eceda0b71ffc672",
   "metadata": {
    "ExecuteTime": {
     "end_time": "2025-02-04T17:07:16.907196Z",
     "start_time": "2025-02-04T17:07:16.829794Z"
    },
    "collapsed": false
   },
   "outputs": [
    {
     "data": {
      "text/html": [
       "<div>\n",
       "<style scoped>\n",
       "    .dataframe tbody tr th:only-of-type {\n",
       "        vertical-align: middle;\n",
       "    }\n",
       "\n",
       "    .dataframe tbody tr th {\n",
       "        vertical-align: top;\n",
       "    }\n",
       "\n",
       "    .dataframe thead th {\n",
       "        text-align: right;\n",
       "    }\n",
       "</style>\n",
       "<table border=\"1\" class=\"dataframe\">\n",
       "  <thead>\n",
       "    <tr style=\"text-align: right;\">\n",
       "      <th></th>\n",
       "      <th>chap_str</th>\n",
       "    </tr>\n",
       "    <tr>\n",
       "      <th>chap_num</th>\n",
       "      <th></th>\n",
       "    </tr>\n",
       "  </thead>\n",
       "  <tbody>\n",
       "    <tr>\n",
       "      <th>1</th>\n",
       "      <td>\\n\\nThe event on which this fiction is founded...</td>\n",
       "    </tr>\n",
       "    <tr>\n",
       "      <th>2</th>\n",
       "      <td>\\n\\n_To Mrs. Saville, England._\\n\\nSt. Petersb...</td>\n",
       "    </tr>\n",
       "    <tr>\n",
       "      <th>3</th>\n",
       "      <td>\\n\\n_To Mrs. Saville, England._\\n\\nArchangel, ...</td>\n",
       "    </tr>\n",
       "    <tr>\n",
       "      <th>4</th>\n",
       "      <td>\\n\\n_To Mrs. Saville, England._\\n\\nMY DEAR SIS...</td>\n",
       "    </tr>\n",
       "    <tr>\n",
       "      <th>5</th>\n",
       "      <td>\\n\\n_To Mrs. Saville, England._\\n\\nAugust 5th,...</td>\n",
       "    </tr>\n",
       "    <tr>\n",
       "      <th>6</th>\n",
       "      <td>\\n\\nI am by birth a Genevese; and my family is...</td>\n",
       "    </tr>\n",
       "    <tr>\n",
       "      <th>7</th>\n",
       "      <td>\\n\\nWe were brought up together; there was not...</td>\n",
       "    </tr>\n",
       "    <tr>\n",
       "      <th>8</th>\n",
       "      <td>\\n\\nWhen I had attained the age of seventeen, ...</td>\n",
       "    </tr>\n",
       "    <tr>\n",
       "      <th>9</th>\n",
       "      <td>\\n\\nFrom this day natural philosophy, and part...</td>\n",
       "    </tr>\n",
       "    <tr>\n",
       "      <th>10</th>\n",
       "      <td>\\n\\nIt was on a dreary night of November, that...</td>\n",
       "    </tr>\n",
       "  </tbody>\n",
       "</table>\n",
       "</div>"
      ],
      "text/plain": [
       "                                                   chap_str\n",
       "chap_num                                                   \n",
       "1         \\n\\nThe event on which this fiction is founded...\n",
       "2         \\n\\n_To Mrs. Saville, England._\\n\\nSt. Petersb...\n",
       "3         \\n\\n_To Mrs. Saville, England._\\n\\nArchangel, ...\n",
       "4         \\n\\n_To Mrs. Saville, England._\\n\\nMY DEAR SIS...\n",
       "5         \\n\\n_To Mrs. Saville, England._\\n\\nAugust 5th,...\n",
       "6         \\n\\nI am by birth a Genevese; and my family is...\n",
       "7         \\n\\nWe were brought up together; there was not...\n",
       "8         \\n\\nWhen I had attained the age of seventeen, ...\n",
       "9         \\n\\nFrom this day natural philosophy, and part...\n",
       "10        \\n\\nIt was on a dreary night of November, that..."
      ]
     },
     "execution_count": 27,
     "metadata": {},
     "output_type": "execute_result"
    }
   ],
   "source": [
    "CHAPS.head(10)"
   ]
  },
  {
   "cell_type": "code",
   "execution_count": 28,
   "id": "93ceedeec64ace9",
   "metadata": {
    "ExecuteTime": {
     "end_time": "2025-02-04T17:07:16.962767Z",
     "start_time": "2025-02-04T17:07:16.907753Z"
    },
    "collapsed": false
   },
   "outputs": [],
   "source": [
    "CHAPS['chap_str'] = CHAPS.chap_str.str.strip()"
   ]
  },
  {
   "cell_type": "code",
   "execution_count": 29,
   "id": "18ade14a8612474",
   "metadata": {
    "ExecuteTime": {
     "end_time": "2025-02-04T17:07:17.017249Z",
     "start_time": "2025-02-04T17:07:16.949347Z"
    },
    "collapsed": false
   },
   "outputs": [
    {
     "data": {
      "text/html": [
       "<div>\n",
       "<style scoped>\n",
       "    .dataframe tbody tr th:only-of-type {\n",
       "        vertical-align: middle;\n",
       "    }\n",
       "\n",
       "    .dataframe tbody tr th {\n",
       "        vertical-align: top;\n",
       "    }\n",
       "\n",
       "    .dataframe thead th {\n",
       "        text-align: right;\n",
       "    }\n",
       "</style>\n",
       "<table border=\"1\" class=\"dataframe\">\n",
       "  <thead>\n",
       "    <tr style=\"text-align: right;\">\n",
       "      <th></th>\n",
       "      <th>chap_str</th>\n",
       "    </tr>\n",
       "    <tr>\n",
       "      <th>chap_num</th>\n",
       "      <th></th>\n",
       "    </tr>\n",
       "  </thead>\n",
       "  <tbody>\n",
       "    <tr>\n",
       "      <th>1</th>\n",
       "      <td>The event on which this fiction is founded, ha...</td>\n",
       "    </tr>\n",
       "    <tr>\n",
       "      <th>2</th>\n",
       "      <td>_To Mrs. Saville, England._\\n\\nSt. Petersburgh...</td>\n",
       "    </tr>\n",
       "    <tr>\n",
       "      <th>3</th>\n",
       "      <td>_To Mrs. Saville, England._\\n\\nArchangel, 28th...</td>\n",
       "    </tr>\n",
       "    <tr>\n",
       "      <th>4</th>\n",
       "      <td>_To Mrs. Saville, England._\\n\\nMY DEAR SISTER,...</td>\n",
       "    </tr>\n",
       "    <tr>\n",
       "      <th>5</th>\n",
       "      <td>_To Mrs. Saville, England._\\n\\nAugust 5th, 17-...</td>\n",
       "    </tr>\n",
       "    <tr>\n",
       "      <th>6</th>\n",
       "      <td>I am by birth a Genevese; and my family is one...</td>\n",
       "    </tr>\n",
       "    <tr>\n",
       "      <th>7</th>\n",
       "      <td>We were brought up together; there was not qui...</td>\n",
       "    </tr>\n",
       "    <tr>\n",
       "      <th>8</th>\n",
       "      <td>When I had attained the age of seventeen, my p...</td>\n",
       "    </tr>\n",
       "    <tr>\n",
       "      <th>9</th>\n",
       "      <td>From this day natural philosophy, and particul...</td>\n",
       "    </tr>\n",
       "    <tr>\n",
       "      <th>10</th>\n",
       "      <td>It was on a dreary night of November, that I b...</td>\n",
       "    </tr>\n",
       "    <tr>\n",
       "      <th>11</th>\n",
       "      <td>Clerval then put the following letter into my ...</td>\n",
       "    </tr>\n",
       "    <tr>\n",
       "      <th>12</th>\n",
       "      <td>On my return, I found the following letter fro...</td>\n",
       "    </tr>\n",
       "    <tr>\n",
       "      <th>13</th>\n",
       "      <td>We passed a few sad hours, until eleven o'cloc...</td>\n",
       "    </tr>\n",
       "    <tr>\n",
       "      <th>14</th>\n",
       "      <td>Nothing is more painful to the human mind, tha...</td>\n",
       "    </tr>\n",
       "    <tr>\n",
       "      <th>15</th>\n",
       "      <td>I spent the following day roaming through the ...</td>\n",
       "    </tr>\n",
       "    <tr>\n",
       "      <th>16</th>\n",
       "      <td>\"It is with considerable difficulty that I rem...</td>\n",
       "    </tr>\n",
       "    <tr>\n",
       "      <th>17</th>\n",
       "      <td>\"I lay on my straw, but I could not sleep. I t...</td>\n",
       "    </tr>\n",
       "    <tr>\n",
       "      <th>18</th>\n",
       "      <td>\"I now hasten to the more moving part of my st...</td>\n",
       "    </tr>\n",
       "    <tr>\n",
       "      <th>19</th>\n",
       "      <td>\"Some time elapsed before I learned the histor...</td>\n",
       "    </tr>\n",
       "    <tr>\n",
       "      <th>20</th>\n",
       "      <td>\"Such was the history of my beloved cottagers....</td>\n",
       "    </tr>\n",
       "    <tr>\n",
       "      <th>21</th>\n",
       "      <td>\"Cursed, cursed creator! Why did I live? Why, ...</td>\n",
       "    </tr>\n",
       "    <tr>\n",
       "      <th>22</th>\n",
       "      <td>The being finished speaking, and fixed his loo...</td>\n",
       "    </tr>\n",
       "    <tr>\n",
       "      <th>23</th>\n",
       "      <td>Day after day, week after week, passed away on...</td>\n",
       "    </tr>\n",
       "    <tr>\n",
       "      <th>24</th>\n",
       "      <td>London was our present point of rest; we deter...</td>\n",
       "    </tr>\n",
       "    <tr>\n",
       "      <th>25</th>\n",
       "      <td>I sat one evening in my laboratory; the sun ha...</td>\n",
       "    </tr>\n",
       "    <tr>\n",
       "      <th>26</th>\n",
       "      <td>I was soon introduced into the presence of the...</td>\n",
       "    </tr>\n",
       "    <tr>\n",
       "      <th>27</th>\n",
       "      <td>The voyage came to an end. We landed, and proc...</td>\n",
       "    </tr>\n",
       "    <tr>\n",
       "      <th>28</th>\n",
       "      <td>It was eight o'clock when we landed; we walked...</td>\n",
       "    </tr>\n",
       "    <tr>\n",
       "      <th>29</th>\n",
       "      <td>My present situation was one in which all volu...</td>\n",
       "    </tr>\n",
       "  </tbody>\n",
       "</table>\n",
       "</div>"
      ],
      "text/plain": [
       "                                                   chap_str\n",
       "chap_num                                                   \n",
       "1         The event on which this fiction is founded, ha...\n",
       "2         _To Mrs. Saville, England._\\n\\nSt. Petersburgh...\n",
       "3         _To Mrs. Saville, England._\\n\\nArchangel, 28th...\n",
       "4         _To Mrs. Saville, England._\\n\\nMY DEAR SISTER,...\n",
       "5         _To Mrs. Saville, England._\\n\\nAugust 5th, 17-...\n",
       "6         I am by birth a Genevese; and my family is one...\n",
       "7         We were brought up together; there was not qui...\n",
       "8         When I had attained the age of seventeen, my p...\n",
       "9         From this day natural philosophy, and particul...\n",
       "10        It was on a dreary night of November, that I b...\n",
       "11        Clerval then put the following letter into my ...\n",
       "12        On my return, I found the following letter fro...\n",
       "13        We passed a few sad hours, until eleven o'cloc...\n",
       "14        Nothing is more painful to the human mind, tha...\n",
       "15        I spent the following day roaming through the ...\n",
       "16        \"It is with considerable difficulty that I rem...\n",
       "17        \"I lay on my straw, but I could not sleep. I t...\n",
       "18        \"I now hasten to the more moving part of my st...\n",
       "19        \"Some time elapsed before I learned the histor...\n",
       "20        \"Such was the history of my beloved cottagers....\n",
       "21        \"Cursed, cursed creator! Why did I live? Why, ...\n",
       "22        The being finished speaking, and fixed his loo...\n",
       "23        Day after day, week after week, passed away on...\n",
       "24        London was our present point of rest; we deter...\n",
       "25        I sat one evening in my laboratory; the sun ha...\n",
       "26        I was soon introduced into the presence of the...\n",
       "27        The voyage came to an end. We landed, and proc...\n",
       "28        It was eight o'clock when we landed; we walked...\n",
       "29        My present situation was one in which all volu..."
      ]
     },
     "execution_count": 29,
     "metadata": {},
     "output_type": "execute_result"
    }
   ],
   "source": [
    "CHAPS"
   ]
  },
  {
   "cell_type": "markdown",
   "id": "9228dddeafddd28",
   "metadata": {
    "collapsed": false
   },
   "source": [
    "## Split chapters into paragraphs"
   ]
  },
  {
   "cell_type": "code",
   "execution_count": 30,
   "id": "73c78c4377dee517",
   "metadata": {
    "ExecuteTime": {
     "end_time": "2025-02-04T17:07:17.060435Z",
     "start_time": "2025-02-04T17:07:17.008361Z"
    },
    "collapsed": false
   },
   "outputs": [
    {
     "data": {
      "text/html": [
       "<div>\n",
       "<style scoped>\n",
       "    .dataframe tbody tr th:only-of-type {\n",
       "        vertical-align: middle;\n",
       "    }\n",
       "\n",
       "    .dataframe tbody tr th {\n",
       "        vertical-align: top;\n",
       "    }\n",
       "\n",
       "    .dataframe thead th {\n",
       "        text-align: right;\n",
       "    }\n",
       "</style>\n",
       "<table border=\"1\" class=\"dataframe\">\n",
       "  <thead>\n",
       "    <tr style=\"text-align: right;\">\n",
       "      <th></th>\n",
       "      <th></th>\n",
       "      <th>para_str</th>\n",
       "    </tr>\n",
       "    <tr>\n",
       "      <th>chap_num</th>\n",
       "      <th>para_num</th>\n",
       "      <th></th>\n",
       "    </tr>\n",
       "  </thead>\n",
       "  <tbody>\n",
       "    <tr>\n",
       "      <th rowspan=\"5\" valign=\"top\">1</th>\n",
       "      <th>0</th>\n",
       "      <td>The event on which this fiction is founded, ha...</td>\n",
       "    </tr>\n",
       "    <tr>\n",
       "      <th>1</th>\n",
       "      <td>I have thus endeavoured to preserve the truth ...</td>\n",
       "    </tr>\n",
       "    <tr>\n",
       "      <th>2</th>\n",
       "      <td>The circumstance on which my story rests was s...</td>\n",
       "    </tr>\n",
       "    <tr>\n",
       "      <th>3</th>\n",
       "      <td>It is a subject also of additional interest to...</td>\n",
       "    </tr>\n",
       "    <tr>\n",
       "      <th>4</th>\n",
       "      <td>The weather, however, suddenly became serene; ...</td>\n",
       "    </tr>\n",
       "  </tbody>\n",
       "</table>\n",
       "</div>"
      ],
      "text/plain": [
       "                                                            para_str\n",
       "chap_num para_num                                                   \n",
       "1        0         The event on which this fiction is founded, ha...\n",
       "         1         I have thus endeavoured to preserve the truth ...\n",
       "         2         The circumstance on which my story rests was s...\n",
       "         3         It is a subject also of additional interest to...\n",
       "         4         The weather, however, suddenly became serene; ..."
      ]
     },
     "execution_count": 30,
     "metadata": {},
     "output_type": "execute_result"
    }
   ],
   "source": [
    "para_pat = r'\\n\\n+'\n",
    "PARAS = CHAPS['chap_str'].str.split(para_pat, expand=True).stack() \\\n",
    "    .to_frame('para_str').sort_index()\n",
    "PARAS.index.names = OHCO[1:3]\n",
    "PARAS.head()"
   ]
  },
  {
   "cell_type": "code",
   "execution_count": 31,
   "id": "168ce244b62e43af",
   "metadata": {
    "ExecuteTime": {
     "end_time": "2025-02-04T17:07:17.149403Z",
     "start_time": "2025-02-04T17:07:17.054663Z"
    },
    "collapsed": false
   },
   "outputs": [
    {
     "data": {
      "text/html": [
       "<div>\n",
       "<style scoped>\n",
       "    .dataframe tbody tr th:only-of-type {\n",
       "        vertical-align: middle;\n",
       "    }\n",
       "\n",
       "    .dataframe tbody tr th {\n",
       "        vertical-align: top;\n",
       "    }\n",
       "\n",
       "    .dataframe thead th {\n",
       "        text-align: right;\n",
       "    }\n",
       "</style>\n",
       "<table border=\"1\" class=\"dataframe\">\n",
       "  <thead>\n",
       "    <tr style=\"text-align: right;\">\n",
       "      <th></th>\n",
       "      <th></th>\n",
       "      <th>para_str</th>\n",
       "    </tr>\n",
       "    <tr>\n",
       "      <th>chap_num</th>\n",
       "      <th>para_num</th>\n",
       "      <th></th>\n",
       "    </tr>\n",
       "  </thead>\n",
       "  <tbody>\n",
       "    <tr>\n",
       "      <th rowspan=\"5\" valign=\"top\">1</th>\n",
       "      <th>0</th>\n",
       "      <td>The event on which this fiction is founded, ha...</td>\n",
       "    </tr>\n",
       "    <tr>\n",
       "      <th>1</th>\n",
       "      <td>I have thus endeavoured to preserve the truth ...</td>\n",
       "    </tr>\n",
       "    <tr>\n",
       "      <th>2</th>\n",
       "      <td>The circumstance on which my story rests was s...</td>\n",
       "    </tr>\n",
       "    <tr>\n",
       "      <th>3</th>\n",
       "      <td>It is a subject also of additional interest to...</td>\n",
       "    </tr>\n",
       "    <tr>\n",
       "      <th>4</th>\n",
       "      <td>The weather, however, suddenly became serene; ...</td>\n",
       "    </tr>\n",
       "  </tbody>\n",
       "</table>\n",
       "</div>"
      ],
      "text/plain": [
       "                                                            para_str\n",
       "chap_num para_num                                                   \n",
       "1        0         The event on which this fiction is founded, ha...\n",
       "         1         I have thus endeavoured to preserve the truth ...\n",
       "         2         The circumstance on which my story rests was s...\n",
       "         3         It is a subject also of additional interest to...\n",
       "         4         The weather, however, suddenly became serene; ..."
      ]
     },
     "execution_count": 31,
     "metadata": {},
     "output_type": "execute_result"
    }
   ],
   "source": [
    "PARAS['para_str'] = PARAS['para_str'].str.replace(r'\\n', ' ', regex=True)\n",
    "PARAS['para_str'] = PARAS['para_str'].str.strip()\n",
    "PARAS = PARAS[~PARAS['para_str'].str.match(r'^\\s*$')]\n",
    "PARAS.head()"
   ]
  },
  {
   "cell_type": "markdown",
   "id": "314981193442b73c",
   "metadata": {
    "collapsed": false
   },
   "source": [
    "## Split paragraphs into sentences"
   ]
  },
  {
   "cell_type": "code",
   "execution_count": 32,
   "id": "68c39ab7cd7b3e15",
   "metadata": {
    "ExecuteTime": {
     "end_time": "2025-02-04T17:07:17.269365Z",
     "start_time": "2025-02-04T17:07:17.145623Z"
    },
    "collapsed": false
   },
   "outputs": [],
   "source": [
    "sent_pat = r'[.?!;:]+'\n",
    "SENTS = PARAS['para_str'].str.split(sent_pat, expand=True).stack() \\\n",
    "    .to_frame('sent_str')\n",
    "SENTS.index.names = OHCO[1:4]\n",
    "SENTS = SENTS[~SENTS['sent_str'].str.match(r'^\\s*$')]\n",
    "SENTS.sent_str = SENTS.sent_str.str.strip()"
   ]
  },
  {
   "cell_type": "code",
   "execution_count": 33,
   "id": "37ff877853be3af9",
   "metadata": {
    "ExecuteTime": {
     "end_time": "2025-02-04T17:07:17.393342Z",
     "start_time": "2025-02-04T17:07:17.233384Z"
    },
    "collapsed": false
   },
   "outputs": [
    {
     "data": {
      "text/html": [
       "<div>\n",
       "<style scoped>\n",
       "    .dataframe tbody tr th:only-of-type {\n",
       "        vertical-align: middle;\n",
       "    }\n",
       "\n",
       "    .dataframe tbody tr th {\n",
       "        vertical-align: top;\n",
       "    }\n",
       "\n",
       "    .dataframe thead th {\n",
       "        text-align: right;\n",
       "    }\n",
       "</style>\n",
       "<table border=\"1\" class=\"dataframe\">\n",
       "  <thead>\n",
       "    <tr style=\"text-align: right;\">\n",
       "      <th></th>\n",
       "      <th></th>\n",
       "      <th></th>\n",
       "      <th>sent_str</th>\n",
       "    </tr>\n",
       "    <tr>\n",
       "      <th>chap_num</th>\n",
       "      <th>para_num</th>\n",
       "      <th>sent_num</th>\n",
       "      <th></th>\n",
       "    </tr>\n",
       "  </thead>\n",
       "  <tbody>\n",
       "    <tr>\n",
       "      <th rowspan=\"10\" valign=\"top\">1</th>\n",
       "      <th rowspan=\"7\" valign=\"top\">0</th>\n",
       "      <th>0</th>\n",
       "      <td>The event on which this fiction is founded, ha...</td>\n",
       "    </tr>\n",
       "    <tr>\n",
       "      <th>1</th>\n",
       "      <td>Darwin, and some of the physiological writers ...</td>\n",
       "    </tr>\n",
       "    <tr>\n",
       "      <th>2</th>\n",
       "      <td>I shall not be supposed as according the remot...</td>\n",
       "    </tr>\n",
       "    <tr>\n",
       "      <th>3</th>\n",
       "      <td>yet, in assuming it as the basis of a work of ...</td>\n",
       "    </tr>\n",
       "    <tr>\n",
       "      <th>4</th>\n",
       "      <td>The event on which the interest of the story d...</td>\n",
       "    </tr>\n",
       "    <tr>\n",
       "      <th>5</th>\n",
       "      <td>It was recommended by the novelty of the situa...</td>\n",
       "    </tr>\n",
       "    <tr>\n",
       "      <th>6</th>\n",
       "      <td>and, however impossible as a physical fact, af...</td>\n",
       "    </tr>\n",
       "    <tr>\n",
       "      <th rowspan=\"3\" valign=\"top\">1</th>\n",
       "      <th>0</th>\n",
       "      <td>I have thus endeavoured to preserve the truth ...</td>\n",
       "    </tr>\n",
       "    <tr>\n",
       "      <th>1</th>\n",
       "      <td>The Iliad, the tragic poetry of Greece,--Shaks...</td>\n",
       "    </tr>\n",
       "    <tr>\n",
       "      <th>2</th>\n",
       "      <td>and the most humble novelist, who seeks to con...</td>\n",
       "    </tr>\n",
       "  </tbody>\n",
       "</table>\n",
       "</div>"
      ],
      "text/plain": [
       "                                                                     sent_str\n",
       "chap_num para_num sent_num                                                   \n",
       "1        0        0         The event on which this fiction is founded, ha...\n",
       "                  1         Darwin, and some of the physiological writers ...\n",
       "                  2         I shall not be supposed as according the remot...\n",
       "                  3         yet, in assuming it as the basis of a work of ...\n",
       "                  4         The event on which the interest of the story d...\n",
       "                  5         It was recommended by the novelty of the situa...\n",
       "                  6         and, however impossible as a physical fact, af...\n",
       "         1        0         I have thus endeavoured to preserve the truth ...\n",
       "                  1         The Iliad, the tragic poetry of Greece,--Shaks...\n",
       "                  2         and the most humble novelist, who seeks to con..."
      ]
     },
     "execution_count": 33,
     "metadata": {},
     "output_type": "execute_result"
    }
   ],
   "source": [
    "SENTS.head(10)"
   ]
  },
  {
   "cell_type": "code",
   "execution_count": 34,
   "id": "836b12c4a9a49dd6",
   "metadata": {
    "ExecuteTime": {
     "end_time": "2025-02-04T17:07:17.438819Z",
     "start_time": "2025-02-04T17:07:17.369544Z"
    },
    "collapsed": false
   },
   "outputs": [
    {
     "data": {
      "text/html": [
       "<div>\n",
       "<style scoped>\n",
       "    .dataframe tbody tr th:only-of-type {\n",
       "        vertical-align: middle;\n",
       "    }\n",
       "\n",
       "    .dataframe tbody tr th {\n",
       "        vertical-align: top;\n",
       "    }\n",
       "\n",
       "    .dataframe thead th {\n",
       "        text-align: right;\n",
       "    }\n",
       "</style>\n",
       "<table border=\"1\" class=\"dataframe\">\n",
       "  <thead>\n",
       "    <tr style=\"text-align: right;\">\n",
       "      <th></th>\n",
       "      <th></th>\n",
       "      <th></th>\n",
       "      <th>sent_str</th>\n",
       "    </tr>\n",
       "    <tr>\n",
       "      <th>chap_num</th>\n",
       "      <th>para_num</th>\n",
       "      <th>sent_num</th>\n",
       "      <th></th>\n",
       "    </tr>\n",
       "  </thead>\n",
       "  <tbody>\n",
       "    <tr>\n",
       "      <th>15</th>\n",
       "      <th>4</th>\n",
       "      <th>4</th>\n",
       "      <td>The surface is very uneven, rising like the wa...</td>\n",
       "    </tr>\n",
       "    <tr>\n",
       "      <th>29</th>\n",
       "      <th>49</th>\n",
       "      <th>2</th>\n",
       "      <td>Are you then so easily turned from your design</td>\n",
       "    </tr>\n",
       "    <tr>\n",
       "      <th>19</th>\n",
       "      <th>6</th>\n",
       "      <th>1</th>\n",
       "      <td>for I found means, during my residence in the ...</td>\n",
       "    </tr>\n",
       "    <tr>\n",
       "      <th rowspan=\"2\" valign=\"top\">13</th>\n",
       "      <th>23</th>\n",
       "      <th>10</th>\n",
       "      <td>no</td>\n",
       "    </tr>\n",
       "    <tr>\n",
       "      <th>20</th>\n",
       "      <th>2</th>\n",
       "      <td>I believed you guiltless, notwithstanding ever...</td>\n",
       "    </tr>\n",
       "    <tr>\n",
       "      <th>27</th>\n",
       "      <th>24</th>\n",
       "      <th>3</th>\n",
       "      <td>When reason returned, she would remonstrate, a...</td>\n",
       "    </tr>\n",
       "    <tr>\n",
       "      <th>22</th>\n",
       "      <th>18</th>\n",
       "      <th>12</th>\n",
       "      <td>if ye really pity me, crush sensation and memory</td>\n",
       "    </tr>\n",
       "    <tr>\n",
       "      <th>19</th>\n",
       "      <th>18</th>\n",
       "      <th>4</th>\n",
       "      <td>She hesitated some time, but at length she for...</td>\n",
       "    </tr>\n",
       "    <tr>\n",
       "      <th>25</th>\n",
       "      <th>12</th>\n",
       "      <th>8</th>\n",
       "      <td>You can blast my other passions</td>\n",
       "    </tr>\n",
       "    <tr>\n",
       "      <th>15</th>\n",
       "      <th>2</th>\n",
       "      <th>7</th>\n",
       "      <td>I looked on the valley beneath</td>\n",
       "    </tr>\n",
       "  </tbody>\n",
       "</table>\n",
       "</div>"
      ],
      "text/plain": [
       "                                                                     sent_str\n",
       "chap_num para_num sent_num                                                   \n",
       "15       4        4         The surface is very uneven, rising like the wa...\n",
       "29       49       2            Are you then so easily turned from your design\n",
       "19       6        1         for I found means, during my residence in the ...\n",
       "13       23       10                                                       no\n",
       "         20       2         I believed you guiltless, notwithstanding ever...\n",
       "27       24       3         When reason returned, she would remonstrate, a...\n",
       "22       18       12         if ye really pity me, crush sensation and memory\n",
       "19       18       4         She hesitated some time, but at length she for...\n",
       "25       12       8                           You can blast my other passions\n",
       "15       2        7                            I looked on the valley beneath"
      ]
     },
     "execution_count": 34,
     "metadata": {},
     "output_type": "execute_result"
    }
   ],
   "source": [
    "SENTS.sample(10)"
   ]
  },
  {
   "cell_type": "markdown",
   "id": "df3fb2a1555fa65a",
   "metadata": {
    "collapsed": false
   },
   "source": [
    "## Split sentences into tokens"
   ]
  },
  {
   "cell_type": "code",
   "execution_count": 35,
   "id": "initial_id",
   "metadata": {
    "ExecuteTime": {
     "end_time": "2025-02-04T17:07:17.634574Z",
     "start_time": "2025-02-04T17:07:17.453999Z"
    },
    "collapsed": true,
    "jupyter": {
     "outputs_hidden": true
    }
   },
   "outputs": [
    {
     "data": {
      "text/html": [
       "<div>\n",
       "<style scoped>\n",
       "    .dataframe tbody tr th:only-of-type {\n",
       "        vertical-align: middle;\n",
       "    }\n",
       "\n",
       "    .dataframe tbody tr th {\n",
       "        vertical-align: top;\n",
       "    }\n",
       "\n",
       "    .dataframe thead th {\n",
       "        text-align: right;\n",
       "    }\n",
       "</style>\n",
       "<table border=\"1\" class=\"dataframe\">\n",
       "  <thead>\n",
       "    <tr style=\"text-align: right;\">\n",
       "      <th></th>\n",
       "      <th></th>\n",
       "      <th></th>\n",
       "      <th></th>\n",
       "      <th>token_str</th>\n",
       "    </tr>\n",
       "    <tr>\n",
       "      <th>chap_num</th>\n",
       "      <th>para_num</th>\n",
       "      <th>sent_num</th>\n",
       "      <th>token_num</th>\n",
       "      <th></th>\n",
       "    </tr>\n",
       "  </thead>\n",
       "  <tbody>\n",
       "    <tr>\n",
       "      <th rowspan=\"5\" valign=\"top\">1</th>\n",
       "      <th rowspan=\"5\" valign=\"top\">0</th>\n",
       "      <th rowspan=\"5\" valign=\"top\">0</th>\n",
       "      <th>0</th>\n",
       "      <td>The</td>\n",
       "    </tr>\n",
       "    <tr>\n",
       "      <th>1</th>\n",
       "      <td>event</td>\n",
       "    </tr>\n",
       "    <tr>\n",
       "      <th>2</th>\n",
       "      <td>on</td>\n",
       "    </tr>\n",
       "    <tr>\n",
       "      <th>3</th>\n",
       "      <td>which</td>\n",
       "    </tr>\n",
       "    <tr>\n",
       "      <th>4</th>\n",
       "      <td>this</td>\n",
       "    </tr>\n",
       "    <tr>\n",
       "      <th>...</th>\n",
       "      <th>...</th>\n",
       "      <th>...</th>\n",
       "      <th>...</th>\n",
       "      <td>...</td>\n",
       "    </tr>\n",
       "    <tr>\n",
       "      <th rowspan=\"5\" valign=\"top\">29</th>\n",
       "      <th rowspan=\"5\" valign=\"top\">86</th>\n",
       "      <th rowspan=\"4\" valign=\"top\">0</th>\n",
       "      <th>7</th>\n",
       "      <td>Frankenstein</td>\n",
       "    </tr>\n",
       "    <tr>\n",
       "      <th>8</th>\n",
       "      <td>by</td>\n",
       "    </tr>\n",
       "    <tr>\n",
       "      <th>9</th>\n",
       "      <td>Mary</td>\n",
       "    </tr>\n",
       "    <tr>\n",
       "      <th>10</th>\n",
       "      <td>W</td>\n",
       "    </tr>\n",
       "    <tr>\n",
       "      <th>1</th>\n",
       "      <th>0</th>\n",
       "      <td>Shelley</td>\n",
       "    </tr>\n",
       "  </tbody>\n",
       "</table>\n",
       "<p>76521 rows × 1 columns</p>\n",
       "</div>"
      ],
      "text/plain": [
       "                                         token_str\n",
       "chap_num para_num sent_num token_num              \n",
       "1        0        0        0                   The\n",
       "                           1                 event\n",
       "                           2                    on\n",
       "                           3                 which\n",
       "                           4                  this\n",
       "...                                            ...\n",
       "29       86       0        7          Frankenstein\n",
       "                           8                    by\n",
       "                           9                  Mary\n",
       "                           10                    W\n",
       "                  1        0               Shelley\n",
       "\n",
       "[76521 rows x 1 columns]"
      ]
     },
     "execution_count": 35,
     "metadata": {},
     "output_type": "execute_result"
    }
   ],
   "source": [
    "token_pat = r\"[\\s',-]+\"\n",
    "TOKENS = SENTS['sent_str'].str.split(token_pat, expand=True).stack() \\\n",
    "    .to_frame('token_str')\n",
    "TOKENS.index.names = OHCO[1:5]\n",
    "TOKENS"
   ]
  },
  {
   "cell_type": "code",
   "execution_count": 35,
   "id": "bfc85f4193700896",
   "metadata": {
    "ExecuteTime": {
     "end_time": "2025-02-04T17:07:17.646635Z",
     "start_time": "2025-02-04T17:07:17.557333Z"
    },
    "collapsed": false
   },
   "outputs": [],
   "source": []
  },
  {
   "cell_type": "code",
   "execution_count": 36,
   "id": "56ff7d8997f356f4",
   "metadata": {
    "ExecuteTime": {
     "end_time": "2025-02-04T17:07:17.777858Z",
     "start_time": "2025-02-04T17:07:17.648157Z"
    },
    "collapsed": false
   },
   "outputs": [],
   "source": [
    "TOKENS['term_str'] = TOKENS.token_str.replace(r'[\\W_]+', '', regex=True).str.lower()\n",
    "VOCAB = TOKENS.term_str.value_counts().to_frame('n').reset_index().rename(columns={'index':'term_str'})\n",
    "VOCAB.index.name = 'term_id'"
   ]
  },
  {
   "cell_type": "code",
   "execution_count": 37,
   "id": "9cca2b0db73f3afa",
   "metadata": {
    "ExecuteTime": {
     "end_time": "2025-02-04T17:07:17.810339Z",
     "start_time": "2025-02-04T17:07:17.725566Z"
    },
    "collapsed": false
   },
   "outputs": [
    {
     "data": {
      "text/html": [
       "<div>\n",
       "<style scoped>\n",
       "    .dataframe tbody tr th:only-of-type {\n",
       "        vertical-align: middle;\n",
       "    }\n",
       "\n",
       "    .dataframe tbody tr th {\n",
       "        vertical-align: top;\n",
       "    }\n",
       "\n",
       "    .dataframe thead th {\n",
       "        text-align: right;\n",
       "    }\n",
       "</style>\n",
       "<table border=\"1\" class=\"dataframe\">\n",
       "  <thead>\n",
       "    <tr style=\"text-align: right;\">\n",
       "      <th></th>\n",
       "      <th>term_str</th>\n",
       "      <th>n</th>\n",
       "    </tr>\n",
       "    <tr>\n",
       "      <th>term_id</th>\n",
       "      <th></th>\n",
       "      <th></th>\n",
       "    </tr>\n",
       "  </thead>\n",
       "  <tbody>\n",
       "    <tr>\n",
       "      <th>0</th>\n",
       "      <td>the</td>\n",
       "      <td>4252</td>\n",
       "    </tr>\n",
       "    <tr>\n",
       "      <th>1</th>\n",
       "      <td>and</td>\n",
       "      <td>2993</td>\n",
       "    </tr>\n",
       "    <tr>\n",
       "      <th>2</th>\n",
       "      <td>i</td>\n",
       "      <td>2861</td>\n",
       "    </tr>\n",
       "    <tr>\n",
       "      <th>3</th>\n",
       "      <td>of</td>\n",
       "      <td>2687</td>\n",
       "    </tr>\n",
       "    <tr>\n",
       "      <th>4</th>\n",
       "      <td>to</td>\n",
       "      <td>2123</td>\n",
       "    </tr>\n",
       "  </tbody>\n",
       "</table>\n",
       "</div>"
      ],
      "text/plain": [
       "        term_str     n\n",
       "term_id               \n",
       "0            the  4252\n",
       "1            and  2993\n",
       "2              i  2861\n",
       "3             of  2687\n",
       "4             to  2123"
      ]
     },
     "execution_count": 37,
     "metadata": {},
     "output_type": "execute_result"
    }
   ],
   "source": [
    "VOCAB.head()"
   ]
  },
  {
   "cell_type": "code",
   "execution_count": 38,
   "id": "9f40e1474dbaf7a",
   "metadata": {
    "ExecuteTime": {
     "end_time": "2025-02-04T17:07:17.851839Z",
     "start_time": "2025-02-04T17:07:17.793205Z"
    },
    "collapsed": false
   },
   "outputs": [],
   "source": [
    "VOCAB['n_chars'] = VOCAB.term_str.str.len()\n",
    "VOCAB['modified_term_str'] = VOCAB.term_str\n",
    "VOCAB.loc[(VOCAB.n == 1) & (VOCAB.n_chars < 3), 'modified_term_str'] = \"<UNK>\""
   ]
  },
  {
   "cell_type": "code",
   "execution_count": 39,
   "id": "e0937268a1d9660f",
   "metadata": {
    "ExecuteTime": {
     "end_time": "2025-02-04T17:07:17.967801Z",
     "start_time": "2025-02-04T17:07:17.854849Z"
    },
    "collapsed": false
   },
   "outputs": [
    {
     "data": {
      "text/html": [
       "<div>\n",
       "<style scoped>\n",
       "    .dataframe tbody tr th:only-of-type {\n",
       "        vertical-align: middle;\n",
       "    }\n",
       "\n",
       "    .dataframe tbody tr th {\n",
       "        vertical-align: top;\n",
       "    }\n",
       "\n",
       "    .dataframe thead th {\n",
       "        text-align: right;\n",
       "    }\n",
       "</style>\n",
       "<table border=\"1\" class=\"dataframe\">\n",
       "  <thead>\n",
       "    <tr style=\"text-align: right;\">\n",
       "      <th></th>\n",
       "      <th>term_str</th>\n",
       "      <th>n</th>\n",
       "      <th>n_chars</th>\n",
       "      <th>modified_term_str</th>\n",
       "    </tr>\n",
       "    <tr>\n",
       "      <th>term_id</th>\n",
       "      <th></th>\n",
       "      <th></th>\n",
       "      <th></th>\n",
       "      <th></th>\n",
       "    </tr>\n",
       "  </thead>\n",
       "  <tbody>\n",
       "    <tr>\n",
       "      <th>0</th>\n",
       "      <td>the</td>\n",
       "      <td>4252</td>\n",
       "      <td>3</td>\n",
       "      <td>the</td>\n",
       "    </tr>\n",
       "    <tr>\n",
       "      <th>1</th>\n",
       "      <td>and</td>\n",
       "      <td>2993</td>\n",
       "      <td>3</td>\n",
       "      <td>and</td>\n",
       "    </tr>\n",
       "    <tr>\n",
       "      <th>2</th>\n",
       "      <td>i</td>\n",
       "      <td>2861</td>\n",
       "      <td>1</td>\n",
       "      <td>i</td>\n",
       "    </tr>\n",
       "    <tr>\n",
       "      <th>3</th>\n",
       "      <td>of</td>\n",
       "      <td>2687</td>\n",
       "      <td>2</td>\n",
       "      <td>of</td>\n",
       "    </tr>\n",
       "    <tr>\n",
       "      <th>4</th>\n",
       "      <td>to</td>\n",
       "      <td>2123</td>\n",
       "      <td>2</td>\n",
       "      <td>to</td>\n",
       "    </tr>\n",
       "    <tr>\n",
       "      <th>...</th>\n",
       "      <td>...</td>\n",
       "      <td>...</td>\n",
       "      <td>...</td>\n",
       "      <td>...</td>\n",
       "    </tr>\n",
       "    <tr>\n",
       "      <th>7034</th>\n",
       "      <td>peeping</td>\n",
       "      <td>1</td>\n",
       "      <td>7</td>\n",
       "      <td>peeping</td>\n",
       "    </tr>\n",
       "    <tr>\n",
       "      <th>7035</th>\n",
       "      <td>pyramids</td>\n",
       "      <td>1</td>\n",
       "      <td>8</td>\n",
       "      <td>pyramids</td>\n",
       "    </tr>\n",
       "    <tr>\n",
       "      <th>7036</th>\n",
       "      <td>towered</td>\n",
       "      <td>1</td>\n",
       "      <td>7</td>\n",
       "      <td>towered</td>\n",
       "    </tr>\n",
       "    <tr>\n",
       "      <th>7037</th>\n",
       "      <td>bridge</td>\n",
       "      <td>1</td>\n",
       "      <td>6</td>\n",
       "      <td>bridge</td>\n",
       "    </tr>\n",
       "    <tr>\n",
       "      <th>7038</th>\n",
       "      <td>shelley</td>\n",
       "      <td>1</td>\n",
       "      <td>7</td>\n",
       "      <td>shelley</td>\n",
       "    </tr>\n",
       "  </tbody>\n",
       "</table>\n",
       "<p>7039 rows × 4 columns</p>\n",
       "</div>"
      ],
      "text/plain": [
       "         term_str     n  n_chars modified_term_str\n",
       "term_id                                           \n",
       "0             the  4252        3               the\n",
       "1             and  2993        3               and\n",
       "2               i  2861        1                 i\n",
       "3              of  2687        2                of\n",
       "4              to  2123        2                to\n",
       "...           ...   ...      ...               ...\n",
       "7034      peeping     1        7           peeping\n",
       "7035     pyramids     1        8          pyramids\n",
       "7036      towered     1        7           towered\n",
       "7037       bridge     1        6            bridge\n",
       "7038      shelley     1        7           shelley\n",
       "\n",
       "[7039 rows x 4 columns]"
      ]
     },
     "execution_count": 39,
     "metadata": {},
     "output_type": "execute_result"
    }
   ],
   "source": [
    "VOCAB"
   ]
  },
  {
   "cell_type": "code",
   "execution_count": 40,
   "id": "912fa2844b1e7494",
   "metadata": {
    "ExecuteTime": {
     "end_time": "2025-02-04T17:07:18.022977Z",
     "start_time": "2025-02-04T17:07:17.933622Z"
    },
    "collapsed": false
   },
   "outputs": [],
   "source": [
    "TOKENS['modified_term_str'] = TOKENS['term_str'].map(VOCAB.set_index('term_str')['modified_term_str'])"
   ]
  },
  {
   "cell_type": "code",
   "execution_count": 41,
   "id": "8e83005ef4c1f9cb",
   "metadata": {
    "ExecuteTime": {
     "end_time": "2025-02-04T17:07:18.087631Z",
     "start_time": "2025-02-04T17:07:18.007411Z"
    },
    "collapsed": false
   },
   "outputs": [
    {
     "data": {
      "text/html": [
       "<div>\n",
       "<style scoped>\n",
       "    .dataframe tbody tr th:only-of-type {\n",
       "        vertical-align: middle;\n",
       "    }\n",
       "\n",
       "    .dataframe tbody tr th {\n",
       "        vertical-align: top;\n",
       "    }\n",
       "\n",
       "    .dataframe thead th {\n",
       "        text-align: right;\n",
       "    }\n",
       "</style>\n",
       "<table border=\"1\" class=\"dataframe\">\n",
       "  <thead>\n",
       "    <tr style=\"text-align: right;\">\n",
       "      <th></th>\n",
       "      <th></th>\n",
       "      <th></th>\n",
       "      <th></th>\n",
       "      <th>token_str</th>\n",
       "      <th>term_str</th>\n",
       "      <th>modified_term_str</th>\n",
       "    </tr>\n",
       "    <tr>\n",
       "      <th>chap_num</th>\n",
       "      <th>para_num</th>\n",
       "      <th>sent_num</th>\n",
       "      <th>token_num</th>\n",
       "      <th></th>\n",
       "      <th></th>\n",
       "      <th></th>\n",
       "    </tr>\n",
       "  </thead>\n",
       "  <tbody>\n",
       "    <tr>\n",
       "      <th rowspan=\"5\" valign=\"top\">1</th>\n",
       "      <th rowspan=\"5\" valign=\"top\">0</th>\n",
       "      <th rowspan=\"5\" valign=\"top\">0</th>\n",
       "      <th>0</th>\n",
       "      <td>The</td>\n",
       "      <td>the</td>\n",
       "      <td>the</td>\n",
       "    </tr>\n",
       "    <tr>\n",
       "      <th>1</th>\n",
       "      <td>event</td>\n",
       "      <td>event</td>\n",
       "      <td>event</td>\n",
       "    </tr>\n",
       "    <tr>\n",
       "      <th>2</th>\n",
       "      <td>on</td>\n",
       "      <td>on</td>\n",
       "      <td>on</td>\n",
       "    </tr>\n",
       "    <tr>\n",
       "      <th>3</th>\n",
       "      <td>which</td>\n",
       "      <td>which</td>\n",
       "      <td>which</td>\n",
       "    </tr>\n",
       "    <tr>\n",
       "      <th>4</th>\n",
       "      <td>this</td>\n",
       "      <td>this</td>\n",
       "      <td>this</td>\n",
       "    </tr>\n",
       "    <tr>\n",
       "      <th>...</th>\n",
       "      <th>...</th>\n",
       "      <th>...</th>\n",
       "      <th>...</th>\n",
       "      <td>...</td>\n",
       "      <td>...</td>\n",
       "      <td>...</td>\n",
       "    </tr>\n",
       "    <tr>\n",
       "      <th rowspan=\"5\" valign=\"top\">29</th>\n",
       "      <th rowspan=\"5\" valign=\"top\">86</th>\n",
       "      <th rowspan=\"4\" valign=\"top\">0</th>\n",
       "      <th>7</th>\n",
       "      <td>Frankenstein</td>\n",
       "      <td>frankenstein</td>\n",
       "      <td>frankenstein</td>\n",
       "    </tr>\n",
       "    <tr>\n",
       "      <th>8</th>\n",
       "      <td>by</td>\n",
       "      <td>by</td>\n",
       "      <td>by</td>\n",
       "    </tr>\n",
       "    <tr>\n",
       "      <th>9</th>\n",
       "      <td>Mary</td>\n",
       "      <td>mary</td>\n",
       "      <td>mary</td>\n",
       "    </tr>\n",
       "    <tr>\n",
       "      <th>10</th>\n",
       "      <td>W</td>\n",
       "      <td>w</td>\n",
       "      <td>w</td>\n",
       "    </tr>\n",
       "    <tr>\n",
       "      <th>1</th>\n",
       "      <th>0</th>\n",
       "      <td>Shelley</td>\n",
       "      <td>shelley</td>\n",
       "      <td>shelley</td>\n",
       "    </tr>\n",
       "  </tbody>\n",
       "</table>\n",
       "<p>76521 rows × 3 columns</p>\n",
       "</div>"
      ],
      "text/plain": [
       "                                         token_str      term_str  \\\n",
       "chap_num para_num sent_num token_num                               \n",
       "1        0        0        0                   The           the   \n",
       "                           1                 event         event   \n",
       "                           2                    on            on   \n",
       "                           3                 which         which   \n",
       "                           4                  this          this   \n",
       "...                                            ...           ...   \n",
       "29       86       0        7          Frankenstein  frankenstein   \n",
       "                           8                    by            by   \n",
       "                           9                  Mary          mary   \n",
       "                           10                    W             w   \n",
       "                  1        0               Shelley       shelley   \n",
       "\n",
       "                                     modified_term_str  \n",
       "chap_num para_num sent_num token_num                    \n",
       "1        0        0        0                       the  \n",
       "                           1                     event  \n",
       "                           2                        on  \n",
       "                           3                     which  \n",
       "                           4                      this  \n",
       "...                                                ...  \n",
       "29       86       0        7              frankenstein  \n",
       "                           8                        by  \n",
       "                           9                      mary  \n",
       "                           10                        w  \n",
       "                  1        0                   shelley  \n",
       "\n",
       "[76521 rows x 3 columns]"
      ]
     },
     "execution_count": 41,
     "metadata": {},
     "output_type": "execute_result"
    }
   ],
   "source": [
    "TOKENS "
   ]
  },
  {
   "cell_type": "code",
   "execution_count": 42,
   "id": "d15868c70accf8e7",
   "metadata": {
    "ExecuteTime": {
     "end_time": "2025-02-04T17:07:18.175447Z",
     "start_time": "2025-02-04T17:07:18.070301Z"
    },
    "collapsed": false
   },
   "outputs": [
    {
     "data": {
      "text/html": [
       "<div>\n",
       "<style scoped>\n",
       "    .dataframe tbody tr th:only-of-type {\n",
       "        vertical-align: middle;\n",
       "    }\n",
       "\n",
       "    .dataframe tbody tr th {\n",
       "        vertical-align: top;\n",
       "    }\n",
       "\n",
       "    .dataframe thead th {\n",
       "        text-align: right;\n",
       "    }\n",
       "</style>\n",
       "<table border=\"1\" class=\"dataframe\">\n",
       "  <thead>\n",
       "    <tr style=\"text-align: right;\">\n",
       "      <th></th>\n",
       "      <th></th>\n",
       "      <th></th>\n",
       "      <th></th>\n",
       "      <th>token_str</th>\n",
       "      <th>term_str</th>\n",
       "      <th>modified_term_str</th>\n",
       "    </tr>\n",
       "    <tr>\n",
       "      <th>chap_num</th>\n",
       "      <th>para_num</th>\n",
       "      <th>sent_num</th>\n",
       "      <th>token_num</th>\n",
       "      <th></th>\n",
       "      <th></th>\n",
       "      <th></th>\n",
       "    </tr>\n",
       "  </thead>\n",
       "  <tbody>\n",
       "    <tr>\n",
       "      <th>23</th>\n",
       "      <th>20</th>\n",
       "      <th>0</th>\n",
       "      <th>1</th>\n",
       "      <td>3</td>\n",
       "      <td>3</td>\n",
       "      <td>&lt;UNK&gt;</td>\n",
       "    </tr>\n",
       "    <tr>\n",
       "      <th>15</th>\n",
       "      <th>3</th>\n",
       "      <th>8</th>\n",
       "      <th>5</th>\n",
       "      <td>er</td>\n",
       "      <td>er</td>\n",
       "      <td>&lt;UNK&gt;</td>\n",
       "    </tr>\n",
       "    <tr>\n",
       "      <th>26</th>\n",
       "      <th>45</th>\n",
       "      <th>5</th>\n",
       "      <th>6</th>\n",
       "      <td>du</td>\n",
       "      <td>du</td>\n",
       "      <td>&lt;UNK&gt;</td>\n",
       "    </tr>\n",
       "    <tr>\n",
       "      <th>5</th>\n",
       "      <th>34</th>\n",
       "      <th>0</th>\n",
       "      <th>1</th>\n",
       "      <td>19</td>\n",
       "      <td>19</td>\n",
       "      <td>&lt;UNK&gt;</td>\n",
       "    </tr>\n",
       "    <tr>\n",
       "      <th>15</th>\n",
       "      <th>3</th>\n",
       "      <th>8</th>\n",
       "      <th>4</th>\n",
       "      <td>ne</td>\n",
       "      <td>ne</td>\n",
       "      <td>&lt;UNK&gt;</td>\n",
       "    </tr>\n",
       "  </tbody>\n",
       "</table>\n",
       "</div>"
      ],
      "text/plain": [
       "                                     token_str term_str modified_term_str\n",
       "chap_num para_num sent_num token_num                                     \n",
       "23       20       0        1                 3        3             <UNK>\n",
       "15       3        8        5                er       er             <UNK>\n",
       "26       45       5        6                du       du             <UNK>\n",
       "5        34       0        1                19       19             <UNK>\n",
       "15       3        8        4                ne       ne             <UNK>"
      ]
     },
     "execution_count": 42,
     "metadata": {},
     "output_type": "execute_result"
    }
   ],
   "source": [
    "TOKENS[TOKENS.modified_term_str == '<UNK>'].sample(5)"
   ]
  },
  {
   "cell_type": "code",
   "execution_count": 43,
   "id": "15122bf27b8860ce",
   "metadata": {
    "ExecuteTime": {
     "end_time": "2025-02-04T17:07:18.231416Z",
     "start_time": "2025-02-04T17:07:18.162488Z"
    },
    "collapsed": false
   },
   "outputs": [
    {
     "data": {
      "text/html": [
       "<div>\n",
       "<style scoped>\n",
       "    .dataframe tbody tr th:only-of-type {\n",
       "        vertical-align: middle;\n",
       "    }\n",
       "\n",
       "    .dataframe tbody tr th {\n",
       "        vertical-align: top;\n",
       "    }\n",
       "\n",
       "    .dataframe thead th {\n",
       "        text-align: right;\n",
       "    }\n",
       "</style>\n",
       "<table border=\"1\" class=\"dataframe\">\n",
       "  <thead>\n",
       "    <tr style=\"text-align: right;\">\n",
       "      <th></th>\n",
       "      <th></th>\n",
       "      <th></th>\n",
       "      <th></th>\n",
       "      <th></th>\n",
       "      <th>token_str</th>\n",
       "      <th>term_str</th>\n",
       "      <th>modified_term_str</th>\n",
       "    </tr>\n",
       "    <tr>\n",
       "      <th>book_id</th>\n",
       "      <th>chap_num</th>\n",
       "      <th>para_num</th>\n",
       "      <th>sent_num</th>\n",
       "      <th>token_num</th>\n",
       "      <th></th>\n",
       "      <th></th>\n",
       "      <th></th>\n",
       "    </tr>\n",
       "  </thead>\n",
       "  <tbody>\n",
       "    <tr>\n",
       "      <th rowspan=\"11\" valign=\"top\">0</th>\n",
       "      <th rowspan=\"5\" valign=\"top\">1</th>\n",
       "      <th rowspan=\"5\" valign=\"top\">0</th>\n",
       "      <th rowspan=\"5\" valign=\"top\">0</th>\n",
       "      <th>0</th>\n",
       "      <td>The</td>\n",
       "      <td>the</td>\n",
       "      <td>the</td>\n",
       "    </tr>\n",
       "    <tr>\n",
       "      <th>1</th>\n",
       "      <td>event</td>\n",
       "      <td>event</td>\n",
       "      <td>event</td>\n",
       "    </tr>\n",
       "    <tr>\n",
       "      <th>2</th>\n",
       "      <td>on</td>\n",
       "      <td>on</td>\n",
       "      <td>on</td>\n",
       "    </tr>\n",
       "    <tr>\n",
       "      <th>3</th>\n",
       "      <td>which</td>\n",
       "      <td>which</td>\n",
       "      <td>which</td>\n",
       "    </tr>\n",
       "    <tr>\n",
       "      <th>4</th>\n",
       "      <td>this</td>\n",
       "      <td>this</td>\n",
       "      <td>this</td>\n",
       "    </tr>\n",
       "    <tr>\n",
       "      <th>...</th>\n",
       "      <th>...</th>\n",
       "      <th>...</th>\n",
       "      <th>...</th>\n",
       "      <td>...</td>\n",
       "      <td>...</td>\n",
       "      <td>...</td>\n",
       "    </tr>\n",
       "    <tr>\n",
       "      <th rowspan=\"5\" valign=\"top\">29</th>\n",
       "      <th rowspan=\"5\" valign=\"top\">86</th>\n",
       "      <th rowspan=\"4\" valign=\"top\">0</th>\n",
       "      <th>7</th>\n",
       "      <td>Frankenstein</td>\n",
       "      <td>frankenstein</td>\n",
       "      <td>frankenstein</td>\n",
       "    </tr>\n",
       "    <tr>\n",
       "      <th>8</th>\n",
       "      <td>by</td>\n",
       "      <td>by</td>\n",
       "      <td>by</td>\n",
       "    </tr>\n",
       "    <tr>\n",
       "      <th>9</th>\n",
       "      <td>Mary</td>\n",
       "      <td>mary</td>\n",
       "      <td>mary</td>\n",
       "    </tr>\n",
       "    <tr>\n",
       "      <th>10</th>\n",
       "      <td>W</td>\n",
       "      <td>w</td>\n",
       "      <td>w</td>\n",
       "    </tr>\n",
       "    <tr>\n",
       "      <th>1</th>\n",
       "      <th>0</th>\n",
       "      <td>Shelley</td>\n",
       "      <td>shelley</td>\n",
       "      <td>shelley</td>\n",
       "    </tr>\n",
       "  </tbody>\n",
       "</table>\n",
       "<p>76521 rows × 3 columns</p>\n",
       "</div>"
      ],
      "text/plain": [
       "                                                 token_str      term_str  \\\n",
       "book_id chap_num para_num sent_num token_num                               \n",
       "0       1        0        0        0                   The           the   \n",
       "                                   1                 event         event   \n",
       "                                   2                    on            on   \n",
       "                                   3                 which         which   \n",
       "                                   4                  this          this   \n",
       "...                                                    ...           ...   \n",
       "        29       86       0        7          Frankenstein  frankenstein   \n",
       "                                   8                    by            by   \n",
       "                                   9                  Mary          mary   \n",
       "                                   10                    W             w   \n",
       "                          1        0               Shelley       shelley   \n",
       "\n",
       "                                             modified_term_str  \n",
       "book_id chap_num para_num sent_num token_num                    \n",
       "0       1        0        0        0                       the  \n",
       "                                   1                     event  \n",
       "                                   2                        on  \n",
       "                                   3                     which  \n",
       "                                   4                      this  \n",
       "...                                                        ...  \n",
       "        29       86       0        7              frankenstein  \n",
       "                                   8                        by  \n",
       "                                   9                      mary  \n",
       "                                   10                        w  \n",
       "                          1        0                   shelley  \n",
       "\n",
       "[76521 rows x 3 columns]"
      ]
     },
     "execution_count": 43,
     "metadata": {},
     "output_type": "execute_result"
    }
   ],
   "source": [
    "TOKENS['book_id'] = 0\n",
    "TOKENS.reset_index(inplace=True)\n",
    "TOKENS.set_index(['book_id','chap_num', 'para_num', 'sent_num', 'token_num'], inplace=True)\n",
    "TOKENS"
   ]
  },
  {
   "cell_type": "code",
   "execution_count": 44,
   "id": "2e67761c865a4f0f",
   "metadata": {
    "ExecuteTime": {
     "end_time": "2025-02-04T17:07:18.374142Z",
     "start_time": "2025-02-04T17:07:18.232468Z"
    },
    "collapsed": false
   },
   "outputs": [],
   "source": [
    "def token_to_padded(token, grouper=['sent_num'], term_str='term_str'):\n",
    "    ohco = token.index.names # We preserve these since they get lost in the shuffle\n",
    "    padded = token.groupby(grouper)\\\n",
    "        .apply(lambda x: '<s> ' + ' '.join(x[term_str]) + ' </s>')\\\n",
    "        .apply(lambda x: pd.Series(x.split()))\\\n",
    "        .stack().to_frame('term_str')\n",
    "    padded.index.names = ohco\n",
    "    return padded"
   ]
  },
  {
   "cell_type": "code",
   "execution_count": 45,
   "id": "97b71ccf268e91cf",
   "metadata": {
    "ExecuteTime": {
     "end_time": "2025-02-04T17:07:18.851449Z",
     "start_time": "2025-02-04T17:07:18.348711Z"
    },
    "collapsed": false
   },
   "outputs": [],
   "source": [
    "PADDED = token_to_padded(TOKENS, grouper=OHCO[:4], term_str='modified_term_str')"
   ]
  },
  {
   "cell_type": "code",
   "execution_count": 46,
   "id": "9f24ae7991bad2c2",
   "metadata": {
    "ExecuteTime": {
     "end_time": "2025-02-04T17:07:18.854772Z",
     "start_time": "2025-02-04T17:07:18.839180Z"
    },
    "collapsed": false
   },
   "outputs": [
    {
     "data": {
      "text/html": [
       "<div>\n",
       "<style scoped>\n",
       "    .dataframe tbody tr th:only-of-type {\n",
       "        vertical-align: middle;\n",
       "    }\n",
       "\n",
       "    .dataframe tbody tr th {\n",
       "        vertical-align: top;\n",
       "    }\n",
       "\n",
       "    .dataframe thead th {\n",
       "        text-align: right;\n",
       "    }\n",
       "</style>\n",
       "<table border=\"1\" class=\"dataframe\">\n",
       "  <thead>\n",
       "    <tr style=\"text-align: right;\">\n",
       "      <th></th>\n",
       "      <th></th>\n",
       "      <th></th>\n",
       "      <th></th>\n",
       "      <th></th>\n",
       "      <th>term_str</th>\n",
       "    </tr>\n",
       "    <tr>\n",
       "      <th>book_id</th>\n",
       "      <th>chap_num</th>\n",
       "      <th>para_num</th>\n",
       "      <th>sent_num</th>\n",
       "      <th>token_num</th>\n",
       "      <th></th>\n",
       "    </tr>\n",
       "  </thead>\n",
       "  <tbody>\n",
       "    <tr>\n",
       "      <th rowspan=\"11\" valign=\"top\">0</th>\n",
       "      <th rowspan=\"5\" valign=\"top\">1</th>\n",
       "      <th rowspan=\"5\" valign=\"top\">0</th>\n",
       "      <th rowspan=\"5\" valign=\"top\">0</th>\n",
       "      <th>0</th>\n",
       "      <td>&lt;s&gt;</td>\n",
       "    </tr>\n",
       "    <tr>\n",
       "      <th>1</th>\n",
       "      <td>the</td>\n",
       "    </tr>\n",
       "    <tr>\n",
       "      <th>2</th>\n",
       "      <td>event</td>\n",
       "    </tr>\n",
       "    <tr>\n",
       "      <th>3</th>\n",
       "      <td>on</td>\n",
       "    </tr>\n",
       "    <tr>\n",
       "      <th>4</th>\n",
       "      <td>which</td>\n",
       "    </tr>\n",
       "    <tr>\n",
       "      <th>...</th>\n",
       "      <th>...</th>\n",
       "      <th>...</th>\n",
       "      <th>...</th>\n",
       "      <td>...</td>\n",
       "    </tr>\n",
       "    <tr>\n",
       "      <th rowspan=\"5\" valign=\"top\">29</th>\n",
       "      <th rowspan=\"5\" valign=\"top\">86</th>\n",
       "      <th rowspan=\"2\" valign=\"top\">0</th>\n",
       "      <th>11</th>\n",
       "      <td>w</td>\n",
       "    </tr>\n",
       "    <tr>\n",
       "      <th>12</th>\n",
       "      <td>&lt;/s&gt;</td>\n",
       "    </tr>\n",
       "    <tr>\n",
       "      <th rowspan=\"3\" valign=\"top\">1</th>\n",
       "      <th>0</th>\n",
       "      <td>&lt;s&gt;</td>\n",
       "    </tr>\n",
       "    <tr>\n",
       "      <th>1</th>\n",
       "      <td>shelley</td>\n",
       "    </tr>\n",
       "    <tr>\n",
       "      <th>2</th>\n",
       "      <td>&lt;/s&gt;</td>\n",
       "    </tr>\n",
       "  </tbody>\n",
       "</table>\n",
       "<p>86451 rows × 1 columns</p>\n",
       "</div>"
      ],
      "text/plain": [
       "                                             term_str\n",
       "book_id chap_num para_num sent_num token_num         \n",
       "0       1        0        0        0              <s>\n",
       "                                   1              the\n",
       "                                   2            event\n",
       "                                   3               on\n",
       "                                   4            which\n",
       "...                                               ...\n",
       "        29       86       0        11               w\n",
       "                                   12            </s>\n",
       "                          1        0              <s>\n",
       "                                   1          shelley\n",
       "                                   2             </s>\n",
       "\n",
       "[86451 rows x 1 columns]"
      ]
     },
     "execution_count": 46,
     "metadata": {},
     "output_type": "execute_result"
    }
   ],
   "source": [
    "PADDED"
   ]
  },
  {
   "cell_type": "code",
   "execution_count": 47,
   "id": "8089da350110e118",
   "metadata": {
    "ExecuteTime": {
     "end_time": "2025-02-04T17:07:18.890771Z",
     "start_time": "2025-02-04T17:07:18.843504Z"
    },
    "collapsed": false
   },
   "outputs": [],
   "source": [
    "def padded_to_ngrams(padded, grouper=['sent_num'], n=2):\n",
    "    \n",
    "    ohco = padded.index.names\n",
    "    ngrams = padded.groupby(grouper)\\\n",
    "        .apply(lambda x: pd.concat([x.shift(0-i) for i in range(n)], axis=1))\\\n",
    "        .reset_index(drop=True)\n",
    "    ngrams.index = padded.index\n",
    "    ngrams.columns = widx\n",
    "\n",
    "    # ngrams = pd.concat([padded.shift(0-i) for i in range(n)], axis=1)\n",
    "    # ngrams.index.name = 'ngram_num'\n",
    "    # ngrams.columns = widx\n",
    "    # ngrams = ngrams.fillna('<EOF>')\n",
    "    \n",
    "    return ngrams"
   ]
  },
  {
   "cell_type": "code",
   "execution_count": 48,
   "id": "6dbcf93bfa6dbe15",
   "metadata": {
    "ExecuteTime": {
     "end_time": "2025-02-04T17:07:21.108192Z",
     "start_time": "2025-02-04T17:07:18.846680Z"
    },
    "collapsed": false
   },
   "outputs": [],
   "source": [
    "NGRAMS = padded_to_ngrams(PADDED, OHCO[:4], ngrams)"
   ]
  },
  {
   "cell_type": "code",
   "execution_count": 49,
   "id": "a8062b0cb9b2eb55",
   "metadata": {
    "ExecuteTime": {
     "end_time": "2025-02-04T17:07:21.118278Z",
     "start_time": "2025-02-04T17:07:21.111109Z"
    },
    "collapsed": false
   },
   "outputs": [
    {
     "data": {
      "text/html": [
       "<div>\n",
       "<style scoped>\n",
       "    .dataframe tbody tr th:only-of-type {\n",
       "        vertical-align: middle;\n",
       "    }\n",
       "\n",
       "    .dataframe tbody tr th {\n",
       "        vertical-align: top;\n",
       "    }\n",
       "\n",
       "    .dataframe thead th {\n",
       "        text-align: right;\n",
       "    }\n",
       "</style>\n",
       "<table border=\"1\" class=\"dataframe\">\n",
       "  <thead>\n",
       "    <tr style=\"text-align: right;\">\n",
       "      <th></th>\n",
       "      <th></th>\n",
       "      <th></th>\n",
       "      <th></th>\n",
       "      <th></th>\n",
       "      <th>w0</th>\n",
       "      <th>w1</th>\n",
       "      <th>w2</th>\n",
       "    </tr>\n",
       "    <tr>\n",
       "      <th>book_id</th>\n",
       "      <th>chap_num</th>\n",
       "      <th>para_num</th>\n",
       "      <th>sent_num</th>\n",
       "      <th>token_num</th>\n",
       "      <th></th>\n",
       "      <th></th>\n",
       "      <th></th>\n",
       "    </tr>\n",
       "  </thead>\n",
       "  <tbody>\n",
       "    <tr>\n",
       "      <th rowspan=\"11\" valign=\"top\">0</th>\n",
       "      <th rowspan=\"5\" valign=\"top\">1</th>\n",
       "      <th rowspan=\"5\" valign=\"top\">0</th>\n",
       "      <th rowspan=\"5\" valign=\"top\">0</th>\n",
       "      <th>0</th>\n",
       "      <td>&lt;s&gt;</td>\n",
       "      <td>the</td>\n",
       "      <td>event</td>\n",
       "    </tr>\n",
       "    <tr>\n",
       "      <th>1</th>\n",
       "      <td>the</td>\n",
       "      <td>event</td>\n",
       "      <td>on</td>\n",
       "    </tr>\n",
       "    <tr>\n",
       "      <th>2</th>\n",
       "      <td>event</td>\n",
       "      <td>on</td>\n",
       "      <td>which</td>\n",
       "    </tr>\n",
       "    <tr>\n",
       "      <th>3</th>\n",
       "      <td>on</td>\n",
       "      <td>which</td>\n",
       "      <td>this</td>\n",
       "    </tr>\n",
       "    <tr>\n",
       "      <th>4</th>\n",
       "      <td>which</td>\n",
       "      <td>this</td>\n",
       "      <td>fiction</td>\n",
       "    </tr>\n",
       "    <tr>\n",
       "      <th>...</th>\n",
       "      <th>...</th>\n",
       "      <th>...</th>\n",
       "      <th>...</th>\n",
       "      <td>...</td>\n",
       "      <td>...</td>\n",
       "      <td>...</td>\n",
       "    </tr>\n",
       "    <tr>\n",
       "      <th rowspan=\"5\" valign=\"top\">29</th>\n",
       "      <th rowspan=\"5\" valign=\"top\">86</th>\n",
       "      <th rowspan=\"2\" valign=\"top\">0</th>\n",
       "      <th>11</th>\n",
       "      <td>w</td>\n",
       "      <td>&lt;/s&gt;</td>\n",
       "      <td>None</td>\n",
       "    </tr>\n",
       "    <tr>\n",
       "      <th>12</th>\n",
       "      <td>&lt;/s&gt;</td>\n",
       "      <td>None</td>\n",
       "      <td>None</td>\n",
       "    </tr>\n",
       "    <tr>\n",
       "      <th rowspan=\"3\" valign=\"top\">1</th>\n",
       "      <th>0</th>\n",
       "      <td>&lt;s&gt;</td>\n",
       "      <td>shelley</td>\n",
       "      <td>&lt;/s&gt;</td>\n",
       "    </tr>\n",
       "    <tr>\n",
       "      <th>1</th>\n",
       "      <td>shelley</td>\n",
       "      <td>&lt;/s&gt;</td>\n",
       "      <td>None</td>\n",
       "    </tr>\n",
       "    <tr>\n",
       "      <th>2</th>\n",
       "      <td>&lt;/s&gt;</td>\n",
       "      <td>None</td>\n",
       "      <td>None</td>\n",
       "    </tr>\n",
       "  </tbody>\n",
       "</table>\n",
       "<p>86451 rows × 3 columns</p>\n",
       "</div>"
      ],
      "text/plain": [
       "                                                   w0       w1       w2\n",
       "book_id chap_num para_num sent_num token_num                           \n",
       "0       1        0        0        0              <s>      the    event\n",
       "                                   1              the    event       on\n",
       "                                   2            event       on    which\n",
       "                                   3               on    which     this\n",
       "                                   4            which     this  fiction\n",
       "...                                               ...      ...      ...\n",
       "        29       86       0        11               w     </s>     None\n",
       "                                   12            </s>     None     None\n",
       "                          1        0              <s>  shelley     </s>\n",
       "                                   1          shelley     </s>     None\n",
       "                                   2             </s>     None     None\n",
       "\n",
       "[86451 rows x 3 columns]"
      ]
     },
     "execution_count": 49,
     "metadata": {},
     "output_type": "execute_result"
    }
   ],
   "source": [
    "NGRAMS"
   ]
  },
  {
   "cell_type": "code",
   "execution_count": 50,
   "id": "814a134a06706208",
   "metadata": {
    "ExecuteTime": {
     "end_time": "2025-02-04T17:07:21.121002Z",
     "start_time": "2025-02-04T17:07:21.115277Z"
    },
    "collapsed": false
   },
   "outputs": [],
   "source": [
    "def ngrams_to_models(ngrams):\n",
    "    global widx\n",
    "    n = len(ngrams.columns)\n",
    "    model = [None for i in range(n)]\n",
    "    for i in range(n):\n",
    "        if i == 0:\n",
    "            model[i] = ngrams.value_counts('w0').to_frame('n')\n",
    "            model[i]['p'] = model[i].n / model[i].n.sum()\n",
    "            model[i]['i'] = np.log2(1/model[i].p)\n",
    "        else:\n",
    "            model[i] = ngrams.value_counts(widx[:i+1]).to_frame('n')    \n",
    "            model[i]['cp'] = model[i].n / model[i-1].n\n",
    "            model[i]['i'] = np.log2(1/model[i].cp)\n",
    "        model[i] = model[i].sort_index()\n",
    "    return model"
   ]
  },
  {
   "cell_type": "code",
   "execution_count": 51,
   "id": "d145ed9b6918c5b",
   "metadata": {
    "ExecuteTime": {
     "end_time": "2025-02-04T17:07:21.355744Z",
     "start_time": "2025-02-04T17:07:21.119985Z"
    },
    "collapsed": false
   },
   "outputs": [],
   "source": [
    "M = ngrams_to_models(NGRAMS)"
   ]
  },
  {
   "cell_type": "code",
   "execution_count": 52,
   "id": "9b08b830cba67960",
   "metadata": {
    "ExecuteTime": {
     "end_time": "2025-02-04T17:07:21.366789Z",
     "start_time": "2025-02-04T17:07:21.357524Z"
    },
    "collapsed": false
   },
   "outputs": [
    {
     "data": {
      "text/html": [
       "<div>\n",
       "<style scoped>\n",
       "    .dataframe tbody tr th:only-of-type {\n",
       "        vertical-align: middle;\n",
       "    }\n",
       "\n",
       "    .dataframe tbody tr th {\n",
       "        vertical-align: top;\n",
       "    }\n",
       "\n",
       "    .dataframe thead th {\n",
       "        text-align: right;\n",
       "    }\n",
       "</style>\n",
       "<table border=\"1\" class=\"dataframe\">\n",
       "  <thead>\n",
       "    <tr style=\"text-align: right;\">\n",
       "      <th></th>\n",
       "      <th></th>\n",
       "      <th></th>\n",
       "      <th>n</th>\n",
       "      <th>cp</th>\n",
       "      <th>i</th>\n",
       "    </tr>\n",
       "    <tr>\n",
       "      <th>w0</th>\n",
       "      <th>w1</th>\n",
       "      <th>w2</th>\n",
       "      <th></th>\n",
       "      <th></th>\n",
       "      <th></th>\n",
       "    </tr>\n",
       "  </thead>\n",
       "  <tbody>\n",
       "    <tr>\n",
       "      <th rowspan=\"2\" valign=\"top\">11th</th>\n",
       "      <th>17</th>\n",
       "      <th>&lt;/s&gt;</th>\n",
       "      <td>1</td>\n",
       "      <td>1.0</td>\n",
       "      <td>0.0</td>\n",
       "    </tr>\n",
       "    <tr>\n",
       "      <th>the</th>\n",
       "      <th>passage</th>\n",
       "      <td>1</td>\n",
       "      <td>1.0</td>\n",
       "      <td>0.0</td>\n",
       "    </tr>\n",
       "    <tr>\n",
       "      <th>12th</th>\n",
       "      <th>17</th>\n",
       "      <th>&lt;/s&gt;</th>\n",
       "      <td>1</td>\n",
       "      <td>1.0</td>\n",
       "      <td>0.0</td>\n",
       "    </tr>\n",
       "    <tr>\n",
       "      <th>13th</th>\n",
       "      <th>17</th>\n",
       "      <th>&lt;/s&gt;</th>\n",
       "      <td>1</td>\n",
       "      <td>1.0</td>\n",
       "      <td>0.0</td>\n",
       "    </tr>\n",
       "    <tr>\n",
       "      <th>1816</th>\n",
       "      <th>in</th>\n",
       "      <th>the</th>\n",
       "      <td>1</td>\n",
       "      <td>1.0</td>\n",
       "      <td>0.0</td>\n",
       "    </tr>\n",
       "    <tr>\n",
       "      <th>...</th>\n",
       "      <th>...</th>\n",
       "      <th>...</th>\n",
       "      <td>...</td>\n",
       "      <td>...</td>\n",
       "      <td>...</td>\n",
       "    </tr>\n",
       "    <tr>\n",
       "      <th rowspan=\"2\" valign=\"top\">youthful</th>\n",
       "      <th rowspan=\"2\" valign=\"top\">lovers</th>\n",
       "      <th>have</th>\n",
       "      <td>1</td>\n",
       "      <td>0.5</td>\n",
       "      <td>1.0</td>\n",
       "    </tr>\n",
       "    <tr>\n",
       "      <th>while</th>\n",
       "      <td>1</td>\n",
       "      <td>0.5</td>\n",
       "      <td>1.0</td>\n",
       "    </tr>\n",
       "    <tr>\n",
       "      <th rowspan=\"3\" valign=\"top\">zeal</th>\n",
       "      <th>modern</th>\n",
       "      <th>philosophers</th>\n",
       "      <td>1</td>\n",
       "      <td>1.0</td>\n",
       "      <td>0.0</td>\n",
       "    </tr>\n",
       "    <tr>\n",
       "      <th rowspan=\"2\" valign=\"top\">of</th>\n",
       "      <th>felix</th>\n",
       "      <td>1</td>\n",
       "      <td>0.5</td>\n",
       "      <td>1.0</td>\n",
       "    </tr>\n",
       "    <tr>\n",
       "      <th>his</th>\n",
       "      <td>1</td>\n",
       "      <td>0.5</td>\n",
       "      <td>1.0</td>\n",
       "    </tr>\n",
       "  </tbody>\n",
       "</table>\n",
       "<p>65346 rows × 3 columns</p>\n",
       "</div>"
      ],
      "text/plain": [
       "                              n   cp    i\n",
       "w0       w1     w2                       \n",
       "11th     17     </s>          1  1.0  0.0\n",
       "         the    passage       1  1.0  0.0\n",
       "12th     17     </s>          1  1.0  0.0\n",
       "13th     17     </s>          1  1.0  0.0\n",
       "1816     in     the           1  1.0  0.0\n",
       "...                          ..  ...  ...\n",
       "youthful lovers have          1  0.5  1.0\n",
       "                while         1  0.5  1.0\n",
       "zeal     modern philosophers  1  1.0  0.0\n",
       "         of     felix         1  0.5  1.0\n",
       "                his           1  0.5  1.0\n",
       "\n",
       "[65346 rows x 3 columns]"
      ]
     },
     "execution_count": 52,
     "metadata": {},
     "output_type": "execute_result"
    }
   ],
   "source": [
    "M[2]"
   ]
  },
  {
   "cell_type": "markdown",
   "id": "e46b08d08cadafaa",
   "metadata": {
    "collapsed": false
   },
   "source": [
    "## Question 1: List six words that precede the word \"monster,\" excluding stop words (and sentence boundary markers). Stop words include 'a', 'an', 'the', 'this', 'that', etc."
   ]
  },
  {
   "cell_type": "code",
   "execution_count": 53,
   "id": "f0326241e356b916",
   "metadata": {
    "ExecuteTime": {
     "end_time": "2025-02-04T17:07:21.373485Z",
     "start_time": "2025-02-04T17:07:21.365579Z"
    },
    "collapsed": false
   },
   "outputs": [
    {
     "data": {
      "text/html": [
       "<div>\n",
       "<style scoped>\n",
       "    .dataframe tbody tr th:only-of-type {\n",
       "        vertical-align: middle;\n",
       "    }\n",
       "\n",
       "    .dataframe tbody tr th {\n",
       "        vertical-align: top;\n",
       "    }\n",
       "\n",
       "    .dataframe thead th {\n",
       "        text-align: right;\n",
       "    }\n",
       "</style>\n",
       "<table border=\"1\" class=\"dataframe\">\n",
       "  <thead>\n",
       "    <tr style=\"text-align: right;\">\n",
       "      <th></th>\n",
       "      <th>w1</th>\n",
       "    </tr>\n",
       "  </thead>\n",
       "  <tbody>\n",
       "    <tr>\n",
       "      <th>0</th>\n",
       "      <td>abhorred</td>\n",
       "    </tr>\n",
       "    <tr>\n",
       "      <th>1</th>\n",
       "      <td>hideous</td>\n",
       "    </tr>\n",
       "    <tr>\n",
       "      <th>3</th>\n",
       "      <td>detestable</td>\n",
       "    </tr>\n",
       "    <tr>\n",
       "      <th>4</th>\n",
       "      <td>gigantic</td>\n",
       "    </tr>\n",
       "    <tr>\n",
       "      <th>5</th>\n",
       "      <td>hellish</td>\n",
       "    </tr>\n",
       "    <tr>\n",
       "      <th>20</th>\n",
       "      <td>miserable</td>\n",
       "    </tr>\n",
       "  </tbody>\n",
       "</table>\n",
       "</div>"
      ],
      "text/plain": [
       "            w1\n",
       "0     abhorred\n",
       "1      hideous\n",
       "3   detestable\n",
       "4     gigantic\n",
       "5      hellish\n",
       "20   miserable"
      ]
     },
     "execution_count": 53,
     "metadata": {},
     "output_type": "execute_result"
    }
   ],
   "source": [
    "stop_words = {'a', 'an', 'the', 'this', 'that', 'some'}\n",
    "\n",
    "monster_rows = M[2].xs('monster', level='w2')\n",
    "\n",
    "w1_words = monster_rows.index.get_level_values('w1')\n",
    "\n",
    "# Filter out stop words\n",
    "preceding_words = pd.DataFrame({'w1': w1_words})\n",
    "\n",
    "filtered_words = preceding_words[~preceding_words['w1'].isin(stop_words)]\n",
    "\n",
    "# Get the top 6 results\n",
    "top_6_words = filtered_words.head(6)\n",
    "top_6_words"
   ]
  },
  {
   "cell_type": "markdown",
   "id": "cad4080d899db18b",
   "metadata": {
    "collapsed": false
   },
   "source": [
    "The Top 6 words that precede monster are \"abhorred,\" \"hideous,\" \"detestable,\" \"gigantic,\" \"hellish,\" and \"miserable.\""
   ]
  },
  {
   "cell_type": "markdown",
   "id": "1205d4fa0834fe50",
   "metadata": {
    "collapsed": false
   },
   "source": [
    "## Question 2: List the following sentences in ascending order of bigram perplexity according to the language model generated from the text"
   ]
  },
  {
   "cell_type": "code",
   "execution_count": 54,
   "id": "92b55728a8831438",
   "metadata": {
    "ExecuteTime": {
     "end_time": "2025-02-04T17:07:21.386905Z",
     "start_time": "2025-02-04T17:07:21.374227Z"
    },
    "collapsed": false
   },
   "outputs": [],
   "source": [
    "def sentence_to_token(sent_list, file=True):\n",
    "    \n",
    "    # Convert list of sentences to dataframe\n",
    "    if file:\n",
    "        S = pd.read_csv(\"test_sentences.txt\", header=None, names=['sent_str'])\n",
    "    else:\n",
    "        S = pd.DataFrame(sent_list, columns=['sent_str'])\n",
    "    S.index.name = 'sent_num'\n",
    "    \n",
    "    # Convert dataframe of sentences to TOKEN with normalized terms\n",
    "    K = S.sent_str.apply(lambda x: pd.Series(x.split())).stack().to_frame('token_str')\n",
    "    K['term_str'] = K.token_str.str.replace(r\"[\\W_]+\", \"\", regex=True).str.lower()\n",
    "    K.index.names = ['sent_num', 'token_num']\n",
    "    \n",
    "    return S, K"
   ]
  },
  {
   "cell_type": "code",
   "execution_count": 55,
   "id": "2f1560bb3be7f902",
   "metadata": {
    "ExecuteTime": {
     "end_time": "2025-02-04T17:07:21.426578Z",
     "start_time": "2025-02-04T17:07:21.377265Z"
    },
    "collapsed": false
   },
   "outputs": [],
   "source": [
    "test_sent, test_token  = sentence_to_token([\"The monster is on the ice.\",\n",
    "\"Flowers are happy things.\",\n",
    "\"I have never seen the aurora borealis.\",\n",
    "\"He never knew the love of a family.\"], file = False)"
   ]
  },
  {
   "cell_type": "code",
   "execution_count": 56,
   "id": "dbbcfbe5de7f250",
   "metadata": {
    "ExecuteTime": {
     "end_time": "2025-02-04T17:07:21.428822Z",
     "start_time": "2025-02-04T17:07:21.380557Z"
    },
    "collapsed": false
   },
   "outputs": [
    {
     "data": {
      "text/html": [
       "<div>\n",
       "<style scoped>\n",
       "    .dataframe tbody tr th:only-of-type {\n",
       "        vertical-align: middle;\n",
       "    }\n",
       "\n",
       "    .dataframe tbody tr th {\n",
       "        vertical-align: top;\n",
       "    }\n",
       "\n",
       "    .dataframe thead th {\n",
       "        text-align: right;\n",
       "    }\n",
       "</style>\n",
       "<table border=\"1\" class=\"dataframe\">\n",
       "  <thead>\n",
       "    <tr style=\"text-align: right;\">\n",
       "      <th></th>\n",
       "      <th>sent_str</th>\n",
       "    </tr>\n",
       "    <tr>\n",
       "      <th>sent_num</th>\n",
       "      <th></th>\n",
       "    </tr>\n",
       "  </thead>\n",
       "  <tbody>\n",
       "    <tr>\n",
       "      <th>0</th>\n",
       "      <td>The monster is on the ice.</td>\n",
       "    </tr>\n",
       "    <tr>\n",
       "      <th>1</th>\n",
       "      <td>Flowers are happy things.</td>\n",
       "    </tr>\n",
       "    <tr>\n",
       "      <th>2</th>\n",
       "      <td>I have never seen the aurora borealis.</td>\n",
       "    </tr>\n",
       "    <tr>\n",
       "      <th>3</th>\n",
       "      <td>He never knew the love of a family.</td>\n",
       "    </tr>\n",
       "  </tbody>\n",
       "</table>\n",
       "</div>"
      ],
      "text/plain": [
       "                                        sent_str\n",
       "sent_num                                        \n",
       "0                     The monster is on the ice.\n",
       "1                      Flowers are happy things.\n",
       "2         I have never seen the aurora borealis.\n",
       "3            He never knew the love of a family."
      ]
     },
     "execution_count": 56,
     "metadata": {},
     "output_type": "execute_result"
    }
   ],
   "source": [
    "test_sent"
   ]
  },
  {
   "cell_type": "code",
   "execution_count": 57,
   "id": "935a56da1939abc6",
   "metadata": {
    "ExecuteTime": {
     "end_time": "2025-02-04T17:07:21.444609Z",
     "start_time": "2025-02-04T17:07:21.385663Z"
    },
    "collapsed": false
   },
   "outputs": [
    {
     "data": {
      "text/html": [
       "<div>\n",
       "<style scoped>\n",
       "    .dataframe tbody tr th:only-of-type {\n",
       "        vertical-align: middle;\n",
       "    }\n",
       "\n",
       "    .dataframe tbody tr th {\n",
       "        vertical-align: top;\n",
       "    }\n",
       "\n",
       "    .dataframe thead th {\n",
       "        text-align: right;\n",
       "    }\n",
       "</style>\n",
       "<table border=\"1\" class=\"dataframe\">\n",
       "  <thead>\n",
       "    <tr style=\"text-align: right;\">\n",
       "      <th></th>\n",
       "      <th></th>\n",
       "      <th>token_str</th>\n",
       "      <th>term_str</th>\n",
       "    </tr>\n",
       "    <tr>\n",
       "      <th>sent_num</th>\n",
       "      <th>token_num</th>\n",
       "      <th></th>\n",
       "      <th></th>\n",
       "    </tr>\n",
       "  </thead>\n",
       "  <tbody>\n",
       "    <tr>\n",
       "      <th rowspan=\"6\" valign=\"top\">0</th>\n",
       "      <th>0</th>\n",
       "      <td>The</td>\n",
       "      <td>the</td>\n",
       "    </tr>\n",
       "    <tr>\n",
       "      <th>1</th>\n",
       "      <td>monster</td>\n",
       "      <td>monster</td>\n",
       "    </tr>\n",
       "    <tr>\n",
       "      <th>2</th>\n",
       "      <td>is</td>\n",
       "      <td>is</td>\n",
       "    </tr>\n",
       "    <tr>\n",
       "      <th>3</th>\n",
       "      <td>on</td>\n",
       "      <td>on</td>\n",
       "    </tr>\n",
       "    <tr>\n",
       "      <th>4</th>\n",
       "      <td>the</td>\n",
       "      <td>the</td>\n",
       "    </tr>\n",
       "    <tr>\n",
       "      <th>5</th>\n",
       "      <td>ice.</td>\n",
       "      <td>ice</td>\n",
       "    </tr>\n",
       "    <tr>\n",
       "      <th rowspan=\"4\" valign=\"top\">1</th>\n",
       "      <th>0</th>\n",
       "      <td>Flowers</td>\n",
       "      <td>flowers</td>\n",
       "    </tr>\n",
       "    <tr>\n",
       "      <th>1</th>\n",
       "      <td>are</td>\n",
       "      <td>are</td>\n",
       "    </tr>\n",
       "    <tr>\n",
       "      <th>2</th>\n",
       "      <td>happy</td>\n",
       "      <td>happy</td>\n",
       "    </tr>\n",
       "    <tr>\n",
       "      <th>3</th>\n",
       "      <td>things.</td>\n",
       "      <td>things</td>\n",
       "    </tr>\n",
       "    <tr>\n",
       "      <th rowspan=\"7\" valign=\"top\">2</th>\n",
       "      <th>0</th>\n",
       "      <td>I</td>\n",
       "      <td>i</td>\n",
       "    </tr>\n",
       "    <tr>\n",
       "      <th>1</th>\n",
       "      <td>have</td>\n",
       "      <td>have</td>\n",
       "    </tr>\n",
       "    <tr>\n",
       "      <th>2</th>\n",
       "      <td>never</td>\n",
       "      <td>never</td>\n",
       "    </tr>\n",
       "    <tr>\n",
       "      <th>3</th>\n",
       "      <td>seen</td>\n",
       "      <td>seen</td>\n",
       "    </tr>\n",
       "    <tr>\n",
       "      <th>4</th>\n",
       "      <td>the</td>\n",
       "      <td>the</td>\n",
       "    </tr>\n",
       "    <tr>\n",
       "      <th>5</th>\n",
       "      <td>aurora</td>\n",
       "      <td>aurora</td>\n",
       "    </tr>\n",
       "    <tr>\n",
       "      <th>6</th>\n",
       "      <td>borealis.</td>\n",
       "      <td>borealis</td>\n",
       "    </tr>\n",
       "    <tr>\n",
       "      <th rowspan=\"8\" valign=\"top\">3</th>\n",
       "      <th>0</th>\n",
       "      <td>He</td>\n",
       "      <td>he</td>\n",
       "    </tr>\n",
       "    <tr>\n",
       "      <th>1</th>\n",
       "      <td>never</td>\n",
       "      <td>never</td>\n",
       "    </tr>\n",
       "    <tr>\n",
       "      <th>2</th>\n",
       "      <td>knew</td>\n",
       "      <td>knew</td>\n",
       "    </tr>\n",
       "    <tr>\n",
       "      <th>3</th>\n",
       "      <td>the</td>\n",
       "      <td>the</td>\n",
       "    </tr>\n",
       "    <tr>\n",
       "      <th>4</th>\n",
       "      <td>love</td>\n",
       "      <td>love</td>\n",
       "    </tr>\n",
       "    <tr>\n",
       "      <th>5</th>\n",
       "      <td>of</td>\n",
       "      <td>of</td>\n",
       "    </tr>\n",
       "    <tr>\n",
       "      <th>6</th>\n",
       "      <td>a</td>\n",
       "      <td>a</td>\n",
       "    </tr>\n",
       "    <tr>\n",
       "      <th>7</th>\n",
       "      <td>family.</td>\n",
       "      <td>family</td>\n",
       "    </tr>\n",
       "  </tbody>\n",
       "</table>\n",
       "</div>"
      ],
      "text/plain": [
       "                    token_str  term_str\n",
       "sent_num token_num                     \n",
       "0        0                The       the\n",
       "         1            monster   monster\n",
       "         2                 is        is\n",
       "         3                 on        on\n",
       "         4                the       the\n",
       "         5               ice.       ice\n",
       "1        0            Flowers   flowers\n",
       "         1                are       are\n",
       "         2              happy     happy\n",
       "         3            things.    things\n",
       "2        0                  I         i\n",
       "         1               have      have\n",
       "         2              never     never\n",
       "         3               seen      seen\n",
       "         4                the       the\n",
       "         5             aurora    aurora\n",
       "         6          borealis.  borealis\n",
       "3        0                 He        he\n",
       "         1              never     never\n",
       "         2               knew      knew\n",
       "         3                the       the\n",
       "         4               love      love\n",
       "         5                 of        of\n",
       "         6                  a         a\n",
       "         7            family.    family"
      ]
     },
     "execution_count": 57,
     "metadata": {},
     "output_type": "execute_result"
    }
   ],
   "source": [
    "test_token"
   ]
  },
  {
   "cell_type": "code",
   "execution_count": 58,
   "id": "1728780c402dc94a",
   "metadata": {
    "ExecuteTime": {
     "end_time": "2025-02-04T17:07:21.460354Z",
     "start_time": "2025-02-04T17:07:21.390179Z"
    },
    "collapsed": false
   },
   "outputs": [],
   "source": [
    "test_token.loc[~test_token.term_str.isin(M[0].index), 'term_str'] = \"<UNK>\""
   ]
  },
  {
   "cell_type": "code",
   "execution_count": 59,
   "id": "fce9924c499ade94",
   "metadata": {
    "ExecuteTime": {
     "end_time": "2025-02-04T17:07:21.460689Z",
     "start_time": "2025-02-04T17:07:21.394040Z"
    },
    "collapsed": false
   },
   "outputs": [
    {
     "data": {
      "text/plain": [
       "token_str\n",
       "aurora       1\n",
       "borealis.    1\n",
       "Name: count, dtype: int64"
      ]
     },
     "execution_count": 59,
     "metadata": {},
     "output_type": "execute_result"
    }
   ],
   "source": [
    "test_token[test_token.term_str == '<UNK>'].value_counts('token_str')"
   ]
  },
  {
   "cell_type": "code",
   "execution_count": 60,
   "id": "4b4cf245be87f045",
   "metadata": {
    "ExecuteTime": {
     "end_time": "2025-02-04T17:07:21.489989Z",
     "start_time": "2025-02-04T17:07:21.399636Z"
    },
    "collapsed": false
   },
   "outputs": [],
   "source": [
    "TEST_PADDED = token_to_padded(test_token)"
   ]
  },
  {
   "cell_type": "code",
   "execution_count": 61,
   "id": "6d3d4bb549c2a96f",
   "metadata": {
    "ExecuteTime": {
     "end_time": "2025-02-04T17:07:21.534149Z",
     "start_time": "2025-02-04T17:07:21.406213Z"
    },
    "collapsed": false
   },
   "outputs": [
    {
     "data": {
      "text/html": [
       "<div>\n",
       "<style scoped>\n",
       "    .dataframe tbody tr th:only-of-type {\n",
       "        vertical-align: middle;\n",
       "    }\n",
       "\n",
       "    .dataframe tbody tr th {\n",
       "        vertical-align: top;\n",
       "    }\n",
       "\n",
       "    .dataframe thead th {\n",
       "        text-align: right;\n",
       "    }\n",
       "</style>\n",
       "<table border=\"1\" class=\"dataframe\">\n",
       "  <thead>\n",
       "    <tr style=\"text-align: right;\">\n",
       "      <th></th>\n",
       "      <th></th>\n",
       "      <th>term_str</th>\n",
       "    </tr>\n",
       "    <tr>\n",
       "      <th>sent_num</th>\n",
       "      <th>token_num</th>\n",
       "      <th></th>\n",
       "    </tr>\n",
       "  </thead>\n",
       "  <tbody>\n",
       "    <tr>\n",
       "      <th rowspan=\"5\" valign=\"top\">0</th>\n",
       "      <th>0</th>\n",
       "      <td>&lt;s&gt;</td>\n",
       "    </tr>\n",
       "    <tr>\n",
       "      <th>1</th>\n",
       "      <td>the</td>\n",
       "    </tr>\n",
       "    <tr>\n",
       "      <th>2</th>\n",
       "      <td>monster</td>\n",
       "    </tr>\n",
       "    <tr>\n",
       "      <th>3</th>\n",
       "      <td>is</td>\n",
       "    </tr>\n",
       "    <tr>\n",
       "      <th>4</th>\n",
       "      <td>on</td>\n",
       "    </tr>\n",
       "  </tbody>\n",
       "</table>\n",
       "</div>"
      ],
      "text/plain": [
       "                   term_str\n",
       "sent_num token_num         \n",
       "0        0              <s>\n",
       "         1              the\n",
       "         2          monster\n",
       "         3               is\n",
       "         4               on"
      ]
     },
     "execution_count": 61,
     "metadata": {},
     "output_type": "execute_result"
    }
   ],
   "source": [
    "TEST_PADDED.head()\n"
   ]
  },
  {
   "cell_type": "code",
   "execution_count": 62,
   "id": "96a624a410b0c41",
   "metadata": {
    "ExecuteTime": {
     "end_time": "2025-02-04T17:07:21.534388Z",
     "start_time": "2025-02-04T17:07:21.409669Z"
    },
    "collapsed": false
   },
   "outputs": [],
   "source": [
    "TEST_NGRAMS = padded_to_ngrams(TEST_PADDED, 'sent_num', ngrams)"
   ]
  },
  {
   "cell_type": "code",
   "execution_count": 63,
   "id": "e23d5f4cc580f8b4",
   "metadata": {
    "ExecuteTime": {
     "end_time": "2025-02-04T17:07:21.536831Z",
     "start_time": "2025-02-04T17:07:21.416981Z"
    },
    "collapsed": false
   },
   "outputs": [
    {
     "data": {
      "text/html": [
       "<div>\n",
       "<style scoped>\n",
       "    .dataframe tbody tr th:only-of-type {\n",
       "        vertical-align: middle;\n",
       "    }\n",
       "\n",
       "    .dataframe tbody tr th {\n",
       "        vertical-align: top;\n",
       "    }\n",
       "\n",
       "    .dataframe thead th {\n",
       "        text-align: right;\n",
       "    }\n",
       "</style>\n",
       "<table border=\"1\" class=\"dataframe\">\n",
       "  <thead>\n",
       "    <tr style=\"text-align: right;\">\n",
       "      <th></th>\n",
       "      <th>w0</th>\n",
       "      <th>w1</th>\n",
       "      <th>w2</th>\n",
       "    </tr>\n",
       "    <tr>\n",
       "      <th>token_num</th>\n",
       "      <th></th>\n",
       "      <th></th>\n",
       "      <th></th>\n",
       "    </tr>\n",
       "  </thead>\n",
       "  <tbody>\n",
       "    <tr>\n",
       "      <th>0</th>\n",
       "      <td>&lt;s&gt;</td>\n",
       "      <td>the</td>\n",
       "      <td>monster</td>\n",
       "    </tr>\n",
       "    <tr>\n",
       "      <th>1</th>\n",
       "      <td>the</td>\n",
       "      <td>monster</td>\n",
       "      <td>is</td>\n",
       "    </tr>\n",
       "    <tr>\n",
       "      <th>2</th>\n",
       "      <td>monster</td>\n",
       "      <td>is</td>\n",
       "      <td>on</td>\n",
       "    </tr>\n",
       "    <tr>\n",
       "      <th>3</th>\n",
       "      <td>is</td>\n",
       "      <td>on</td>\n",
       "      <td>the</td>\n",
       "    </tr>\n",
       "    <tr>\n",
       "      <th>4</th>\n",
       "      <td>on</td>\n",
       "      <td>the</td>\n",
       "      <td>ice</td>\n",
       "    </tr>\n",
       "    <tr>\n",
       "      <th>5</th>\n",
       "      <td>the</td>\n",
       "      <td>ice</td>\n",
       "      <td>&lt;/s&gt;</td>\n",
       "    </tr>\n",
       "    <tr>\n",
       "      <th>6</th>\n",
       "      <td>ice</td>\n",
       "      <td>&lt;/s&gt;</td>\n",
       "      <td>None</td>\n",
       "    </tr>\n",
       "    <tr>\n",
       "      <th>7</th>\n",
       "      <td>&lt;/s&gt;</td>\n",
       "      <td>None</td>\n",
       "      <td>None</td>\n",
       "    </tr>\n",
       "  </tbody>\n",
       "</table>\n",
       "</div>"
      ],
      "text/plain": [
       "                w0       w1       w2\n",
       "token_num                           \n",
       "0              <s>      the  monster\n",
       "1              the  monster       is\n",
       "2          monster       is       on\n",
       "3               is       on      the\n",
       "4               on      the      ice\n",
       "5              the      ice     </s>\n",
       "6              ice     </s>     None\n",
       "7             </s>     None     None"
      ]
     },
     "execution_count": 63,
     "metadata": {},
     "output_type": "execute_result"
    }
   ],
   "source": [
    "TEST_NGRAMS.loc[0]"
   ]
  },
  {
   "cell_type": "code",
   "execution_count": 64,
   "id": "330beaf763504aa7",
   "metadata": {
    "ExecuteTime": {
     "end_time": "2025-02-04T17:07:21.538846Z",
     "start_time": "2025-02-04T17:07:21.420026Z"
    },
    "collapsed": false
   },
   "outputs": [],
   "source": [
    "def test_model(model, ngrams, sents):\n",
    "    \n",
    "    global widx\n",
    "    \n",
    "    assert len(model) == len(ngrams.columns)\n",
    "    \n",
    "    n = len(model)\n",
    "    ohco = ngrams.index.names\n",
    "    \n",
    "    R = []\n",
    "    for i in range(n):\n",
    "        T = ngrams.merge(M[i], on=widx[:i+1], how='left')\n",
    "        T.index = ngrams.index\n",
    "        T = T.reset_index().set_index(ohco + widx).i #.to_frame(f\"i{i}\")\n",
    "        \n",
    "        # This how we handle unseen combos\n",
    "        T[T.isna()] = T.max()\n",
    "        R.append(T.to_frame(f\"i{i}\"))\n",
    "                \n",
    "    return pd.concat(R, axis=1)"
   ]
  },
  {
   "cell_type": "code",
   "execution_count": 65,
   "id": "a54d19bf838fef65",
   "metadata": {
    "ExecuteTime": {
     "end_time": "2025-02-04T17:07:21.574235Z",
     "start_time": "2025-02-04T17:07:21.423559Z"
    },
    "collapsed": false
   },
   "outputs": [],
   "source": [
    "R = test_model(M,TEST_NGRAMS, test_sent)"
   ]
  },
  {
   "cell_type": "code",
   "execution_count": 66,
   "id": "1b200efb2746d1d4",
   "metadata": {
    "ExecuteTime": {
     "end_time": "2025-02-04T17:07:21.588803Z",
     "start_time": "2025-02-04T17:07:21.448621Z"
    },
    "collapsed": false
   },
   "outputs": [],
   "source": [
    "def compute_perplexity(results, test_sents, n=3):\n",
    "    for i in range(n):\n",
    "        test_sents[f\"pp{i}\"] = np.exp2(results.groupby('sent_num')[f\"i{i}\"].mean())\n",
    "    return test_sents"
   ]
  },
  {
   "cell_type": "code",
   "execution_count": 67,
   "id": "e291bdefe4f8d39a",
   "metadata": {
    "ExecuteTime": {
     "end_time": "2025-02-04T17:07:21.599573Z",
     "start_time": "2025-02-04T17:07:21.453455Z"
    },
    "collapsed": false
   },
   "outputs": [],
   "source": [
    "PP = compute_perplexity(R, test_sent)"
   ]
  },
  {
   "cell_type": "code",
   "execution_count": 68,
   "id": "4589af6f479a4495",
   "metadata": {
    "ExecuteTime": {
     "end_time": "2025-02-04T17:07:21.602308Z",
     "start_time": "2025-02-04T17:07:21.458225Z"
    },
    "collapsed": false
   },
   "outputs": [
    {
     "data": {
      "text/html": [
       "<div>\n",
       "<style scoped>\n",
       "    .dataframe tbody tr th:only-of-type {\n",
       "        vertical-align: middle;\n",
       "    }\n",
       "\n",
       "    .dataframe tbody tr th {\n",
       "        vertical-align: top;\n",
       "    }\n",
       "\n",
       "    .dataframe thead th {\n",
       "        text-align: right;\n",
       "    }\n",
       "</style>\n",
       "<table border=\"1\" class=\"dataframe\">\n",
       "  <thead>\n",
       "    <tr style=\"text-align: right;\">\n",
       "      <th></th>\n",
       "      <th>sent_str</th>\n",
       "      <th>pp0</th>\n",
       "      <th>pp1</th>\n",
       "      <th>pp2</th>\n",
       "    </tr>\n",
       "    <tr>\n",
       "      <th>sent_num</th>\n",
       "      <th></th>\n",
       "      <th></th>\n",
       "      <th></th>\n",
       "      <th></th>\n",
       "    </tr>\n",
       "  </thead>\n",
       "  <tbody>\n",
       "    <tr>\n",
       "      <th>0</th>\n",
       "      <td>The monster is on the ice.</td>\n",
       "      <td>115.958058</td>\n",
       "      <td>81.302310</td>\n",
       "      <td>70.158484</td>\n",
       "    </tr>\n",
       "    <tr>\n",
       "      <th>1</th>\n",
       "      <td>Flowers are happy things.</td>\n",
       "      <td>589.070304</td>\n",
       "      <td>538.786632</td>\n",
       "      <td>187.500000</td>\n",
       "    </tr>\n",
       "    <tr>\n",
       "      <th>2</th>\n",
       "      <td>I have never seen the aurora borealis.</td>\n",
       "      <td>300.050936</td>\n",
       "      <td>38.891328</td>\n",
       "      <td>82.849110</td>\n",
       "    </tr>\n",
       "    <tr>\n",
       "      <th>3</th>\n",
       "      <td>He never knew the love of a family.</td>\n",
       "      <td>171.248897</td>\n",
       "      <td>137.673025</td>\n",
       "      <td>66.085222</td>\n",
       "    </tr>\n",
       "  </tbody>\n",
       "</table>\n",
       "</div>"
      ],
      "text/plain": [
       "                                        sent_str         pp0         pp1  \\\n",
       "sent_num                                                                   \n",
       "0                     The monster is on the ice.  115.958058   81.302310   \n",
       "1                      Flowers are happy things.  589.070304  538.786632   \n",
       "2         I have never seen the aurora borealis.  300.050936   38.891328   \n",
       "3            He never knew the love of a family.  171.248897  137.673025   \n",
       "\n",
       "                 pp2  \n",
       "sent_num              \n",
       "0          70.158484  \n",
       "1         187.500000  \n",
       "2          82.849110  \n",
       "3          66.085222  "
      ]
     },
     "execution_count": 68,
     "metadata": {},
     "output_type": "execute_result"
    }
   ],
   "source": [
    "PP"
   ]
  },
  {
   "cell_type": "markdown",
   "id": "afb01e58a2850cf9",
   "metadata": {
    "collapsed": false
   },
   "source": [
    "In order of ascending bigram perplexity the sentences are as follows: \"I have never seen the aurora borealis,\" \"The monster is on the ice,\" \"He never knew the love of a family,\" \"Flowers are happy things.\""
   ]
  },
  {
   "cell_type": "markdown",
   "source": [
    "## Question 3: Using the bigram model represented as a matrix, explore the relationship between bigram pairs using the following lists."
   ],
   "metadata": {
    "collapsed": false
   },
   "id": "ba302d6a52d7695d"
  },
  {
   "cell_type": "code",
   "execution_count": 86,
   "id": "d50fb01d5aad4850",
   "metadata": {
    "collapsed": false,
    "ExecuteTime": {
     "end_time": "2025-02-04T20:03:56.736527Z",
     "start_time": "2025-02-04T20:03:56.527301Z"
    }
   },
   "outputs": [
    {
     "data": {
      "text/plain": "w1   said  heard\nw0              \nhe   21.0    5.0\nshe   3.0    3.0",
      "text/html": "<div>\n<style scoped>\n    .dataframe tbody tr th:only-of-type {\n        vertical-align: middle;\n    }\n\n    .dataframe tbody tr th {\n        vertical-align: top;\n    }\n\n    .dataframe thead th {\n        text-align: right;\n    }\n</style>\n<table border=\"1\" class=\"dataframe\">\n  <thead>\n    <tr style=\"text-align: right;\">\n      <th>w1</th>\n      <th>said</th>\n      <th>heard</th>\n    </tr>\n    <tr>\n      <th>w0</th>\n      <th></th>\n      <th></th>\n    </tr>\n  </thead>\n  <tbody>\n    <tr>\n      <th>he</th>\n      <td>21.0</td>\n      <td>5.0</td>\n    </tr>\n    <tr>\n      <th>she</th>\n      <td>3.0</td>\n      <td>3.0</td>\n    </tr>\n  </tbody>\n</table>\n</div>"
     },
     "execution_count": 86,
     "metadata": {},
     "output_type": "execute_result"
    }
   ],
   "source": [
    "bigram_matrix = M[1]['n'].unstack(level='w1')\n",
    "\n",
    "first_words = ['he', 'she']\n",
    "\n",
    "second_words = ['said', 'heard']\n",
    "\n",
    "selected_bigrams = bigram_matrix.loc[first_words, second_words]\n",
    "selected_bigrams"
   ]
  },
  {
   "cell_type": "markdown",
   "id": "c7c72aeedcb82849",
   "metadata": {
    "collapsed": false
   },
   "source": [
    "### This seems to indicate that male characters are doing more speaking and listening than female characters. While female characters speak and listen an equal amount, male characters are more likely to be speaking than listening. "
   ]
  },
  {
   "cell_type": "markdown",
   "id": "466d5d8f53eabaa7",
   "metadata": {
    "collapsed": false
   },
   "source": [
    "## Question 4: Generate 20 sentences using the generate_text() function. Display the results."
   ]
  },
  {
   "cell_type": "code",
   "execution_count": 71,
   "id": "1f61b131f3e0f804",
   "metadata": {
    "ExecuteTime": {
     "end_time": "2025-02-04T17:07:21.814538Z",
     "start_time": "2025-02-04T17:07:21.607032Z"
    },
    "collapsed": false
   },
   "outputs": [],
   "source": [
    "def generate_text(M, n=250):\n",
    "    \n",
    "    if len(M) < 3:\n",
    "        raise ValueError(\"Must have trigram model generated.\")\n",
    "    \n",
    "    # Start list of words\n",
    "    first_word = M[1].loc['<s>'].sample(weights='cp').index[0]\n",
    "    \n",
    "    words = ['<s>', first_word]\n",
    "    \n",
    "    for i in range(n):\n",
    "        \n",
    "        bg = tuple(words[-2:])\n",
    "\n",
    "        # Try trigram model\n",
    "        try:\n",
    "            next_word = M[2].loc[bg].sample(weights='cp').index[0]\n",
    "\n",
    "        # If not found in model, back off ...\n",
    "        except KeyError as e1:\n",
    "            try:\n",
    "                # Get the last word in the bigram\n",
    "                ug = bg[1]\n",
    "                next_word = M[1].loc[ug].sample(weights='cp').index[0]\n",
    "            \n",
    "            except KeyError as e2:\n",
    "                next_word = M[0].sample(weights='p').index[0]\n",
    "                \n",
    "        words.append(next_word)\n",
    "    \n",
    "    \n",
    "    text = ' '.join(words[2:])\n",
    "    print('\\n\\n'.join([str(i+1) + ' ' + line.replace('<s>','')\\\n",
    "        .strip().upper() for i, line in enumerate(text.split('</s>'))]))"
   ]
  },
  {
   "cell_type": "code",
   "execution_count": 72,
   "id": "d961217d9ef326eb",
   "metadata": {
    "ExecuteTime": {
     "end_time": "2025-02-04T17:07:21.862498Z",
     "start_time": "2025-02-04T17:07:21.614899Z"
    },
    "collapsed": false
   },
   "outputs": [
    {
     "name": "stdout",
     "output_type": "stream",
     "text": [
      "1 MILDNESS OF HIS SISTER THE SICKENING OPPRESSION OF THE FOLDS OF THE ENQUIRER SEEMED TO SET A CROWN OF DISTINCTION ON HER MOTHER S HOUSE\n",
      "\n",
      "2 AFTER MY ARRIVAL THEY HAD EVER BEEN IRKSOME TO ME\n",
      "\n",
      "3 CONSCIENCE AND HEEDED THE STINGS OF REMORSE POISON THE AIR WAS COLD AND THE SEA BECAME FREE FROM BREAKERS\n",
      "\n",
      "4 OF THE GRAVE WORMS CRAWLING IN THE MELANCHOLY OF HIS THREATS\n",
      "\n",
      "5 REMEMBERED THE EFFECT THAT THE LETTERS WERE OFTEN PROLONGED BY THE STRANGE SYSTEM OF HUMAN FEELING HAVE RESULTED IN THE GREATEST DELIGHT TO SEE ME AND MY PULSE BEAT WITH A SENSATION OF HELPLESSNESS SO OFTEN PRESENT TO MY OTHER SENSATIONS\n",
      "\n",
      "6 CONTINUED M\n",
      "\n",
      "7 YEARS HE HAD FORMED AND ENDUED WITH ANIMATION COULD NOT SLEEP\n",
      "\n",
      "8 TO FORM ANOTHER BEING OF WHOSE DISPOSITIONS I WAS FIRMLY CONVINCED IN MY OWN FOOD AND BROUGHT THE BODY OF MY VISIT\n",
      "\n",
      "9 \n",
      "\n",
      "10 KIND OF CANOPY WHILE WE ENJOYED\n",
      "\n",
      "11 OR STILL LINGERED IN THE TOWN WERE ALREADY SHUT\n",
      "\n",
      "12 ONLY THE APPARENTLY INNOCENT ONE OF THESE MEN WERE MOVED\n",
      "\n",
      "13 \n",
      "\n",
      "14 DEATH AND IGNOMINY\n",
      "\n",
      "15 WHICH WAS INTERMIXED WITH OBSCURE FOREBODINGS OF EVIL PERVADED HER\n",
      "\n",
      "16 FROM THE PLEASURES NATURAL TO ONE WHO ON SEEING A GREAT PILE OF BUILDINGS\n",
      "\n",
      "17 EXCLAMATION AS A MURDERESS\n",
      "\n",
      "18 THE SUPERIOR ACCOMPLISHMENTS OF MY PARENTS BUT THIS DISCOVERY WAS SO GENTLE YET SO WISE\n",
      "\n",
      "19 EMPTY\n",
      "\n",
      "20 MARK OF THE MOON AROSE AND SHONE FULL UPON HIS GHASTLY AND DISTORTED FEATURES HALF COVERED BY THE\n"
     ]
    }
   ],
   "source": [
    "generate_text(M)"
   ]
  },
  {
   "cell_type": "markdown",
   "id": "df62ddcd9eb40b2b",
   "metadata": {
    "collapsed": false
   },
   "source": [
    "## Question 5: Compute the redundancy R for each of the n-gram models using the MLE of the joint probability of each ngram type. "
   ]
  },
  {
   "cell_type": "code",
   "execution_count": 82,
   "id": "29c87b31a67ea12f",
   "metadata": {
    "ExecuteTime": {
     "end_time": "2025-02-04T19:46:56.184274Z",
     "start_time": "2025-02-04T19:46:56.160998Z"
    },
    "collapsed": false
   },
   "outputs": [],
   "source": [
    "def compute_redundancy(M, n, V):\n",
    "    \n",
    "    N = V ** (n + 1)\n",
    "\n",
    "    H_max = np.log2(N)\n",
    "\n",
    "    M[\"p\"] = M.n / M.n.sum()\n",
    "\n",
    "    H = -(M[\"p\"] * np.log2(M[\"p\"])).sum()\n",
    "\n",
    "    # Compute redundancy\n",
    "    R = 1 - (H / H_max)\n",
    "\n",
    "    return R"
   ]
  },
  {
   "cell_type": "code",
   "execution_count": 83,
   "id": "eedf098d31d4fcbd",
   "metadata": {
    "ExecuteTime": {
     "end_time": "2025-02-04T19:46:56.966412Z",
     "start_time": "2025-02-04T19:46:56.937706Z"
    },
    "collapsed": false
   },
   "outputs": [],
   "source": [
    "V = len(M[0].index)"
   ]
  },
  {
   "cell_type": "code",
   "execution_count": 84,
   "id": "ceb7b01e27f4e0e8",
   "metadata": {
    "ExecuteTime": {
     "end_time": "2025-02-04T19:46:59.515260Z",
     "start_time": "2025-02-04T19:46:59.488291Z"
    },
    "collapsed": false
   },
   "outputs": [],
   "source": [
    "redundancies = {n: compute_redundancy(M[n], n, V) for n in range(3)}"
   ]
  },
  {
   "cell_type": "code",
   "execution_count": 85,
   "id": "118887c330ceb10f",
   "metadata": {
    "ExecuteTime": {
     "end_time": "2025-02-04T19:47:00.477367Z",
     "start_time": "2025-02-04T19:47:00.443261Z"
    },
    "collapsed": false
   },
   "outputs": [
    {
     "data": {
      "text/plain": [
       "{0: 0.30901805293509155, 1: 0.44681094038512525, 2: 0.5876973150492535}"
      ]
     },
     "execution_count": 85,
     "metadata": {},
     "output_type": "execute_result"
    }
   ],
   "source": [
    "redundancies"
   ]
  },
  {
   "cell_type": "markdown",
   "id": "a39ed18427dca5b3",
   "metadata": {
    "collapsed": false
   },
   "source": [
    "### As the choice of n-gram size increases, the model redundancy also inreases."
   ]
  },
  {
   "cell_type": "code",
   "execution_count": null,
   "id": "4ab2e25da5c446d9",
   "metadata": {
    "collapsed": false
   },
   "outputs": [],
   "source": []
  }
 ],
 "metadata": {
  "kernelspec": {
   "display_name": "Python 3 (ipykernel)",
   "language": "python",
   "name": "python3"
  },
  "language_info": {
   "codemirror_mode": {
    "name": "ipython",
    "version": 3
   },
   "file_extension": ".py",
   "mimetype": "text/x-python",
   "name": "python",
   "nbconvert_exporter": "python",
   "pygments_lexer": "ipython3",
   "version": "3.11.7"
  }
 },
 "nbformat": 4,
 "nbformat_minor": 5
}
