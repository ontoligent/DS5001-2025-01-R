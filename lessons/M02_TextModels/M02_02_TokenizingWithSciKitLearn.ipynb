{
 "cells": [
  {
   "cell_type": "markdown",
   "metadata": {},
   "source": [
    "# Tokenizing with SciKit Learn\n",
    "\n",
    "DS 5001 Text as Data"
   ]
  },
  {
   "cell_type": "markdown",
   "metadata": {},
   "source": [
    "## Purpose \n",
    "\n",
    "Demonstrate use of SciKit to perform fast tokenization. \n",
    "\n",
    "Note that this method does not preserver tokens per se; it extracts types and counts instances of each type (i.e. number of tokens per type)."
   ]
  },
  {
   "cell_type": "markdown",
   "metadata": {
    "editable": true,
    "slideshow": {
     "slide_type": ""
    },
    "tags": []
   },
   "source": [
    "## Set Up"
   ]
  },
  {
   "cell_type": "code",
   "execution_count": 1,
   "metadata": {
    "ExecuteTime": {
     "end_time": "2025-01-30T21:06:25.431971Z",
     "start_time": "2025-01-30T21:06:24.943594Z"
    }
   },
   "outputs": [],
   "source": [
    "import pandas as pd\n",
    "from sklearn.feature_extraction.text import CountVectorizer\n",
    "import seaborn as sns"
   ]
  },
  {
   "cell_type": "code",
   "execution_count": 2,
   "metadata": {
    "editable": true,
    "slideshow": {
     "slide_type": ""
    },
    "tags": [],
    "ExecuteTime": {
     "end_time": "2025-01-30T21:06:25.437115Z",
     "start_time": "2025-01-30T21:06:25.432694Z"
    }
   },
   "outputs": [],
   "source": [
    "sns.set()"
   ]
  },
  {
   "cell_type": "markdown",
   "metadata": {},
   "source": [
    "## Import Config"
   ]
  },
  {
   "cell_type": "code",
   "execution_count": 3,
   "metadata": {
    "editable": true,
    "slideshow": {
     "slide_type": ""
    },
    "tags": [],
    "ExecuteTime": {
     "end_time": "2025-01-30T21:06:25.442683Z",
     "start_time": "2025-01-30T21:06:25.435441Z"
    }
   },
   "outputs": [],
   "source": [
    "import configparser\n",
    "config = configparser.ConfigParser()"
   ]
  },
  {
   "cell_type": "code",
   "execution_count": 4,
   "metadata": {
    "editable": true,
    "slideshow": {
     "slide_type": ""
    },
    "tags": [],
    "ExecuteTime": {
     "end_time": "2025-01-30T21:06:25.444219Z",
     "start_time": "2025-01-30T21:06:25.438972Z"
    }
   },
   "outputs": [],
   "source": [
    "config.read(\"../../../env.ini\")\n",
    "data_home = config['DEFAULT']['data_home']"
   ]
  },
  {
   "cell_type": "code",
   "execution_count": 5,
   "metadata": {
    "ExecuteTime": {
     "end_time": "2025-01-30T21:06:25.450019Z",
     "start_time": "2025-01-30T21:06:25.444470Z"
    }
   },
   "outputs": [],
   "source": [
    "text_file = f\"{data_home}/gutenberg/pg105.txt\""
   ]
  },
  {
   "cell_type": "markdown",
   "metadata": {},
   "source": [
    "## Import text"
   ]
  },
  {
   "cell_type": "markdown",
   "metadata": {},
   "source": [
    "Import source file"
   ]
  },
  {
   "cell_type": "code",
   "execution_count": 6,
   "metadata": {
    "ExecuteTime": {
     "end_time": "2025-01-30T21:06:25.472538Z",
     "start_time": "2025-01-30T21:06:25.450112Z"
    }
   },
   "outputs": [],
   "source": [
    "docs = pd.DataFrame(dict(doc_str=open(text_file, 'r').read().split('\\n\\n')))"
   ]
  },
  {
   "cell_type": "markdown",
   "metadata": {},
   "source": [
    "Define lines where text begins and ends"
   ]
  },
  {
   "cell_type": "code",
   "execution_count": 7,
   "metadata": {
    "ExecuteTime": {
     "end_time": "2025-01-30T21:06:25.473480Z",
     "start_time": "2025-01-30T21:06:25.459717Z"
    }
   },
   "outputs": [],
   "source": [
    "a = docs[docs.doc_str.str.contains(\"1818\")].index.values[0]\n",
    "b = docs[docs.doc_str.str.contains(\"Finis\")].index.values[0]"
   ]
  },
  {
   "cell_type": "markdown",
   "metadata": {},
   "source": [
    "Select only relevant text"
   ]
  },
  {
   "cell_type": "code",
   "execution_count": 8,
   "metadata": {
    "ExecuteTime": {
     "end_time": "2025-01-30T21:06:25.474522Z",
     "start_time": "2025-01-30T21:06:25.464026Z"
    }
   },
   "outputs": [],
   "source": [
    "docs = docs[(docs.index > a) & (docs.index < b)]"
   ]
  },
  {
   "cell_type": "markdown",
   "metadata": {},
   "source": [
    "Clean up strings"
   ]
  },
  {
   "cell_type": "code",
   "execution_count": 9,
   "metadata": {
    "ExecuteTime": {
     "end_time": "2025-01-30T21:06:25.483868Z",
     "start_time": "2025-01-30T21:06:25.474730Z"
    }
   },
   "outputs": [],
   "source": [
    "docs.doc_str = docs.doc_str.str.replace(r\"\\n+\", \" \", regex=True)"
   ]
  },
  {
   "cell_type": "markdown",
   "metadata": {},
   "source": [
    "Remove blank lines"
   ]
  },
  {
   "cell_type": "code",
   "execution_count": 10,
   "metadata": {
    "ExecuteTime": {
     "end_time": "2025-01-30T21:06:25.508198Z",
     "start_time": "2025-01-30T21:06:25.478188Z"
    }
   },
   "outputs": [],
   "source": [
    "docs = docs[docs.doc_str != '']"
   ]
  },
  {
   "cell_type": "markdown",
   "metadata": {},
   "source": [
    "Create index"
   ]
  },
  {
   "cell_type": "code",
   "execution_count": 11,
   "metadata": {
    "ExecuteTime": {
     "end_time": "2025-01-30T21:06:25.508931Z",
     "start_time": "2025-01-30T21:06:25.483661Z"
    }
   },
   "outputs": [],
   "source": [
    "docs = docs.reset_index(drop=True)\n",
    "docs.index.name = 'doc_id' "
   ]
  },
  {
   "cell_type": "markdown",
   "metadata": {},
   "source": [
    "Inspect results.\n",
    "\n",
    "Note that the \"docs\" are paragraphs."
   ]
  },
  {
   "cell_type": "code",
   "execution_count": 12,
   "metadata": {
    "ExecuteTime": {
     "end_time": "2025-01-30T21:06:25.528821Z",
     "start_time": "2025-01-30T21:06:25.488336Z"
    }
   },
   "outputs": [
    {
     "data": {
      "text/plain": "                                                  doc_str\ndoc_id                                                   \n0                                               Chapter 1\n1        Sir Walter Elliot, of Kellynch Hall, in Somer...\n2                               \"ELLIOT OF KELLYNCH HALL.\n3       \"Walter Elliot, born March 1, 1760, married, J...\n4       Precisely such had the paragraph originally st...\n...                                                   ...\n1025    Mrs Clay's affections had overpowered her inte...\n1026    It cannot be doubted that Sir Walter and Eliza...\n1027    Anne, satisfied at a very early period of Lady...\n1028    Her recent good offices by Anne had been enoug...\n1029    Mrs Smith's enjoyments were not spoiled by thi...\n\n[1030 rows x 1 columns]",
      "text/html": "<div>\n<style scoped>\n    .dataframe tbody tr th:only-of-type {\n        vertical-align: middle;\n    }\n\n    .dataframe tbody tr th {\n        vertical-align: top;\n    }\n\n    .dataframe thead th {\n        text-align: right;\n    }\n</style>\n<table border=\"1\" class=\"dataframe\">\n  <thead>\n    <tr style=\"text-align: right;\">\n      <th></th>\n      <th>doc_str</th>\n    </tr>\n    <tr>\n      <th>doc_id</th>\n      <th></th>\n    </tr>\n  </thead>\n  <tbody>\n    <tr>\n      <th>0</th>\n      <td>Chapter 1</td>\n    </tr>\n    <tr>\n      <th>1</th>\n      <td>Sir Walter Elliot, of Kellynch Hall, in Somer...</td>\n    </tr>\n    <tr>\n      <th>2</th>\n      <td>\"ELLIOT OF KELLYNCH HALL.</td>\n    </tr>\n    <tr>\n      <th>3</th>\n      <td>\"Walter Elliot, born March 1, 1760, married, J...</td>\n    </tr>\n    <tr>\n      <th>4</th>\n      <td>Precisely such had the paragraph originally st...</td>\n    </tr>\n    <tr>\n      <th>...</th>\n      <td>...</td>\n    </tr>\n    <tr>\n      <th>1025</th>\n      <td>Mrs Clay's affections had overpowered her inte...</td>\n    </tr>\n    <tr>\n      <th>1026</th>\n      <td>It cannot be doubted that Sir Walter and Eliza...</td>\n    </tr>\n    <tr>\n      <th>1027</th>\n      <td>Anne, satisfied at a very early period of Lady...</td>\n    </tr>\n    <tr>\n      <th>1028</th>\n      <td>Her recent good offices by Anne had been enoug...</td>\n    </tr>\n    <tr>\n      <th>1029</th>\n      <td>Mrs Smith's enjoyments were not spoiled by thi...</td>\n    </tr>\n  </tbody>\n</table>\n<p>1030 rows × 1 columns</p>\n</div>"
     },
     "execution_count": 12,
     "metadata": {},
     "output_type": "execute_result"
    }
   ],
   "source": [
    "docs"
   ]
  },
  {
   "cell_type": "markdown",
   "metadata": {},
   "source": [
    "## Vectorize Corpus\n",
    "\n",
    "We use SciKit Learn's `CountVectorizer()` method, which as the following signature:\n",
    "\n",
    "```\n",
    "CountVectorizer(\n",
    "    input='content',\n",
    "    encoding='utf-8',\n",
    "    decode_error='strict',\n",
    "    strip_accents=None,\n",
    "    lowercase=True,\n",
    "    preprocessor=None,\n",
    "    tokenizer=None,\n",
    "    stop_words=None,\n",
    "    token_pattern='(?u)\\\\b\\\\w\\\\w+\\\\b',\n",
    "    ngram_range=(1, 1),\n",
    "    analyzer='word',\n",
    "    max_df=1.0,\n",
    "    min_df=1,\n",
    "    max_features=None,\n",
    "    vocabulary=None,\n",
    "    binary=False,\n",
    "    dtype=<class 'numpy.int64'>,\n",
    ")\n",
    "```\n",
    "\n",
    "This the doctring from the function:\n",
    "\n",
    ">Convert a collection of text documents to a matrix of token counts <br/><br/>\n",
    "This implementation produces a sparse representation of the counts using\n",
    "scipy.sparse.csr_matrix. <br/><br/>\n",
    "If you do not provide an a-priori dictionary and you do not use an analyzer\n",
    "that does some kind of feature selection then the number of features will\n",
    "be equal to the vocabulary size found by analyzing the data. <br/><br/>\n",
    "Read more in the `User Guide <text_feature_extraction>`.\n"
   ]
  },
  {
   "cell_type": "code",
   "execution_count": 13,
   "metadata": {
    "ExecuteTime": {
     "end_time": "2025-01-30T21:06:25.574654Z",
     "start_time": "2025-01-30T21:06:25.496235Z"
    }
   },
   "outputs": [],
   "source": [
    "engine = CountVectorizer()\n",
    "model = engine.fit_transform(docs.doc_str)"
   ]
  },
  {
   "cell_type": "markdown",
   "metadata": {},
   "source": [
    "## Extract Count Matrix\n",
    "The engine provides a list of terms ..."
   ]
  },
  {
   "cell_type": "code",
   "execution_count": 14,
   "metadata": {
    "ExecuteTime": {
     "end_time": "2025-01-30T21:06:25.576180Z",
     "start_time": "2025-01-30T21:06:25.554510Z"
    }
   },
   "outputs": [],
   "source": [
    "V = engine.get_feature_names_out()"
   ]
  },
  {
   "cell_type": "code",
   "execution_count": 15,
   "metadata": {
    "ExecuteTime": {
     "end_time": "2025-01-30T21:06:25.671729Z",
     "start_time": "2025-01-30T21:06:25.559258Z"
    }
   },
   "outputs": [],
   "source": [
    "X = pd.DataFrame(model.toarray(), columns=V)\n",
    "X.index.name = 'doc_id'"
   ]
  },
  {
   "cell_type": "code",
   "execution_count": 16,
   "metadata": {
    "ExecuteTime": {
     "end_time": "2025-01-30T21:06:25.673510Z",
     "start_time": "2025-01-30T21:06:25.576802Z"
    }
   },
   "outputs": [
    {
     "data": {
      "text/plain": "(1030, 5751)"
     },
     "execution_count": 16,
     "metadata": {},
     "output_type": "execute_result"
    }
   ],
   "source": [
    "X.shape"
   ]
  },
  {
   "cell_type": "code",
   "execution_count": 17,
   "metadata": {
    "ExecuteTime": {
     "end_time": "2025-01-30T21:06:25.675037Z",
     "start_time": "2025-01-30T21:06:25.581495Z"
    }
   },
   "outputs": [
    {
     "data": {
      "text/plain": "        10  11  12  13  14  15  16  17  1760  1784  ...  younker  your  yours  \\\ndoc_id                                              ...                         \n0        0   0   0   0   0   0   0   0     0     0  ...        0     0      0   \n1        0   0   0   0   0   0   0   0     0     0  ...        0     0      0   \n2        0   0   0   0   0   0   0   0     0     0  ...        0     0      0   \n3        0   0   0   0   0   1   0   0     1     1  ...        0     0      0   \n4        0   0   0   0   0   0   1   0     0     0  ...        0     0      0   \n...     ..  ..  ..  ..  ..  ..  ..  ..   ...   ...  ...      ...   ...    ...   \n1025     0   0   0   0   0   0   0   0     0     0  ...        0     0      0   \n1026     0   0   0   0   0   0   0   0     0     0  ...        0     0      0   \n1027     0   0   0   0   0   0   0   0     0     0  ...        0     0      0   \n1028     0   0   0   0   0   0   0   0     0     0  ...        0     0      0   \n1029     0   0   0   0   0   0   0   0     0     0  ...        0     0      0   \n\n        yourself  yourselves  youth  youthful  zeal  zealous  zealously  \ndoc_id                                                                   \n0              0           0      0         0     0        0          0  \n1              0           0      0         0     0        0          0  \n2              0           0      0         0     0        0          0  \n3              0           0      0         0     0        0          0  \n4              0           0      0         0     0        0          0  \n...          ...         ...    ...       ...   ...      ...        ...  \n1025           0           0      0         0     0        0          0  \n1026           0           0      0         0     0        0          0  \n1027           0           0      0         0     0        0          0  \n1028           0           0      0         0     0        0          0  \n1029           0           0      0         0     0        0          0  \n\n[1030 rows x 5751 columns]",
      "text/html": "<div>\n<style scoped>\n    .dataframe tbody tr th:only-of-type {\n        vertical-align: middle;\n    }\n\n    .dataframe tbody tr th {\n        vertical-align: top;\n    }\n\n    .dataframe thead th {\n        text-align: right;\n    }\n</style>\n<table border=\"1\" class=\"dataframe\">\n  <thead>\n    <tr style=\"text-align: right;\">\n      <th></th>\n      <th>10</th>\n      <th>11</th>\n      <th>12</th>\n      <th>13</th>\n      <th>14</th>\n      <th>15</th>\n      <th>16</th>\n      <th>17</th>\n      <th>1760</th>\n      <th>1784</th>\n      <th>...</th>\n      <th>younker</th>\n      <th>your</th>\n      <th>yours</th>\n      <th>yourself</th>\n      <th>yourselves</th>\n      <th>youth</th>\n      <th>youthful</th>\n      <th>zeal</th>\n      <th>zealous</th>\n      <th>zealously</th>\n    </tr>\n    <tr>\n      <th>doc_id</th>\n      <th></th>\n      <th></th>\n      <th></th>\n      <th></th>\n      <th></th>\n      <th></th>\n      <th></th>\n      <th></th>\n      <th></th>\n      <th></th>\n      <th></th>\n      <th></th>\n      <th></th>\n      <th></th>\n      <th></th>\n      <th></th>\n      <th></th>\n      <th></th>\n      <th></th>\n      <th></th>\n      <th></th>\n    </tr>\n  </thead>\n  <tbody>\n    <tr>\n      <th>0</th>\n      <td>0</td>\n      <td>0</td>\n      <td>0</td>\n      <td>0</td>\n      <td>0</td>\n      <td>0</td>\n      <td>0</td>\n      <td>0</td>\n      <td>0</td>\n      <td>0</td>\n      <td>...</td>\n      <td>0</td>\n      <td>0</td>\n      <td>0</td>\n      <td>0</td>\n      <td>0</td>\n      <td>0</td>\n      <td>0</td>\n      <td>0</td>\n      <td>0</td>\n      <td>0</td>\n    </tr>\n    <tr>\n      <th>1</th>\n      <td>0</td>\n      <td>0</td>\n      <td>0</td>\n      <td>0</td>\n      <td>0</td>\n      <td>0</td>\n      <td>0</td>\n      <td>0</td>\n      <td>0</td>\n      <td>0</td>\n      <td>...</td>\n      <td>0</td>\n      <td>0</td>\n      <td>0</td>\n      <td>0</td>\n      <td>0</td>\n      <td>0</td>\n      <td>0</td>\n      <td>0</td>\n      <td>0</td>\n      <td>0</td>\n    </tr>\n    <tr>\n      <th>2</th>\n      <td>0</td>\n      <td>0</td>\n      <td>0</td>\n      <td>0</td>\n      <td>0</td>\n      <td>0</td>\n      <td>0</td>\n      <td>0</td>\n      <td>0</td>\n      <td>0</td>\n      <td>...</td>\n      <td>0</td>\n      <td>0</td>\n      <td>0</td>\n      <td>0</td>\n      <td>0</td>\n      <td>0</td>\n      <td>0</td>\n      <td>0</td>\n      <td>0</td>\n      <td>0</td>\n    </tr>\n    <tr>\n      <th>3</th>\n      <td>0</td>\n      <td>0</td>\n      <td>0</td>\n      <td>0</td>\n      <td>0</td>\n      <td>1</td>\n      <td>0</td>\n      <td>0</td>\n      <td>1</td>\n      <td>1</td>\n      <td>...</td>\n      <td>0</td>\n      <td>0</td>\n      <td>0</td>\n      <td>0</td>\n      <td>0</td>\n      <td>0</td>\n      <td>0</td>\n      <td>0</td>\n      <td>0</td>\n      <td>0</td>\n    </tr>\n    <tr>\n      <th>4</th>\n      <td>0</td>\n      <td>0</td>\n      <td>0</td>\n      <td>0</td>\n      <td>0</td>\n      <td>0</td>\n      <td>1</td>\n      <td>0</td>\n      <td>0</td>\n      <td>0</td>\n      <td>...</td>\n      <td>0</td>\n      <td>0</td>\n      <td>0</td>\n      <td>0</td>\n      <td>0</td>\n      <td>0</td>\n      <td>0</td>\n      <td>0</td>\n      <td>0</td>\n      <td>0</td>\n    </tr>\n    <tr>\n      <th>...</th>\n      <td>...</td>\n      <td>...</td>\n      <td>...</td>\n      <td>...</td>\n      <td>...</td>\n      <td>...</td>\n      <td>...</td>\n      <td>...</td>\n      <td>...</td>\n      <td>...</td>\n      <td>...</td>\n      <td>...</td>\n      <td>...</td>\n      <td>...</td>\n      <td>...</td>\n      <td>...</td>\n      <td>...</td>\n      <td>...</td>\n      <td>...</td>\n      <td>...</td>\n      <td>...</td>\n    </tr>\n    <tr>\n      <th>1025</th>\n      <td>0</td>\n      <td>0</td>\n      <td>0</td>\n      <td>0</td>\n      <td>0</td>\n      <td>0</td>\n      <td>0</td>\n      <td>0</td>\n      <td>0</td>\n      <td>0</td>\n      <td>...</td>\n      <td>0</td>\n      <td>0</td>\n      <td>0</td>\n      <td>0</td>\n      <td>0</td>\n      <td>0</td>\n      <td>0</td>\n      <td>0</td>\n      <td>0</td>\n      <td>0</td>\n    </tr>\n    <tr>\n      <th>1026</th>\n      <td>0</td>\n      <td>0</td>\n      <td>0</td>\n      <td>0</td>\n      <td>0</td>\n      <td>0</td>\n      <td>0</td>\n      <td>0</td>\n      <td>0</td>\n      <td>0</td>\n      <td>...</td>\n      <td>0</td>\n      <td>0</td>\n      <td>0</td>\n      <td>0</td>\n      <td>0</td>\n      <td>0</td>\n      <td>0</td>\n      <td>0</td>\n      <td>0</td>\n      <td>0</td>\n    </tr>\n    <tr>\n      <th>1027</th>\n      <td>0</td>\n      <td>0</td>\n      <td>0</td>\n      <td>0</td>\n      <td>0</td>\n      <td>0</td>\n      <td>0</td>\n      <td>0</td>\n      <td>0</td>\n      <td>0</td>\n      <td>...</td>\n      <td>0</td>\n      <td>0</td>\n      <td>0</td>\n      <td>0</td>\n      <td>0</td>\n      <td>0</td>\n      <td>0</td>\n      <td>0</td>\n      <td>0</td>\n      <td>0</td>\n    </tr>\n    <tr>\n      <th>1028</th>\n      <td>0</td>\n      <td>0</td>\n      <td>0</td>\n      <td>0</td>\n      <td>0</td>\n      <td>0</td>\n      <td>0</td>\n      <td>0</td>\n      <td>0</td>\n      <td>0</td>\n      <td>...</td>\n      <td>0</td>\n      <td>0</td>\n      <td>0</td>\n      <td>0</td>\n      <td>0</td>\n      <td>0</td>\n      <td>0</td>\n      <td>0</td>\n      <td>0</td>\n      <td>0</td>\n    </tr>\n    <tr>\n      <th>1029</th>\n      <td>0</td>\n      <td>0</td>\n      <td>0</td>\n      <td>0</td>\n      <td>0</td>\n      <td>0</td>\n      <td>0</td>\n      <td>0</td>\n      <td>0</td>\n      <td>0</td>\n      <td>...</td>\n      <td>0</td>\n      <td>0</td>\n      <td>0</td>\n      <td>0</td>\n      <td>0</td>\n      <td>0</td>\n      <td>0</td>\n      <td>0</td>\n      <td>0</td>\n      <td>0</td>\n    </tr>\n  </tbody>\n</table>\n<p>1030 rows × 5751 columns</p>\n</div>"
     },
     "execution_count": 17,
     "metadata": {},
     "output_type": "execute_result"
    }
   ],
   "source": [
    "X"
   ]
  },
  {
   "cell_type": "markdown",
   "metadata": {
    "tags": []
   },
   "source": [
    "## Extract Vocabulary\n",
    "But, it's better to get the list and the counts to create a vocabulary table."
   ]
  },
  {
   "cell_type": "code",
   "execution_count": 18,
   "metadata": {
    "ExecuteTime": {
     "end_time": "2025-01-30T21:06:25.859416Z",
     "start_time": "2025-01-30T21:06:25.595056Z"
    }
   },
   "outputs": [],
   "source": [
    "V = X.sum().to_frame('n')\n",
    "V.index.name = 'term_str'"
   ]
  },
  {
   "cell_type": "code",
   "execution_count": 19,
   "metadata": {
    "ExecuteTime": {
     "end_time": "2025-01-30T21:06:25.862601Z",
     "start_time": "2025-01-30T21:06:25.610502Z"
    }
   },
   "outputs": [
    {
     "data": {
      "text/plain": "            n\nterm_str     \n10          1\n11          1\n12          1\n13          1\n14          1\n...        ..\nyouth      15\nyouthful    1\nzeal        5\nzealous     2\nzealously   1\n\n[5751 rows x 1 columns]",
      "text/html": "<div>\n<style scoped>\n    .dataframe tbody tr th:only-of-type {\n        vertical-align: middle;\n    }\n\n    .dataframe tbody tr th {\n        vertical-align: top;\n    }\n\n    .dataframe thead th {\n        text-align: right;\n    }\n</style>\n<table border=\"1\" class=\"dataframe\">\n  <thead>\n    <tr style=\"text-align: right;\">\n      <th></th>\n      <th>n</th>\n    </tr>\n    <tr>\n      <th>term_str</th>\n      <th></th>\n    </tr>\n  </thead>\n  <tbody>\n    <tr>\n      <th>10</th>\n      <td>1</td>\n    </tr>\n    <tr>\n      <th>11</th>\n      <td>1</td>\n    </tr>\n    <tr>\n      <th>12</th>\n      <td>1</td>\n    </tr>\n    <tr>\n      <th>13</th>\n      <td>1</td>\n    </tr>\n    <tr>\n      <th>14</th>\n      <td>1</td>\n    </tr>\n    <tr>\n      <th>...</th>\n      <td>...</td>\n    </tr>\n    <tr>\n      <th>youth</th>\n      <td>15</td>\n    </tr>\n    <tr>\n      <th>youthful</th>\n      <td>1</td>\n    </tr>\n    <tr>\n      <th>zeal</th>\n      <td>5</td>\n    </tr>\n    <tr>\n      <th>zealous</th>\n      <td>2</td>\n    </tr>\n    <tr>\n      <th>zealously</th>\n      <td>1</td>\n    </tr>\n  </tbody>\n</table>\n<p>5751 rows × 1 columns</p>\n</div>"
     },
     "execution_count": 19,
     "metadata": {},
     "output_type": "execute_result"
    }
   ],
   "source": [
    "V"
   ]
  },
  {
   "cell_type": "markdown",
   "metadata": {},
   "source": [
    "## Show Stats"
   ]
  },
  {
   "cell_type": "code",
   "execution_count": 20,
   "metadata": {
    "ExecuteTime": {
     "end_time": "2025-01-30T21:06:26.337204Z",
     "start_time": "2025-01-30T21:06:25.615354Z"
    }
   },
   "outputs": [
    {
     "data": {
      "text/plain": "<Figure size 1000x1000 with 1 Axes>",
      "image/png": "[encoded data removed]"
     },
     "metadata": {},
     "output_type": "display_data"
    }
   ],
   "source": [
    "V.sort_values('n').tail(20).plot.barh(figsize=(10,10));"
   ]
  },
  {
   "cell_type": "markdown",
   "metadata": {},
   "source": [
    "## Look at Documents"
   ]
  },
  {
   "cell_type": "code",
   "execution_count": 21,
   "metadata": {
    "ExecuteTime": {
     "end_time": "2025-01-30T21:06:26.337804Z",
     "start_time": "2025-01-30T21:06:26.093674Z"
    }
   },
   "outputs": [],
   "source": [
    "D = X.sum(1).to_frame('n')"
   ]
  },
  {
   "cell_type": "code",
   "execution_count": 22,
   "metadata": {
    "ExecuteTime": {
     "end_time": "2025-01-30T21:06:26.338543Z",
     "start_time": "2025-01-30T21:06:26.102350Z"
    }
   },
   "outputs": [
    {
     "data": {
      "text/plain": "          n\ndoc_id     \n0         1\n1       111\n2         4\n3        50\n4        71\n...     ...\n1025     76\n1026     64\n1027    221\n1028     96\n1029    167\n\n[1030 rows x 1 columns]",
      "text/html": "<div>\n<style scoped>\n    .dataframe tbody tr th:only-of-type {\n        vertical-align: middle;\n    }\n\n    .dataframe tbody tr th {\n        vertical-align: top;\n    }\n\n    .dataframe thead th {\n        text-align: right;\n    }\n</style>\n<table border=\"1\" class=\"dataframe\">\n  <thead>\n    <tr style=\"text-align: right;\">\n      <th></th>\n      <th>n</th>\n    </tr>\n    <tr>\n      <th>doc_id</th>\n      <th></th>\n    </tr>\n  </thead>\n  <tbody>\n    <tr>\n      <th>0</th>\n      <td>1</td>\n    </tr>\n    <tr>\n      <th>1</th>\n      <td>111</td>\n    </tr>\n    <tr>\n      <th>2</th>\n      <td>4</td>\n    </tr>\n    <tr>\n      <th>3</th>\n      <td>50</td>\n    </tr>\n    <tr>\n      <th>4</th>\n      <td>71</td>\n    </tr>\n    <tr>\n      <th>...</th>\n      <td>...</td>\n    </tr>\n    <tr>\n      <th>1025</th>\n      <td>76</td>\n    </tr>\n    <tr>\n      <th>1026</th>\n      <td>64</td>\n    </tr>\n    <tr>\n      <th>1027</th>\n      <td>221</td>\n    </tr>\n    <tr>\n      <th>1028</th>\n      <td>96</td>\n    </tr>\n    <tr>\n      <th>1029</th>\n      <td>167</td>\n    </tr>\n  </tbody>\n</table>\n<p>1030 rows × 1 columns</p>\n</div>"
     },
     "execution_count": 22,
     "metadata": {},
     "output_type": "execute_result"
    }
   ],
   "source": [
    "D"
   ]
  },
  {
   "cell_type": "code",
   "execution_count": 23,
   "metadata": {
    "ExecuteTime": {
     "end_time": "2025-01-30T21:06:26.515515Z",
     "start_time": "2025-01-30T21:06:26.118130Z"
    }
   },
   "outputs": [
    {
     "data": {
      "text/plain": "                 n\ncount  1030.000000\nmean     78.564078\nstd      68.798485\nmin       1.000000\n25%      28.000000\n50%      60.000000\n75%     109.750000\nmax     479.000000",
      "text/html": "<div>\n<style scoped>\n    .dataframe tbody tr th:only-of-type {\n        vertical-align: middle;\n    }\n\n    .dataframe tbody tr th {\n        vertical-align: top;\n    }\n\n    .dataframe thead th {\n        text-align: right;\n    }\n</style>\n<table border=\"1\" class=\"dataframe\">\n  <thead>\n    <tr style=\"text-align: right;\">\n      <th></th>\n      <th>n</th>\n    </tr>\n  </thead>\n  <tbody>\n    <tr>\n      <th>count</th>\n      <td>1030.000000</td>\n    </tr>\n    <tr>\n      <th>mean</th>\n      <td>78.564078</td>\n    </tr>\n    <tr>\n      <th>std</th>\n      <td>68.798485</td>\n    </tr>\n    <tr>\n      <th>min</th>\n      <td>1.000000</td>\n    </tr>\n    <tr>\n      <th>25%</th>\n      <td>28.000000</td>\n    </tr>\n    <tr>\n      <th>50%</th>\n      <td>60.000000</td>\n    </tr>\n    <tr>\n      <th>75%</th>\n      <td>109.750000</td>\n    </tr>\n    <tr>\n      <th>max</th>\n      <td>479.000000</td>\n    </tr>\n  </tbody>\n</table>\n</div>"
     },
     "execution_count": 23,
     "metadata": {},
     "output_type": "execute_result"
    }
   ],
   "source": [
    "D.describe()"
   ]
  },
  {
   "cell_type": "code",
   "execution_count": 24,
   "metadata": {
    "tags": [],
    "ExecuteTime": {
     "end_time": "2025-01-30T21:06:26.591264Z",
     "start_time": "2025-01-30T21:06:26.153733Z"
    }
   },
   "outputs": [
    {
     "data": {
      "text/plain": "<Figure size 640x480 with 1 Axes>",
      "image/png": "[encoded data removed]"
     },
     "metadata": {},
     "output_type": "display_data"
    }
   ],
   "source": [
    "D.plot.hist();"
   ]
  },
  {
   "cell_type": "code",
   "execution_count": 24,
   "metadata": {
    "ExecuteTime": {
     "end_time": "2025-01-30T21:06:26.592222Z",
     "start_time": "2025-01-30T21:06:26.404963Z"
    }
   },
   "outputs": [],
   "source": []
  }
 ],
 "metadata": {
  "kernelspec": {
   "display_name": "Python 3",
   "language": "python",
   "name": "python3"
  },
  "language_info": {
   "codemirror_mode": {
    "name": "ipython",
    "version": 3
   },
   "file_extension": ".py",
   "mimetype": "text/x-python",
   "name": "python",
   "nbconvert_exporter": "python",
   "pygments_lexer": "ipython3",
   "version": "3.11.4"
  },
  "latex_envs": {
   "LaTeX_envs_menu_present": true,
   "autoclose": false,
   "autocomplete": true,
   "bibliofile": "biblio.bib",
   "cite_by": "apalike",
   "current_citInitial": 1,
   "eqLabelWithNumbers": true,
   "eqNumInitial": 1,
   "hotkeys": {
    "equation": "Ctrl-E",
    "itemize": "Ctrl-I"
   },
   "labels_anchors": false,
   "latex_user_defs": false,
   "report_style_numbering": false,
   "user_envs_cfg": false
  },
  "toc": {
   "base_numbering": 1,
   "nav_menu": {},
   "number_sections": true,
   "sideBar": true,
   "skip_h1_title": true,
   "title_cell": "Table of Contents",
   "title_sidebar": "Contents",
   "toc_cell": false,
   "toc_position": {},
   "toc_section_display": true,
   "toc_window_display": true
  },
  "varInspector": {
   "cols": {
    "lenName": 16,
    "lenType": 16,
    "lenVar": 40
   },
   "kernels_config": {
    "python": {
     "delete_cmd_postfix": "",
     "delete_cmd_prefix": "del ",
     "library": "var_list.py",
     "varRefreshCmd": "print(var_dic_list())"
    },
    "r": {
     "delete_cmd_postfix": ") ",
     "delete_cmd_prefix": "rm(",
     "library": "var_list.r",
     "varRefreshCmd": "cat(var_dic_list()) "
    }
   },
   "types_to_exclude": [
    "module",
    "function",
    "builtin_function_or_method",
    "instance",
    "_Feature"
   ],
   "window_display": false
  },
  "widgets": {
   "application/vnd.jupyter.widget-state+json": {
    "state": {},
    "version_major": 2,
    "version_minor": 0
   }
  }
 },
 "nbformat": 4,
 "nbformat_minor": 4
}
