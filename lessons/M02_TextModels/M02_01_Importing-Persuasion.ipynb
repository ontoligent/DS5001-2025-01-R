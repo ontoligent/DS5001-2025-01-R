{
 "cells": [
  {
   "cell_type": "markdown",
   "metadata": {
    "editable": true,
    "slideshow": {
     "slide_type": ""
    },
    "tags": []
   },
   "source": [
    "# Text into Data\n",
    "\n",
    "DS 5001 Text as Data"
   ]
  },
  {
   "cell_type": "markdown",
   "metadata": {},
   "source": [
    "## Purpose\n",
    "\n",
    "Ww import a text using the  **Clip, Chunk, and Split pattern**.\n",
    "\n",
    "Demonstrate how to tokenize a raw text and map an OHCO onto the resulting dataframe of tokens.\n",
    "\n",
    "This goes beyond what we did last week in the First Foray notebook. We capture the chapter, paragraph, and sentence structure of the text."
   ]
  },
  {
   "cell_type": "markdown",
   "metadata": {},
   "source": [
    "## Set Up"
   ]
  },
  {
   "cell_type": "markdown",
   "metadata": {},
   "source": [
    "## Import libraries"
   ]
  },
  {
   "cell_type": "code",
   "execution_count": 1,
   "metadata": {
    "ExecuteTime": {
     "end_time": "2025-01-23T21:25:30.191218Z",
     "start_time": "2025-01-23T21:25:29.790796Z"
    }
   },
   "outputs": [],
   "source": [
    "import pandas as pd"
   ]
  },
  {
   "cell_type": "markdown",
   "metadata": {
    "editable": true,
    "slideshow": {
     "slide_type": ""
    },
    "tags": []
   },
   "source": [
    "### Import Config"
   ]
  },
  {
   "cell_type": "code",
   "execution_count": 2,
   "metadata": {
    "editable": true,
    "slideshow": {
     "slide_type": ""
    },
    "tags": [],
    "ExecuteTime": {
     "end_time": "2025-01-23T21:25:30.193857Z",
     "start_time": "2025-01-23T21:25:30.184672Z"
    }
   },
   "outputs": [],
   "source": [
    "import configparser\n",
    "config = configparser.ConfigParser()\n",
    "config.read(\"../../../env.ini\")\n",
    "data_home = config['DEFAULT']['data_home']\n",
    "output_dir = config['DEFAULT']['output_dir']"
   ]
  },
  {
   "cell_type": "code",
   "execution_count": 3,
   "metadata": {
    "editable": true,
    "slideshow": {
     "slide_type": ""
    },
    "tags": [],
    "ExecuteTime": {
     "end_time": "2025-01-23T21:25:30.278834Z",
     "start_time": "2025-01-23T21:25:30.188561Z"
    }
   },
   "outputs": [
    {
     "data": {
      "text/plain": "('/Users/jamessiegener/MSDS/DS5001/data',\n '/Users/jamessiegener/MSDS/DS5001/output')"
     },
     "execution_count": 3,
     "metadata": {},
     "output_type": "execute_result"
    }
   ],
   "source": [
    "data_home, output_dir"
   ]
  },
  {
   "cell_type": "code",
   "execution_count": 4,
   "metadata": {
    "editable": true,
    "slideshow": {
     "slide_type": ""
    },
    "tags": [],
    "ExecuteTime": {
     "end_time": "2025-01-23T21:25:30.287826Z",
     "start_time": "2025-01-23T21:25:30.191988Z"
    }
   },
   "outputs": [],
   "source": [
    "text_file = f\"{data_home}/gutenberg/pg105.txt\"\n",
    "csv_file  = f\"{output_dir}/austen-persuasion.csv\" # The file we will create"
   ]
  },
  {
   "cell_type": "code",
   "execution_count": 5,
   "metadata": {
    "editable": true,
    "slideshow": {
     "slide_type": ""
    },
    "tags": [],
    "ExecuteTime": {
     "end_time": "2025-01-23T21:25:30.290111Z",
     "start_time": "2025-01-23T21:25:30.234073Z"
    }
   },
   "outputs": [],
   "source": [
    "OHCO = ['chap_num', 'para_num', 'sent_num', 'token_num']"
   ]
  },
  {
   "cell_type": "markdown",
   "metadata": {},
   "source": [
    "## Import file into a dataframe"
   ]
  },
  {
   "cell_type": "code",
   "execution_count": 6,
   "metadata": {
    "ExecuteTime": {
     "end_time": "2025-01-23T21:25:30.291311Z",
     "start_time": "2025-01-23T21:25:30.241865Z"
    }
   },
   "outputs": [],
   "source": [
    "LINES = pd.DataFrame(open(text_file, 'r', encoding='utf-8-sig').readlines(), columns=['line_str'])\n",
    "LINES.index.name = 'line_num'\n",
    "LINES.line_str = LINES.line_str.str.replace(r'\\n+', ' ', regex=True).str.strip()"
   ]
  },
  {
   "cell_type": "code",
   "execution_count": 7,
   "metadata": {
    "editable": true,
    "slideshow": {
     "slide_type": ""
    },
    "tags": [],
    "ExecuteTime": {
     "end_time": "2025-01-23T21:25:30.297782Z",
     "start_time": "2025-01-23T21:25:30.246145Z"
    }
   },
   "outputs": [
    {
     "data": {
      "text/plain": "                                                   line_str\nline_num                                                   \n5364                                                       \n6763      'somewhere down in the west,' to use her own w...\n6435                                                       \n2835      time I was in company with him,  I need not af...\n4875      \"Yes,\" sighed Anne, \"we shall, indeed, be know...\n3280      repeated, with such tremulous feeling, the var...\n3414      the window.  It was a gentleman's carriage, a ...\n8566                                                   1.F.\n1526      that related to Kellynch, and it pleased her: ...\n5178      be able to regard you as the future mistress o...\n2537                                 Is he coming, Louisa?\"\n981       preliminary difference to modify of all that \"...\n2282      exceed the accommodations of a man-of-war; I s...\n1130      meeting, so much in the habit of running in an...\n4904      occupying:  a sufficient explanation of what h...\n2334      Musgroves an idea of.  Unintentionally she ret...\n1636      so often, puzzling over past years, and at las...\n8690      considerable effort, much paperwork and many f...\n7015      opportunity of bringing him and Sir Walter tog...\n7721      nor life, to be called your own.  It would be ...",
      "text/html": "<div>\n<style scoped>\n    .dataframe tbody tr th:only-of-type {\n        vertical-align: middle;\n    }\n\n    .dataframe tbody tr th {\n        vertical-align: top;\n    }\n\n    .dataframe thead th {\n        text-align: right;\n    }\n</style>\n<table border=\"1\" class=\"dataframe\">\n  <thead>\n    <tr style=\"text-align: right;\">\n      <th></th>\n      <th>line_str</th>\n    </tr>\n    <tr>\n      <th>line_num</th>\n      <th></th>\n    </tr>\n  </thead>\n  <tbody>\n    <tr>\n      <th>5364</th>\n      <td></td>\n    </tr>\n    <tr>\n      <th>6763</th>\n      <td>'somewhere down in the west,' to use her own w...</td>\n    </tr>\n    <tr>\n      <th>6435</th>\n      <td></td>\n    </tr>\n    <tr>\n      <th>2835</th>\n      <td>time I was in company with him,  I need not af...</td>\n    </tr>\n    <tr>\n      <th>4875</th>\n      <td>\"Yes,\" sighed Anne, \"we shall, indeed, be know...</td>\n    </tr>\n    <tr>\n      <th>3280</th>\n      <td>repeated, with such tremulous feeling, the var...</td>\n    </tr>\n    <tr>\n      <th>3414</th>\n      <td>the window.  It was a gentleman's carriage, a ...</td>\n    </tr>\n    <tr>\n      <th>8566</th>\n      <td>1.F.</td>\n    </tr>\n    <tr>\n      <th>1526</th>\n      <td>that related to Kellynch, and it pleased her: ...</td>\n    </tr>\n    <tr>\n      <th>5178</th>\n      <td>be able to regard you as the future mistress o...</td>\n    </tr>\n    <tr>\n      <th>2537</th>\n      <td>Is he coming, Louisa?\"</td>\n    </tr>\n    <tr>\n      <th>981</th>\n      <td>preliminary difference to modify of all that \"...</td>\n    </tr>\n    <tr>\n      <th>2282</th>\n      <td>exceed the accommodations of a man-of-war; I s...</td>\n    </tr>\n    <tr>\n      <th>1130</th>\n      <td>meeting, so much in the habit of running in an...</td>\n    </tr>\n    <tr>\n      <th>4904</th>\n      <td>occupying:  a sufficient explanation of what h...</td>\n    </tr>\n    <tr>\n      <th>2334</th>\n      <td>Musgroves an idea of.  Unintentionally she ret...</td>\n    </tr>\n    <tr>\n      <th>1636</th>\n      <td>so often, puzzling over past years, and at las...</td>\n    </tr>\n    <tr>\n      <th>8690</th>\n      <td>considerable effort, much paperwork and many f...</td>\n    </tr>\n    <tr>\n      <th>7015</th>\n      <td>opportunity of bringing him and Sir Walter tog...</td>\n    </tr>\n    <tr>\n      <th>7721</th>\n      <td>nor life, to be called your own.  It would be ...</td>\n    </tr>\n  </tbody>\n</table>\n</div>"
     },
     "execution_count": 7,
     "metadata": {},
     "output_type": "execute_result"
    }
   ],
   "source": [
    "LINES.sample(20)"
   ]
  },
  {
   "cell_type": "markdown",
   "metadata": {
    "editable": true,
    "slideshow": {
     "slide_type": ""
    },
    "tags": []
   },
   "source": [
    "## Extract Title "
   ]
  },
  {
   "cell_type": "code",
   "execution_count": 8,
   "metadata": {
    "ExecuteTime": {
     "end_time": "2025-01-23T21:25:30.299205Z",
     "start_time": "2025-01-23T21:25:30.255583Z"
    }
   },
   "outputs": [],
   "source": [
    "title = LINES.loc[0].line_str.replace('The Project Gutenberg EBook of ', '')"
   ]
  },
  {
   "cell_type": "code",
   "execution_count": 9,
   "metadata": {
    "ExecuteTime": {
     "end_time": "2025-01-23T21:25:30.300488Z",
     "start_time": "2025-01-23T21:25:30.259340Z"
    }
   },
   "outputs": [
    {
     "name": "stdout",
     "output_type": "stream",
     "text": [
      "Persuasion, by Jane Austen\n"
     ]
    }
   ],
   "source": [
    "print(title)"
   ]
  },
  {
   "cell_type": "markdown",
   "metadata": {},
   "source": [
    "## Clip the Cruft"
   ]
  },
  {
   "cell_type": "code",
   "execution_count": 10,
   "metadata": {
    "ExecuteTime": {
     "end_time": "2025-01-23T21:25:30.338741Z",
     "start_time": "2025-01-23T21:25:30.263183Z"
    }
   },
   "outputs": [],
   "source": [
    "clip_pats = [\n",
    "    r\"\\*\\*\\*\\s*START OF (?:THE|THIS) PROJECT\",\n",
    "    r\"\\*\\*\\*\\s*END OF (?:THE|THIS) PROJECT\"\n",
    "]"
   ]
  },
  {
   "cell_type": "code",
   "execution_count": 11,
   "metadata": {
    "ExecuteTime": {
     "end_time": "2025-01-23T21:25:30.340099Z",
     "start_time": "2025-01-23T21:25:30.270478Z"
    }
   },
   "outputs": [],
   "source": [
    "pat_a = LINES.line_str.str.match(clip_pats[0])\n",
    "pat_b = LINES.line_str.str.match(clip_pats[1])"
   ]
  },
  {
   "cell_type": "code",
   "execution_count": 12,
   "metadata": {
    "ExecuteTime": {
     "end_time": "2025-01-23T21:25:30.342047Z",
     "start_time": "2025-01-23T21:25:30.275228Z"
    }
   },
   "outputs": [],
   "source": [
    "line_a = LINES.loc[pat_a].index[0] + 1\n",
    "line_b = LINES.loc[pat_b].index[0] - 1"
   ]
  },
  {
   "cell_type": "code",
   "execution_count": 13,
   "metadata": {
    "ExecuteTime": {
     "end_time": "2025-01-23T21:25:30.355453Z",
     "start_time": "2025-01-23T21:25:30.278600Z"
    }
   },
   "outputs": [
    {
     "data": {
      "text/plain": "(19, 8372)"
     },
     "execution_count": 13,
     "metadata": {},
     "output_type": "execute_result"
    }
   ],
   "source": [
    "line_a, line_b"
   ]
  },
  {
   "cell_type": "code",
   "execution_count": 14,
   "metadata": {
    "ExecuteTime": {
     "end_time": "2025-01-23T21:25:30.356851Z",
     "start_time": "2025-01-23T21:25:30.282669Z"
    }
   },
   "outputs": [],
   "source": [
    "LINES = LINES.loc[line_a : line_b]"
   ]
  },
  {
   "cell_type": "code",
   "execution_count": 15,
   "metadata": {
    "ExecuteTime": {
     "end_time": "2025-01-23T21:25:30.371497Z",
     "start_time": "2025-01-23T21:25:30.287394Z"
    }
   },
   "outputs": [
    {
     "data": {
      "text/plain": "                                                   line_str\nline_num                                                   \n19                                                         \n20                                                         \n21                                                         \n22                                                         \n23        Produced by Sharon Partridge and Martin Ward. ...\n24                                            by Al Haines.\n25                                                         \n26                                                         \n27                                                         \n28                                                         ",
      "text/html": "<div>\n<style scoped>\n    .dataframe tbody tr th:only-of-type {\n        vertical-align: middle;\n    }\n\n    .dataframe tbody tr th {\n        vertical-align: top;\n    }\n\n    .dataframe thead th {\n        text-align: right;\n    }\n</style>\n<table border=\"1\" class=\"dataframe\">\n  <thead>\n    <tr style=\"text-align: right;\">\n      <th></th>\n      <th>line_str</th>\n    </tr>\n    <tr>\n      <th>line_num</th>\n      <th></th>\n    </tr>\n  </thead>\n  <tbody>\n    <tr>\n      <th>19</th>\n      <td></td>\n    </tr>\n    <tr>\n      <th>20</th>\n      <td></td>\n    </tr>\n    <tr>\n      <th>21</th>\n      <td></td>\n    </tr>\n    <tr>\n      <th>22</th>\n      <td></td>\n    </tr>\n    <tr>\n      <th>23</th>\n      <td>Produced by Sharon Partridge and Martin Ward. ...</td>\n    </tr>\n    <tr>\n      <th>24</th>\n      <td>by Al Haines.</td>\n    </tr>\n    <tr>\n      <th>25</th>\n      <td></td>\n    </tr>\n    <tr>\n      <th>26</th>\n      <td></td>\n    </tr>\n    <tr>\n      <th>27</th>\n      <td></td>\n    </tr>\n    <tr>\n      <th>28</th>\n      <td></td>\n    </tr>\n  </tbody>\n</table>\n</div>"
     },
     "execution_count": 15,
     "metadata": {},
     "output_type": "execute_result"
    }
   ],
   "source": [
    "LINES.head(10)"
   ]
  },
  {
   "cell_type": "code",
   "execution_count": 16,
   "metadata": {
    "ExecuteTime": {
     "end_time": "2025-01-23T21:25:30.380248Z",
     "start_time": "2025-01-23T21:25:30.291439Z"
    }
   },
   "outputs": [
    {
     "data": {
      "text/plain": "                                                   line_str\nline_num                                                   \n8363                                                       \n8364                                                       \n8365                                                       \n8366                                                       \n8367                                                       \n8368                                                       \n8369                                                       \n8370                                                       \n8371      End of the Project Gutenberg EBook of Persuasi...\n8372                                                       ",
      "text/html": "<div>\n<style scoped>\n    .dataframe tbody tr th:only-of-type {\n        vertical-align: middle;\n    }\n\n    .dataframe tbody tr th {\n        vertical-align: top;\n    }\n\n    .dataframe thead th {\n        text-align: right;\n    }\n</style>\n<table border=\"1\" class=\"dataframe\">\n  <thead>\n    <tr style=\"text-align: right;\">\n      <th></th>\n      <th>line_str</th>\n    </tr>\n    <tr>\n      <th>line_num</th>\n      <th></th>\n    </tr>\n  </thead>\n  <tbody>\n    <tr>\n      <th>8363</th>\n      <td></td>\n    </tr>\n    <tr>\n      <th>8364</th>\n      <td></td>\n    </tr>\n    <tr>\n      <th>8365</th>\n      <td></td>\n    </tr>\n    <tr>\n      <th>8366</th>\n      <td></td>\n    </tr>\n    <tr>\n      <th>8367</th>\n      <td></td>\n    </tr>\n    <tr>\n      <th>8368</th>\n      <td></td>\n    </tr>\n    <tr>\n      <th>8369</th>\n      <td></td>\n    </tr>\n    <tr>\n      <th>8370</th>\n      <td></td>\n    </tr>\n    <tr>\n      <th>8371</th>\n      <td>End of the Project Gutenberg EBook of Persuasi...</td>\n    </tr>\n    <tr>\n      <th>8372</th>\n      <td></td>\n    </tr>\n  </tbody>\n</table>\n</div>"
     },
     "execution_count": 16,
     "metadata": {},
     "output_type": "execute_result"
    }
   ],
   "source": [
    "LINES.tail(10)"
   ]
  },
  {
   "cell_type": "markdown",
   "metadata": {
    "tags": []
   },
   "source": [
    "## Chunk by Chapter"
   ]
  },
  {
   "cell_type": "markdown",
   "metadata": {},
   "source": [
    "### Find all chapter headers\n",
    "\n",
    "The regex will depend on the source text. You need to investigate the source text to figure this out."
   ]
  },
  {
   "cell_type": "code",
   "execution_count": 17,
   "metadata": {
    "ExecuteTime": {
     "end_time": "2025-01-23T21:25:30.381369Z",
     "start_time": "2025-01-23T21:25:30.293793Z"
    }
   },
   "outputs": [],
   "source": [
    "chap_pat = r\"^\\s*(?:chapter|letter)\\s+\\d+\""
   ]
  },
  {
   "cell_type": "code",
   "execution_count": 18,
   "metadata": {
    "ExecuteTime": {
     "end_time": "2025-01-23T21:25:30.386424Z",
     "start_time": "2025-01-23T21:25:30.296222Z"
    }
   },
   "outputs": [],
   "source": [
    "chap_lines = LINES.line_str.str.match(chap_pat, case=False) # Returns a truth vector"
   ]
  },
  {
   "cell_type": "code",
   "execution_count": 19,
   "metadata": {
    "ExecuteTime": {
     "end_time": "2025-01-23T21:25:30.388159Z",
     "start_time": "2025-01-23T21:25:30.303799Z"
    }
   },
   "outputs": [
    {
     "data": {
      "text/plain": "            line_str\nline_num            \n47         Chapter 1\n306        Chapter 2\n500        Chapter 3\n786        Chapter 4\n959        Chapter 5\n1297       Chapter 6\n1657       Chapter 7\n1992       Chapter 8\n2346       Chapter 9\n2632      Chapter 10\n3020      Chapter 11\n3314      Chapter 12\n3876      Chapter 13\n4150      Chapter 14\n4409      Chapter 15\n4677      Chapter 16\n4912      Chapter 17\n5248      Chapter 18\n5654      Chapter 19\n5905      Chapter 20\n6265      Chapter 21\n6970      Chapter 22\n7555      Chapter 23\n8208      Chapter 24",
      "text/html": "<div>\n<style scoped>\n    .dataframe tbody tr th:only-of-type {\n        vertical-align: middle;\n    }\n\n    .dataframe tbody tr th {\n        vertical-align: top;\n    }\n\n    .dataframe thead th {\n        text-align: right;\n    }\n</style>\n<table border=\"1\" class=\"dataframe\">\n  <thead>\n    <tr style=\"text-align: right;\">\n      <th></th>\n      <th>line_str</th>\n    </tr>\n    <tr>\n      <th>line_num</th>\n      <th></th>\n    </tr>\n  </thead>\n  <tbody>\n    <tr>\n      <th>47</th>\n      <td>Chapter 1</td>\n    </tr>\n    <tr>\n      <th>306</th>\n      <td>Chapter 2</td>\n    </tr>\n    <tr>\n      <th>500</th>\n      <td>Chapter 3</td>\n    </tr>\n    <tr>\n      <th>786</th>\n      <td>Chapter 4</td>\n    </tr>\n    <tr>\n      <th>959</th>\n      <td>Chapter 5</td>\n    </tr>\n    <tr>\n      <th>1297</th>\n      <td>Chapter 6</td>\n    </tr>\n    <tr>\n      <th>1657</th>\n      <td>Chapter 7</td>\n    </tr>\n    <tr>\n      <th>1992</th>\n      <td>Chapter 8</td>\n    </tr>\n    <tr>\n      <th>2346</th>\n      <td>Chapter 9</td>\n    </tr>\n    <tr>\n      <th>2632</th>\n      <td>Chapter 10</td>\n    </tr>\n    <tr>\n      <th>3020</th>\n      <td>Chapter 11</td>\n    </tr>\n    <tr>\n      <th>3314</th>\n      <td>Chapter 12</td>\n    </tr>\n    <tr>\n      <th>3876</th>\n      <td>Chapter 13</td>\n    </tr>\n    <tr>\n      <th>4150</th>\n      <td>Chapter 14</td>\n    </tr>\n    <tr>\n      <th>4409</th>\n      <td>Chapter 15</td>\n    </tr>\n    <tr>\n      <th>4677</th>\n      <td>Chapter 16</td>\n    </tr>\n    <tr>\n      <th>4912</th>\n      <td>Chapter 17</td>\n    </tr>\n    <tr>\n      <th>5248</th>\n      <td>Chapter 18</td>\n    </tr>\n    <tr>\n      <th>5654</th>\n      <td>Chapter 19</td>\n    </tr>\n    <tr>\n      <th>5905</th>\n      <td>Chapter 20</td>\n    </tr>\n    <tr>\n      <th>6265</th>\n      <td>Chapter 21</td>\n    </tr>\n    <tr>\n      <th>6970</th>\n      <td>Chapter 22</td>\n    </tr>\n    <tr>\n      <th>7555</th>\n      <td>Chapter 23</td>\n    </tr>\n    <tr>\n      <th>8208</th>\n      <td>Chapter 24</td>\n    </tr>\n  </tbody>\n</table>\n</div>"
     },
     "execution_count": 19,
     "metadata": {},
     "output_type": "execute_result"
    }
   ],
   "source": [
    "LINES.loc[chap_lines] # Use as filter for dataframe"
   ]
  },
  {
   "cell_type": "markdown",
   "metadata": {
    "editable": true,
    "slideshow": {
     "slide_type": ""
    },
    "tags": []
   },
   "source": [
    "### Assign numbers to chapters"
   ]
  },
  {
   "cell_type": "code",
   "execution_count": 20,
   "metadata": {
    "ExecuteTime": {
     "end_time": "2025-01-23T21:25:30.389282Z",
     "start_time": "2025-01-23T21:25:30.306428Z"
    }
   },
   "outputs": [],
   "source": [
    "LINES.loc[chap_lines, 'chap_num'] = [i+1 for i in range(LINES.loc[chap_lines].shape[0])]"
   ]
  },
  {
   "cell_type": "code",
   "execution_count": 21,
   "metadata": {
    "ExecuteTime": {
     "end_time": "2025-01-23T21:25:30.400429Z",
     "start_time": "2025-01-23T21:25:30.312679Z"
    }
   },
   "outputs": [
    {
     "data": {
      "text/plain": "            line_str  chap_num\nline_num                      \n47         Chapter 1       1.0\n306        Chapter 2       2.0\n500        Chapter 3       3.0\n786        Chapter 4       4.0\n959        Chapter 5       5.0\n1297       Chapter 6       6.0\n1657       Chapter 7       7.0\n1992       Chapter 8       8.0\n2346       Chapter 9       9.0\n2632      Chapter 10      10.0\n3020      Chapter 11      11.0\n3314      Chapter 12      12.0\n3876      Chapter 13      13.0\n4150      Chapter 14      14.0\n4409      Chapter 15      15.0\n4677      Chapter 16      16.0\n4912      Chapter 17      17.0\n5248      Chapter 18      18.0\n5654      Chapter 19      19.0\n5905      Chapter 20      20.0\n6265      Chapter 21      21.0\n6970      Chapter 22      22.0\n7555      Chapter 23      23.0\n8208      Chapter 24      24.0",
      "text/html": "<div>\n<style scoped>\n    .dataframe tbody tr th:only-of-type {\n        vertical-align: middle;\n    }\n\n    .dataframe tbody tr th {\n        vertical-align: top;\n    }\n\n    .dataframe thead th {\n        text-align: right;\n    }\n</style>\n<table border=\"1\" class=\"dataframe\">\n  <thead>\n    <tr style=\"text-align: right;\">\n      <th></th>\n      <th>line_str</th>\n      <th>chap_num</th>\n    </tr>\n    <tr>\n      <th>line_num</th>\n      <th></th>\n      <th></th>\n    </tr>\n  </thead>\n  <tbody>\n    <tr>\n      <th>47</th>\n      <td>Chapter 1</td>\n      <td>1.0</td>\n    </tr>\n    <tr>\n      <th>306</th>\n      <td>Chapter 2</td>\n      <td>2.0</td>\n    </tr>\n    <tr>\n      <th>500</th>\n      <td>Chapter 3</td>\n      <td>3.0</td>\n    </tr>\n    <tr>\n      <th>786</th>\n      <td>Chapter 4</td>\n      <td>4.0</td>\n    </tr>\n    <tr>\n      <th>959</th>\n      <td>Chapter 5</td>\n      <td>5.0</td>\n    </tr>\n    <tr>\n      <th>1297</th>\n      <td>Chapter 6</td>\n      <td>6.0</td>\n    </tr>\n    <tr>\n      <th>1657</th>\n      <td>Chapter 7</td>\n      <td>7.0</td>\n    </tr>\n    <tr>\n      <th>1992</th>\n      <td>Chapter 8</td>\n      <td>8.0</td>\n    </tr>\n    <tr>\n      <th>2346</th>\n      <td>Chapter 9</td>\n      <td>9.0</td>\n    </tr>\n    <tr>\n      <th>2632</th>\n      <td>Chapter 10</td>\n      <td>10.0</td>\n    </tr>\n    <tr>\n      <th>3020</th>\n      <td>Chapter 11</td>\n      <td>11.0</td>\n    </tr>\n    <tr>\n      <th>3314</th>\n      <td>Chapter 12</td>\n      <td>12.0</td>\n    </tr>\n    <tr>\n      <th>3876</th>\n      <td>Chapter 13</td>\n      <td>13.0</td>\n    </tr>\n    <tr>\n      <th>4150</th>\n      <td>Chapter 14</td>\n      <td>14.0</td>\n    </tr>\n    <tr>\n      <th>4409</th>\n      <td>Chapter 15</td>\n      <td>15.0</td>\n    </tr>\n    <tr>\n      <th>4677</th>\n      <td>Chapter 16</td>\n      <td>16.0</td>\n    </tr>\n    <tr>\n      <th>4912</th>\n      <td>Chapter 17</td>\n      <td>17.0</td>\n    </tr>\n    <tr>\n      <th>5248</th>\n      <td>Chapter 18</td>\n      <td>18.0</td>\n    </tr>\n    <tr>\n      <th>5654</th>\n      <td>Chapter 19</td>\n      <td>19.0</td>\n    </tr>\n    <tr>\n      <th>5905</th>\n      <td>Chapter 20</td>\n      <td>20.0</td>\n    </tr>\n    <tr>\n      <th>6265</th>\n      <td>Chapter 21</td>\n      <td>21.0</td>\n    </tr>\n    <tr>\n      <th>6970</th>\n      <td>Chapter 22</td>\n      <td>22.0</td>\n    </tr>\n    <tr>\n      <th>7555</th>\n      <td>Chapter 23</td>\n      <td>23.0</td>\n    </tr>\n    <tr>\n      <th>8208</th>\n      <td>Chapter 24</td>\n      <td>24.0</td>\n    </tr>\n  </tbody>\n</table>\n</div>"
     },
     "execution_count": 21,
     "metadata": {},
     "output_type": "execute_result"
    }
   ],
   "source": [
    "LINES.loc[chap_lines]"
   ]
  },
  {
   "cell_type": "markdown",
   "metadata": {},
   "source": [
    "Notice that all lines that are not chapter headers have no chapter number assigned to them."
   ]
  },
  {
   "cell_type": "code",
   "execution_count": 22,
   "metadata": {
    "tags": [],
    "ExecuteTime": {
     "end_time": "2025-01-23T21:25:30.403188Z",
     "start_time": "2025-01-23T21:25:30.318081Z"
    }
   },
   "outputs": [
    {
     "data": {
      "text/plain": "                                                   line_str  chap_num\nline_num                                                             \n7916      \"Do you think so?  But I am afraid; and I shou...       NaN\n5182      You are your mother's self in countenance and ...       NaN\n1219      with me till this morning.  It would have been...       NaN\n7734                                                              NaN\n1852      she could not but believe that in his place sh...       NaN\n1189                                                              NaN\n894       from what she had been made to think at ninete...       NaN\n4360      for the present, to see his brother in Shropsh...       NaN\n3468      \"Putting all these very extraordinary circumst...       NaN\n4543      appearance, his air of elegance and fashion, h...       NaN",
      "text/html": "<div>\n<style scoped>\n    .dataframe tbody tr th:only-of-type {\n        vertical-align: middle;\n    }\n\n    .dataframe tbody tr th {\n        vertical-align: top;\n    }\n\n    .dataframe thead th {\n        text-align: right;\n    }\n</style>\n<table border=\"1\" class=\"dataframe\">\n  <thead>\n    <tr style=\"text-align: right;\">\n      <th></th>\n      <th>line_str</th>\n      <th>chap_num</th>\n    </tr>\n    <tr>\n      <th>line_num</th>\n      <th></th>\n      <th></th>\n    </tr>\n  </thead>\n  <tbody>\n    <tr>\n      <th>7916</th>\n      <td>\"Do you think so?  But I am afraid; and I shou...</td>\n      <td>NaN</td>\n    </tr>\n    <tr>\n      <th>5182</th>\n      <td>You are your mother's self in countenance and ...</td>\n      <td>NaN</td>\n    </tr>\n    <tr>\n      <th>1219</th>\n      <td>with me till this morning.  It would have been...</td>\n      <td>NaN</td>\n    </tr>\n    <tr>\n      <th>7734</th>\n      <td></td>\n      <td>NaN</td>\n    </tr>\n    <tr>\n      <th>1852</th>\n      <td>she could not but believe that in his place sh...</td>\n      <td>NaN</td>\n    </tr>\n    <tr>\n      <th>1189</th>\n      <td></td>\n      <td>NaN</td>\n    </tr>\n    <tr>\n      <th>894</th>\n      <td>from what she had been made to think at ninete...</td>\n      <td>NaN</td>\n    </tr>\n    <tr>\n      <th>4360</th>\n      <td>for the present, to see his brother in Shropsh...</td>\n      <td>NaN</td>\n    </tr>\n    <tr>\n      <th>3468</th>\n      <td>\"Putting all these very extraordinary circumst...</td>\n      <td>NaN</td>\n    </tr>\n    <tr>\n      <th>4543</th>\n      <td>appearance, his air of elegance and fashion, h...</td>\n      <td>NaN</td>\n    </tr>\n  </tbody>\n</table>\n</div>"
     },
     "execution_count": 22,
     "metadata": {},
     "output_type": "execute_result"
    }
   ],
   "source": [
    "LINES.sample(10)"
   ]
  },
  {
   "cell_type": "markdown",
   "metadata": {},
   "source": [
    "### Forward-fill chapter numbers to following text lines\n",
    "\n",
    "`ffill()` will replace null values with the previous non-null value."
   ]
  },
  {
   "cell_type": "code",
   "execution_count": 23,
   "metadata": {
    "ExecuteTime": {
     "end_time": "2025-01-23T21:25:30.486837Z",
     "start_time": "2025-01-23T21:25:30.323824Z"
    }
   },
   "outputs": [],
   "source": [
    "LINES.chap_num = LINES.chap_num.ffill()"
   ]
  },
  {
   "cell_type": "code",
   "execution_count": 24,
   "metadata": {
    "ExecuteTime": {
     "end_time": "2025-01-23T21:25:30.488767Z",
     "start_time": "2025-01-23T21:25:30.330190Z"
    }
   },
   "outputs": [
    {
     "data": {
      "text/plain": "                                                   line_str  chap_num\nline_num                                                             \n7144      she wanted to see; it was thought a good oppor...      22.0\n604       line.  One day last spring, in town, I was in ...       3.0\n5898                                 more visits from you.\"      19.0\n7601      persuaded to think might do very well,\" and a ...      23.0\n7552                                                             22.0\n6679                                                             21.0\n1277      advantage, their faces were rather pretty, the...       5.0\n6083      were all properly arranged, she looked round t...      20.0\n7162      in a few months, quite as soon as Louisa's.  \"...      22.0\n89        Vanity was the beginning and the end of Sir Wa...       1.0",
      "text/html": "<div>\n<style scoped>\n    .dataframe tbody tr th:only-of-type {\n        vertical-align: middle;\n    }\n\n    .dataframe tbody tr th {\n        vertical-align: top;\n    }\n\n    .dataframe thead th {\n        text-align: right;\n    }\n</style>\n<table border=\"1\" class=\"dataframe\">\n  <thead>\n    <tr style=\"text-align: right;\">\n      <th></th>\n      <th>line_str</th>\n      <th>chap_num</th>\n    </tr>\n    <tr>\n      <th>line_num</th>\n      <th></th>\n      <th></th>\n    </tr>\n  </thead>\n  <tbody>\n    <tr>\n      <th>7144</th>\n      <td>she wanted to see; it was thought a good oppor...</td>\n      <td>22.0</td>\n    </tr>\n    <tr>\n      <th>604</th>\n      <td>line.  One day last spring, in town, I was in ...</td>\n      <td>3.0</td>\n    </tr>\n    <tr>\n      <th>5898</th>\n      <td>more visits from you.\"</td>\n      <td>19.0</td>\n    </tr>\n    <tr>\n      <th>7601</th>\n      <td>persuaded to think might do very well,\" and a ...</td>\n      <td>23.0</td>\n    </tr>\n    <tr>\n      <th>7552</th>\n      <td></td>\n      <td>22.0</td>\n    </tr>\n    <tr>\n      <th>6679</th>\n      <td></td>\n      <td>21.0</td>\n    </tr>\n    <tr>\n      <th>1277</th>\n      <td>advantage, their faces were rather pretty, the...</td>\n      <td>5.0</td>\n    </tr>\n    <tr>\n      <th>6083</th>\n      <td>were all properly arranged, she looked round t...</td>\n      <td>20.0</td>\n    </tr>\n    <tr>\n      <th>7162</th>\n      <td>in a few months, quite as soon as Louisa's.  \"...</td>\n      <td>22.0</td>\n    </tr>\n    <tr>\n      <th>89</th>\n      <td>Vanity was the beginning and the end of Sir Wa...</td>\n      <td>1.0</td>\n    </tr>\n  </tbody>\n</table>\n</div>"
     },
     "execution_count": 24,
     "metadata": {},
     "output_type": "execute_result"
    }
   ],
   "source": [
    "LINES.sample(10)"
   ]
  },
  {
   "cell_type": "markdown",
   "metadata": {},
   "source": [
    "Notice that the lines taht precede our first chapter have no chapters, which is what we want. We need to decide whether to keep these lines as textual front matter or to dispose of them."
   ]
  },
  {
   "cell_type": "code",
   "execution_count": 25,
   "metadata": {
    "ExecuteTime": {
     "end_time": "2025-01-23T21:25:30.489989Z",
     "start_time": "2025-01-23T21:25:30.334101Z"
    }
   },
   "outputs": [
    {
     "data": {
      "text/plain": "                                                   line_str  chap_num\nline_num                                                             \n19                                                                NaN\n20                                                                NaN\n21                                                                NaN\n22                                                                NaN\n23        Produced by Sharon Partridge and Martin Ward. ...       NaN\n24                                            by Al Haines.       NaN\n25                                                                NaN\n26                                                                NaN\n27                                                                NaN\n28                                                                NaN\n29                                                                NaN\n30                                                                NaN\n31                                                                NaN\n32                                                                NaN\n33                                                                NaN\n34                                                                NaN\n35                                               Persuasion       NaN\n36                                                                NaN\n37                                                                NaN\n38                                                       by       NaN",
      "text/html": "<div>\n<style scoped>\n    .dataframe tbody tr th:only-of-type {\n        vertical-align: middle;\n    }\n\n    .dataframe tbody tr th {\n        vertical-align: top;\n    }\n\n    .dataframe thead th {\n        text-align: right;\n    }\n</style>\n<table border=\"1\" class=\"dataframe\">\n  <thead>\n    <tr style=\"text-align: right;\">\n      <th></th>\n      <th>line_str</th>\n      <th>chap_num</th>\n    </tr>\n    <tr>\n      <th>line_num</th>\n      <th></th>\n      <th></th>\n    </tr>\n  </thead>\n  <tbody>\n    <tr>\n      <th>19</th>\n      <td></td>\n      <td>NaN</td>\n    </tr>\n    <tr>\n      <th>20</th>\n      <td></td>\n      <td>NaN</td>\n    </tr>\n    <tr>\n      <th>21</th>\n      <td></td>\n      <td>NaN</td>\n    </tr>\n    <tr>\n      <th>22</th>\n      <td></td>\n      <td>NaN</td>\n    </tr>\n    <tr>\n      <th>23</th>\n      <td>Produced by Sharon Partridge and Martin Ward. ...</td>\n      <td>NaN</td>\n    </tr>\n    <tr>\n      <th>24</th>\n      <td>by Al Haines.</td>\n      <td>NaN</td>\n    </tr>\n    <tr>\n      <th>25</th>\n      <td></td>\n      <td>NaN</td>\n    </tr>\n    <tr>\n      <th>26</th>\n      <td></td>\n      <td>NaN</td>\n    </tr>\n    <tr>\n      <th>27</th>\n      <td></td>\n      <td>NaN</td>\n    </tr>\n    <tr>\n      <th>28</th>\n      <td></td>\n      <td>NaN</td>\n    </tr>\n    <tr>\n      <th>29</th>\n      <td></td>\n      <td>NaN</td>\n    </tr>\n    <tr>\n      <th>30</th>\n      <td></td>\n      <td>NaN</td>\n    </tr>\n    <tr>\n      <th>31</th>\n      <td></td>\n      <td>NaN</td>\n    </tr>\n    <tr>\n      <th>32</th>\n      <td></td>\n      <td>NaN</td>\n    </tr>\n    <tr>\n      <th>33</th>\n      <td></td>\n      <td>NaN</td>\n    </tr>\n    <tr>\n      <th>34</th>\n      <td></td>\n      <td>NaN</td>\n    </tr>\n    <tr>\n      <th>35</th>\n      <td>Persuasion</td>\n      <td>NaN</td>\n    </tr>\n    <tr>\n      <th>36</th>\n      <td></td>\n      <td>NaN</td>\n    </tr>\n    <tr>\n      <th>37</th>\n      <td></td>\n      <td>NaN</td>\n    </tr>\n    <tr>\n      <th>38</th>\n      <td>by</td>\n      <td>NaN</td>\n    </tr>\n  </tbody>\n</table>\n</div>"
     },
     "execution_count": 25,
     "metadata": {},
     "output_type": "execute_result"
    }
   ],
   "source": [
    "LINES.head(20)"
   ]
  },
  {
   "cell_type": "markdown",
   "metadata": {},
   "source": [
    "### Clean up"
   ]
  },
  {
   "cell_type": "code",
   "execution_count": 26,
   "metadata": {
    "ExecuteTime": {
     "end_time": "2025-01-23T21:25:30.502444Z",
     "start_time": "2025-01-23T21:25:30.337624Z"
    }
   },
   "outputs": [],
   "source": [
    "LINES = LINES.dropna(subset=['chap_num']) # Remove everything before Chapter 1\n",
    "# LINES = LINES.loc[~LINES.chap_num.isna()] # Remove everything before Chapter 1 (alternate method)\n",
    "LINES = LINES.loc[~chap_lines] # Remove chapter heading lines; their work is done\n",
    "LINES.chap_num = LINES.chap_num.astype('int') # Convert chap_num from float to int"
   ]
  },
  {
   "cell_type": "code",
   "execution_count": 27,
   "metadata": {
    "ExecuteTime": {
     "end_time": "2025-01-23T21:25:30.504947Z",
     "start_time": "2025-01-23T21:25:30.343378Z"
    }
   },
   "outputs": [
    {
     "data": {
      "text/plain": "                                                   line_str  chap_num\nline_num                                                             \n8267             securing the happiness of her other child.        24\n6479      Wallis herself, which did not seem bad authori...        21\n5111      approves it, and has generally taken me when I...        17\n4285                                                               14\n7444      \"I am not yet so much changed,\" cried Anne, an...        22\n5306      going on; always the last of my family to be n...        18\n5645      \"Poor Frederick!\" said he at last.  \"Now he mu...        18\n105       concealed his failings, and promoted his real ...         1\n5424      Mary, from the present course of events, they ...        18\n7857      seen this?  Can you fail to have understood my...        23",
      "text/html": "<div>\n<style scoped>\n    .dataframe tbody tr th:only-of-type {\n        vertical-align: middle;\n    }\n\n    .dataframe tbody tr th {\n        vertical-align: top;\n    }\n\n    .dataframe thead th {\n        text-align: right;\n    }\n</style>\n<table border=\"1\" class=\"dataframe\">\n  <thead>\n    <tr style=\"text-align: right;\">\n      <th></th>\n      <th>line_str</th>\n      <th>chap_num</th>\n    </tr>\n    <tr>\n      <th>line_num</th>\n      <th></th>\n      <th></th>\n    </tr>\n  </thead>\n  <tbody>\n    <tr>\n      <th>8267</th>\n      <td>securing the happiness of her other child.</td>\n      <td>24</td>\n    </tr>\n    <tr>\n      <th>6479</th>\n      <td>Wallis herself, which did not seem bad authori...</td>\n      <td>21</td>\n    </tr>\n    <tr>\n      <th>5111</th>\n      <td>approves it, and has generally taken me when I...</td>\n      <td>17</td>\n    </tr>\n    <tr>\n      <th>4285</th>\n      <td></td>\n      <td>14</td>\n    </tr>\n    <tr>\n      <th>7444</th>\n      <td>\"I am not yet so much changed,\" cried Anne, an...</td>\n      <td>22</td>\n    </tr>\n    <tr>\n      <th>5306</th>\n      <td>going on; always the last of my family to be n...</td>\n      <td>18</td>\n    </tr>\n    <tr>\n      <th>5645</th>\n      <td>\"Poor Frederick!\" said he at last.  \"Now he mu...</td>\n      <td>18</td>\n    </tr>\n    <tr>\n      <th>105</th>\n      <td>concealed his failings, and promoted his real ...</td>\n      <td>1</td>\n    </tr>\n    <tr>\n      <th>5424</th>\n      <td>Mary, from the present course of events, they ...</td>\n      <td>18</td>\n    </tr>\n    <tr>\n      <th>7857</th>\n      <td>seen this?  Can you fail to have understood my...</td>\n      <td>23</td>\n    </tr>\n  </tbody>\n</table>\n</div>"
     },
     "execution_count": 27,
     "metadata": {},
     "output_type": "execute_result"
    }
   ],
   "source": [
    "LINES.sample(10)"
   ]
  },
  {
   "cell_type": "markdown",
   "metadata": {},
   "source": [
    "### Group lines into chapters"
   ]
  },
  {
   "cell_type": "code",
   "execution_count": 28,
   "metadata": {
    "ExecuteTime": {
     "end_time": "2025-01-23T21:25:30.506034Z",
     "start_time": "2025-01-23T21:25:30.345720Z"
    }
   },
   "outputs": [
    {
     "data": {
      "text/plain": "['chap_num']"
     },
     "execution_count": 28,
     "metadata": {},
     "output_type": "execute_result"
    }
   ],
   "source": [
    "OHCO[:1]"
   ]
  },
  {
   "cell_type": "code",
   "execution_count": 29,
   "metadata": {
    "ExecuteTime": {
     "end_time": "2025-01-23T21:25:30.517659Z",
     "start_time": "2025-01-23T21:25:30.349842Z"
    }
   },
   "outputs": [],
   "source": [
    "# Make big string for each chapter\n",
    "CHAPS = LINES.groupby(OHCO[:1])\\\n",
    "    .line_str.apply(lambda x: '\\n'.join(x))\\\n",
    "    .to_frame('chap_str')"
   ]
  },
  {
   "cell_type": "code",
   "execution_count": 30,
   "metadata": {
    "tags": [],
    "ExecuteTime": {
     "end_time": "2025-01-23T21:25:30.522522Z",
     "start_time": "2025-01-23T21:25:30.355959Z"
    }
   },
   "outputs": [
    {
     "data": {
      "text/plain": "                                                   chap_str\nchap_num                                                   \n1         \\n\\nSir Walter Elliot, of Kellynch Hall, in So...\n2         \\n\\nMr Shepherd, a civil, cautious lawyer, who...\n3         \\n\\n\"I must take leave to observe, Sir Walter,...\n4         \\n\\nHe was not Mr Wentworth, the former curate...\n5         \\n\\nOn the morning appointed for Admiral and M...\n6         \\n\\nAnne had not wanted this visit to Uppercro...\n7         \\n\\nA very few days more, and Captain Wentwort...\n8         \\n\\nFrom this time Captain Wentworth and Anne ...\n9         \\n\\nCaptain Wentworth was come to Kellynch as ...\n10        \\n\\nOther opportunities of making her observat...",
      "text/html": "<div>\n<style scoped>\n    .dataframe tbody tr th:only-of-type {\n        vertical-align: middle;\n    }\n\n    .dataframe tbody tr th {\n        vertical-align: top;\n    }\n\n    .dataframe thead th {\n        text-align: right;\n    }\n</style>\n<table border=\"1\" class=\"dataframe\">\n  <thead>\n    <tr style=\"text-align: right;\">\n      <th></th>\n      <th>chap_str</th>\n    </tr>\n    <tr>\n      <th>chap_num</th>\n      <th></th>\n    </tr>\n  </thead>\n  <tbody>\n    <tr>\n      <th>1</th>\n      <td>\\n\\nSir Walter Elliot, of Kellynch Hall, in So...</td>\n    </tr>\n    <tr>\n      <th>2</th>\n      <td>\\n\\nMr Shepherd, a civil, cautious lawyer, who...</td>\n    </tr>\n    <tr>\n      <th>3</th>\n      <td>\\n\\n\"I must take leave to observe, Sir Walter,...</td>\n    </tr>\n    <tr>\n      <th>4</th>\n      <td>\\n\\nHe was not Mr Wentworth, the former curate...</td>\n    </tr>\n    <tr>\n      <th>5</th>\n      <td>\\n\\nOn the morning appointed for Admiral and M...</td>\n    </tr>\n    <tr>\n      <th>6</th>\n      <td>\\n\\nAnne had not wanted this visit to Uppercro...</td>\n    </tr>\n    <tr>\n      <th>7</th>\n      <td>\\n\\nA very few days more, and Captain Wentwort...</td>\n    </tr>\n    <tr>\n      <th>8</th>\n      <td>\\n\\nFrom this time Captain Wentworth and Anne ...</td>\n    </tr>\n    <tr>\n      <th>9</th>\n      <td>\\n\\nCaptain Wentworth was come to Kellynch as ...</td>\n    </tr>\n    <tr>\n      <th>10</th>\n      <td>\\n\\nOther opportunities of making her observat...</td>\n    </tr>\n  </tbody>\n</table>\n</div>"
     },
     "execution_count": 30,
     "metadata": {},
     "output_type": "execute_result"
    }
   ],
   "source": [
    "CHAPS.head(10)"
   ]
  },
  {
   "cell_type": "code",
   "execution_count": 31,
   "metadata": {
    "ExecuteTime": {
     "end_time": "2025-01-23T21:25:30.525496Z",
     "start_time": "2025-01-23T21:25:30.358768Z"
    }
   },
   "outputs": [],
   "source": [
    "CHAPS['chap_str'] = CHAPS.chap_str.str.strip()"
   ]
  },
  {
   "cell_type": "code",
   "execution_count": 32,
   "metadata": {
    "ExecuteTime": {
     "end_time": "2025-01-23T21:25:30.527130Z",
     "start_time": "2025-01-23T21:25:30.364701Z"
    }
   },
   "outputs": [
    {
     "data": {
      "text/plain": "                                                   chap_str\nchap_num                                                   \n1         Sir Walter Elliot, of Kellynch Hall, in Somers...\n2         Mr Shepherd, a civil, cautious lawyer, who, wh...\n3         \"I must take leave to observe, Sir Walter,\" sa...\n4         He was not Mr Wentworth, the former curate of ...\n5         On the morning appointed for Admiral and Mrs C...\n6         Anne had not wanted this visit to Uppercross, ...\n7         A very few days more, and Captain Wentworth wa...\n8         From this time Captain Wentworth and Anne Elli...\n9         Captain Wentworth was come to Kellynch as to a...\n10        Other opportunities of making her observations...\n11        The time now approached for Lady Russell's ret...\n12        Anne and Henrietta, finding themselves the ear...\n13        The remainder of Anne's time at Uppercross, co...\n14        Though Charles and Mary had remained at Lyme m...\n15        Sir Walter had taken a very good house in Camd...\n16        There was one point which Anne, on returning t...\n17        While Sir Walter and Elizabeth were assiduousl...\n18        It was the beginning of February; and Anne, ha...\n19        While Admiral Croft was taking this walk with ...\n20        Sir Walter, his two daughters, and Mrs Clay, w...\n21        Anne recollected with pleasure the next mornin...\n22        Anne went home to think over all that she had ...\n23        One day only had passed since Anne's conversat...\n24        Who can be in doubt of what followed?  When an...",
      "text/html": "<div>\n<style scoped>\n    .dataframe tbody tr th:only-of-type {\n        vertical-align: middle;\n    }\n\n    .dataframe tbody tr th {\n        vertical-align: top;\n    }\n\n    .dataframe thead th {\n        text-align: right;\n    }\n</style>\n<table border=\"1\" class=\"dataframe\">\n  <thead>\n    <tr style=\"text-align: right;\">\n      <th></th>\n      <th>chap_str</th>\n    </tr>\n    <tr>\n      <th>chap_num</th>\n      <th></th>\n    </tr>\n  </thead>\n  <tbody>\n    <tr>\n      <th>1</th>\n      <td>Sir Walter Elliot, of Kellynch Hall, in Somers...</td>\n    </tr>\n    <tr>\n      <th>2</th>\n      <td>Mr Shepherd, a civil, cautious lawyer, who, wh...</td>\n    </tr>\n    <tr>\n      <th>3</th>\n      <td>\"I must take leave to observe, Sir Walter,\" sa...</td>\n    </tr>\n    <tr>\n      <th>4</th>\n      <td>He was not Mr Wentworth, the former curate of ...</td>\n    </tr>\n    <tr>\n      <th>5</th>\n      <td>On the morning appointed for Admiral and Mrs C...</td>\n    </tr>\n    <tr>\n      <th>6</th>\n      <td>Anne had not wanted this visit to Uppercross, ...</td>\n    </tr>\n    <tr>\n      <th>7</th>\n      <td>A very few days more, and Captain Wentworth wa...</td>\n    </tr>\n    <tr>\n      <th>8</th>\n      <td>From this time Captain Wentworth and Anne Elli...</td>\n    </tr>\n    <tr>\n      <th>9</th>\n      <td>Captain Wentworth was come to Kellynch as to a...</td>\n    </tr>\n    <tr>\n      <th>10</th>\n      <td>Other opportunities of making her observations...</td>\n    </tr>\n    <tr>\n      <th>11</th>\n      <td>The time now approached for Lady Russell's ret...</td>\n    </tr>\n    <tr>\n      <th>12</th>\n      <td>Anne and Henrietta, finding themselves the ear...</td>\n    </tr>\n    <tr>\n      <th>13</th>\n      <td>The remainder of Anne's time at Uppercross, co...</td>\n    </tr>\n    <tr>\n      <th>14</th>\n      <td>Though Charles and Mary had remained at Lyme m...</td>\n    </tr>\n    <tr>\n      <th>15</th>\n      <td>Sir Walter had taken a very good house in Camd...</td>\n    </tr>\n    <tr>\n      <th>16</th>\n      <td>There was one point which Anne, on returning t...</td>\n    </tr>\n    <tr>\n      <th>17</th>\n      <td>While Sir Walter and Elizabeth were assiduousl...</td>\n    </tr>\n    <tr>\n      <th>18</th>\n      <td>It was the beginning of February; and Anne, ha...</td>\n    </tr>\n    <tr>\n      <th>19</th>\n      <td>While Admiral Croft was taking this walk with ...</td>\n    </tr>\n    <tr>\n      <th>20</th>\n      <td>Sir Walter, his two daughters, and Mrs Clay, w...</td>\n    </tr>\n    <tr>\n      <th>21</th>\n      <td>Anne recollected with pleasure the next mornin...</td>\n    </tr>\n    <tr>\n      <th>22</th>\n      <td>Anne went home to think over all that she had ...</td>\n    </tr>\n    <tr>\n      <th>23</th>\n      <td>One day only had passed since Anne's conversat...</td>\n    </tr>\n    <tr>\n      <th>24</th>\n      <td>Who can be in doubt of what followed?  When an...</td>\n    </tr>\n  </tbody>\n</table>\n</div>"
     },
     "execution_count": 32,
     "metadata": {},
     "output_type": "execute_result"
    }
   ],
   "source": [
    "CHAPS"
   ]
  },
  {
   "cell_type": "markdown",
   "metadata": {},
   "source": [
    "So, now we have our text grouped by chapters."
   ]
  },
  {
   "cell_type": "markdown",
   "metadata": {},
   "source": [
    "## Split chapters into paragraphs \n",
    "\n",
    "We use Pandas' convenient `.split()` method with `expand=True`, followed by `.stack()`.\n",
    "Note that this creates zero-based indexes."
   ]
  },
  {
   "cell_type": "code",
   "execution_count": 33,
   "metadata": {
    "ExecuteTime": {
     "end_time": "2025-01-23T21:25:30.529715Z",
     "start_time": "2025-01-23T21:25:30.369678Z"
    }
   },
   "outputs": [],
   "source": [
    "para_pat = r'\\n\\n+'"
   ]
  },
  {
   "cell_type": "code",
   "execution_count": 34,
   "metadata": {
    "ExecuteTime": {
     "end_time": "2025-01-23T21:25:30.530577Z",
     "start_time": "2025-01-23T21:25:30.372233Z"
    }
   },
   "outputs": [],
   "source": [
    "# CHAPS['chap_str'].str.split(para_pat, expand=True).head()"
   ]
  },
  {
   "cell_type": "code",
   "execution_count": 35,
   "metadata": {
    "ExecuteTime": {
     "end_time": "2025-01-23T21:25:30.533005Z",
     "start_time": "2025-01-23T21:25:30.374077Z"
    }
   },
   "outputs": [],
   "source": [
    "PARAS = CHAPS['chap_str'].str.split(para_pat, expand=True).stack()\\\n",
    "    .to_frame('para_str').sort_index()\n",
    "PARAS.index.names = OHCO[:2]"
   ]
  },
  {
   "cell_type": "code",
   "execution_count": 36,
   "metadata": {
    "ExecuteTime": {
     "end_time": "2025-01-23T21:25:30.534967Z",
     "start_time": "2025-01-23T21:25:30.381501Z"
    }
   },
   "outputs": [
    {
     "data": {
      "text/plain": "                                                            para_str\nchap_num para_num                                                   \n1        0         Sir Walter Elliot, of Kellynch Hall, in Somers...\n         1                                 \"ELLIOT OF KELLYNCH HALL.\n         2         \"Walter Elliot, born March 1, 1760, married, J...\n         3         Precisely such had the paragraph originally st...\n         4         Then followed the history and rise of the anci...",
      "text/html": "<div>\n<style scoped>\n    .dataframe tbody tr th:only-of-type {\n        vertical-align: middle;\n    }\n\n    .dataframe tbody tr th {\n        vertical-align: top;\n    }\n\n    .dataframe thead th {\n        text-align: right;\n    }\n</style>\n<table border=\"1\" class=\"dataframe\">\n  <thead>\n    <tr style=\"text-align: right;\">\n      <th></th>\n      <th></th>\n      <th>para_str</th>\n    </tr>\n    <tr>\n      <th>chap_num</th>\n      <th>para_num</th>\n      <th></th>\n    </tr>\n  </thead>\n  <tbody>\n    <tr>\n      <th rowspan=\"5\" valign=\"top\">1</th>\n      <th>0</th>\n      <td>Sir Walter Elliot, of Kellynch Hall, in Somers...</td>\n    </tr>\n    <tr>\n      <th>1</th>\n      <td>\"ELLIOT OF KELLYNCH HALL.</td>\n    </tr>\n    <tr>\n      <th>2</th>\n      <td>\"Walter Elliot, born March 1, 1760, married, J...</td>\n    </tr>\n    <tr>\n      <th>3</th>\n      <td>Precisely such had the paragraph originally st...</td>\n    </tr>\n    <tr>\n      <th>4</th>\n      <td>Then followed the history and rise of the anci...</td>\n    </tr>\n  </tbody>\n</table>\n</div>"
     },
     "execution_count": 36,
     "metadata": {},
     "output_type": "execute_result"
    }
   ],
   "source": [
    "PARAS.head()"
   ]
  },
  {
   "cell_type": "code",
   "execution_count": 37,
   "metadata": {
    "ExecuteTime": {
     "end_time": "2025-01-23T21:25:30.540394Z",
     "start_time": "2025-01-23T21:25:30.387670Z"
    }
   },
   "outputs": [],
   "source": [
    "PARAS['para_str'] = PARAS['para_str'].str.replace(r'\\n', ' ', regex=True)\n",
    "PARAS['para_str'] = PARAS['para_str'].str.strip()\n",
    "PARAS = PARAS[~PARAS['para_str'].str.match(r'^\\s*$')] # Remove empty paragraphs"
   ]
  },
  {
   "cell_type": "code",
   "execution_count": 38,
   "metadata": {
    "ExecuteTime": {
     "end_time": "2025-01-23T21:25:30.542769Z",
     "start_time": "2025-01-23T21:25:30.391181Z"
    }
   },
   "outputs": [
    {
     "data": {
      "text/plain": "                                                            para_str\nchap_num para_num                                                   \n1        0         Sir Walter Elliot, of Kellynch Hall, in Somers...\n         1                                 \"ELLIOT OF KELLYNCH HALL.\n         2         \"Walter Elliot, born March 1, 1760, married, J...\n         3         Precisely such had the paragraph originally st...\n         4         Then followed the history and rise of the anci...",
      "text/html": "<div>\n<style scoped>\n    .dataframe tbody tr th:only-of-type {\n        vertical-align: middle;\n    }\n\n    .dataframe tbody tr th {\n        vertical-align: top;\n    }\n\n    .dataframe thead th {\n        text-align: right;\n    }\n</style>\n<table border=\"1\" class=\"dataframe\">\n  <thead>\n    <tr style=\"text-align: right;\">\n      <th></th>\n      <th></th>\n      <th>para_str</th>\n    </tr>\n    <tr>\n      <th>chap_num</th>\n      <th>para_num</th>\n      <th></th>\n    </tr>\n  </thead>\n  <tbody>\n    <tr>\n      <th rowspan=\"5\" valign=\"top\">1</th>\n      <th>0</th>\n      <td>Sir Walter Elliot, of Kellynch Hall, in Somers...</td>\n    </tr>\n    <tr>\n      <th>1</th>\n      <td>\"ELLIOT OF KELLYNCH HALL.</td>\n    </tr>\n    <tr>\n      <th>2</th>\n      <td>\"Walter Elliot, born March 1, 1760, married, J...</td>\n    </tr>\n    <tr>\n      <th>3</th>\n      <td>Precisely such had the paragraph originally st...</td>\n    </tr>\n    <tr>\n      <th>4</th>\n      <td>Then followed the history and rise of the anci...</td>\n    </tr>\n  </tbody>\n</table>\n</div>"
     },
     "execution_count": 38,
     "metadata": {},
     "output_type": "execute_result"
    }
   ],
   "source": [
    "PARAS.head()"
   ]
  },
  {
   "cell_type": "markdown",
   "metadata": {},
   "source": [
    "## Split paragraphs into sentences"
   ]
  },
  {
   "cell_type": "code",
   "execution_count": 39,
   "metadata": {
    "ExecuteTime": {
     "end_time": "2025-01-23T21:25:30.565857Z",
     "start_time": "2025-01-23T21:25:30.403030Z"
    }
   },
   "outputs": [],
   "source": [
    "# sent_pat = r'[.?!;:\"]+'\n",
    "sent_pat = r'[.?!;:]+'\n",
    "SENTS = PARAS['para_str'].str.split(sent_pat, expand=True).stack()\\\n",
    "    .to_frame('sent_str')\n",
    "SENTS.index.names = OHCO[:3]"
   ]
  },
  {
   "cell_type": "code",
   "execution_count": 40,
   "metadata": {
    "ExecuteTime": {
     "end_time": "2025-01-23T21:25:30.570938Z",
     "start_time": "2025-01-23T21:25:30.408352Z"
    }
   },
   "outputs": [],
   "source": [
    "SENTS = SENTS[~SENTS['sent_str'].str.match(r'^\\s*$')] # Remove empty paragraphs\n",
    "SENTS.sent_str = SENTS.sent_str.str.strip() # CRUCIAL TO REMOVE BLANK TOKENS"
   ]
  },
  {
   "cell_type": "code",
   "execution_count": 53,
   "metadata": {
    "ExecuteTime": {
     "end_time": "2025-01-23T21:32:19.442993Z",
     "start_time": "2025-01-23T21:32:19.436563Z"
    }
   },
   "outputs": [
    {
     "data": {
      "text/plain": "                                                                     sent_str\nchap_num para_num sent_num                                                   \n1        0        0         Sir Walter Elliot, of Kellynch Hall, in Somers...\n                  1         there he found occupation for an idle hour, an...\n                  2         there his faculties were roused into admiratio...\n                  3         there any unwelcome sensations, arising from d...\n                  4         and there, if every other leaf were powerless,...\n                  5         This was the page at which the favourite volum...\n         1        0                                  \"ELLIOT OF KELLYNCH HALL\n         2        0         \"Walter Elliot, born March 1, 1760, married, J...\n                  1         of South Park, in the county of Gloucester, by...\n                  2                                 Anne, born August 9, 1787",
      "text/html": "<div>\n<style scoped>\n    .dataframe tbody tr th:only-of-type {\n        vertical-align: middle;\n    }\n\n    .dataframe tbody tr th {\n        vertical-align: top;\n    }\n\n    .dataframe thead th {\n        text-align: right;\n    }\n</style>\n<table border=\"1\" class=\"dataframe\">\n  <thead>\n    <tr style=\"text-align: right;\">\n      <th></th>\n      <th></th>\n      <th></th>\n      <th>sent_str</th>\n    </tr>\n    <tr>\n      <th>chap_num</th>\n      <th>para_num</th>\n      <th>sent_num</th>\n      <th></th>\n    </tr>\n  </thead>\n  <tbody>\n    <tr>\n      <th rowspan=\"10\" valign=\"top\">1</th>\n      <th rowspan=\"6\" valign=\"top\">0</th>\n      <th>0</th>\n      <td>Sir Walter Elliot, of Kellynch Hall, in Somers...</td>\n    </tr>\n    <tr>\n      <th>1</th>\n      <td>there he found occupation for an idle hour, an...</td>\n    </tr>\n    <tr>\n      <th>2</th>\n      <td>there his faculties were roused into admiratio...</td>\n    </tr>\n    <tr>\n      <th>3</th>\n      <td>there any unwelcome sensations, arising from d...</td>\n    </tr>\n    <tr>\n      <th>4</th>\n      <td>and there, if every other leaf were powerless,...</td>\n    </tr>\n    <tr>\n      <th>5</th>\n      <td>This was the page at which the favourite volum...</td>\n    </tr>\n    <tr>\n      <th>1</th>\n      <th>0</th>\n      <td>\"ELLIOT OF KELLYNCH HALL</td>\n    </tr>\n    <tr>\n      <th rowspan=\"3\" valign=\"top\">2</th>\n      <th>0</th>\n      <td>\"Walter Elliot, born March 1, 1760, married, J...</td>\n    </tr>\n    <tr>\n      <th>1</th>\n      <td>of South Park, in the county of Gloucester, by...</td>\n    </tr>\n    <tr>\n      <th>2</th>\n      <td>Anne, born August 9, 1787</td>\n    </tr>\n  </tbody>\n</table>\n</div>"
     },
     "execution_count": 53,
     "metadata": {},
     "output_type": "execute_result"
    }
   ],
   "source": [
    "SENTS.head(10)"
   ]
  },
  {
   "cell_type": "code",
   "execution_count": 42,
   "metadata": {
    "ExecuteTime": {
     "end_time": "2025-01-23T21:25:30.573669Z",
     "start_time": "2025-01-23T21:25:30.423358Z"
    }
   },
   "outputs": [
    {
     "data": {
      "text/plain": "                                                                     sent_str\nchap_num para_num sent_num                                                   \n12       9        1         \" cried Captain Wentworth, instantly, and with...\n16       6        1         and it did not surprise her, therefore, that L...\n15       11       9         but, at the same time, \"must lament his being ...\n21       15       2                                                         \"\n24       4        6         and if they could but keep Captain Wentworth f...\n8        1        8         There must be the same immediate association o...\n18       30       1         Yes, yes we will have a snug walk together, an...\n20       44       3         The others returned, the room filled again, be...\n6        8        8         but I shall tell you, Miss Anne, because you m...\n12       64       0         Captain Wentworth now hurried off to get every...",
      "text/html": "<div>\n<style scoped>\n    .dataframe tbody tr th:only-of-type {\n        vertical-align: middle;\n    }\n\n    .dataframe tbody tr th {\n        vertical-align: top;\n    }\n\n    .dataframe thead th {\n        text-align: right;\n    }\n</style>\n<table border=\"1\" class=\"dataframe\">\n  <thead>\n    <tr style=\"text-align: right;\">\n      <th></th>\n      <th></th>\n      <th></th>\n      <th>sent_str</th>\n    </tr>\n    <tr>\n      <th>chap_num</th>\n      <th>para_num</th>\n      <th>sent_num</th>\n      <th></th>\n    </tr>\n  </thead>\n  <tbody>\n    <tr>\n      <th>12</th>\n      <th>9</th>\n      <th>1</th>\n      <td>\" cried Captain Wentworth, instantly, and with...</td>\n    </tr>\n    <tr>\n      <th>16</th>\n      <th>6</th>\n      <th>1</th>\n      <td>and it did not surprise her, therefore, that L...</td>\n    </tr>\n    <tr>\n      <th>15</th>\n      <th>11</th>\n      <th>9</th>\n      <td>but, at the same time, \"must lament his being ...</td>\n    </tr>\n    <tr>\n      <th>21</th>\n      <th>15</th>\n      <th>2</th>\n      <td>\"</td>\n    </tr>\n    <tr>\n      <th>24</th>\n      <th>4</th>\n      <th>6</th>\n      <td>and if they could but keep Captain Wentworth f...</td>\n    </tr>\n    <tr>\n      <th>8</th>\n      <th>1</th>\n      <th>8</th>\n      <td>There must be the same immediate association o...</td>\n    </tr>\n    <tr>\n      <th>18</th>\n      <th>30</th>\n      <th>1</th>\n      <td>Yes, yes we will have a snug walk together, an...</td>\n    </tr>\n    <tr>\n      <th>20</th>\n      <th>44</th>\n      <th>3</th>\n      <td>The others returned, the room filled again, be...</td>\n    </tr>\n    <tr>\n      <th>6</th>\n      <th>8</th>\n      <th>8</th>\n      <td>but I shall tell you, Miss Anne, because you m...</td>\n    </tr>\n    <tr>\n      <th>12</th>\n      <th>64</th>\n      <th>0</th>\n      <td>Captain Wentworth now hurried off to get every...</td>\n    </tr>\n  </tbody>\n</table>\n</div>"
     },
     "execution_count": 42,
     "metadata": {},
     "output_type": "execute_result"
    }
   ],
   "source": [
    "SENTS.sample(10)"
   ]
  },
  {
   "cell_type": "markdown",
   "metadata": {},
   "source": [
    "## Split sentences into tokens"
   ]
  },
  {
   "cell_type": "code",
   "execution_count": 43,
   "metadata": {
    "ExecuteTime": {
     "end_time": "2025-01-23T21:25:30.720828Z",
     "start_time": "2025-01-23T21:25:30.443257Z"
    }
   },
   "outputs": [],
   "source": [
    "token_pat = r\"[\\s',-]+\"\n",
    "TOKENS = SENTS['sent_str'].str.split(token_pat, expand=True).stack()\\\n",
    "    .to_frame('token_str')"
   ]
  },
  {
   "cell_type": "code",
   "execution_count": 44,
   "metadata": {
    "ExecuteTime": {
     "end_time": "2025-01-23T21:25:30.722090Z",
     "start_time": "2025-01-23T21:25:30.471221Z"
    }
   },
   "outputs": [],
   "source": [
    "TOKENS.index.names = OHCO[:4]"
   ]
  },
  {
   "cell_type": "code",
   "execution_count": 45,
   "metadata": {
    "ExecuteTime": {
     "end_time": "2025-01-23T21:25:30.723455Z",
     "start_time": "2025-01-23T21:25:30.476354Z"
    }
   },
   "outputs": [
    {
     "data": {
      "text/plain": "                                       token_str\nchap_num para_num sent_num token_num            \n1        0        0        0                 Sir\n                           1              Walter\n                           2              Elliot\n                           3                  of\n                           4            Kellynch\n...                                          ...\n24       13       0        6                  of\n                           7          Persuasion\n                           8                  by\n                           9                Jane\n                           10             Austen\n\n[85014 rows x 1 columns]",
      "text/html": "<div>\n<style scoped>\n    .dataframe tbody tr th:only-of-type {\n        vertical-align: middle;\n    }\n\n    .dataframe tbody tr th {\n        vertical-align: top;\n    }\n\n    .dataframe thead th {\n        text-align: right;\n    }\n</style>\n<table border=\"1\" class=\"dataframe\">\n  <thead>\n    <tr style=\"text-align: right;\">\n      <th></th>\n      <th></th>\n      <th></th>\n      <th></th>\n      <th>token_str</th>\n    </tr>\n    <tr>\n      <th>chap_num</th>\n      <th>para_num</th>\n      <th>sent_num</th>\n      <th>token_num</th>\n      <th></th>\n    </tr>\n  </thead>\n  <tbody>\n    <tr>\n      <th rowspan=\"5\" valign=\"top\">1</th>\n      <th rowspan=\"5\" valign=\"top\">0</th>\n      <th rowspan=\"5\" valign=\"top\">0</th>\n      <th>0</th>\n      <td>Sir</td>\n    </tr>\n    <tr>\n      <th>1</th>\n      <td>Walter</td>\n    </tr>\n    <tr>\n      <th>2</th>\n      <td>Elliot</td>\n    </tr>\n    <tr>\n      <th>3</th>\n      <td>of</td>\n    </tr>\n    <tr>\n      <th>4</th>\n      <td>Kellynch</td>\n    </tr>\n    <tr>\n      <th>...</th>\n      <th>...</th>\n      <th>...</th>\n      <th>...</th>\n      <td>...</td>\n    </tr>\n    <tr>\n      <th rowspan=\"5\" valign=\"top\">24</th>\n      <th rowspan=\"5\" valign=\"top\">13</th>\n      <th rowspan=\"5\" valign=\"top\">0</th>\n      <th>6</th>\n      <td>of</td>\n    </tr>\n    <tr>\n      <th>7</th>\n      <td>Persuasion</td>\n    </tr>\n    <tr>\n      <th>8</th>\n      <td>by</td>\n    </tr>\n    <tr>\n      <th>9</th>\n      <td>Jane</td>\n    </tr>\n    <tr>\n      <th>10</th>\n      <td>Austen</td>\n    </tr>\n  </tbody>\n</table>\n<p>85014 rows × 1 columns</p>\n</div>"
     },
     "execution_count": 45,
     "metadata": {},
     "output_type": "execute_result"
    }
   ],
   "source": [
    "TOKENS"
   ]
  },
  {
   "cell_type": "markdown",
   "metadata": {},
   "source": [
    "## Extract Vocabulary"
   ]
  },
  {
   "cell_type": "code",
   "execution_count": 46,
   "metadata": {
    "ExecuteTime": {
     "end_time": "2025-01-23T21:25:30.761838Z",
     "start_time": "2025-01-23T21:25:30.521876Z"
    }
   },
   "outputs": [],
   "source": [
    "TOKENS['term_str'] = TOKENS.token_str.replace(r'[\\W_]+', '', regex=True).str.lower()\n",
    "VOCAB = TOKENS.term_str.value_counts().to_frame('n').reset_index().rename(columns={'index':'term_str'})\n",
    "VOCAB.index.name = 'term_id'"
   ]
  },
  {
   "cell_type": "code",
   "execution_count": 47,
   "metadata": {
    "ExecuteTime": {
     "end_time": "2025-01-23T21:25:31.046307Z",
     "start_time": "2025-01-23T21:25:30.749024Z"
    }
   },
   "outputs": [
    {
     "data": {
      "text/plain": "            term_str     n\nterm_id                   \n0                the  3330\n1                 to  2808\n2                and  2800\n3                 of  2572\n4                  a  1595\n...              ...   ...\n5755           reins     1\n5756     judiciously     1\n5757             rut     1\n5758            dung     1\n5759          austen     1\n\n[5760 rows x 2 columns]",
      "text/html": "<div>\n<style scoped>\n    .dataframe tbody tr th:only-of-type {\n        vertical-align: middle;\n    }\n\n    .dataframe tbody tr th {\n        vertical-align: top;\n    }\n\n    .dataframe thead th {\n        text-align: right;\n    }\n</style>\n<table border=\"1\" class=\"dataframe\">\n  <thead>\n    <tr style=\"text-align: right;\">\n      <th></th>\n      <th>term_str</th>\n      <th>n</th>\n    </tr>\n    <tr>\n      <th>term_id</th>\n      <th></th>\n      <th></th>\n    </tr>\n  </thead>\n  <tbody>\n    <tr>\n      <th>0</th>\n      <td>the</td>\n      <td>3330</td>\n    </tr>\n    <tr>\n      <th>1</th>\n      <td>to</td>\n      <td>2808</td>\n    </tr>\n    <tr>\n      <th>2</th>\n      <td>and</td>\n      <td>2800</td>\n    </tr>\n    <tr>\n      <th>3</th>\n      <td>of</td>\n      <td>2572</td>\n    </tr>\n    <tr>\n      <th>4</th>\n      <td>a</td>\n      <td>1595</td>\n    </tr>\n    <tr>\n      <th>...</th>\n      <td>...</td>\n      <td>...</td>\n    </tr>\n    <tr>\n      <th>5755</th>\n      <td>reins</td>\n      <td>1</td>\n    </tr>\n    <tr>\n      <th>5756</th>\n      <td>judiciously</td>\n      <td>1</td>\n    </tr>\n    <tr>\n      <th>5757</th>\n      <td>rut</td>\n      <td>1</td>\n    </tr>\n    <tr>\n      <th>5758</th>\n      <td>dung</td>\n      <td>1</td>\n    </tr>\n    <tr>\n      <th>5759</th>\n      <td>austen</td>\n      <td>1</td>\n    </tr>\n  </tbody>\n</table>\n<p>5760 rows × 2 columns</p>\n</div>"
     },
     "execution_count": 47,
     "metadata": {},
     "output_type": "execute_result"
    }
   ],
   "source": [
    "VOCAB"
   ]
  },
  {
   "cell_type": "markdown",
   "metadata": {},
   "source": [
    "## Gathering by Content Object"
   ]
  },
  {
   "cell_type": "code",
   "execution_count": 48,
   "metadata": {
    "ExecuteTime": {
     "end_time": "2025-01-23T21:25:31.304399Z",
     "start_time": "2025-01-23T21:25:31.048810Z"
    }
   },
   "outputs": [],
   "source": [
    "def gather(ohco_level):\n",
    "    global TOKENS\n",
    "    level_name = OHCO[ohco_level-1].split('_')[0]\n",
    "    df = TOKENS.groupby(OHCO[:ohco_level])\\\n",
    "        .token_str.apply(lambda x: x.str.cat(sep=' '))\\\n",
    "        .to_frame(f\"{level_name}_str\")\n",
    "    return df"
   ]
  },
  {
   "cell_type": "code",
   "execution_count": 49,
   "metadata": {
    "ExecuteTime": {
     "end_time": "2025-01-23T21:25:31.372331Z",
     "start_time": "2025-01-23T21:25:31.288837Z"
    }
   },
   "outputs": [
    {
     "data": {
      "text/plain": "                                                   chap_str\nchap_num                                                   \n1         Sir Walter Elliot of Kellynch Hall in Somerset...\n2         Mr Shepherd a civil cautious lawyer who whatev...\n3         \"I must take leave to observe Sir Walter \" sai...\n4         He was not Mr Wentworth the former curate of M...\n5         On the morning appointed for Admiral and Mrs C...\n6         Anne had not wanted this visit to Uppercross t...\n7         A very few days more and Captain Wentworth was...\n8         From this time Captain Wentworth and Anne Elli...\n9         Captain Wentworth was come to Kellynch as to a...\n10        Other opportunities of making her observations...\n11        The time now approached for Lady Russell s ret...\n12        Anne and Henrietta finding themselves the earl...\n13        The remainder of Anne s time at Uppercross com...\n14        Though Charles and Mary had remained at Lyme m...\n15        Sir Walter had taken a very good house in Camd...\n16        There was one point which Anne on returning to...\n17        While Sir Walter and Elizabeth were assiduousl...\n18        It was the beginning of February and Anne havi...\n19        While Admiral Croft was taking this walk with ...\n20        Sir Walter his two daughters and Mrs Clay were...\n21        Anne recollected with pleasure the next mornin...\n22        Anne went home to think over all that she had ...\n23        One day only had passed since Anne s conversat...\n24        Who can be in doubt of what followed When any ...",
      "text/html": "<div>\n<style scoped>\n    .dataframe tbody tr th:only-of-type {\n        vertical-align: middle;\n    }\n\n    .dataframe tbody tr th {\n        vertical-align: top;\n    }\n\n    .dataframe thead th {\n        text-align: right;\n    }\n</style>\n<table border=\"1\" class=\"dataframe\">\n  <thead>\n    <tr style=\"text-align: right;\">\n      <th></th>\n      <th>chap_str</th>\n    </tr>\n    <tr>\n      <th>chap_num</th>\n      <th></th>\n    </tr>\n  </thead>\n  <tbody>\n    <tr>\n      <th>1</th>\n      <td>Sir Walter Elliot of Kellynch Hall in Somerset...</td>\n    </tr>\n    <tr>\n      <th>2</th>\n      <td>Mr Shepherd a civil cautious lawyer who whatev...</td>\n    </tr>\n    <tr>\n      <th>3</th>\n      <td>\"I must take leave to observe Sir Walter \" sai...</td>\n    </tr>\n    <tr>\n      <th>4</th>\n      <td>He was not Mr Wentworth the former curate of M...</td>\n    </tr>\n    <tr>\n      <th>5</th>\n      <td>On the morning appointed for Admiral and Mrs C...</td>\n    </tr>\n    <tr>\n      <th>6</th>\n      <td>Anne had not wanted this visit to Uppercross t...</td>\n    </tr>\n    <tr>\n      <th>7</th>\n      <td>A very few days more and Captain Wentworth was...</td>\n    </tr>\n    <tr>\n      <th>8</th>\n      <td>From this time Captain Wentworth and Anne Elli...</td>\n    </tr>\n    <tr>\n      <th>9</th>\n      <td>Captain Wentworth was come to Kellynch as to a...</td>\n    </tr>\n    <tr>\n      <th>10</th>\n      <td>Other opportunities of making her observations...</td>\n    </tr>\n    <tr>\n      <th>11</th>\n      <td>The time now approached for Lady Russell s ret...</td>\n    </tr>\n    <tr>\n      <th>12</th>\n      <td>Anne and Henrietta finding themselves the earl...</td>\n    </tr>\n    <tr>\n      <th>13</th>\n      <td>The remainder of Anne s time at Uppercross com...</td>\n    </tr>\n    <tr>\n      <th>14</th>\n      <td>Though Charles and Mary had remained at Lyme m...</td>\n    </tr>\n    <tr>\n      <th>15</th>\n      <td>Sir Walter had taken a very good house in Camd...</td>\n    </tr>\n    <tr>\n      <th>16</th>\n      <td>There was one point which Anne on returning to...</td>\n    </tr>\n    <tr>\n      <th>17</th>\n      <td>While Sir Walter and Elizabeth were assiduousl...</td>\n    </tr>\n    <tr>\n      <th>18</th>\n      <td>It was the beginning of February and Anne havi...</td>\n    </tr>\n    <tr>\n      <th>19</th>\n      <td>While Admiral Croft was taking this walk with ...</td>\n    </tr>\n    <tr>\n      <th>20</th>\n      <td>Sir Walter his two daughters and Mrs Clay were...</td>\n    </tr>\n    <tr>\n      <th>21</th>\n      <td>Anne recollected with pleasure the next mornin...</td>\n    </tr>\n    <tr>\n      <th>22</th>\n      <td>Anne went home to think over all that she had ...</td>\n    </tr>\n    <tr>\n      <th>23</th>\n      <td>One day only had passed since Anne s conversat...</td>\n    </tr>\n    <tr>\n      <th>24</th>\n      <td>Who can be in doubt of what followed When any ...</td>\n    </tr>\n  </tbody>\n</table>\n</div>"
     },
     "execution_count": 49,
     "metadata": {},
     "output_type": "execute_result"
    }
   ],
   "source": [
    "gather(1)"
   ]
  },
  {
   "cell_type": "code",
   "execution_count": 50,
   "metadata": {
    "ExecuteTime": {
     "end_time": "2025-01-23T21:25:31.485090Z",
     "start_time": "2025-01-23T21:25:31.374048Z"
    }
   },
   "outputs": [
    {
     "data": {
      "text/plain": "                                                            para_str\nchap_num para_num                                                   \n1        0         Sir Walter Elliot of Kellynch Hall in Somerset...\n         1                                  \"ELLIOT OF KELLYNCH HALL\n         2         \"Walter Elliot born March 1 1760 married July ...\n         3         Precisely such had the paragraph originally st...\n         4         Then followed the history and rise of the anci...\n...                                                              ...\n24       9         Anne satisfied at a very early period of Lady ...\n         10        Her recent good offices by Anne had been enoug...\n         11        Mrs Smith s enjoyments were not spoiled by thi...\n         12                                                    Finis\n         13        End of the Project Gutenberg EBook of Persuasi...\n\n[1008 rows x 1 columns]",
      "text/html": "<div>\n<style scoped>\n    .dataframe tbody tr th:only-of-type {\n        vertical-align: middle;\n    }\n\n    .dataframe tbody tr th {\n        vertical-align: top;\n    }\n\n    .dataframe thead th {\n        text-align: right;\n    }\n</style>\n<table border=\"1\" class=\"dataframe\">\n  <thead>\n    <tr style=\"text-align: right;\">\n      <th></th>\n      <th></th>\n      <th>para_str</th>\n    </tr>\n    <tr>\n      <th>chap_num</th>\n      <th>para_num</th>\n      <th></th>\n    </tr>\n  </thead>\n  <tbody>\n    <tr>\n      <th rowspan=\"5\" valign=\"top\">1</th>\n      <th>0</th>\n      <td>Sir Walter Elliot of Kellynch Hall in Somerset...</td>\n    </tr>\n    <tr>\n      <th>1</th>\n      <td>\"ELLIOT OF KELLYNCH HALL</td>\n    </tr>\n    <tr>\n      <th>2</th>\n      <td>\"Walter Elliot born March 1 1760 married July ...</td>\n    </tr>\n    <tr>\n      <th>3</th>\n      <td>Precisely such had the paragraph originally st...</td>\n    </tr>\n    <tr>\n      <th>4</th>\n      <td>Then followed the history and rise of the anci...</td>\n    </tr>\n    <tr>\n      <th>...</th>\n      <th>...</th>\n      <td>...</td>\n    </tr>\n    <tr>\n      <th rowspan=\"5\" valign=\"top\">24</th>\n      <th>9</th>\n      <td>Anne satisfied at a very early period of Lady ...</td>\n    </tr>\n    <tr>\n      <th>10</th>\n      <td>Her recent good offices by Anne had been enoug...</td>\n    </tr>\n    <tr>\n      <th>11</th>\n      <td>Mrs Smith s enjoyments were not spoiled by thi...</td>\n    </tr>\n    <tr>\n      <th>12</th>\n      <td>Finis</td>\n    </tr>\n    <tr>\n      <th>13</th>\n      <td>End of the Project Gutenberg EBook of Persuasi...</td>\n    </tr>\n  </tbody>\n</table>\n<p>1008 rows × 1 columns</p>\n</div>"
     },
     "execution_count": 50,
     "metadata": {},
     "output_type": "execute_result"
    }
   ],
   "source": [
    "gather(2)"
   ]
  },
  {
   "cell_type": "code",
   "execution_count": 51,
   "metadata": {
    "ExecuteTime": {
     "end_time": "2025-01-23T21:25:31.656261Z",
     "start_time": "2025-01-23T21:25:31.430098Z"
    }
   },
   "outputs": [
    {
     "data": {
      "text/plain": "                                                                     sent_str\nchap_num para_num sent_num                                                   \n1        0        0         Sir Walter Elliot of Kellynch Hall in Somerset...\n                  1         there he found occupation for an idle hour and...\n                  2         there his faculties were roused into admiratio...\n                  3         there any unwelcome sensations arising from do...\n                  4         and there if every other leaf were powerless h...\n...                                                                       ...\n24       11       4         Anne was tenderness itself and she had the ful...\n                  5         His profession was all that could ever make he...\n                  6         She gloried in being a sailor s wife but she m...\n         12       0                                                     Finis\n         13       0         End of the Project Gutenberg EBook of Persuasi...\n\n[5612 rows x 1 columns]",
      "text/html": "<div>\n<style scoped>\n    .dataframe tbody tr th:only-of-type {\n        vertical-align: middle;\n    }\n\n    .dataframe tbody tr th {\n        vertical-align: top;\n    }\n\n    .dataframe thead th {\n        text-align: right;\n    }\n</style>\n<table border=\"1\" class=\"dataframe\">\n  <thead>\n    <tr style=\"text-align: right;\">\n      <th></th>\n      <th></th>\n      <th></th>\n      <th>sent_str</th>\n    </tr>\n    <tr>\n      <th>chap_num</th>\n      <th>para_num</th>\n      <th>sent_num</th>\n      <th></th>\n    </tr>\n  </thead>\n  <tbody>\n    <tr>\n      <th rowspan=\"5\" valign=\"top\">1</th>\n      <th rowspan=\"5\" valign=\"top\">0</th>\n      <th>0</th>\n      <td>Sir Walter Elliot of Kellynch Hall in Somerset...</td>\n    </tr>\n    <tr>\n      <th>1</th>\n      <td>there he found occupation for an idle hour and...</td>\n    </tr>\n    <tr>\n      <th>2</th>\n      <td>there his faculties were roused into admiratio...</td>\n    </tr>\n    <tr>\n      <th>3</th>\n      <td>there any unwelcome sensations arising from do...</td>\n    </tr>\n    <tr>\n      <th>4</th>\n      <td>and there if every other leaf were powerless h...</td>\n    </tr>\n    <tr>\n      <th>...</th>\n      <th>...</th>\n      <th>...</th>\n      <td>...</td>\n    </tr>\n    <tr>\n      <th rowspan=\"5\" valign=\"top\">24</th>\n      <th rowspan=\"3\" valign=\"top\">11</th>\n      <th>4</th>\n      <td>Anne was tenderness itself and she had the ful...</td>\n    </tr>\n    <tr>\n      <th>5</th>\n      <td>His profession was all that could ever make he...</td>\n    </tr>\n    <tr>\n      <th>6</th>\n      <td>She gloried in being a sailor s wife but she m...</td>\n    </tr>\n    <tr>\n      <th>12</th>\n      <th>0</th>\n      <td>Finis</td>\n    </tr>\n    <tr>\n      <th>13</th>\n      <th>0</th>\n      <td>End of the Project Gutenberg EBook of Persuasi...</td>\n    </tr>\n  </tbody>\n</table>\n<p>5612 rows × 1 columns</p>\n</div>"
     },
     "execution_count": 51,
     "metadata": {},
     "output_type": "execute_result"
    }
   ],
   "source": [
    "gather(3)"
   ]
  },
  {
   "cell_type": "markdown",
   "metadata": {},
   "source": [
    "## Save work to CSV\n",
    "\n",
    "This is important -- will be used for homework."
   ]
  },
  {
   "cell_type": "code",
   "execution_count": 54,
   "metadata": {
    "ExecuteTime": {
     "end_time": "2025-01-23T21:37:11.936494Z",
     "start_time": "2025-01-23T21:37:11.829507Z"
    }
   },
   "outputs": [],
   "source": [
    "TOKENS.to_csv(csv_file)"
   ]
  },
  {
   "cell_type": "code",
   "outputs": [],
   "source": [],
   "metadata": {
    "collapsed": false
   }
  }
 ],
 "metadata": {
  "kernelspec": {
   "display_name": "Python 3",
   "language": "python",
   "name": "python3"
  },
  "language_info": {
   "codemirror_mode": {
    "name": "ipython",
    "version": 3
   },
   "file_extension": ".py",
   "mimetype": "text/x-python",
   "name": "python",
   "nbconvert_exporter": "python",
   "pygments_lexer": "ipython3",
   "version": "3.11.4"
  },
  "latex_envs": {
   "LaTeX_envs_menu_present": true,
   "autoclose": false,
   "autocomplete": true,
   "bibliofile": "biblio.bib",
   "cite_by": "apalike",
   "current_citInitial": 1,
   "eqLabelWithNumbers": true,
   "eqNumInitial": 1,
   "hotkeys": {
    "equation": "Ctrl-E",
    "itemize": "Ctrl-I"
   },
   "labels_anchors": false,
   "latex_user_defs": false,
   "report_style_numbering": false,
   "user_envs_cfg": false
  },
  "toc": {
   "base_numbering": 1,
   "nav_menu": {},
   "number_sections": true,
   "sideBar": true,
   "skip_h1_title": true,
   "title_cell": "Table of Contents",
   "title_sidebar": "Contents",
   "toc_cell": false,
   "toc_position": {
    "height": "calc(100% - 180px)",
    "left": "10px",
    "top": "150px",
    "width": "307.2px"
   },
   "toc_section_display": true,
   "toc_window_display": true
  },
  "varInspector": {
   "cols": {
    "lenName": 16,
    "lenType": 16,
    "lenVar": 40
   },
   "kernels_config": {
    "python": {
     "delete_cmd_postfix": "",
     "delete_cmd_prefix": "del ",
     "library": "var_list.py",
     "varRefreshCmd": "print(var_dic_list())"
    },
    "r": {
     "delete_cmd_postfix": ") ",
     "delete_cmd_prefix": "rm(",
     "library": "var_list.r",
     "varRefreshCmd": "cat(var_dic_list()) "
    }
   },
   "types_to_exclude": [
    "module",
    "function",
    "builtin_function_or_method",
    "instance",
    "_Feature"
   ],
   "window_display": false
  },
  "widgets": {
   "application/vnd.jupyter.widget-state+json": {
    "state": {},
    "version_major": 2,
    "version_minor": 0
   }
  }
 },
 "nbformat": 4,
 "nbformat_minor": 4
}
