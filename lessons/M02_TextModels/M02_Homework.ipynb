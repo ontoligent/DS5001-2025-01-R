{
 "cells": [
  {
   "cell_type": "markdown",
   "id": "e47cee993512f1bb",
   "metadata": {
    "collapsed": false
   },
   "source": [
    "## Set Up"
   ]
  },
  {
   "cell_type": "markdown",
   "id": "e6269158da483343",
   "metadata": {
    "collapsed": false
   },
   "source": [
    "## Import libraries"
   ]
  },
  {
   "cell_type": "code",
   "execution_count": 56,
   "id": "b93b057653bd2e45",
   "metadata": {
    "collapsed": false,
    "ExecuteTime": {
     "end_time": "2025-02-03T22:02:11.866767Z",
     "start_time": "2025-02-03T22:02:11.633914Z"
    }
   },
   "outputs": [],
   "source": [
    "import pandas as pd\n"
   ]
  },
  {
   "cell_type": "markdown",
   "id": "f49c1470ba756c47",
   "metadata": {
    "collapsed": false
   },
   "source": [
    "### Import Config"
   ]
  },
  {
   "cell_type": "code",
   "execution_count": 57,
   "id": "7cde51cf0193cf8f",
   "metadata": {
    "collapsed": false,
    "ExecuteTime": {
     "end_time": "2025-02-03T22:02:11.881059Z",
     "start_time": "2025-02-03T22:02:11.868394Z"
    }
   },
   "outputs": [],
   "source": [
    "import configparser\n",
    "\n",
    "config = configparser.ConfigParser()\n",
    "config.read(\"../../../env.ini\")\n",
    "data_home = config['DEFAULT']['data_home']\n",
    "output_dir = config['DEFAULT']['output_dir']"
   ]
  },
  {
   "cell_type": "code",
   "execution_count": 58,
   "id": "c84ee30e7a73431b",
   "metadata": {
    "collapsed": false,
    "ExecuteTime": {
     "end_time": "2025-02-03T22:02:11.899049Z",
     "start_time": "2025-02-03T22:02:11.873997Z"
    }
   },
   "outputs": [
    {
     "data": {
      "text/plain": "('/Users/jamessiegener/MSDS/DS5001/data',\n '/Users/jamessiegener/MSDS/DS5001/output')"
     },
     "execution_count": 58,
     "metadata": {},
     "output_type": "execute_result"
    }
   ],
   "source": [
    "data_home, output_dir"
   ]
  },
  {
   "cell_type": "code",
   "execution_count": 59,
   "id": "3dfa264ac6fbf00b",
   "metadata": {
    "collapsed": false,
    "ExecuteTime": {
     "end_time": "2025-02-03T22:02:11.923633Z",
     "start_time": "2025-02-03T22:02:11.887064Z"
    }
   },
   "outputs": [],
   "source": [
    "text_file = f\"{data_home}/gutenberg/pg161.txt\"\n",
    "csv_file = f\"{output_dir}/austen-combo-TOKENS.csv\""
   ]
  },
  {
   "cell_type": "code",
   "execution_count": 60,
   "id": "7fa6800579a0c0b2",
   "metadata": {
    "collapsed": false,
    "ExecuteTime": {
     "end_time": "2025-02-03T22:02:11.941167Z",
     "start_time": "2025-02-03T22:02:11.906555Z"
    }
   },
   "outputs": [],
   "source": [
    "OHCO = ['chap_num', 'para_num', 'sent_num', 'token_num']"
   ]
  },
  {
   "cell_type": "markdown",
   "id": "9592c6dd93661416",
   "metadata": {
    "collapsed": false
   },
   "source": [
    "## Import file into a dataframe"
   ]
  },
  {
   "cell_type": "code",
   "execution_count": 61,
   "id": "initial_id",
   "metadata": {
    "ExecuteTime": {
     "end_time": "2025-02-03T22:02:12.014782Z",
     "start_time": "2025-02-03T22:02:11.942968Z"
    }
   },
   "outputs": [
    {
     "data": {
      "text/plain": "                                                   line_str\nline_num                                                   \n40                                                         \n6082      \"Exert yourself, dear Marianne,\" she cried, \"i...\n3867      too.-- I assure you it was a great compliment ...\n4064                                                       \n72        property, could be but small.  Their mother ha...\n7530      people of common prudence will do THAT; and wh...\n754                                                        \n11312     brought, by their united request, to consider ...\n11107                                              her own.\n5523      Colonel Brandon, who had a general invitation ...\n6103                                    CAN have no grief.\"\n6562      \"Marianne is not well,\" said she.  \"She has be...\n2246      \"But, my dear Marianne, as it has already expo...\n5103                            estranged from each other.\"\n7440                                                       \n10182     looked very grave on Mr. Harris's report, and ...\n10848     town, however, I blundered on Sir John, I beli...\n4577      while the same period of time, spent on her si...\n1283      from their hills; and the two girls set off to...\n5537      Elinor, rejoiced to be assured of his being in...",
      "text/html": "<div>\n<style scoped>\n    .dataframe tbody tr th:only-of-type {\n        vertical-align: middle;\n    }\n\n    .dataframe tbody tr th {\n        vertical-align: top;\n    }\n\n    .dataframe thead th {\n        text-align: right;\n    }\n</style>\n<table border=\"1\" class=\"dataframe\">\n  <thead>\n    <tr style=\"text-align: right;\">\n      <th></th>\n      <th>line_str</th>\n    </tr>\n    <tr>\n      <th>line_num</th>\n      <th></th>\n    </tr>\n  </thead>\n  <tbody>\n    <tr>\n      <th>40</th>\n      <td></td>\n    </tr>\n    <tr>\n      <th>6082</th>\n      <td>\"Exert yourself, dear Marianne,\" she cried, \"i...</td>\n    </tr>\n    <tr>\n      <th>3867</th>\n      <td>too.-- I assure you it was a great compliment ...</td>\n    </tr>\n    <tr>\n      <th>4064</th>\n      <td></td>\n    </tr>\n    <tr>\n      <th>72</th>\n      <td>property, could be but small.  Their mother ha...</td>\n    </tr>\n    <tr>\n      <th>7530</th>\n      <td>people of common prudence will do THAT; and wh...</td>\n    </tr>\n    <tr>\n      <th>754</th>\n      <td></td>\n    </tr>\n    <tr>\n      <th>11312</th>\n      <td>brought, by their united request, to consider ...</td>\n    </tr>\n    <tr>\n      <th>11107</th>\n      <td>her own.</td>\n    </tr>\n    <tr>\n      <th>5523</th>\n      <td>Colonel Brandon, who had a general invitation ...</td>\n    </tr>\n    <tr>\n      <th>6103</th>\n      <td>CAN have no grief.\"</td>\n    </tr>\n    <tr>\n      <th>6562</th>\n      <td>\"Marianne is not well,\" said she.  \"She has be...</td>\n    </tr>\n    <tr>\n      <th>2246</th>\n      <td>\"But, my dear Marianne, as it has already expo...</td>\n    </tr>\n    <tr>\n      <th>5103</th>\n      <td>estranged from each other.\"</td>\n    </tr>\n    <tr>\n      <th>7440</th>\n      <td></td>\n    </tr>\n    <tr>\n      <th>10182</th>\n      <td>looked very grave on Mr. Harris's report, and ...</td>\n    </tr>\n    <tr>\n      <th>10848</th>\n      <td>town, however, I blundered on Sir John, I beli...</td>\n    </tr>\n    <tr>\n      <th>4577</th>\n      <td>while the same period of time, spent on her si...</td>\n    </tr>\n    <tr>\n      <th>1283</th>\n      <td>from their hills; and the two girls set off to...</td>\n    </tr>\n    <tr>\n      <th>5537</th>\n      <td>Elinor, rejoiced to be assured of his being in...</td>\n    </tr>\n  </tbody>\n</table>\n</div>"
     },
     "execution_count": 61,
     "metadata": {},
     "output_type": "execute_result"
    }
   ],
   "source": [
    "LINES = pd.DataFrame(open(text_file, 'r', encoding='utf-8-sig').readlines(), columns=['line_str'])\n",
    "LINES.index.name = 'line_num'\n",
    "LINES.line_str = LINES.line_str.str.replace(r'\\n+', ' ', regex=True).str.strip()\n",
    "LINES.sample(20)"
   ]
  },
  {
   "cell_type": "markdown",
   "id": "2206607279da0047",
   "metadata": {
    "collapsed": false
   },
   "source": [
    "## Extract Title"
   ]
  },
  {
   "cell_type": "code",
   "execution_count": 62,
   "id": "21f97ebe6b0fa7c2",
   "metadata": {
    "collapsed": false,
    "ExecuteTime": {
     "end_time": "2025-02-03T22:02:12.025322Z",
     "start_time": "2025-02-03T22:02:12.004066Z"
    }
   },
   "outputs": [
    {
     "data": {
      "text/plain": "'Sense and Sensibility, by Jane Austen'"
     },
     "execution_count": 62,
     "metadata": {},
     "output_type": "execute_result"
    }
   ],
   "source": [
    "title = LINES.loc[0].line_str.replace('The Project Gutenberg EBook of ', '')\n",
    "title"
   ]
  },
  {
   "cell_type": "markdown",
   "id": "1b02ceb2a3502bc",
   "metadata": {
    "collapsed": false
   },
   "source": [
    "## Clip the Cruft"
   ]
  },
  {
   "cell_type": "code",
   "execution_count": 63,
   "id": "9ca5831614d01402",
   "metadata": {
    "collapsed": false,
    "ExecuteTime": {
     "end_time": "2025-02-03T22:02:12.056079Z",
     "start_time": "2025-02-03T22:02:12.020624Z"
    }
   },
   "outputs": [],
   "source": [
    "clip_pats = [\n",
    "    r\"\\*\\*\\*\\s*START OF (?:THE|THIS) PROJECT\",\n",
    "    r\"\\*\\*\\*\\s*END OF (?:THE|THIS) PROJECT\"\n",
    "]"
   ]
  },
  {
   "cell_type": "code",
   "execution_count": 64,
   "id": "d31ca37a4f88b18a",
   "metadata": {
    "collapsed": false,
    "ExecuteTime": {
     "end_time": "2025-02-03T22:02:12.102680Z",
     "start_time": "2025-02-03T22:02:12.039504Z"
    }
   },
   "outputs": [],
   "source": [
    "pat_a = LINES.line_str.str.match(clip_pats[0])\n",
    "pat_b = LINES.line_str.str.match(clip_pats[1])"
   ]
  },
  {
   "cell_type": "code",
   "execution_count": 65,
   "id": "4f01fd920fdbf819",
   "metadata": {
    "collapsed": false,
    "ExecuteTime": {
     "end_time": "2025-02-03T22:02:12.138603Z",
     "start_time": "2025-02-03T22:02:12.075668Z"
    }
   },
   "outputs": [],
   "source": [
    "line_a = LINES.loc[pat_a].index[0] + 1\n",
    "line_b = LINES.loc[pat_b].index[0] - 1"
   ]
  },
  {
   "cell_type": "code",
   "execution_count": 66,
   "id": "ac74c1654f70ab03",
   "metadata": {
    "collapsed": false,
    "ExecuteTime": {
     "end_time": "2025-02-03T22:02:12.169535Z",
     "start_time": "2025-02-03T22:02:12.124832Z"
    }
   },
   "outputs": [
    {
     "data": {
      "text/plain": "(20, 12666)"
     },
     "execution_count": 66,
     "metadata": {},
     "output_type": "execute_result"
    }
   ],
   "source": [
    "line_a, line_b"
   ]
  },
  {
   "cell_type": "code",
   "execution_count": 67,
   "id": "9856aba6f6a36e48",
   "metadata": {
    "collapsed": false,
    "ExecuteTime": {
     "end_time": "2025-02-03T22:02:12.222269Z",
     "start_time": "2025-02-03T22:02:12.167330Z"
    }
   },
   "outputs": [],
   "source": [
    "LINES = LINES.loc[line_a: line_b]"
   ]
  },
  {
   "cell_type": "code",
   "execution_count": 68,
   "id": "4f5792591a7bc89d",
   "metadata": {
    "collapsed": false,
    "ExecuteTime": {
     "end_time": "2025-02-03T22:02:12.244032Z",
     "start_time": "2025-02-03T22:02:12.223624Z"
    }
   },
   "outputs": [
    {
     "data": {
      "text/plain": "         line_str\nline_num         \n20               \n21               \n22               \n23               \n24               \n25               \n26               \n27               \n28               \n29               ",
      "text/html": "<div>\n<style scoped>\n    .dataframe tbody tr th:only-of-type {\n        vertical-align: middle;\n    }\n\n    .dataframe tbody tr th {\n        vertical-align: top;\n    }\n\n    .dataframe thead th {\n        text-align: right;\n    }\n</style>\n<table border=\"1\" class=\"dataframe\">\n  <thead>\n    <tr style=\"text-align: right;\">\n      <th></th>\n      <th>line_str</th>\n    </tr>\n    <tr>\n      <th>line_num</th>\n      <th></th>\n    </tr>\n  </thead>\n  <tbody>\n    <tr>\n      <th>20</th>\n      <td></td>\n    </tr>\n    <tr>\n      <th>21</th>\n      <td></td>\n    </tr>\n    <tr>\n      <th>22</th>\n      <td></td>\n    </tr>\n    <tr>\n      <th>23</th>\n      <td></td>\n    </tr>\n    <tr>\n      <th>24</th>\n      <td></td>\n    </tr>\n    <tr>\n      <th>25</th>\n      <td></td>\n    </tr>\n    <tr>\n      <th>26</th>\n      <td></td>\n    </tr>\n    <tr>\n      <th>27</th>\n      <td></td>\n    </tr>\n    <tr>\n      <th>28</th>\n      <td></td>\n    </tr>\n    <tr>\n      <th>29</th>\n      <td></td>\n    </tr>\n  </tbody>\n</table>\n</div>"
     },
     "execution_count": 68,
     "metadata": {},
     "output_type": "execute_result"
    }
   ],
   "source": [
    "LINES.head(10)"
   ]
  },
  {
   "cell_type": "code",
   "execution_count": 69,
   "id": "b54894a0f732f11d",
   "metadata": {
    "collapsed": false,
    "ExecuteTime": {
     "end_time": "2025-02-03T22:02:12.249646Z",
     "start_time": "2025-02-03T22:02:12.231640Z"
    }
   },
   "outputs": [
    {
     "data": {
      "text/plain": "                                                   line_str\nline_num                                                   \n12657                                                      \n12658                                                      \n12659                                                      \n12660                                                      \n12661                                                      \n12662                                                      \n12663                                                      \n12664                                                      \n12665     End of the Project Gutenberg EBook of Sense an...\n12666                                                      ",
      "text/html": "<div>\n<style scoped>\n    .dataframe tbody tr th:only-of-type {\n        vertical-align: middle;\n    }\n\n    .dataframe tbody tr th {\n        vertical-align: top;\n    }\n\n    .dataframe thead th {\n        text-align: right;\n    }\n</style>\n<table border=\"1\" class=\"dataframe\">\n  <thead>\n    <tr style=\"text-align: right;\">\n      <th></th>\n      <th>line_str</th>\n    </tr>\n    <tr>\n      <th>line_num</th>\n      <th></th>\n    </tr>\n  </thead>\n  <tbody>\n    <tr>\n      <th>12657</th>\n      <td></td>\n    </tr>\n    <tr>\n      <th>12658</th>\n      <td></td>\n    </tr>\n    <tr>\n      <th>12659</th>\n      <td></td>\n    </tr>\n    <tr>\n      <th>12660</th>\n      <td></td>\n    </tr>\n    <tr>\n      <th>12661</th>\n      <td></td>\n    </tr>\n    <tr>\n      <th>12662</th>\n      <td></td>\n    </tr>\n    <tr>\n      <th>12663</th>\n      <td></td>\n    </tr>\n    <tr>\n      <th>12664</th>\n      <td></td>\n    </tr>\n    <tr>\n      <th>12665</th>\n      <td>End of the Project Gutenberg EBook of Sense an...</td>\n    </tr>\n    <tr>\n      <th>12666</th>\n      <td></td>\n    </tr>\n  </tbody>\n</table>\n</div>"
     },
     "execution_count": 69,
     "metadata": {},
     "output_type": "execute_result"
    }
   ],
   "source": [
    "LINES.tail(10)"
   ]
  },
  {
   "cell_type": "markdown",
   "id": "f07e72fb2959f6a4",
   "metadata": {
    "collapsed": false
   },
   "source": [
    "## Chunk by Chapter"
   ]
  },
  {
   "cell_type": "markdown",
   "id": "cca5bc5ce61969c6",
   "metadata": {
    "collapsed": false
   },
   "source": [
    "### Find all chapter headers"
   ]
  },
  {
   "cell_type": "code",
   "execution_count": 70,
   "id": "6a6942886ca72bf7",
   "metadata": {
    "collapsed": false,
    "ExecuteTime": {
     "end_time": "2025-02-03T22:02:12.290433Z",
     "start_time": "2025-02-03T22:02:12.250685Z"
    }
   },
   "outputs": [],
   "source": [
    "chap_pat = r\"^\\s*(?:chapter|letter)\\s+\\d+\""
   ]
  },
  {
   "cell_type": "code",
   "execution_count": 71,
   "id": "61c9db1c61bb4498",
   "metadata": {
    "collapsed": false,
    "ExecuteTime": {
     "end_time": "2025-02-03T22:02:12.340213Z",
     "start_time": "2025-02-03T22:02:12.279290Z"
    }
   },
   "outputs": [],
   "source": [
    "chap_lines = LINES.line_str.str.match(chap_pat, case=False)"
   ]
  },
  {
   "cell_type": "code",
   "execution_count": 72,
   "id": "14dda523d92d283a",
   "metadata": {
    "collapsed": false,
    "ExecuteTime": {
     "end_time": "2025-02-03T22:02:12.375620Z",
     "start_time": "2025-02-03T22:02:12.343354Z"
    }
   },
   "outputs": [
    {
     "data": {
      "text/plain": "            line_str\nline_num            \n42         CHAPTER 1\n196        CHAPTER 2\n399        CHAPTER 3\n561        CHAPTER 4\n756        CHAPTER 5\n858        CHAPTER 6\n986        CHAPTER 7\n1112       CHAPTER 8\n1244       CHAPTER 9\n1448      CHAPTER 10\n1665      CHAPTER 11\n1816      CHAPTER 12\n1997      CHAPTER 13\n2281      CHAPTER 14\n2440      CHAPTER 15\n2718      CHAPTER 16\n2945      CHAPTER 17\n3153      CHAPTER 18\n3331      CHAPTER 19\n3632      CHAPTER 20\n3913      CHAPTER 21\n4214      CHAPTER 22\n4532      CHAPTER 23\n4767      CHAPTER 24\n5001      CHAPTER 25\n5197      CHAPTER 26\n5454      CHAPTER 27\n5732      CHAPTER 28\n5883      CHAPTER 29\n6324      CHAPTER 30\n6628      CHAPTER 31\n7004      CHAPTER 32\n7278      CHAPTER 33\n7601      CHAPTER 34\n7888      CHAPTER 35\n8152      CHAPTER 36\n8456      CHAPTER 37\n8900      CHAPTER 38\n9205      CHAPTER 39\n9408      CHAPTER 40\n9706      CHAPTER 41\n9977      CHAPTER 42\n10155     CHAPTER 43\n10490     CHAPTER 44\n11060     CHAPTER 45\n11278     CHAPTER 46\n11571     CHAPTER 47\n11838     CHAPTER 48\n11986     CHAPTER 49\n12410     CHAPTER 50",
      "text/html": "<div>\n<style scoped>\n    .dataframe tbody tr th:only-of-type {\n        vertical-align: middle;\n    }\n\n    .dataframe tbody tr th {\n        vertical-align: top;\n    }\n\n    .dataframe thead th {\n        text-align: right;\n    }\n</style>\n<table border=\"1\" class=\"dataframe\">\n  <thead>\n    <tr style=\"text-align: right;\">\n      <th></th>\n      <th>line_str</th>\n    </tr>\n    <tr>\n      <th>line_num</th>\n      <th></th>\n    </tr>\n  </thead>\n  <tbody>\n    <tr>\n      <th>42</th>\n      <td>CHAPTER 1</td>\n    </tr>\n    <tr>\n      <th>196</th>\n      <td>CHAPTER 2</td>\n    </tr>\n    <tr>\n      <th>399</th>\n      <td>CHAPTER 3</td>\n    </tr>\n    <tr>\n      <th>561</th>\n      <td>CHAPTER 4</td>\n    </tr>\n    <tr>\n      <th>756</th>\n      <td>CHAPTER 5</td>\n    </tr>\n    <tr>\n      <th>858</th>\n      <td>CHAPTER 6</td>\n    </tr>\n    <tr>\n      <th>986</th>\n      <td>CHAPTER 7</td>\n    </tr>\n    <tr>\n      <th>1112</th>\n      <td>CHAPTER 8</td>\n    </tr>\n    <tr>\n      <th>1244</th>\n      <td>CHAPTER 9</td>\n    </tr>\n    <tr>\n      <th>1448</th>\n      <td>CHAPTER 10</td>\n    </tr>\n    <tr>\n      <th>1665</th>\n      <td>CHAPTER 11</td>\n    </tr>\n    <tr>\n      <th>1816</th>\n      <td>CHAPTER 12</td>\n    </tr>\n    <tr>\n      <th>1997</th>\n      <td>CHAPTER 13</td>\n    </tr>\n    <tr>\n      <th>2281</th>\n      <td>CHAPTER 14</td>\n    </tr>\n    <tr>\n      <th>2440</th>\n      <td>CHAPTER 15</td>\n    </tr>\n    <tr>\n      <th>2718</th>\n      <td>CHAPTER 16</td>\n    </tr>\n    <tr>\n      <th>2945</th>\n      <td>CHAPTER 17</td>\n    </tr>\n    <tr>\n      <th>3153</th>\n      <td>CHAPTER 18</td>\n    </tr>\n    <tr>\n      <th>3331</th>\n      <td>CHAPTER 19</td>\n    </tr>\n    <tr>\n      <th>3632</th>\n      <td>CHAPTER 20</td>\n    </tr>\n    <tr>\n      <th>3913</th>\n      <td>CHAPTER 21</td>\n    </tr>\n    <tr>\n      <th>4214</th>\n      <td>CHAPTER 22</td>\n    </tr>\n    <tr>\n      <th>4532</th>\n      <td>CHAPTER 23</td>\n    </tr>\n    <tr>\n      <th>4767</th>\n      <td>CHAPTER 24</td>\n    </tr>\n    <tr>\n      <th>5001</th>\n      <td>CHAPTER 25</td>\n    </tr>\n    <tr>\n      <th>5197</th>\n      <td>CHAPTER 26</td>\n    </tr>\n    <tr>\n      <th>5454</th>\n      <td>CHAPTER 27</td>\n    </tr>\n    <tr>\n      <th>5732</th>\n      <td>CHAPTER 28</td>\n    </tr>\n    <tr>\n      <th>5883</th>\n      <td>CHAPTER 29</td>\n    </tr>\n    <tr>\n      <th>6324</th>\n      <td>CHAPTER 30</td>\n    </tr>\n    <tr>\n      <th>6628</th>\n      <td>CHAPTER 31</td>\n    </tr>\n    <tr>\n      <th>7004</th>\n      <td>CHAPTER 32</td>\n    </tr>\n    <tr>\n      <th>7278</th>\n      <td>CHAPTER 33</td>\n    </tr>\n    <tr>\n      <th>7601</th>\n      <td>CHAPTER 34</td>\n    </tr>\n    <tr>\n      <th>7888</th>\n      <td>CHAPTER 35</td>\n    </tr>\n    <tr>\n      <th>8152</th>\n      <td>CHAPTER 36</td>\n    </tr>\n    <tr>\n      <th>8456</th>\n      <td>CHAPTER 37</td>\n    </tr>\n    <tr>\n      <th>8900</th>\n      <td>CHAPTER 38</td>\n    </tr>\n    <tr>\n      <th>9205</th>\n      <td>CHAPTER 39</td>\n    </tr>\n    <tr>\n      <th>9408</th>\n      <td>CHAPTER 40</td>\n    </tr>\n    <tr>\n      <th>9706</th>\n      <td>CHAPTER 41</td>\n    </tr>\n    <tr>\n      <th>9977</th>\n      <td>CHAPTER 42</td>\n    </tr>\n    <tr>\n      <th>10155</th>\n      <td>CHAPTER 43</td>\n    </tr>\n    <tr>\n      <th>10490</th>\n      <td>CHAPTER 44</td>\n    </tr>\n    <tr>\n      <th>11060</th>\n      <td>CHAPTER 45</td>\n    </tr>\n    <tr>\n      <th>11278</th>\n      <td>CHAPTER 46</td>\n    </tr>\n    <tr>\n      <th>11571</th>\n      <td>CHAPTER 47</td>\n    </tr>\n    <tr>\n      <th>11838</th>\n      <td>CHAPTER 48</td>\n    </tr>\n    <tr>\n      <th>11986</th>\n      <td>CHAPTER 49</td>\n    </tr>\n    <tr>\n      <th>12410</th>\n      <td>CHAPTER 50</td>\n    </tr>\n  </tbody>\n</table>\n</div>"
     },
     "execution_count": 72,
     "metadata": {},
     "output_type": "execute_result"
    }
   ],
   "source": [
    "LINES.loc[chap_lines] "
   ]
  },
  {
   "cell_type": "markdown",
   "id": "6d553de1877a1c48",
   "metadata": {
    "collapsed": false
   },
   "source": [
    "### Assign numbers to chapters"
   ]
  },
  {
   "cell_type": "code",
   "execution_count": 73,
   "id": "55040125c884e422",
   "metadata": {
    "collapsed": false,
    "ExecuteTime": {
     "end_time": "2025-02-03T22:02:12.432385Z",
     "start_time": "2025-02-03T22:02:12.376476Z"
    }
   },
   "outputs": [],
   "source": [
    "LINES.loc[chap_lines, 'chap_num'] = [i+1 for i in range(LINES.loc[chap_lines].shape[0])]"
   ]
  },
  {
   "cell_type": "code",
   "execution_count": 74,
   "id": "b01357027896b441",
   "metadata": {
    "collapsed": false,
    "ExecuteTime": {
     "end_time": "2025-02-03T22:02:12.472133Z",
     "start_time": "2025-02-03T22:02:12.415153Z"
    }
   },
   "outputs": [
    {
     "data": {
      "text/plain": "            line_str  chap_num\nline_num                      \n42         CHAPTER 1       1.0\n196        CHAPTER 2       2.0\n399        CHAPTER 3       3.0\n561        CHAPTER 4       4.0\n756        CHAPTER 5       5.0\n858        CHAPTER 6       6.0\n986        CHAPTER 7       7.0\n1112       CHAPTER 8       8.0\n1244       CHAPTER 9       9.0\n1448      CHAPTER 10      10.0\n1665      CHAPTER 11      11.0\n1816      CHAPTER 12      12.0\n1997      CHAPTER 13      13.0\n2281      CHAPTER 14      14.0\n2440      CHAPTER 15      15.0\n2718      CHAPTER 16      16.0\n2945      CHAPTER 17      17.0\n3153      CHAPTER 18      18.0\n3331      CHAPTER 19      19.0\n3632      CHAPTER 20      20.0\n3913      CHAPTER 21      21.0\n4214      CHAPTER 22      22.0\n4532      CHAPTER 23      23.0\n4767      CHAPTER 24      24.0\n5001      CHAPTER 25      25.0\n5197      CHAPTER 26      26.0\n5454      CHAPTER 27      27.0\n5732      CHAPTER 28      28.0\n5883      CHAPTER 29      29.0\n6324      CHAPTER 30      30.0\n6628      CHAPTER 31      31.0\n7004      CHAPTER 32      32.0\n7278      CHAPTER 33      33.0\n7601      CHAPTER 34      34.0\n7888      CHAPTER 35      35.0\n8152      CHAPTER 36      36.0\n8456      CHAPTER 37      37.0\n8900      CHAPTER 38      38.0\n9205      CHAPTER 39      39.0\n9408      CHAPTER 40      40.0\n9706      CHAPTER 41      41.0\n9977      CHAPTER 42      42.0\n10155     CHAPTER 43      43.0\n10490     CHAPTER 44      44.0\n11060     CHAPTER 45      45.0\n11278     CHAPTER 46      46.0\n11571     CHAPTER 47      47.0\n11838     CHAPTER 48      48.0\n11986     CHAPTER 49      49.0\n12410     CHAPTER 50      50.0",
      "text/html": "<div>\n<style scoped>\n    .dataframe tbody tr th:only-of-type {\n        vertical-align: middle;\n    }\n\n    .dataframe tbody tr th {\n        vertical-align: top;\n    }\n\n    .dataframe thead th {\n        text-align: right;\n    }\n</style>\n<table border=\"1\" class=\"dataframe\">\n  <thead>\n    <tr style=\"text-align: right;\">\n      <th></th>\n      <th>line_str</th>\n      <th>chap_num</th>\n    </tr>\n    <tr>\n      <th>line_num</th>\n      <th></th>\n      <th></th>\n    </tr>\n  </thead>\n  <tbody>\n    <tr>\n      <th>42</th>\n      <td>CHAPTER 1</td>\n      <td>1.0</td>\n    </tr>\n    <tr>\n      <th>196</th>\n      <td>CHAPTER 2</td>\n      <td>2.0</td>\n    </tr>\n    <tr>\n      <th>399</th>\n      <td>CHAPTER 3</td>\n      <td>3.0</td>\n    </tr>\n    <tr>\n      <th>561</th>\n      <td>CHAPTER 4</td>\n      <td>4.0</td>\n    </tr>\n    <tr>\n      <th>756</th>\n      <td>CHAPTER 5</td>\n      <td>5.0</td>\n    </tr>\n    <tr>\n      <th>858</th>\n      <td>CHAPTER 6</td>\n      <td>6.0</td>\n    </tr>\n    <tr>\n      <th>986</th>\n      <td>CHAPTER 7</td>\n      <td>7.0</td>\n    </tr>\n    <tr>\n      <th>1112</th>\n      <td>CHAPTER 8</td>\n      <td>8.0</td>\n    </tr>\n    <tr>\n      <th>1244</th>\n      <td>CHAPTER 9</td>\n      <td>9.0</td>\n    </tr>\n    <tr>\n      <th>1448</th>\n      <td>CHAPTER 10</td>\n      <td>10.0</td>\n    </tr>\n    <tr>\n      <th>1665</th>\n      <td>CHAPTER 11</td>\n      <td>11.0</td>\n    </tr>\n    <tr>\n      <th>1816</th>\n      <td>CHAPTER 12</td>\n      <td>12.0</td>\n    </tr>\n    <tr>\n      <th>1997</th>\n      <td>CHAPTER 13</td>\n      <td>13.0</td>\n    </tr>\n    <tr>\n      <th>2281</th>\n      <td>CHAPTER 14</td>\n      <td>14.0</td>\n    </tr>\n    <tr>\n      <th>2440</th>\n      <td>CHAPTER 15</td>\n      <td>15.0</td>\n    </tr>\n    <tr>\n      <th>2718</th>\n      <td>CHAPTER 16</td>\n      <td>16.0</td>\n    </tr>\n    <tr>\n      <th>2945</th>\n      <td>CHAPTER 17</td>\n      <td>17.0</td>\n    </tr>\n    <tr>\n      <th>3153</th>\n      <td>CHAPTER 18</td>\n      <td>18.0</td>\n    </tr>\n    <tr>\n      <th>3331</th>\n      <td>CHAPTER 19</td>\n      <td>19.0</td>\n    </tr>\n    <tr>\n      <th>3632</th>\n      <td>CHAPTER 20</td>\n      <td>20.0</td>\n    </tr>\n    <tr>\n      <th>3913</th>\n      <td>CHAPTER 21</td>\n      <td>21.0</td>\n    </tr>\n    <tr>\n      <th>4214</th>\n      <td>CHAPTER 22</td>\n      <td>22.0</td>\n    </tr>\n    <tr>\n      <th>4532</th>\n      <td>CHAPTER 23</td>\n      <td>23.0</td>\n    </tr>\n    <tr>\n      <th>4767</th>\n      <td>CHAPTER 24</td>\n      <td>24.0</td>\n    </tr>\n    <tr>\n      <th>5001</th>\n      <td>CHAPTER 25</td>\n      <td>25.0</td>\n    </tr>\n    <tr>\n      <th>5197</th>\n      <td>CHAPTER 26</td>\n      <td>26.0</td>\n    </tr>\n    <tr>\n      <th>5454</th>\n      <td>CHAPTER 27</td>\n      <td>27.0</td>\n    </tr>\n    <tr>\n      <th>5732</th>\n      <td>CHAPTER 28</td>\n      <td>28.0</td>\n    </tr>\n    <tr>\n      <th>5883</th>\n      <td>CHAPTER 29</td>\n      <td>29.0</td>\n    </tr>\n    <tr>\n      <th>6324</th>\n      <td>CHAPTER 30</td>\n      <td>30.0</td>\n    </tr>\n    <tr>\n      <th>6628</th>\n      <td>CHAPTER 31</td>\n      <td>31.0</td>\n    </tr>\n    <tr>\n      <th>7004</th>\n      <td>CHAPTER 32</td>\n      <td>32.0</td>\n    </tr>\n    <tr>\n      <th>7278</th>\n      <td>CHAPTER 33</td>\n      <td>33.0</td>\n    </tr>\n    <tr>\n      <th>7601</th>\n      <td>CHAPTER 34</td>\n      <td>34.0</td>\n    </tr>\n    <tr>\n      <th>7888</th>\n      <td>CHAPTER 35</td>\n      <td>35.0</td>\n    </tr>\n    <tr>\n      <th>8152</th>\n      <td>CHAPTER 36</td>\n      <td>36.0</td>\n    </tr>\n    <tr>\n      <th>8456</th>\n      <td>CHAPTER 37</td>\n      <td>37.0</td>\n    </tr>\n    <tr>\n      <th>8900</th>\n      <td>CHAPTER 38</td>\n      <td>38.0</td>\n    </tr>\n    <tr>\n      <th>9205</th>\n      <td>CHAPTER 39</td>\n      <td>39.0</td>\n    </tr>\n    <tr>\n      <th>9408</th>\n      <td>CHAPTER 40</td>\n      <td>40.0</td>\n    </tr>\n    <tr>\n      <th>9706</th>\n      <td>CHAPTER 41</td>\n      <td>41.0</td>\n    </tr>\n    <tr>\n      <th>9977</th>\n      <td>CHAPTER 42</td>\n      <td>42.0</td>\n    </tr>\n    <tr>\n      <th>10155</th>\n      <td>CHAPTER 43</td>\n      <td>43.0</td>\n    </tr>\n    <tr>\n      <th>10490</th>\n      <td>CHAPTER 44</td>\n      <td>44.0</td>\n    </tr>\n    <tr>\n      <th>11060</th>\n      <td>CHAPTER 45</td>\n      <td>45.0</td>\n    </tr>\n    <tr>\n      <th>11278</th>\n      <td>CHAPTER 46</td>\n      <td>46.0</td>\n    </tr>\n    <tr>\n      <th>11571</th>\n      <td>CHAPTER 47</td>\n      <td>47.0</td>\n    </tr>\n    <tr>\n      <th>11838</th>\n      <td>CHAPTER 48</td>\n      <td>48.0</td>\n    </tr>\n    <tr>\n      <th>11986</th>\n      <td>CHAPTER 49</td>\n      <td>49.0</td>\n    </tr>\n    <tr>\n      <th>12410</th>\n      <td>CHAPTER 50</td>\n      <td>50.0</td>\n    </tr>\n  </tbody>\n</table>\n</div>"
     },
     "execution_count": 74,
     "metadata": {},
     "output_type": "execute_result"
    }
   ],
   "source": [
    "LINES.loc[chap_lines]"
   ]
  },
  {
   "cell_type": "code",
   "execution_count": 75,
   "id": "5df4c4dec02090c4",
   "metadata": {
    "collapsed": false,
    "ExecuteTime": {
     "end_time": "2025-02-03T22:02:12.515971Z",
     "start_time": "2025-02-03T22:02:12.470715Z"
    }
   },
   "outputs": [
    {
     "data": {
      "text/plain": "                                                   line_str  chap_num\nline_num                                                             \n3003      \"About eighteen hundred or two thousand a year...       NaN\n4780      \"Offended me! How could you suppose so? Believ...       NaN\n9696      himself, he thinks that nobody else can marry ...       NaN\n4930      more for the happiness of both of you,' I shou...       NaN\n7025      she could not bring herself to speak of what s...       NaN\n10597     me before she ought to have done it.  But she ...       NaN\n10599                                                             NaN\n597       the world of his goodness and sense.  I think ...       NaN\n3995      whatever her ladyship was doing, if she happen...       NaN\n9089                                                              NaN",
      "text/html": "<div>\n<style scoped>\n    .dataframe tbody tr th:only-of-type {\n        vertical-align: middle;\n    }\n\n    .dataframe tbody tr th {\n        vertical-align: top;\n    }\n\n    .dataframe thead th {\n        text-align: right;\n    }\n</style>\n<table border=\"1\" class=\"dataframe\">\n  <thead>\n    <tr style=\"text-align: right;\">\n      <th></th>\n      <th>line_str</th>\n      <th>chap_num</th>\n    </tr>\n    <tr>\n      <th>line_num</th>\n      <th></th>\n      <th></th>\n    </tr>\n  </thead>\n  <tbody>\n    <tr>\n      <th>3003</th>\n      <td>\"About eighteen hundred or two thousand a year...</td>\n      <td>NaN</td>\n    </tr>\n    <tr>\n      <th>4780</th>\n      <td>\"Offended me! How could you suppose so? Believ...</td>\n      <td>NaN</td>\n    </tr>\n    <tr>\n      <th>9696</th>\n      <td>himself, he thinks that nobody else can marry ...</td>\n      <td>NaN</td>\n    </tr>\n    <tr>\n      <th>4930</th>\n      <td>more for the happiness of both of you,' I shou...</td>\n      <td>NaN</td>\n    </tr>\n    <tr>\n      <th>7025</th>\n      <td>she could not bring herself to speak of what s...</td>\n      <td>NaN</td>\n    </tr>\n    <tr>\n      <th>10597</th>\n      <td>me before she ought to have done it.  But she ...</td>\n      <td>NaN</td>\n    </tr>\n    <tr>\n      <th>10599</th>\n      <td></td>\n      <td>NaN</td>\n    </tr>\n    <tr>\n      <th>597</th>\n      <td>the world of his goodness and sense.  I think ...</td>\n      <td>NaN</td>\n    </tr>\n    <tr>\n      <th>3995</th>\n      <td>whatever her ladyship was doing, if she happen...</td>\n      <td>NaN</td>\n    </tr>\n    <tr>\n      <th>9089</th>\n      <td></td>\n      <td>NaN</td>\n    </tr>\n  </tbody>\n</table>\n</div>"
     },
     "execution_count": 75,
     "metadata": {},
     "output_type": "execute_result"
    }
   ],
   "source": [
    "LINES.sample(10)"
   ]
  },
  {
   "cell_type": "code",
   "execution_count": 76,
   "id": "a97c7624a46702fe",
   "metadata": {
    "collapsed": false,
    "ExecuteTime": {
     "end_time": "2025-02-03T22:02:12.589404Z",
     "start_time": "2025-02-03T22:02:12.515514Z"
    }
   },
   "outputs": [],
   "source": [
    "LINES.chap_num = LINES.chap_num.ffill()"
   ]
  },
  {
   "cell_type": "code",
   "execution_count": 77,
   "id": "d8a1822df0786b21",
   "metadata": {
    "collapsed": false,
    "ExecuteTime": {
     "end_time": "2025-02-03T22:02:12.625196Z",
     "start_time": "2025-02-03T22:02:12.549329Z"
    }
   },
   "outputs": [
    {
     "data": {
      "text/plain": "                                                   line_str  chap_num\nline_num                                                             \n9568                                                             40.0\n5900      longer than while she spoke, and was immediate...      29.0\n12533     marrying privately without his mother's consen...      50.0\n8828      you have a regard for, Mrs. Jennings.  We all ...      37.0\n7994      it was so.  They all looked exceedingly foolis...      35.0\n8740               affair, and bring them news of his wife.      37.0\n10312     servant with a message to Mr. Harris, and an o...      43.0\n11450                                       expose me to\"--      46.0\n92        all the value of all the attention which, for ...       1.0\n3619                                                             19.0",
      "text/html": "<div>\n<style scoped>\n    .dataframe tbody tr th:only-of-type {\n        vertical-align: middle;\n    }\n\n    .dataframe tbody tr th {\n        vertical-align: top;\n    }\n\n    .dataframe thead th {\n        text-align: right;\n    }\n</style>\n<table border=\"1\" class=\"dataframe\">\n  <thead>\n    <tr style=\"text-align: right;\">\n      <th></th>\n      <th>line_str</th>\n      <th>chap_num</th>\n    </tr>\n    <tr>\n      <th>line_num</th>\n      <th></th>\n      <th></th>\n    </tr>\n  </thead>\n  <tbody>\n    <tr>\n      <th>9568</th>\n      <td></td>\n      <td>40.0</td>\n    </tr>\n    <tr>\n      <th>5900</th>\n      <td>longer than while she spoke, and was immediate...</td>\n      <td>29.0</td>\n    </tr>\n    <tr>\n      <th>12533</th>\n      <td>marrying privately without his mother's consen...</td>\n      <td>50.0</td>\n    </tr>\n    <tr>\n      <th>8828</th>\n      <td>you have a regard for, Mrs. Jennings.  We all ...</td>\n      <td>37.0</td>\n    </tr>\n    <tr>\n      <th>7994</th>\n      <td>it was so.  They all looked exceedingly foolis...</td>\n      <td>35.0</td>\n    </tr>\n    <tr>\n      <th>8740</th>\n      <td>affair, and bring them news of his wife.</td>\n      <td>37.0</td>\n    </tr>\n    <tr>\n      <th>10312</th>\n      <td>servant with a message to Mr. Harris, and an o...</td>\n      <td>43.0</td>\n    </tr>\n    <tr>\n      <th>11450</th>\n      <td>expose me to\"--</td>\n      <td>46.0</td>\n    </tr>\n    <tr>\n      <th>92</th>\n      <td>all the value of all the attention which, for ...</td>\n      <td>1.0</td>\n    </tr>\n    <tr>\n      <th>3619</th>\n      <td></td>\n      <td>19.0</td>\n    </tr>\n  </tbody>\n</table>\n</div>"
     },
     "execution_count": 77,
     "metadata": {},
     "output_type": "execute_result"
    }
   ],
   "source": [
    "LINES.sample(10)"
   ]
  },
  {
   "cell_type": "code",
   "execution_count": 78,
   "id": "5de0ae677bc92086",
   "metadata": {
    "collapsed": false,
    "ExecuteTime": {
     "end_time": "2025-02-03T22:02:12.746338Z",
     "start_time": "2025-02-03T22:02:12.627217Z"
    }
   },
   "outputs": [
    {
     "data": {
      "text/plain": "                       line_str  chap_num\nline_num                                 \n20                                    NaN\n21                                    NaN\n22                                    NaN\n23                                    NaN\n24                                    NaN\n25                                    NaN\n26                                    NaN\n27                                    NaN\n28                                    NaN\n29                                    NaN\n30                                    NaN\n31                                    NaN\n32                                    NaN\n33        SENSE AND SENSIBILITY       NaN\n34                                    NaN\n35               by Jane Austen       NaN\n36                                    NaN\n37                       (1811)       NaN\n38                                    NaN\n39                                    NaN",
      "text/html": "<div>\n<style scoped>\n    .dataframe tbody tr th:only-of-type {\n        vertical-align: middle;\n    }\n\n    .dataframe tbody tr th {\n        vertical-align: top;\n    }\n\n    .dataframe thead th {\n        text-align: right;\n    }\n</style>\n<table border=\"1\" class=\"dataframe\">\n  <thead>\n    <tr style=\"text-align: right;\">\n      <th></th>\n      <th>line_str</th>\n      <th>chap_num</th>\n    </tr>\n    <tr>\n      <th>line_num</th>\n      <th></th>\n      <th></th>\n    </tr>\n  </thead>\n  <tbody>\n    <tr>\n      <th>20</th>\n      <td></td>\n      <td>NaN</td>\n    </tr>\n    <tr>\n      <th>21</th>\n      <td></td>\n      <td>NaN</td>\n    </tr>\n    <tr>\n      <th>22</th>\n      <td></td>\n      <td>NaN</td>\n    </tr>\n    <tr>\n      <th>23</th>\n      <td></td>\n      <td>NaN</td>\n    </tr>\n    <tr>\n      <th>24</th>\n      <td></td>\n      <td>NaN</td>\n    </tr>\n    <tr>\n      <th>25</th>\n      <td></td>\n      <td>NaN</td>\n    </tr>\n    <tr>\n      <th>26</th>\n      <td></td>\n      <td>NaN</td>\n    </tr>\n    <tr>\n      <th>27</th>\n      <td></td>\n      <td>NaN</td>\n    </tr>\n    <tr>\n      <th>28</th>\n      <td></td>\n      <td>NaN</td>\n    </tr>\n    <tr>\n      <th>29</th>\n      <td></td>\n      <td>NaN</td>\n    </tr>\n    <tr>\n      <th>30</th>\n      <td></td>\n      <td>NaN</td>\n    </tr>\n    <tr>\n      <th>31</th>\n      <td></td>\n      <td>NaN</td>\n    </tr>\n    <tr>\n      <th>32</th>\n      <td></td>\n      <td>NaN</td>\n    </tr>\n    <tr>\n      <th>33</th>\n      <td>SENSE AND SENSIBILITY</td>\n      <td>NaN</td>\n    </tr>\n    <tr>\n      <th>34</th>\n      <td></td>\n      <td>NaN</td>\n    </tr>\n    <tr>\n      <th>35</th>\n      <td>by Jane Austen</td>\n      <td>NaN</td>\n    </tr>\n    <tr>\n      <th>36</th>\n      <td></td>\n      <td>NaN</td>\n    </tr>\n    <tr>\n      <th>37</th>\n      <td>(1811)</td>\n      <td>NaN</td>\n    </tr>\n    <tr>\n      <th>38</th>\n      <td></td>\n      <td>NaN</td>\n    </tr>\n    <tr>\n      <th>39</th>\n      <td></td>\n      <td>NaN</td>\n    </tr>\n  </tbody>\n</table>\n</div>"
     },
     "execution_count": 78,
     "metadata": {},
     "output_type": "execute_result"
    }
   ],
   "source": [
    "LINES.head(20)"
   ]
  },
  {
   "cell_type": "code",
   "execution_count": 79,
   "id": "f7356469ed557184",
   "metadata": {
    "collapsed": false,
    "ExecuteTime": {
     "end_time": "2025-02-03T22:02:12.775352Z",
     "start_time": "2025-02-03T22:02:12.693482Z"
    }
   },
   "outputs": [],
   "source": [
    "LINES = LINES.dropna(subset=['chap_num']) \n",
    "LINES = LINES.loc[~chap_lines] \n",
    "LINES.chap_num = LINES.chap_num.astype('int')"
   ]
  },
  {
   "cell_type": "code",
   "execution_count": 80,
   "id": "15a07331a769f9e7",
   "metadata": {
    "collapsed": false,
    "ExecuteTime": {
     "end_time": "2025-02-03T22:02:12.851625Z",
     "start_time": "2025-02-03T22:02:12.777997Z"
    }
   },
   "outputs": [
    {
     "data": {
      "text/plain": "                                                   line_str  chap_num\nline_num                                                             \n9894      left to improve her acquaintance with Robert, ...        41\n9722      own all their obligation to her, and openly de...        41\n11861     place in which so much conspired to give her a...        48\n12177                                                              49\n8906      consolation, beyond the consciousness of doing...        38\n10240     attended her every day, still talked boldly of...        43\n5933      Willoughby, which appeared to her a very good ...        29\n3283      alone--and tomorrow you must absolutely dine w...        18\n4937                       much for an indifferent person.\"        24\n8050      should be checked by Lucy's unwelcome presence...        35",
      "text/html": "<div>\n<style scoped>\n    .dataframe tbody tr th:only-of-type {\n        vertical-align: middle;\n    }\n\n    .dataframe tbody tr th {\n        vertical-align: top;\n    }\n\n    .dataframe thead th {\n        text-align: right;\n    }\n</style>\n<table border=\"1\" class=\"dataframe\">\n  <thead>\n    <tr style=\"text-align: right;\">\n      <th></th>\n      <th>line_str</th>\n      <th>chap_num</th>\n    </tr>\n    <tr>\n      <th>line_num</th>\n      <th></th>\n      <th></th>\n    </tr>\n  </thead>\n  <tbody>\n    <tr>\n      <th>9894</th>\n      <td>left to improve her acquaintance with Robert, ...</td>\n      <td>41</td>\n    </tr>\n    <tr>\n      <th>9722</th>\n      <td>own all their obligation to her, and openly de...</td>\n      <td>41</td>\n    </tr>\n    <tr>\n      <th>11861</th>\n      <td>place in which so much conspired to give her a...</td>\n      <td>48</td>\n    </tr>\n    <tr>\n      <th>12177</th>\n      <td></td>\n      <td>49</td>\n    </tr>\n    <tr>\n      <th>8906</th>\n      <td>consolation, beyond the consciousness of doing...</td>\n      <td>38</td>\n    </tr>\n    <tr>\n      <th>10240</th>\n      <td>attended her every day, still talked boldly of...</td>\n      <td>43</td>\n    </tr>\n    <tr>\n      <th>5933</th>\n      <td>Willoughby, which appeared to her a very good ...</td>\n      <td>29</td>\n    </tr>\n    <tr>\n      <th>3283</th>\n      <td>alone--and tomorrow you must absolutely dine w...</td>\n      <td>18</td>\n    </tr>\n    <tr>\n      <th>4937</th>\n      <td>much for an indifferent person.\"</td>\n      <td>24</td>\n    </tr>\n    <tr>\n      <th>8050</th>\n      <td>should be checked by Lucy's unwelcome presence...</td>\n      <td>35</td>\n    </tr>\n  </tbody>\n</table>\n</div>"
     },
     "execution_count": 80,
     "metadata": {},
     "output_type": "execute_result"
    }
   ],
   "source": [
    "LINES.sample(10)"
   ]
  },
  {
   "cell_type": "code",
   "execution_count": 81,
   "id": "22817be17c0ab1fe",
   "metadata": {
    "collapsed": false,
    "ExecuteTime": {
     "end_time": "2025-02-03T22:02:12.918460Z",
     "start_time": "2025-02-03T22:02:12.830536Z"
    }
   },
   "outputs": [],
   "source": [
    "CHAPS = LINES.groupby(OHCO[:1])\\\n",
    "    .line_str.apply(lambda x: '\\n'.join(x))\\\n",
    "    .to_frame('chap_str')"
   ]
  },
  {
   "cell_type": "code",
   "execution_count": 82,
   "id": "d5859a264f5302d3",
   "metadata": {
    "collapsed": false,
    "ExecuteTime": {
     "end_time": "2025-02-03T22:02:12.937711Z",
     "start_time": "2025-02-03T22:02:12.910052Z"
    }
   },
   "outputs": [
    {
     "data": {
      "text/plain": "                                                   chap_str\nchap_num                                                   \n1         \\n\\nThe family of Dashwood had long been settl...\n2         \\n\\nMrs. John Dashwood now installed herself m...\n3         \\n\\nMrs. Dashwood remained at Norland several ...\n4         \\n\\n\"What a pity it is, Elinor,\" said Marianne...\n5         \\n\\nNo sooner was her answer dispatched, than ...\n6         \\n\\nThe first part of their journey was perfor...\n7         \\n\\nBarton Park was about half a mile from the...\n8         \\n\\nMrs. Jennings was a widow with an ample jo...\n9         \\n\\nThe Dashwoods were now settled at Barton w...\n10        \\n\\nMarianne's preserver, as Margaret, with mo...",
      "text/html": "<div>\n<style scoped>\n    .dataframe tbody tr th:only-of-type {\n        vertical-align: middle;\n    }\n\n    .dataframe tbody tr th {\n        vertical-align: top;\n    }\n\n    .dataframe thead th {\n        text-align: right;\n    }\n</style>\n<table border=\"1\" class=\"dataframe\">\n  <thead>\n    <tr style=\"text-align: right;\">\n      <th></th>\n      <th>chap_str</th>\n    </tr>\n    <tr>\n      <th>chap_num</th>\n      <th></th>\n    </tr>\n  </thead>\n  <tbody>\n    <tr>\n      <th>1</th>\n      <td>\\n\\nThe family of Dashwood had long been settl...</td>\n    </tr>\n    <tr>\n      <th>2</th>\n      <td>\\n\\nMrs. John Dashwood now installed herself m...</td>\n    </tr>\n    <tr>\n      <th>3</th>\n      <td>\\n\\nMrs. Dashwood remained at Norland several ...</td>\n    </tr>\n    <tr>\n      <th>4</th>\n      <td>\\n\\n\"What a pity it is, Elinor,\" said Marianne...</td>\n    </tr>\n    <tr>\n      <th>5</th>\n      <td>\\n\\nNo sooner was her answer dispatched, than ...</td>\n    </tr>\n    <tr>\n      <th>6</th>\n      <td>\\n\\nThe first part of their journey was perfor...</td>\n    </tr>\n    <tr>\n      <th>7</th>\n      <td>\\n\\nBarton Park was about half a mile from the...</td>\n    </tr>\n    <tr>\n      <th>8</th>\n      <td>\\n\\nMrs. Jennings was a widow with an ample jo...</td>\n    </tr>\n    <tr>\n      <th>9</th>\n      <td>\\n\\nThe Dashwoods were now settled at Barton w...</td>\n    </tr>\n    <tr>\n      <th>10</th>\n      <td>\\n\\nMarianne's preserver, as Margaret, with mo...</td>\n    </tr>\n  </tbody>\n</table>\n</div>"
     },
     "execution_count": 82,
     "metadata": {},
     "output_type": "execute_result"
    }
   ],
   "source": [
    "CHAPS.head(10)"
   ]
  },
  {
   "cell_type": "code",
   "execution_count": 83,
   "id": "5c3c98f649e505e7",
   "metadata": {
    "collapsed": false,
    "ExecuteTime": {
     "end_time": "2025-02-03T22:02:13.008924Z",
     "start_time": "2025-02-03T22:02:12.939123Z"
    }
   },
   "outputs": [],
   "source": [
    "CHAPS['chap_str'] = CHAPS.chap_str.str.strip()"
   ]
  },
  {
   "cell_type": "code",
   "execution_count": 84,
   "id": "1d972dbe8817ad1b",
   "metadata": {
    "collapsed": false,
    "ExecuteTime": {
     "end_time": "2025-02-03T22:02:13.043486Z",
     "start_time": "2025-02-03T22:02:12.993734Z"
    }
   },
   "outputs": [
    {
     "data": {
      "text/plain": "                                                   chap_str\nchap_num                                                   \n1         The family of Dashwood had long been settled i...\n2         Mrs. John Dashwood now installed herself mistr...\n3         Mrs. Dashwood remained at Norland several mont...\n4         \"What a pity it is, Elinor,\" said Marianne, \"t...\n5         No sooner was her answer dispatched, than Mrs....\n6         The first part of their journey was performed ...\n7         Barton Park was about half a mile from the cot...\n8         Mrs. Jennings was a widow with an ample jointu...\n9         The Dashwoods were now settled at Barton with ...\n10        Marianne's preserver, as Margaret, with more e...\n11        Little had Mrs. Dashwood or her daughters imag...\n12        As Elinor and Marianne were walking together t...\n13        Their intended excursion to Whitwell turned ou...\n14        The sudden termination of Colonel Brandon's vi...\n15        Mrs. Dashwood's visit to Lady Middleton took p...\n16        Marianne would have thought herself very inexc...\n17        Mrs. Dashwood was surprised only for a moment ...\n18        Elinor saw, with great uneasiness the low spir...\n19        Edward remained a week at the cottage; he was ...\n20        As the Miss Dashwoods entered the drawing-room...\n21        The Palmers returned to Cleveland the next day...\n22        Marianne, who had never much toleration for an...\n23        However small Elinor's general dependence on L...\n24        In a firm, though cautious tone, Elinor thus b...\n25        Though Mrs. Jennings was in the habit of spend...\n26        Elinor could not find herself in the carriage ...\n27        \"If this open weather holds much longer,\" said...\n28        Nothing occurred during the next three or four...\n29        Before the house-maid had lit their fire the n...\n30        Mrs. Jennings came immediately to their room o...\n31        From a night of more sleep than she had expect...\n32        When the particulars of this conversation were...\n33        After some opposition, Marianne yielded to her...\n34        Mrs. John Dashwood had so much confidence in h...\n35        Elinor's curiosity to see Mrs. Ferrars was sat...\n36        Within a few days after this meeting, the news...\n37        Mrs. Palmer was so well at the end of a fortni...\n38        Mrs. Jennings was very warm in her praise of E...\n39        The Miss Dashwoods had now been rather more th...\n40        \"Well, Miss Dashwood,\" said Mrs. Jennings, sag...\n41        Edward, having carried his thanks to Colonel B...\n42        One other short call in Harley Street, in whic...\n43        Marianne got up the next morning at her usual ...\n44        Elinor, starting back with a look of horror at...\n45        Elinor, for some time after he left her, for s...\n46        Marianne's illness, though weakening in its ki...\n47        Mrs. Dashwood did not hear unmoved the vindica...\n48        Elinor now found the difference between the ex...\n49        Unaccountable, however, as the circumstances o...\n50        After a proper resistance on the part of Mrs. ...",
      "text/html": "<div>\n<style scoped>\n    .dataframe tbody tr th:only-of-type {\n        vertical-align: middle;\n    }\n\n    .dataframe tbody tr th {\n        vertical-align: top;\n    }\n\n    .dataframe thead th {\n        text-align: right;\n    }\n</style>\n<table border=\"1\" class=\"dataframe\">\n  <thead>\n    <tr style=\"text-align: right;\">\n      <th></th>\n      <th>chap_str</th>\n    </tr>\n    <tr>\n      <th>chap_num</th>\n      <th></th>\n    </tr>\n  </thead>\n  <tbody>\n    <tr>\n      <th>1</th>\n      <td>The family of Dashwood had long been settled i...</td>\n    </tr>\n    <tr>\n      <th>2</th>\n      <td>Mrs. John Dashwood now installed herself mistr...</td>\n    </tr>\n    <tr>\n      <th>3</th>\n      <td>Mrs. Dashwood remained at Norland several mont...</td>\n    </tr>\n    <tr>\n      <th>4</th>\n      <td>\"What a pity it is, Elinor,\" said Marianne, \"t...</td>\n    </tr>\n    <tr>\n      <th>5</th>\n      <td>No sooner was her answer dispatched, than Mrs....</td>\n    </tr>\n    <tr>\n      <th>6</th>\n      <td>The first part of their journey was performed ...</td>\n    </tr>\n    <tr>\n      <th>7</th>\n      <td>Barton Park was about half a mile from the cot...</td>\n    </tr>\n    <tr>\n      <th>8</th>\n      <td>Mrs. Jennings was a widow with an ample jointu...</td>\n    </tr>\n    <tr>\n      <th>9</th>\n      <td>The Dashwoods were now settled at Barton with ...</td>\n    </tr>\n    <tr>\n      <th>10</th>\n      <td>Marianne's preserver, as Margaret, with more e...</td>\n    </tr>\n    <tr>\n      <th>11</th>\n      <td>Little had Mrs. Dashwood or her daughters imag...</td>\n    </tr>\n    <tr>\n      <th>12</th>\n      <td>As Elinor and Marianne were walking together t...</td>\n    </tr>\n    <tr>\n      <th>13</th>\n      <td>Their intended excursion to Whitwell turned ou...</td>\n    </tr>\n    <tr>\n      <th>14</th>\n      <td>The sudden termination of Colonel Brandon's vi...</td>\n    </tr>\n    <tr>\n      <th>15</th>\n      <td>Mrs. Dashwood's visit to Lady Middleton took p...</td>\n    </tr>\n    <tr>\n      <th>16</th>\n      <td>Marianne would have thought herself very inexc...</td>\n    </tr>\n    <tr>\n      <th>17</th>\n      <td>Mrs. Dashwood was surprised only for a moment ...</td>\n    </tr>\n    <tr>\n      <th>18</th>\n      <td>Elinor saw, with great uneasiness the low spir...</td>\n    </tr>\n    <tr>\n      <th>19</th>\n      <td>Edward remained a week at the cottage; he was ...</td>\n    </tr>\n    <tr>\n      <th>20</th>\n      <td>As the Miss Dashwoods entered the drawing-room...</td>\n    </tr>\n    <tr>\n      <th>21</th>\n      <td>The Palmers returned to Cleveland the next day...</td>\n    </tr>\n    <tr>\n      <th>22</th>\n      <td>Marianne, who had never much toleration for an...</td>\n    </tr>\n    <tr>\n      <th>23</th>\n      <td>However small Elinor's general dependence on L...</td>\n    </tr>\n    <tr>\n      <th>24</th>\n      <td>In a firm, though cautious tone, Elinor thus b...</td>\n    </tr>\n    <tr>\n      <th>25</th>\n      <td>Though Mrs. Jennings was in the habit of spend...</td>\n    </tr>\n    <tr>\n      <th>26</th>\n      <td>Elinor could not find herself in the carriage ...</td>\n    </tr>\n    <tr>\n      <th>27</th>\n      <td>\"If this open weather holds much longer,\" said...</td>\n    </tr>\n    <tr>\n      <th>28</th>\n      <td>Nothing occurred during the next three or four...</td>\n    </tr>\n    <tr>\n      <th>29</th>\n      <td>Before the house-maid had lit their fire the n...</td>\n    </tr>\n    <tr>\n      <th>30</th>\n      <td>Mrs. Jennings came immediately to their room o...</td>\n    </tr>\n    <tr>\n      <th>31</th>\n      <td>From a night of more sleep than she had expect...</td>\n    </tr>\n    <tr>\n      <th>32</th>\n      <td>When the particulars of this conversation were...</td>\n    </tr>\n    <tr>\n      <th>33</th>\n      <td>After some opposition, Marianne yielded to her...</td>\n    </tr>\n    <tr>\n      <th>34</th>\n      <td>Mrs. John Dashwood had so much confidence in h...</td>\n    </tr>\n    <tr>\n      <th>35</th>\n      <td>Elinor's curiosity to see Mrs. Ferrars was sat...</td>\n    </tr>\n    <tr>\n      <th>36</th>\n      <td>Within a few days after this meeting, the news...</td>\n    </tr>\n    <tr>\n      <th>37</th>\n      <td>Mrs. Palmer was so well at the end of a fortni...</td>\n    </tr>\n    <tr>\n      <th>38</th>\n      <td>Mrs. Jennings was very warm in her praise of E...</td>\n    </tr>\n    <tr>\n      <th>39</th>\n      <td>The Miss Dashwoods had now been rather more th...</td>\n    </tr>\n    <tr>\n      <th>40</th>\n      <td>\"Well, Miss Dashwood,\" said Mrs. Jennings, sag...</td>\n    </tr>\n    <tr>\n      <th>41</th>\n      <td>Edward, having carried his thanks to Colonel B...</td>\n    </tr>\n    <tr>\n      <th>42</th>\n      <td>One other short call in Harley Street, in whic...</td>\n    </tr>\n    <tr>\n      <th>43</th>\n      <td>Marianne got up the next morning at her usual ...</td>\n    </tr>\n    <tr>\n      <th>44</th>\n      <td>Elinor, starting back with a look of horror at...</td>\n    </tr>\n    <tr>\n      <th>45</th>\n      <td>Elinor, for some time after he left her, for s...</td>\n    </tr>\n    <tr>\n      <th>46</th>\n      <td>Marianne's illness, though weakening in its ki...</td>\n    </tr>\n    <tr>\n      <th>47</th>\n      <td>Mrs. Dashwood did not hear unmoved the vindica...</td>\n    </tr>\n    <tr>\n      <th>48</th>\n      <td>Elinor now found the difference between the ex...</td>\n    </tr>\n    <tr>\n      <th>49</th>\n      <td>Unaccountable, however, as the circumstances o...</td>\n    </tr>\n    <tr>\n      <th>50</th>\n      <td>After a proper resistance on the part of Mrs. ...</td>\n    </tr>\n  </tbody>\n</table>\n</div>"
     },
     "execution_count": 84,
     "metadata": {},
     "output_type": "execute_result"
    }
   ],
   "source": [
    "CHAPS"
   ]
  },
  {
   "cell_type": "markdown",
   "id": "4b6d7553d2295a69",
   "metadata": {
    "collapsed": false
   },
   "source": [
    "## Split chapters into paragraphs"
   ]
  },
  {
   "cell_type": "code",
   "execution_count": 85,
   "id": "86503b282cd9f8b7",
   "metadata": {
    "collapsed": false,
    "ExecuteTime": {
     "end_time": "2025-02-03T22:02:13.091905Z",
     "start_time": "2025-02-03T22:02:13.028519Z"
    }
   },
   "outputs": [],
   "source": [
    "para_pat = r'\\n\\n+'"
   ]
  },
  {
   "cell_type": "code",
   "execution_count": 86,
   "id": "6adf4e460d94e008",
   "metadata": {
    "collapsed": false,
    "ExecuteTime": {
     "end_time": "2025-02-03T22:02:13.143402Z",
     "start_time": "2025-02-03T22:02:13.095951Z"
    }
   },
   "outputs": [],
   "source": [
    "PARAS = CHAPS['chap_str'].str.split(para_pat, expand=True).stack()\\\n",
    "    .to_frame('para_str').sort_index()\n",
    "PARAS.index.names = OHCO[:2]"
   ]
  },
  {
   "cell_type": "code",
   "execution_count": 87,
   "id": "1b60297f74fba383",
   "metadata": {
    "collapsed": false,
    "ExecuteTime": {
     "end_time": "2025-02-03T22:02:13.190208Z",
     "start_time": "2025-02-03T22:02:13.129095Z"
    }
   },
   "outputs": [
    {
     "data": {
      "text/plain": "                                                            para_str\nchap_num para_num                                                   \n1        0         The family of Dashwood had long been settled i...\n         1         By a former marriage, Mr. Henry Dashwood had o...\n         2         The old gentleman died: his will was read, and...\n         3         Mr. Dashwood's disappointment was, at first, s...\n         4         His son was sent for as soon as his danger was...",
      "text/html": "<div>\n<style scoped>\n    .dataframe tbody tr th:only-of-type {\n        vertical-align: middle;\n    }\n\n    .dataframe tbody tr th {\n        vertical-align: top;\n    }\n\n    .dataframe thead th {\n        text-align: right;\n    }\n</style>\n<table border=\"1\" class=\"dataframe\">\n  <thead>\n    <tr style=\"text-align: right;\">\n      <th></th>\n      <th></th>\n      <th>para_str</th>\n    </tr>\n    <tr>\n      <th>chap_num</th>\n      <th>para_num</th>\n      <th></th>\n    </tr>\n  </thead>\n  <tbody>\n    <tr>\n      <th rowspan=\"5\" valign=\"top\">1</th>\n      <th>0</th>\n      <td>The family of Dashwood had long been settled i...</td>\n    </tr>\n    <tr>\n      <th>1</th>\n      <td>By a former marriage, Mr. Henry Dashwood had o...</td>\n    </tr>\n    <tr>\n      <th>2</th>\n      <td>The old gentleman died: his will was read, and...</td>\n    </tr>\n    <tr>\n      <th>3</th>\n      <td>Mr. Dashwood's disappointment was, at first, s...</td>\n    </tr>\n    <tr>\n      <th>4</th>\n      <td>His son was sent for as soon as his danger was...</td>\n    </tr>\n  </tbody>\n</table>\n</div>"
     },
     "execution_count": 87,
     "metadata": {},
     "output_type": "execute_result"
    }
   ],
   "source": [
    "PARAS.head()"
   ]
  },
  {
   "cell_type": "code",
   "execution_count": 88,
   "id": "8ea09e0e6e5dfa6",
   "metadata": {
    "collapsed": false,
    "ExecuteTime": {
     "end_time": "2025-02-03T22:02:13.201002Z",
     "start_time": "2025-02-03T22:02:13.185651Z"
    }
   },
   "outputs": [],
   "source": [
    "PARAS['para_str'] = PARAS['para_str'].str.replace(r'\\n', ' ', regex=True)\n",
    "PARAS['para_str'] = PARAS['para_str'].str.strip()\n",
    "PARAS = PARAS[~PARAS['para_str'].str.match(r'^\\s*$')]"
   ]
  },
  {
   "cell_type": "code",
   "execution_count": 89,
   "id": "e536b88cac7ef462",
   "metadata": {
    "collapsed": false,
    "ExecuteTime": {
     "end_time": "2025-02-03T22:02:13.240195Z",
     "start_time": "2025-02-03T22:02:13.203190Z"
    }
   },
   "outputs": [
    {
     "data": {
      "text/plain": "                                                            para_str\nchap_num para_num                                                   \n1        0         The family of Dashwood had long been settled i...\n         1         By a former marriage, Mr. Henry Dashwood had o...\n         2         The old gentleman died: his will was read, and...\n         3         Mr. Dashwood's disappointment was, at first, s...\n         4         His son was sent for as soon as his danger was...",
      "text/html": "<div>\n<style scoped>\n    .dataframe tbody tr th:only-of-type {\n        vertical-align: middle;\n    }\n\n    .dataframe tbody tr th {\n        vertical-align: top;\n    }\n\n    .dataframe thead th {\n        text-align: right;\n    }\n</style>\n<table border=\"1\" class=\"dataframe\">\n  <thead>\n    <tr style=\"text-align: right;\">\n      <th></th>\n      <th></th>\n      <th>para_str</th>\n    </tr>\n    <tr>\n      <th>chap_num</th>\n      <th>para_num</th>\n      <th></th>\n    </tr>\n  </thead>\n  <tbody>\n    <tr>\n      <th rowspan=\"5\" valign=\"top\">1</th>\n      <th>0</th>\n      <td>The family of Dashwood had long been settled i...</td>\n    </tr>\n    <tr>\n      <th>1</th>\n      <td>By a former marriage, Mr. Henry Dashwood had o...</td>\n    </tr>\n    <tr>\n      <th>2</th>\n      <td>The old gentleman died: his will was read, and...</td>\n    </tr>\n    <tr>\n      <th>3</th>\n      <td>Mr. Dashwood's disappointment was, at first, s...</td>\n    </tr>\n    <tr>\n      <th>4</th>\n      <td>His son was sent for as soon as his danger was...</td>\n    </tr>\n  </tbody>\n</table>\n</div>"
     },
     "execution_count": 89,
     "metadata": {},
     "output_type": "execute_result"
    }
   ],
   "source": [
    "PARAS.head()"
   ]
  },
  {
   "cell_type": "markdown",
   "id": "4288d041fcd52d73",
   "metadata": {
    "collapsed": false
   },
   "source": [
    "## Split paragraphs into sentences\n"
   ]
  },
  {
   "cell_type": "code",
   "execution_count": 90,
   "id": "76d96f7f7624f8a9",
   "metadata": {
    "collapsed": false,
    "ExecuteTime": {
     "end_time": "2025-02-03T22:02:13.264742Z",
     "start_time": "2025-02-03T22:02:13.227342Z"
    }
   },
   "outputs": [],
   "source": [
    "sent_pat = r'[.?!;:]+'\n",
    "SENTS = PARAS['para_str'].str.split(sent_pat, expand=True).stack()\\\n",
    "    .to_frame('sent_str')\n",
    "SENTS.index.names = OHCO[:3]"
   ]
  },
  {
   "cell_type": "code",
   "execution_count": 91,
   "id": "f4af468692f201d7",
   "metadata": {
    "collapsed": false,
    "ExecuteTime": {
     "end_time": "2025-02-03T22:02:13.310553Z",
     "start_time": "2025-02-03T22:02:13.256126Z"
    }
   },
   "outputs": [],
   "source": [
    "SENTS = SENTS[~SENTS['sent_str'].str.match(r'^\\s*$')] \n",
    "SENTS.sent_str = SENTS.sent_str.str.strip()"
   ]
  },
  {
   "cell_type": "code",
   "execution_count": 92,
   "id": "95ab12e821e10f57",
   "metadata": {
    "collapsed": false,
    "ExecuteTime": {
     "end_time": "2025-02-03T22:02:13.344559Z",
     "start_time": "2025-02-03T22:02:13.296448Z"
    }
   },
   "outputs": [
    {
     "data": {
      "text/plain": "                                                                     sent_str\nchap_num para_num sent_num                                                   \n1        0        0         The family of Dashwood had long been settled i...\n                  1         Their estate was large, and their residence wa...\n                  2         The late owner of this estate was a single man...\n                  3         But her death, which happened ten years before...\n                  4         for to supply her loss, he invited and receive...\n                  5         Henry Dashwood, the legal inheritor of the Nor...\n                  6         In the society of his nephew and niece, and th...\n                  7                      His attachment to them all increased\n                  8                              The constant attention of Mr\n                  9                                                   and Mrs",
      "text/html": "<div>\n<style scoped>\n    .dataframe tbody tr th:only-of-type {\n        vertical-align: middle;\n    }\n\n    .dataframe tbody tr th {\n        vertical-align: top;\n    }\n\n    .dataframe thead th {\n        text-align: right;\n    }\n</style>\n<table border=\"1\" class=\"dataframe\">\n  <thead>\n    <tr style=\"text-align: right;\">\n      <th></th>\n      <th></th>\n      <th></th>\n      <th>sent_str</th>\n    </tr>\n    <tr>\n      <th>chap_num</th>\n      <th>para_num</th>\n      <th>sent_num</th>\n      <th></th>\n    </tr>\n  </thead>\n  <tbody>\n    <tr>\n      <th rowspan=\"10\" valign=\"top\">1</th>\n      <th rowspan=\"10\" valign=\"top\">0</th>\n      <th>0</th>\n      <td>The family of Dashwood had long been settled i...</td>\n    </tr>\n    <tr>\n      <th>1</th>\n      <td>Their estate was large, and their residence wa...</td>\n    </tr>\n    <tr>\n      <th>2</th>\n      <td>The late owner of this estate was a single man...</td>\n    </tr>\n    <tr>\n      <th>3</th>\n      <td>But her death, which happened ten years before...</td>\n    </tr>\n    <tr>\n      <th>4</th>\n      <td>for to supply her loss, he invited and receive...</td>\n    </tr>\n    <tr>\n      <th>5</th>\n      <td>Henry Dashwood, the legal inheritor of the Nor...</td>\n    </tr>\n    <tr>\n      <th>6</th>\n      <td>In the society of his nephew and niece, and th...</td>\n    </tr>\n    <tr>\n      <th>7</th>\n      <td>His attachment to them all increased</td>\n    </tr>\n    <tr>\n      <th>8</th>\n      <td>The constant attention of Mr</td>\n    </tr>\n    <tr>\n      <th>9</th>\n      <td>and Mrs</td>\n    </tr>\n  </tbody>\n</table>\n</div>"
     },
     "execution_count": 92,
     "metadata": {},
     "output_type": "execute_result"
    }
   ],
   "source": [
    "SENTS.head(10)"
   ]
  },
  {
   "cell_type": "code",
   "execution_count": 93,
   "id": "abb9cf92da7b7aa0",
   "metadata": {
    "collapsed": false,
    "ExecuteTime": {
     "end_time": "2025-02-03T22:02:13.405921Z",
     "start_time": "2025-02-03T22:02:13.347567Z"
    }
   },
   "outputs": [
    {
     "data": {
      "text/plain": "                                                                     sent_str\nchap_num para_num sent_num                                                   \n41       19       5           Ferrars can never forget that Edward is her son\n13       10       1         It came from town, and is merely a letter of b...\n28       16       4         Absence might have weakened his regard, and co...\n33       40       1                                                  Jennings\n37       20       1                                                         \"\n27       11       1         he came to look at Marianne and talk to Elinor...\n22       34       2         She returned it almost instantly, acknowledgin...\n37       26       3         Now, I can think and speak of it with little e...\n40       50       1                                               \" cried Mrs\n29       68       4                                                         \"",
      "text/html": "<div>\n<style scoped>\n    .dataframe tbody tr th:only-of-type {\n        vertical-align: middle;\n    }\n\n    .dataframe tbody tr th {\n        vertical-align: top;\n    }\n\n    .dataframe thead th {\n        text-align: right;\n    }\n</style>\n<table border=\"1\" class=\"dataframe\">\n  <thead>\n    <tr style=\"text-align: right;\">\n      <th></th>\n      <th></th>\n      <th></th>\n      <th>sent_str</th>\n    </tr>\n    <tr>\n      <th>chap_num</th>\n      <th>para_num</th>\n      <th>sent_num</th>\n      <th></th>\n    </tr>\n  </thead>\n  <tbody>\n    <tr>\n      <th>41</th>\n      <th>19</th>\n      <th>5</th>\n      <td>Ferrars can never forget that Edward is her son</td>\n    </tr>\n    <tr>\n      <th>13</th>\n      <th>10</th>\n      <th>1</th>\n      <td>It came from town, and is merely a letter of b...</td>\n    </tr>\n    <tr>\n      <th>28</th>\n      <th>16</th>\n      <th>4</th>\n      <td>Absence might have weakened his regard, and co...</td>\n    </tr>\n    <tr>\n      <th>33</th>\n      <th>40</th>\n      <th>1</th>\n      <td>Jennings</td>\n    </tr>\n    <tr>\n      <th>37</th>\n      <th>20</th>\n      <th>1</th>\n      <td>\"</td>\n    </tr>\n    <tr>\n      <th>27</th>\n      <th>11</th>\n      <th>1</th>\n      <td>he came to look at Marianne and talk to Elinor...</td>\n    </tr>\n    <tr>\n      <th>22</th>\n      <th>34</th>\n      <th>2</th>\n      <td>She returned it almost instantly, acknowledgin...</td>\n    </tr>\n    <tr>\n      <th>37</th>\n      <th>26</th>\n      <th>3</th>\n      <td>Now, I can think and speak of it with little e...</td>\n    </tr>\n    <tr>\n      <th>40</th>\n      <th>50</th>\n      <th>1</th>\n      <td>\" cried Mrs</td>\n    </tr>\n    <tr>\n      <th>29</th>\n      <th>68</th>\n      <th>4</th>\n      <td>\"</td>\n    </tr>\n  </tbody>\n</table>\n</div>"
     },
     "execution_count": 93,
     "metadata": {},
     "output_type": "execute_result"
    }
   ],
   "source": [
    "SENTS.sample(10)"
   ]
  },
  {
   "cell_type": "markdown",
   "id": "4867f5f877d39051",
   "metadata": {
    "collapsed": false
   },
   "source": [
    "## Split sentences into tokens"
   ]
  },
  {
   "cell_type": "code",
   "execution_count": 113,
   "id": "f837becff67be8b9",
   "metadata": {
    "collapsed": false,
    "ExecuteTime": {
     "end_time": "2025-02-03T22:03:30.232758Z",
     "start_time": "2025-02-03T22:03:30.181144Z"
    }
   },
   "outputs": [
    {
     "data": {
      "text/plain": "                                 token_str\nchap_num para_num sent_num                \n1        0        0        0           The\n                           1        family\n                           2            of\n                           3      Dashwood\n                           4           had\n...                                    ...\n50       22       0        8           and\n                           9   Sensibility\n                           10           by\n                           11         Jane\n                           12       Austen\n\n[122882 rows x 1 columns]",
      "text/html": "<div>\n<style scoped>\n    .dataframe tbody tr th:only-of-type {\n        vertical-align: middle;\n    }\n\n    .dataframe tbody tr th {\n        vertical-align: top;\n    }\n\n    .dataframe thead th {\n        text-align: right;\n    }\n</style>\n<table border=\"1\" class=\"dataframe\">\n  <thead>\n    <tr style=\"text-align: right;\">\n      <th></th>\n      <th></th>\n      <th></th>\n      <th></th>\n      <th>token_str</th>\n    </tr>\n    <tr>\n      <th>chap_num</th>\n      <th>para_num</th>\n      <th>sent_num</th>\n      <th></th>\n      <th></th>\n    </tr>\n  </thead>\n  <tbody>\n    <tr>\n      <th rowspan=\"5\" valign=\"top\">1</th>\n      <th rowspan=\"5\" valign=\"top\">0</th>\n      <th rowspan=\"5\" valign=\"top\">0</th>\n      <th>0</th>\n      <td>The</td>\n    </tr>\n    <tr>\n      <th>1</th>\n      <td>family</td>\n    </tr>\n    <tr>\n      <th>2</th>\n      <td>of</td>\n    </tr>\n    <tr>\n      <th>3</th>\n      <td>Dashwood</td>\n    </tr>\n    <tr>\n      <th>4</th>\n      <td>had</td>\n    </tr>\n    <tr>\n      <th>...</th>\n      <th>...</th>\n      <th>...</th>\n      <th>...</th>\n      <td>...</td>\n    </tr>\n    <tr>\n      <th rowspan=\"5\" valign=\"top\">50</th>\n      <th rowspan=\"5\" valign=\"top\">22</th>\n      <th rowspan=\"5\" valign=\"top\">0</th>\n      <th>8</th>\n      <td>and</td>\n    </tr>\n    <tr>\n      <th>9</th>\n      <td>Sensibility</td>\n    </tr>\n    <tr>\n      <th>10</th>\n      <td>by</td>\n    </tr>\n    <tr>\n      <th>11</th>\n      <td>Jane</td>\n    </tr>\n    <tr>\n      <th>12</th>\n      <td>Austen</td>\n    </tr>\n  </tbody>\n</table>\n<p>122882 rows × 1 columns</p>\n</div>"
     },
     "execution_count": 113,
     "metadata": {},
     "output_type": "execute_result"
    }
   ],
   "source": [
    "token_pat = r\"[\\s',-]+\"\n",
    "TOKENS_ss = SENTS['sent_str'].str.split(token_pat, expand=True).stack()\\\n",
    "    .to_frame('token_str')\n",
    "TOKENS_ss"
   ]
  },
  {
   "cell_type": "code",
   "execution_count": 95,
   "id": "33904b77cae98747",
   "metadata": {
    "collapsed": false,
    "ExecuteTime": {
     "end_time": "2025-02-03T22:02:13.524302Z",
     "start_time": "2025-02-03T22:02:13.474912Z"
    }
   },
   "outputs": [],
   "source": [
    "TOKENS_ss.index.names = OHCO[:4]"
   ]
  },
  {
   "cell_type": "code",
   "execution_count": 96,
   "id": "60b308b5c0c1c969",
   "metadata": {
    "collapsed": false,
    "ExecuteTime": {
     "end_time": "2025-02-03T22:02:13.561984Z",
     "start_time": "2025-02-03T22:02:13.505989Z"
    }
   },
   "outputs": [
    {
     "data": {
      "text/plain": "                                        token_str\nchap_num para_num sent_num token_num             \n1        0        0        0                  The\n                           1               family\n                           2                   of\n                           3             Dashwood\n                           4                  had\n...                                           ...\n50       22       0        8                  and\n                           9          Sensibility\n                           10                  by\n                           11                Jane\n                           12              Austen\n\n[122882 rows x 1 columns]",
      "text/html": "<div>\n<style scoped>\n    .dataframe tbody tr th:only-of-type {\n        vertical-align: middle;\n    }\n\n    .dataframe tbody tr th {\n        vertical-align: top;\n    }\n\n    .dataframe thead th {\n        text-align: right;\n    }\n</style>\n<table border=\"1\" class=\"dataframe\">\n  <thead>\n    <tr style=\"text-align: right;\">\n      <th></th>\n      <th></th>\n      <th></th>\n      <th></th>\n      <th>token_str</th>\n    </tr>\n    <tr>\n      <th>chap_num</th>\n      <th>para_num</th>\n      <th>sent_num</th>\n      <th>token_num</th>\n      <th></th>\n    </tr>\n  </thead>\n  <tbody>\n    <tr>\n      <th rowspan=\"5\" valign=\"top\">1</th>\n      <th rowspan=\"5\" valign=\"top\">0</th>\n      <th rowspan=\"5\" valign=\"top\">0</th>\n      <th>0</th>\n      <td>The</td>\n    </tr>\n    <tr>\n      <th>1</th>\n      <td>family</td>\n    </tr>\n    <tr>\n      <th>2</th>\n      <td>of</td>\n    </tr>\n    <tr>\n      <th>3</th>\n      <td>Dashwood</td>\n    </tr>\n    <tr>\n      <th>4</th>\n      <td>had</td>\n    </tr>\n    <tr>\n      <th>...</th>\n      <th>...</th>\n      <th>...</th>\n      <th>...</th>\n      <td>...</td>\n    </tr>\n    <tr>\n      <th rowspan=\"5\" valign=\"top\">50</th>\n      <th rowspan=\"5\" valign=\"top\">22</th>\n      <th rowspan=\"5\" valign=\"top\">0</th>\n      <th>8</th>\n      <td>and</td>\n    </tr>\n    <tr>\n      <th>9</th>\n      <td>Sensibility</td>\n    </tr>\n    <tr>\n      <th>10</th>\n      <td>by</td>\n    </tr>\n    <tr>\n      <th>11</th>\n      <td>Jane</td>\n    </tr>\n    <tr>\n      <th>12</th>\n      <td>Austen</td>\n    </tr>\n  </tbody>\n</table>\n<p>122882 rows × 1 columns</p>\n</div>"
     },
     "execution_count": 96,
     "metadata": {},
     "output_type": "execute_result"
    }
   ],
   "source": [
    "TOKENS_ss"
   ]
  },
  {
   "cell_type": "markdown",
   "id": "ba51322a68ff506e",
   "metadata": {
    "collapsed": false
   },
   "source": [
    "## Import Persuasion and Combine "
   ]
  },
  {
   "cell_type": "code",
   "execution_count": 97,
   "id": "e6c19271f09e2e0e",
   "metadata": {
    "collapsed": false,
    "ExecuteTime": {
     "end_time": "2025-02-03T22:02:13.649192Z",
     "start_time": "2025-02-03T22:02:13.555901Z"
    }
   },
   "outputs": [
    {
     "data": {
      "text/plain": "                                       token_str    term_str\nchap_num para_num sent_num token_num                        \n1        0        0        0                 Sir         sir\n                           1              Walter      walter\n                           2              Elliot      elliot\n                           3                  of          of\n                           4            Kellynch    kellynch\n...                                          ...         ...\n24       13       0        6                  of          of\n                           7          Persuasion  persuasion\n                           8                  by          by\n                           9                Jane        jane\n                           10             Austen      austen\n\n[85014 rows x 2 columns]",
      "text/html": "<div>\n<style scoped>\n    .dataframe tbody tr th:only-of-type {\n        vertical-align: middle;\n    }\n\n    .dataframe tbody tr th {\n        vertical-align: top;\n    }\n\n    .dataframe thead th {\n        text-align: right;\n    }\n</style>\n<table border=\"1\" class=\"dataframe\">\n  <thead>\n    <tr style=\"text-align: right;\">\n      <th></th>\n      <th></th>\n      <th></th>\n      <th></th>\n      <th>token_str</th>\n      <th>term_str</th>\n    </tr>\n    <tr>\n      <th>chap_num</th>\n      <th>para_num</th>\n      <th>sent_num</th>\n      <th>token_num</th>\n      <th></th>\n      <th></th>\n    </tr>\n  </thead>\n  <tbody>\n    <tr>\n      <th rowspan=\"5\" valign=\"top\">1</th>\n      <th rowspan=\"5\" valign=\"top\">0</th>\n      <th rowspan=\"5\" valign=\"top\">0</th>\n      <th>0</th>\n      <td>Sir</td>\n      <td>sir</td>\n    </tr>\n    <tr>\n      <th>1</th>\n      <td>Walter</td>\n      <td>walter</td>\n    </tr>\n    <tr>\n      <th>2</th>\n      <td>Elliot</td>\n      <td>elliot</td>\n    </tr>\n    <tr>\n      <th>3</th>\n      <td>of</td>\n      <td>of</td>\n    </tr>\n    <tr>\n      <th>4</th>\n      <td>Kellynch</td>\n      <td>kellynch</td>\n    </tr>\n    <tr>\n      <th>...</th>\n      <th>...</th>\n      <th>...</th>\n      <th>...</th>\n      <td>...</td>\n      <td>...</td>\n    </tr>\n    <tr>\n      <th rowspan=\"5\" valign=\"top\">24</th>\n      <th rowspan=\"5\" valign=\"top\">13</th>\n      <th rowspan=\"5\" valign=\"top\">0</th>\n      <th>6</th>\n      <td>of</td>\n      <td>of</td>\n    </tr>\n    <tr>\n      <th>7</th>\n      <td>Persuasion</td>\n      <td>persuasion</td>\n    </tr>\n    <tr>\n      <th>8</th>\n      <td>by</td>\n      <td>by</td>\n    </tr>\n    <tr>\n      <th>9</th>\n      <td>Jane</td>\n      <td>jane</td>\n    </tr>\n    <tr>\n      <th>10</th>\n      <td>Austen</td>\n      <td>austen</td>\n    </tr>\n  </tbody>\n</table>\n<p>85014 rows × 2 columns</p>\n</div>"
     },
     "execution_count": 97,
     "metadata": {},
     "output_type": "execute_result"
    }
   ],
   "source": [
    "TOKENS_p = pd.read_csv(f\"{data_home}/austen-persuasion.csv\", index_col=OHCO)\n",
    "TOKENS_p"
   ]
  },
  {
   "cell_type": "code",
   "execution_count": 98,
   "id": "475428ace10f537",
   "metadata": {
    "collapsed": false,
    "ExecuteTime": {
     "end_time": "2025-02-03T22:02:13.695670Z",
     "start_time": "2025-02-03T22:02:13.615132Z"
    }
   },
   "outputs": [],
   "source": [
    "TOKENS = pd.concat([TOKENS_ss,TOKENS_p], axis = 0, keys = [0,1], names = ['book'])"
   ]
  },
  {
   "cell_type": "markdown",
   "id": "14a5219ba485fe73",
   "metadata": {
    "collapsed": false
   },
   "source": [
    "###  1. How many raw tokens are in the combined data frame?"
   ]
  },
  {
   "cell_type": "code",
   "execution_count": 99,
   "id": "8b605ab3e9239736",
   "metadata": {
    "collapsed": false,
    "ExecuteTime": {
     "end_time": "2025-02-03T22:02:13.754282Z",
     "start_time": "2025-02-03T22:02:13.697143Z"
    }
   },
   "outputs": [
    {
     "data": {
      "text/plain": "(207896, 2)"
     },
     "execution_count": 99,
     "metadata": {},
     "output_type": "execute_result"
    }
   ],
   "source": [
    "TOKENS.shape"
   ]
  },
  {
   "cell_type": "markdown",
   "id": "b9609a03898f0ce1",
   "metadata": {
    "collapsed": false
   },
   "source": [
    "There are 207896 raw tokens in the combined data frame."
   ]
  },
  {
   "cell_type": "markdown",
   "id": "9e7c17c366e81df9",
   "metadata": {
    "collapsed": false
   },
   "source": [
    "### 2. How many distinct terms are there in the combined data frame (i.e. how big is the vocabulary)?"
   ]
  },
  {
   "cell_type": "markdown",
   "id": "acb73af59700d400",
   "metadata": {
    "collapsed": false
   },
   "source": [
    "### Extract Vocabulary"
   ]
  },
  {
   "cell_type": "code",
   "execution_count": 100,
   "id": "d2a036ecd19e75c5",
   "metadata": {
    "collapsed": false,
    "ExecuteTime": {
     "end_time": "2025-02-03T22:02:13.879870Z",
     "start_time": "2025-02-03T22:02:13.788497Z"
    }
   },
   "outputs": [],
   "source": [
    "TOKENS['term_str'] = TOKENS.token_str.replace(r'[\\W_]+', '', regex=True).str.lower()\n",
    "VOCAB = TOKENS.term_str.value_counts().to_frame('n').reset_index().rename(columns={'index':'term_str'})\n",
    "VOCAB.index.name = 'term_id'"
   ]
  },
  {
   "cell_type": "code",
   "execution_count": 101,
   "id": "cdeb72b98037bb05",
   "metadata": {
    "collapsed": false,
    "ExecuteTime": {
     "end_time": "2025-02-03T22:02:13.897868Z",
     "start_time": "2025-02-03T22:02:13.841969Z"
    }
   },
   "outputs": [
    {
     "data": {
      "text/plain": "              term_str     n\nterm_id                     \n0                  the  7435\n1                   to  6923\n2                  and  6290\n3                   of  6146\n4                  her  3747\n...                ...   ...\n8234     unconquerable     1\n8235          outgrown     1\n8236      prosperously     1\n8237           nominal     1\n8238             finis     1\n\n[8239 rows x 2 columns]",
      "text/html": "<div>\n<style scoped>\n    .dataframe tbody tr th:only-of-type {\n        vertical-align: middle;\n    }\n\n    .dataframe tbody tr th {\n        vertical-align: top;\n    }\n\n    .dataframe thead th {\n        text-align: right;\n    }\n</style>\n<table border=\"1\" class=\"dataframe\">\n  <thead>\n    <tr style=\"text-align: right;\">\n      <th></th>\n      <th>term_str</th>\n      <th>n</th>\n    </tr>\n    <tr>\n      <th>term_id</th>\n      <th></th>\n      <th></th>\n    </tr>\n  </thead>\n  <tbody>\n    <tr>\n      <th>0</th>\n      <td>the</td>\n      <td>7435</td>\n    </tr>\n    <tr>\n      <th>1</th>\n      <td>to</td>\n      <td>6923</td>\n    </tr>\n    <tr>\n      <th>2</th>\n      <td>and</td>\n      <td>6290</td>\n    </tr>\n    <tr>\n      <th>3</th>\n      <td>of</td>\n      <td>6146</td>\n    </tr>\n    <tr>\n      <th>4</th>\n      <td>her</td>\n      <td>3747</td>\n    </tr>\n    <tr>\n      <th>...</th>\n      <td>...</td>\n      <td>...</td>\n    </tr>\n    <tr>\n      <th>8234</th>\n      <td>unconquerable</td>\n      <td>1</td>\n    </tr>\n    <tr>\n      <th>8235</th>\n      <td>outgrown</td>\n      <td>1</td>\n    </tr>\n    <tr>\n      <th>8236</th>\n      <td>prosperously</td>\n      <td>1</td>\n    </tr>\n    <tr>\n      <th>8237</th>\n      <td>nominal</td>\n      <td>1</td>\n    </tr>\n    <tr>\n      <th>8238</th>\n      <td>finis</td>\n      <td>1</td>\n    </tr>\n  </tbody>\n</table>\n<p>8239 rows × 2 columns</p>\n</div>"
     },
     "execution_count": 101,
     "metadata": {},
     "output_type": "execute_result"
    }
   ],
   "source": [
    "VOCAB"
   ]
  },
  {
   "cell_type": "code",
   "execution_count": 102,
   "id": "62b7726e462366d2",
   "metadata": {
    "collapsed": false,
    "ExecuteTime": {
     "end_time": "2025-02-03T22:02:13.931205Z",
     "start_time": "2025-02-03T22:02:13.882515Z"
    }
   },
   "outputs": [
    {
     "data": {
      "text/plain": "(8239, 2)"
     },
     "execution_count": 102,
     "metadata": {},
     "output_type": "execute_result"
    }
   ],
   "source": [
    "VOCAB.shape"
   ]
  },
  {
   "cell_type": "markdown",
   "id": "5a35b4f99e9faa70",
   "metadata": {
    "collapsed": false
   },
   "source": [
    "There are 8,239 distinct terms in the combined data frame."
   ]
  },
  {
   "cell_type": "markdown",
   "id": "47d58f1104d9b0a1",
   "metadata": {
    "collapsed": false
   },
   "source": [
    "### 3. How many more terms does the vocabulary of Sense and Sensibility have than that of Persuasion?"
   ]
  },
  {
   "cell_type": "code",
   "execution_count": 103,
   "id": "95c097986744268f",
   "metadata": {
    "collapsed": false,
    "ExecuteTime": {
     "end_time": "2025-02-03T22:02:14.005585Z",
     "start_time": "2025-02-03T22:02:13.923860Z"
    }
   },
   "outputs": [
    {
     "data": {
      "text/plain": "            term_str     n\nterm_id                   \n0                 to  4115\n1                the  4105\n2                 of  3574\n3                and  3490\n4                her  2543\n...              ...   ...\n6275          prefer     1\n6276      dissolving     1\n6277           beset     1\n6278     effectually     1\n6279          austen     1\n\n[6280 rows x 2 columns]",
      "text/html": "<div>\n<style scoped>\n    .dataframe tbody tr th:only-of-type {\n        vertical-align: middle;\n    }\n\n    .dataframe tbody tr th {\n        vertical-align: top;\n    }\n\n    .dataframe thead th {\n        text-align: right;\n    }\n</style>\n<table border=\"1\" class=\"dataframe\">\n  <thead>\n    <tr style=\"text-align: right;\">\n      <th></th>\n      <th>term_str</th>\n      <th>n</th>\n    </tr>\n    <tr>\n      <th>term_id</th>\n      <th></th>\n      <th></th>\n    </tr>\n  </thead>\n  <tbody>\n    <tr>\n      <th>0</th>\n      <td>to</td>\n      <td>4115</td>\n    </tr>\n    <tr>\n      <th>1</th>\n      <td>the</td>\n      <td>4105</td>\n    </tr>\n    <tr>\n      <th>2</th>\n      <td>of</td>\n      <td>3574</td>\n    </tr>\n    <tr>\n      <th>3</th>\n      <td>and</td>\n      <td>3490</td>\n    </tr>\n    <tr>\n      <th>4</th>\n      <td>her</td>\n      <td>2543</td>\n    </tr>\n    <tr>\n      <th>...</th>\n      <td>...</td>\n      <td>...</td>\n    </tr>\n    <tr>\n      <th>6275</th>\n      <td>prefer</td>\n      <td>1</td>\n    </tr>\n    <tr>\n      <th>6276</th>\n      <td>dissolving</td>\n      <td>1</td>\n    </tr>\n    <tr>\n      <th>6277</th>\n      <td>beset</td>\n      <td>1</td>\n    </tr>\n    <tr>\n      <th>6278</th>\n      <td>effectually</td>\n      <td>1</td>\n    </tr>\n    <tr>\n      <th>6279</th>\n      <td>austen</td>\n      <td>1</td>\n    </tr>\n  </tbody>\n</table>\n<p>6280 rows × 2 columns</p>\n</div>"
     },
     "execution_count": 103,
     "metadata": {},
     "output_type": "execute_result"
    }
   ],
   "source": [
    "TOKENS_ss['term_str'] = TOKENS_ss.token_str.replace(r'[\\W_]+', '', regex=True).str.lower()\n",
    "VOCAB_ss = TOKENS_ss.term_str.value_counts().to_frame('n').reset_index().rename(columns={'index':'term_str'})\n",
    "VOCAB_ss.index.name = 'term_id'\n",
    "VOCAB_ss"
   ]
  },
  {
   "cell_type": "code",
   "execution_count": 104,
   "id": "989cec09193db8a6",
   "metadata": {
    "collapsed": false,
    "ExecuteTime": {
     "end_time": "2025-02-03T22:02:14.053560Z",
     "start_time": "2025-02-03T22:02:13.977282Z"
    }
   },
   "outputs": [
    {
     "data": {
      "text/plain": "            term_str     n\nterm_id                   \n0                the  3330\n1                 to  2808\n2                and  2800\n3                 of  2572\n4                  a  1595\n...              ...   ...\n5755           reins     1\n5756     judiciously     1\n5757             rut     1\n5758            dung     1\n5759          austen     1\n\n[5760 rows x 2 columns]",
      "text/html": "<div>\n<style scoped>\n    .dataframe tbody tr th:only-of-type {\n        vertical-align: middle;\n    }\n\n    .dataframe tbody tr th {\n        vertical-align: top;\n    }\n\n    .dataframe thead th {\n        text-align: right;\n    }\n</style>\n<table border=\"1\" class=\"dataframe\">\n  <thead>\n    <tr style=\"text-align: right;\">\n      <th></th>\n      <th>term_str</th>\n      <th>n</th>\n    </tr>\n    <tr>\n      <th>term_id</th>\n      <th></th>\n      <th></th>\n    </tr>\n  </thead>\n  <tbody>\n    <tr>\n      <th>0</th>\n      <td>the</td>\n      <td>3330</td>\n    </tr>\n    <tr>\n      <th>1</th>\n      <td>to</td>\n      <td>2808</td>\n    </tr>\n    <tr>\n      <th>2</th>\n      <td>and</td>\n      <td>2800</td>\n    </tr>\n    <tr>\n      <th>3</th>\n      <td>of</td>\n      <td>2572</td>\n    </tr>\n    <tr>\n      <th>4</th>\n      <td>a</td>\n      <td>1595</td>\n    </tr>\n    <tr>\n      <th>...</th>\n      <td>...</td>\n      <td>...</td>\n    </tr>\n    <tr>\n      <th>5755</th>\n      <td>reins</td>\n      <td>1</td>\n    </tr>\n    <tr>\n      <th>5756</th>\n      <td>judiciously</td>\n      <td>1</td>\n    </tr>\n    <tr>\n      <th>5757</th>\n      <td>rut</td>\n      <td>1</td>\n    </tr>\n    <tr>\n      <th>5758</th>\n      <td>dung</td>\n      <td>1</td>\n    </tr>\n    <tr>\n      <th>5759</th>\n      <td>austen</td>\n      <td>1</td>\n    </tr>\n  </tbody>\n</table>\n<p>5760 rows × 2 columns</p>\n</div>"
     },
     "execution_count": 104,
     "metadata": {},
     "output_type": "execute_result"
    }
   ],
   "source": [
    "TOKENS_p['term_str'] = TOKENS_p.token_str.replace(r'[\\W_]+', '', regex=True).str.lower()\n",
    "VOCAB_p = TOKENS_p.term_str.value_counts().to_frame('n').reset_index().rename(columns={'index':'term_str'})\n",
    "VOCAB_p.index.name = 'term_id'\n",
    "VOCAB_p"
   ]
  },
  {
   "cell_type": "code",
   "execution_count": 105,
   "id": "749b80e787807b6",
   "metadata": {
    "collapsed": false,
    "ExecuteTime": {
     "end_time": "2025-02-03T22:02:14.055078Z",
     "start_time": "2025-02-03T22:02:14.016221Z"
    }
   },
   "outputs": [
    {
     "data": {
      "text/plain": "520"
     },
     "execution_count": 105,
     "metadata": {},
     "output_type": "execute_result"
    }
   ],
   "source": [
    "(VOCAB_ss.shape[0]) - (VOCAB_p.shape[0])"
   ]
  },
  {
   "cell_type": "markdown",
   "id": "daecf37ce3474ea",
   "metadata": {
    "collapsed": false
   },
   "source": [
    "Sense and Sensibility has 520 more unique terms than Persuasion."
   ]
  },
  {
   "cell_type": "markdown",
   "id": "fe2897e464a1b604",
   "metadata": {
    "collapsed": false
   },
   "source": [
    "### 4. What is the average number of tokens, rounded to an integer, per chapter in the corpus?"
   ]
  },
  {
   "cell_type": "code",
   "execution_count": 106,
   "id": "30e8a4555ddd2390",
   "metadata": {
    "collapsed": false,
    "ExecuteTime": {
     "end_time": "2025-02-03T22:02:14.101391Z",
     "start_time": "2025-02-03T22:02:14.040818Z"
    }
   },
   "outputs": [],
   "source": [
    "def gather(ohco_level):\n",
    "    global TOKENS\n",
    "    level_name = OHCO[ohco_level-1].split('_')[0]\n",
    "    df = TOKENS.groupby(OHCO[:ohco_level])\\\n",
    "        .token_str.apply(lambda x: x.str.cat(sep=' '))\\\n",
    "        .to_frame(f\"{level_name}_str\")\n",
    "    return df"
   ]
  },
  {
   "cell_type": "code",
   "execution_count": 107,
   "id": "c3a967273af70872",
   "metadata": {
    "collapsed": false,
    "ExecuteTime": {
     "end_time": "2025-02-03T22:02:14.223122Z",
     "start_time": "2025-02-03T22:02:14.104680Z"
    }
   },
   "outputs": [
    {
     "data": {
      "text/plain": "token_str    2807.918919\nterm_str     2807.918919\ndtype: float64"
     },
     "execution_count": 107,
     "metadata": {},
     "output_type": "execute_result"
    }
   ],
   "source": [
    "TOKENS.groupby(['book','chap_num']).count().mean()"
   ]
  },
  {
   "cell_type": "markdown",
   "id": "b2d784a690a229dd",
   "metadata": {
    "collapsed": false
   },
   "source": [
    "The average number of tokens per chapter in the corpus is 2808"
   ]
  },
  {
   "cell_type": "markdown",
   "id": "79f6f45612ef0acc",
   "metadata": {
    "collapsed": false
   },
   "source": [
    "### 5. What is the average number of tokens, rounded to an integer, per paragraph in the corpus?"
   ]
  },
  {
   "cell_type": "code",
   "execution_count": 108,
   "id": "2a5c4f35f079523e",
   "metadata": {
    "collapsed": false,
    "ExecuteTime": {
     "end_time": "2025-02-03T22:02:14.276513Z",
     "start_time": "2025-02-03T22:02:14.155183Z"
    }
   },
   "outputs": [
    {
     "data": {
      "text/plain": "token_str    73.709117\nterm_str     73.709117\ndtype: float64"
     },
     "execution_count": 108,
     "metadata": {},
     "output_type": "execute_result"
    }
   ],
   "source": [
    "TOKENS.groupby(['book','chap_num','para_num']).count().mean()"
   ]
  },
  {
   "cell_type": "markdown",
   "id": "ce650e6c83bf96bc",
   "metadata": {
    "collapsed": false
   },
   "source": [
    "The average number of tokens per paragraph in the corpus is 74"
   ]
  },
  {
   "cell_type": "code",
   "outputs": [],
   "source": [
    "TOKENS.to_csv(csv_file)"
   ],
   "metadata": {
    "collapsed": false,
    "ExecuteTime": {
     "end_time": "2025-02-03T22:02:14.578209Z",
     "start_time": "2025-02-03T22:02:14.276525Z"
    }
   },
   "id": "629a2cb3dfe0f82b",
   "execution_count": 109
  },
  {
   "cell_type": "code",
   "outputs": [],
   "source": [
    "TOKENS_ss.to_csv(f\"{output_dir}/austen-sense-and-sensibility.csv\")"
   ],
   "metadata": {
    "collapsed": false,
    "ExecuteTime": {
     "end_time": "2025-02-03T22:02:14.734783Z",
     "start_time": "2025-02-03T22:02:14.579344Z"
    }
   },
   "id": "4831984f2b3fb080",
   "execution_count": 110
  }
 ],
 "metadata": {
  "kernelspec": {
   "display_name": "Python 3 (ipykernel)",
   "language": "python",
   "name": "python3"
  },
  "language_info": {
   "codemirror_mode": {
    "name": "ipython",
    "version": 3
   },
   "file_extension": ".py",
   "mimetype": "text/x-python",
   "name": "python",
   "nbconvert_exporter": "python",
   "pygments_lexer": "ipython3",
   "version": "3.11.7"
  }
 },
 "nbformat": 4,
 "nbformat_minor": 5
}
