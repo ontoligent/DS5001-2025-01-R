{
 "cells": [
  {
   "cell_type": "markdown",
   "metadata": {
    "slideshow": {
     "slide_type": "slide"
    },
    "tags": []
   },
   "source": [
    "# First Foray\n",
    "\n",
    "DS 5001 Text as Data"
   ]
  },
  {
   "cell_type": "markdown",
   "metadata": {
    "slideshow": {
     "slide_type": "slide"
    },
    "tags": []
   },
   "source": [
    "## Purpose\n",
    "\n",
    "We take a raw text file from Project Gutenberg and convert it into a dataframe of tokens. \n",
    "\n",
    "We then explore some properties of the data. \n",
    "\n",
    "The main idea is to get acquainted with the primary process of convert text into analytical form."
   ]
  },
  {
   "cell_type": "markdown",
   "metadata": {
    "slideshow": {
     "slide_type": "slide"
    },
    "tags": []
   },
   "source": [
    "## Set Up"
   ]
  },
  {
   "cell_type": "code",
   "execution_count": 1,
   "metadata": {
    "editable": true,
    "slideshow": {
     "slide_type": ""
    },
    "tags": [],
    "ExecuteTime": {
     "end_time": "2025-01-23T21:25:09.577105Z",
     "start_time": "2025-01-23T21:25:08.778866Z"
    }
   },
   "outputs": [],
   "source": [
    "import pandas as pd\n",
    "import configparser"
   ]
  },
  {
   "cell_type": "code",
   "execution_count": 2,
   "metadata": {
    "editable": true,
    "slideshow": {
     "slide_type": ""
    },
    "tags": [],
    "ExecuteTime": {
     "end_time": "2025-01-23T21:25:09.587793Z",
     "start_time": "2025-01-23T21:25:09.576981Z"
    }
   },
   "outputs": [],
   "source": [
    "config = configparser.ConfigParser()\n",
    "config.read(\"../../../env.ini\")\n",
    "data_home = config['DEFAULT']['data_home']\n",
    "output_dir = config['DEFAULT']['output_dir']"
   ]
  },
  {
   "cell_type": "markdown",
   "metadata": {
    "slideshow": {
     "slide_type": "slide"
    },
    "tags": []
   },
   "source": [
    "## Import File"
   ]
  },
  {
   "cell_type": "code",
   "execution_count": 3,
   "metadata": {
    "tags": [],
    "ExecuteTime": {
     "end_time": "2025-01-23T21:25:09.710588Z",
     "start_time": "2025-01-23T21:25:09.580678Z"
    }
   },
   "outputs": [
    {
     "name": "stdout",
     "output_type": "stream",
     "text": [
      "total 912\r\n",
      "drwx------@ 8 jamessiegener  staff     256 Jan 23 16:24 \u001B[34mgutenberg\u001B[m\u001B[m\r\n",
      "-rw-r--r--@ 1 jamessiegener  staff  465627 Jan 20 22:31 pg42324.txt\r\n"
     ]
    }
   ],
   "source": [
    "!ls -l {data_home}"
   ]
  },
  {
   "cell_type": "code",
   "execution_count": 4,
   "metadata": {
    "tags": [],
    "ExecuteTime": {
     "end_time": "2025-01-23T21:25:09.719623Z",
     "start_time": "2025-01-23T21:25:09.712015Z"
    }
   },
   "outputs": [],
   "source": [
    "src_file = f\"{data_home}/gutenberg/pg105.txt\""
   ]
  },
  {
   "cell_type": "code",
   "execution_count": 5,
   "metadata": {
    "slideshow": {
     "slide_type": "fragment"
    },
    "tags": [],
    "ExecuteTime": {
     "end_time": "2025-01-23T21:25:09.721852Z",
     "start_time": "2025-01-23T21:25:09.717967Z"
    }
   },
   "outputs": [],
   "source": [
    "lines = open(src_file, 'r').readlines()"
   ]
  },
  {
   "cell_type": "code",
   "execution_count": 6,
   "metadata": {
    "slideshow": {
     "slide_type": "subslide"
    },
    "tags": [],
    "ExecuteTime": {
     "end_time": "2025-01-23T21:25:09.726688Z",
     "start_time": "2025-01-23T21:25:09.723278Z"
    }
   },
   "outputs": [
    {
     "data": {
      "text/plain": "['The Project Gutenberg EBook of Persuasion, by Jane Austen\\n',\n '\\n',\n 'This eBook is for the use of anyone anywhere at no cost and with\\n',\n 'almost no restrictions whatsoever.  You may copy it, give it away or\\n',\n 're-use it under the terms of the Project Gutenberg License included\\n']"
     },
     "execution_count": 6,
     "metadata": {},
     "output_type": "execute_result"
    }
   ],
   "source": [
    "lines[:5]"
   ]
  },
  {
   "cell_type": "code",
   "execution_count": 7,
   "metadata": {
    "tags": [],
    "ExecuteTime": {
     "end_time": "2025-01-23T21:25:09.772112Z",
     "start_time": "2025-01-23T21:25:09.727501Z"
    }
   },
   "outputs": [
    {
     "data": {
      "text/plain": "['\\n',\n 'This Web site includes information about Project Gutenberg-tm,\\n',\n 'including how to make donations to the Project Gutenberg Literary\\n',\n 'Archive Foundation, how to help produce our new eBooks, and how to\\n',\n 'subscribe to our email newsletter to hear about new eBooks.\\n']"
     },
     "execution_count": 7,
     "metadata": {},
     "output_type": "execute_result"
    }
   ],
   "source": [
    "lines[-5:]"
   ]
  },
  {
   "cell_type": "markdown",
   "metadata": {
    "slideshow": {
     "slide_type": "slide"
    },
    "tags": []
   },
   "source": [
    "## Convert to Dataframe"
   ]
  },
  {
   "cell_type": "code",
   "execution_count": 8,
   "metadata": {
    "tags": [],
    "ExecuteTime": {
     "end_time": "2025-01-23T21:25:09.774627Z",
     "start_time": "2025-01-23T21:25:09.734360Z"
    }
   },
   "outputs": [],
   "source": [
    "text = pd.DataFrame(lines)"
   ]
  },
  {
   "cell_type": "code",
   "execution_count": 9,
   "metadata": {
    "tags": [],
    "ExecuteTime": {
     "end_time": "2025-01-23T21:25:09.787718Z",
     "start_time": "2025-01-23T21:25:09.740449Z"
    }
   },
   "outputs": [
    {
     "data": {
      "text/plain": "                                                      0\n0     The Project Gutenberg EBook of Persuasion, by ...\n1                                                    \\n\n2     This eBook is for the use of anyone anywhere a...\n3     almost no restrictions whatsoever.  You may co...\n4     re-use it under the terms of the Project Guten...\n...                                                 ...\n8729                                                 \\n\n8730  This Web site includes information about Proje...\n8731  including how to make donations to the Project...\n8732  Archive Foundation, how to help produce our ne...\n8733  subscribe to our email newsletter to hear abou...\n\n[8734 rows x 1 columns]",
      "text/html": "<div>\n<style scoped>\n    .dataframe tbody tr th:only-of-type {\n        vertical-align: middle;\n    }\n\n    .dataframe tbody tr th {\n        vertical-align: top;\n    }\n\n    .dataframe thead th {\n        text-align: right;\n    }\n</style>\n<table border=\"1\" class=\"dataframe\">\n  <thead>\n    <tr style=\"text-align: right;\">\n      <th></th>\n      <th>0</th>\n    </tr>\n  </thead>\n  <tbody>\n    <tr>\n      <th>0</th>\n      <td>The Project Gutenberg EBook of Persuasion, by ...</td>\n    </tr>\n    <tr>\n      <th>1</th>\n      <td>\\n</td>\n    </tr>\n    <tr>\n      <th>2</th>\n      <td>This eBook is for the use of anyone anywhere a...</td>\n    </tr>\n    <tr>\n      <th>3</th>\n      <td>almost no restrictions whatsoever.  You may co...</td>\n    </tr>\n    <tr>\n      <th>4</th>\n      <td>re-use it under the terms of the Project Guten...</td>\n    </tr>\n    <tr>\n      <th>...</th>\n      <td>...</td>\n    </tr>\n    <tr>\n      <th>8729</th>\n      <td>\\n</td>\n    </tr>\n    <tr>\n      <th>8730</th>\n      <td>This Web site includes information about Proje...</td>\n    </tr>\n    <tr>\n      <th>8731</th>\n      <td>including how to make donations to the Project...</td>\n    </tr>\n    <tr>\n      <th>8732</th>\n      <td>Archive Foundation, how to help produce our ne...</td>\n    </tr>\n    <tr>\n      <th>8733</th>\n      <td>subscribe to our email newsletter to hear abou...</td>\n    </tr>\n  </tbody>\n</table>\n<p>8734 rows × 1 columns</p>\n</div>"
     },
     "execution_count": 9,
     "metadata": {},
     "output_type": "execute_result"
    }
   ],
   "source": [
    "text"
   ]
  },
  {
   "cell_type": "code",
   "execution_count": 10,
   "metadata": {
    "slideshow": {
     "slide_type": "subslide"
    },
    "tags": [],
    "ExecuteTime": {
     "end_time": "2025-01-23T21:25:09.789679Z",
     "start_time": "2025-01-23T21:25:09.748384Z"
    }
   },
   "outputs": [
    {
     "data": {
      "text/plain": "                                                      0\n7766  but make you comprehend what a man suffers whe...\n5297  Henrietta did not remain at Lyme as long as Lo...\n3139                                                 \\n\n94    in society.  He considered the blessing of bea...\n5996                                                 \\n\n6006  \"Indeed!  I should not have supposed that you ...\n6487  having this claim on Mr Elliot, I should be ex...\n4853              their value.  Anne smiled and said,\\n\n3317  Anne and Henrietta, finding themselves the ear...\n8430  entity to whom you paid the fee as set forth i...",
      "text/html": "<div>\n<style scoped>\n    .dataframe tbody tr th:only-of-type {\n        vertical-align: middle;\n    }\n\n    .dataframe tbody tr th {\n        vertical-align: top;\n    }\n\n    .dataframe thead th {\n        text-align: right;\n    }\n</style>\n<table border=\"1\" class=\"dataframe\">\n  <thead>\n    <tr style=\"text-align: right;\">\n      <th></th>\n      <th>0</th>\n    </tr>\n  </thead>\n  <tbody>\n    <tr>\n      <th>7766</th>\n      <td>but make you comprehend what a man suffers whe...</td>\n    </tr>\n    <tr>\n      <th>5297</th>\n      <td>Henrietta did not remain at Lyme as long as Lo...</td>\n    </tr>\n    <tr>\n      <th>3139</th>\n      <td>\\n</td>\n    </tr>\n    <tr>\n      <th>94</th>\n      <td>in society.  He considered the blessing of bea...</td>\n    </tr>\n    <tr>\n      <th>5996</th>\n      <td>\\n</td>\n    </tr>\n    <tr>\n      <th>6006</th>\n      <td>\"Indeed!  I should not have supposed that you ...</td>\n    </tr>\n    <tr>\n      <th>6487</th>\n      <td>having this claim on Mr Elliot, I should be ex...</td>\n    </tr>\n    <tr>\n      <th>4853</th>\n      <td>their value.  Anne smiled and said,\\n</td>\n    </tr>\n    <tr>\n      <th>3317</th>\n      <td>Anne and Henrietta, finding themselves the ear...</td>\n    </tr>\n    <tr>\n      <th>8430</th>\n      <td>entity to whom you paid the fee as set forth i...</td>\n    </tr>\n  </tbody>\n</table>\n</div>"
     },
     "execution_count": 10,
     "metadata": {},
     "output_type": "execute_result"
    }
   ],
   "source": [
    "text.sample(10)"
   ]
  },
  {
   "cell_type": "code",
   "execution_count": 11,
   "metadata": {
    "slideshow": {
     "slide_type": "subslide"
    },
    "tags": [],
    "ExecuteTime": {
     "end_time": "2025-01-23T21:25:09.790803Z",
     "start_time": "2025-01-23T21:25:09.755217Z"
    }
   },
   "outputs": [],
   "source": [
    "text.columns = ['line_str']"
   ]
  },
  {
   "cell_type": "code",
   "execution_count": 12,
   "metadata": {
    "tags": [],
    "ExecuteTime": {
     "end_time": "2025-01-23T21:25:09.823469Z",
     "start_time": "2025-01-23T21:25:09.758080Z"
    }
   },
   "outputs": [
    {
     "data": {
      "text/plain": "                                            line_str\n0  The Project Gutenberg EBook of Persuasion, by ...\n1                                                 \\n\n2  This eBook is for the use of anyone anywhere a...\n3  almost no restrictions whatsoever.  You may co...\n4  re-use it under the terms of the Project Guten...",
      "text/html": "<div>\n<style scoped>\n    .dataframe tbody tr th:only-of-type {\n        vertical-align: middle;\n    }\n\n    .dataframe tbody tr th {\n        vertical-align: top;\n    }\n\n    .dataframe thead th {\n        text-align: right;\n    }\n</style>\n<table border=\"1\" class=\"dataframe\">\n  <thead>\n    <tr style=\"text-align: right;\">\n      <th></th>\n      <th>line_str</th>\n    </tr>\n  </thead>\n  <tbody>\n    <tr>\n      <th>0</th>\n      <td>The Project Gutenberg EBook of Persuasion, by ...</td>\n    </tr>\n    <tr>\n      <th>1</th>\n      <td>\\n</td>\n    </tr>\n    <tr>\n      <th>2</th>\n      <td>This eBook is for the use of anyone anywhere a...</td>\n    </tr>\n    <tr>\n      <th>3</th>\n      <td>almost no restrictions whatsoever.  You may co...</td>\n    </tr>\n    <tr>\n      <th>4</th>\n      <td>re-use it under the terms of the Project Guten...</td>\n    </tr>\n  </tbody>\n</table>\n</div>"
     },
     "execution_count": 12,
     "metadata": {},
     "output_type": "execute_result"
    }
   ],
   "source": [
    "text.head()"
   ]
  },
  {
   "cell_type": "code",
   "execution_count": 13,
   "metadata": {
    "slideshow": {
     "slide_type": "subslide"
    },
    "tags": [],
    "ExecuteTime": {
     "end_time": "2025-01-23T21:25:09.824698Z",
     "start_time": "2025-01-23T21:25:09.764115Z"
    }
   },
   "outputs": [],
   "source": [
    "text.index.name = 'line_num'"
   ]
  },
  {
   "cell_type": "code",
   "execution_count": 14,
   "metadata": {
    "tags": [],
    "ExecuteTime": {
     "end_time": "2025-01-23T21:25:09.827700Z",
     "start_time": "2025-01-23T21:25:09.769862Z"
    }
   },
   "outputs": [
    {
     "data": {
      "text/plain": "                                                   line_str\nline_num                                                   \n0         The Project Gutenberg EBook of Persuasion, by ...\n1                                                        \\n\n2         This eBook is for the use of anyone anywhere a...\n3         almost no restrictions whatsoever.  You may co...\n4         re-use it under the terms of the Project Guten...",
      "text/html": "<div>\n<style scoped>\n    .dataframe tbody tr th:only-of-type {\n        vertical-align: middle;\n    }\n\n    .dataframe tbody tr th {\n        vertical-align: top;\n    }\n\n    .dataframe thead th {\n        text-align: right;\n    }\n</style>\n<table border=\"1\" class=\"dataframe\">\n  <thead>\n    <tr style=\"text-align: right;\">\n      <th></th>\n      <th>line_str</th>\n    </tr>\n    <tr>\n      <th>line_num</th>\n      <th></th>\n    </tr>\n  </thead>\n  <tbody>\n    <tr>\n      <th>0</th>\n      <td>The Project Gutenberg EBook of Persuasion, by ...</td>\n    </tr>\n    <tr>\n      <th>1</th>\n      <td>\\n</td>\n    </tr>\n    <tr>\n      <th>2</th>\n      <td>This eBook is for the use of anyone anywhere a...</td>\n    </tr>\n    <tr>\n      <th>3</th>\n      <td>almost no restrictions whatsoever.  You may co...</td>\n    </tr>\n    <tr>\n      <th>4</th>\n      <td>re-use it under the terms of the Project Guten...</td>\n    </tr>\n  </tbody>\n</table>\n</div>"
     },
     "execution_count": 14,
     "metadata": {},
     "output_type": "execute_result"
    }
   ],
   "source": [
    "text.head()"
   ]
  },
  {
   "cell_type": "markdown",
   "metadata": {
    "slideshow": {
     "slide_type": "slide"
    },
    "tags": []
   },
   "source": [
    "## Extract Simple Features"
   ]
  },
  {
   "cell_type": "code",
   "execution_count": 15,
   "metadata": {
    "tags": [],
    "ExecuteTime": {
     "end_time": "2025-01-23T21:25:09.841205Z",
     "start_time": "2025-01-23T21:25:09.775484Z"
    }
   },
   "outputs": [],
   "source": [
    "text['len'] = text.line_str.str.len()"
   ]
  },
  {
   "cell_type": "code",
   "execution_count": 16,
   "metadata": {
    "slideshow": {
     "slide_type": "fragment"
    },
    "tags": [],
    "ExecuteTime": {
     "end_time": "2025-01-23T21:25:09.842880Z",
     "start_time": "2025-01-23T21:25:09.779070Z"
    }
   },
   "outputs": [
    {
     "data": {
      "text/plain": "count    8734.000000\nmean       55.673460\nstd        25.340378\nmin         1.000000\n25%        61.000000\n50%        68.000000\n75%        71.000000\nmax        74.000000\nName: len, dtype: float64"
     },
     "execution_count": 16,
     "metadata": {},
     "output_type": "execute_result"
    }
   ],
   "source": [
    "text.len.describe()"
   ]
  },
  {
   "cell_type": "code",
   "execution_count": 17,
   "metadata": {
    "slideshow": {
     "slide_type": "fragment"
    },
    "tags": [],
    "ExecuteTime": {
     "end_time": "2025-01-23T21:25:10.547022Z",
     "start_time": "2025-01-23T21:25:09.784494Z"
    }
   },
   "outputs": [
    {
     "data": {
      "text/plain": "<Figure size 640x480 with 1 Axes>",
      "image/png": "[encoded data removed]"
     },
     "metadata": {},
     "output_type": "display_data"
    }
   ],
   "source": [
    "text.len.hist();"
   ]
  },
  {
   "cell_type": "markdown",
   "metadata": {
    "slideshow": {
     "slide_type": "subslide"
    },
    "tags": []
   },
   "source": [
    "**Why two humps?** What might this bimodal distribution indicate?"
   ]
  },
  {
   "cell_type": "markdown",
   "metadata": {
    "slideshow": {
     "slide_type": "subslide"
    },
    "tags": []
   },
   "source": [
    "Let's look at the first hump for characters."
   ]
  },
  {
   "cell_type": "code",
   "execution_count": 18,
   "metadata": {
    "tags": [],
    "ExecuteTime": {
     "end_time": "2025-01-23T21:25:10.549561Z",
     "start_time": "2025-01-23T21:25:10.529134Z"
    }
   },
   "outputs": [
    {
     "data": {
      "text/plain": "         line_str  len\nline_num              \n6648           \\n    1\n8367           \\n    1\n6969           \\n    1\n2454           \\n    1\n2654           \\n    1\n1624           \\n    1\n787            \\n    1\n7437           \\n    1\n5329           \\n    1\n1385           \\n    1",
      "text/html": "<div>\n<style scoped>\n    .dataframe tbody tr th:only-of-type {\n        vertical-align: middle;\n    }\n\n    .dataframe tbody tr th {\n        vertical-align: top;\n    }\n\n    .dataframe thead th {\n        text-align: right;\n    }\n</style>\n<table border=\"1\" class=\"dataframe\">\n  <thead>\n    <tr style=\"text-align: right;\">\n      <th></th>\n      <th>line_str</th>\n      <th>len</th>\n    </tr>\n    <tr>\n      <th>line_num</th>\n      <th></th>\n      <th></th>\n    </tr>\n  </thead>\n  <tbody>\n    <tr>\n      <th>6648</th>\n      <td>\\n</td>\n      <td>1</td>\n    </tr>\n    <tr>\n      <th>8367</th>\n      <td>\\n</td>\n      <td>1</td>\n    </tr>\n    <tr>\n      <th>6969</th>\n      <td>\\n</td>\n      <td>1</td>\n    </tr>\n    <tr>\n      <th>2454</th>\n      <td>\\n</td>\n      <td>1</td>\n    </tr>\n    <tr>\n      <th>2654</th>\n      <td>\\n</td>\n      <td>1</td>\n    </tr>\n    <tr>\n      <th>1624</th>\n      <td>\\n</td>\n      <td>1</td>\n    </tr>\n    <tr>\n      <th>787</th>\n      <td>\\n</td>\n      <td>1</td>\n    </tr>\n    <tr>\n      <th>7437</th>\n      <td>\\n</td>\n      <td>1</td>\n    </tr>\n    <tr>\n      <th>5329</th>\n      <td>\\n</td>\n      <td>1</td>\n    </tr>\n    <tr>\n      <th>1385</th>\n      <td>\\n</td>\n      <td>1</td>\n    </tr>\n  </tbody>\n</table>\n</div>"
     },
     "execution_count": 18,
     "metadata": {},
     "output_type": "execute_result"
    }
   ],
   "source": [
    "text[text['len'] < 5].sample(10)"
   ]
  },
  {
   "cell_type": "markdown",
   "metadata": {
    "slideshow": {
     "slide_type": "slide"
    },
    "tags": []
   },
   "source": [
    "## Import Again\n",
    "\n",
    "Now that we know what line breaks mean, we can use this information to import the file with a more accurate structure. \n",
    "\n",
    "Note also that we could have inferred this from visual inspection, too. \n",
    "\n",
    "But the principle that statistical features can provide evidence for structure remains -- we will use this throughout the course."
   ]
  },
  {
   "cell_type": "markdown",
   "metadata": {
    "slideshow": {
     "slide_type": "slide"
    },
    "tags": []
   },
   "source": [
    "### Interpret line breaks `\\n\\n`"
   ]
  },
  {
   "cell_type": "code",
   "execution_count": 19,
   "metadata": {
    "tags": [],
    "ExecuteTime": {
     "end_time": "2025-01-23T21:25:10.550444Z",
     "start_time": "2025-01-23T21:25:10.538168Z"
    }
   },
   "outputs": [],
   "source": [
    "chunk_pat = '\\n\\n'"
   ]
  },
  {
   "cell_type": "code",
   "execution_count": 20,
   "metadata": {
    "tags": [],
    "ExecuteTime": {
     "end_time": "2025-01-23T21:25:10.553606Z",
     "start_time": "2025-01-23T21:25:10.545120Z"
    }
   },
   "outputs": [],
   "source": [
    "chunks = open(src_file, 'r').read().split(chunk_pat)"
   ]
  },
  {
   "cell_type": "code",
   "execution_count": 21,
   "metadata": {
    "tags": [],
    "ExecuteTime": {
     "end_time": "2025-01-23T21:25:10.615218Z",
     "start_time": "2025-01-23T21:25:10.551489Z"
    }
   },
   "outputs": [
    {
     "data": {
      "text/plain": "['The Project Gutenberg EBook of Persuasion, by Jane Austen',\n 'This eBook is for the use of anyone anywhere at no cost and with\\nalmost no restrictions whatsoever.  You may copy it, give it away or\\nre-use it under the terms of the Project Gutenberg License included\\nwith this eBook or online at www.gutenberg.net',\n '\\nTitle: Persuasion',\n 'Author: Jane Austen',\n 'Release Date: June 5, 2008 [EBook #105]\\nLast Updated: February 15, 2015']"
     },
     "execution_count": 21,
     "metadata": {},
     "output_type": "execute_result"
    }
   ],
   "source": [
    "chunks[:5]"
   ]
  },
  {
   "cell_type": "code",
   "execution_count": 22,
   "metadata": {
    "slideshow": {
     "slide_type": "slide"
    },
    "tags": [],
    "ExecuteTime": {
     "end_time": "2025-01-23T21:25:10.616158Z",
     "start_time": "2025-01-23T21:25:10.557963Z"
    }
   },
   "outputs": [],
   "source": [
    "text = pd.DataFrame(chunks, columns=['chunk_str'])\n",
    "text.index.name = 'chunk_id'"
   ]
  },
  {
   "cell_type": "code",
   "execution_count": 23,
   "metadata": {
    "tags": [],
    "ExecuteTime": {
     "end_time": "2025-01-23T21:25:10.617497Z",
     "start_time": "2025-01-23T21:25:10.561303Z"
    }
   },
   "outputs": [
    {
     "data": {
      "text/plain": "                                                  chunk_str\nchunk_id                                                   \n0         The Project Gutenberg EBook of Persuasion, by ...\n1         This eBook is for the use of anyone anywhere a...\n2                                       \\nTitle: Persuasion\n3                                       Author: Jane Austen\n4         Release Date: June 5, 2008 [EBook #105]\\nLast ...",
      "text/html": "<div>\n<style scoped>\n    .dataframe tbody tr th:only-of-type {\n        vertical-align: middle;\n    }\n\n    .dataframe tbody tr th {\n        vertical-align: top;\n    }\n\n    .dataframe thead th {\n        text-align: right;\n    }\n</style>\n<table border=\"1\" class=\"dataframe\">\n  <thead>\n    <tr style=\"text-align: right;\">\n      <th></th>\n      <th>chunk_str</th>\n    </tr>\n    <tr>\n      <th>chunk_id</th>\n      <th></th>\n    </tr>\n  </thead>\n  <tbody>\n    <tr>\n      <th>0</th>\n      <td>The Project Gutenberg EBook of Persuasion, by ...</td>\n    </tr>\n    <tr>\n      <th>1</th>\n      <td>This eBook is for the use of anyone anywhere a...</td>\n    </tr>\n    <tr>\n      <th>2</th>\n      <td>\\nTitle: Persuasion</td>\n    </tr>\n    <tr>\n      <th>3</th>\n      <td>Author: Jane Austen</td>\n    </tr>\n    <tr>\n      <th>4</th>\n      <td>Release Date: June 5, 2008 [EBook #105]\\nLast ...</td>\n    </tr>\n  </tbody>\n</table>\n</div>"
     },
     "execution_count": 23,
     "metadata": {},
     "output_type": "execute_result"
    }
   ],
   "source": [
    "text.head()"
   ]
  },
  {
   "cell_type": "code",
   "execution_count": 24,
   "metadata": {
    "tags": [],
    "ExecuteTime": {
     "end_time": "2025-01-23T21:25:10.618462Z",
     "start_time": "2025-01-23T21:25:10.571787Z"
    }
   },
   "outputs": [
    {
     "data": {
      "text/plain": "(1132, 1)"
     },
     "execution_count": 24,
     "metadata": {},
     "output_type": "execute_result"
    }
   ],
   "source": [
    "text.shape"
   ]
  },
  {
   "cell_type": "markdown",
   "metadata": {
    "slideshow": {
     "slide_type": "slide"
    },
    "tags": []
   },
   "source": [
    "### Remove remaining breaks"
   ]
  },
  {
   "cell_type": "code",
   "execution_count": 25,
   "metadata": {
    "tags": [],
    "ExecuteTime": {
     "end_time": "2025-01-23T21:25:10.681907Z",
     "start_time": "2025-01-23T21:25:10.582653Z"
    }
   },
   "outputs": [],
   "source": [
    "text.chunk_str = text.chunk_str.str.replace('\\n+', ' ', regex=True).str.strip()"
   ]
  },
  {
   "cell_type": "code",
   "execution_count": 26,
   "metadata": {
    "tags": [],
    "ExecuteTime": {
     "end_time": "2025-01-23T21:25:10.698466Z",
     "start_time": "2025-01-23T21:25:10.595876Z"
    }
   },
   "outputs": [
    {
     "data": {
      "text/plain": "                                                  chunk_str\nchunk_id                                                   \n0         The Project Gutenberg EBook of Persuasion, by ...\n1         This eBook is for the use of anyone anywhere a...\n2                                         Title: Persuasion\n3                                       Author: Jane Austen\n4         Release Date: June 5, 2008 [EBook #105] Last U...",
      "text/html": "<div>\n<style scoped>\n    .dataframe tbody tr th:only-of-type {\n        vertical-align: middle;\n    }\n\n    .dataframe tbody tr th {\n        vertical-align: top;\n    }\n\n    .dataframe thead th {\n        text-align: right;\n    }\n</style>\n<table border=\"1\" class=\"dataframe\">\n  <thead>\n    <tr style=\"text-align: right;\">\n      <th></th>\n      <th>chunk_str</th>\n    </tr>\n    <tr>\n      <th>chunk_id</th>\n      <th></th>\n    </tr>\n  </thead>\n  <tbody>\n    <tr>\n      <th>0</th>\n      <td>The Project Gutenberg EBook of Persuasion, by ...</td>\n    </tr>\n    <tr>\n      <th>1</th>\n      <td>This eBook is for the use of anyone anywhere a...</td>\n    </tr>\n    <tr>\n      <th>2</th>\n      <td>Title: Persuasion</td>\n    </tr>\n    <tr>\n      <th>3</th>\n      <td>Author: Jane Austen</td>\n    </tr>\n    <tr>\n      <th>4</th>\n      <td>Release Date: June 5, 2008 [EBook #105] Last U...</td>\n    </tr>\n  </tbody>\n</table>\n</div>"
     },
     "execution_count": 26,
     "metadata": {},
     "output_type": "execute_result"
    }
   ],
   "source": [
    "text.head()"
   ]
  },
  {
   "cell_type": "markdown",
   "metadata": {
    "slideshow": {
     "slide_type": "slide"
    },
    "tags": [],
    "toc-hr-collapsed": false
   },
   "source": [
    "## Convert Lines to Tokens\n",
    "\n",
    "`K`: A dataframe of tokens.\n",
    "\n",
    "Note the `expand` argument to the `.split()` method."
   ]
  },
  {
   "cell_type": "code",
   "execution_count": 27,
   "metadata": {
    "tags": [],
    "ExecuteTime": {
     "end_time": "2025-01-23T21:25:10.737235Z",
     "start_time": "2025-01-23T21:25:10.609252Z"
    }
   },
   "outputs": [],
   "source": [
    "K = text.chunk_str.str.split(expand=True).stack().to_frame('token_str')\n",
    "K.index.names = ['chunk_num','token_num']"
   ]
  },
  {
   "cell_type": "code",
   "execution_count": 28,
   "metadata": {
    "tags": [],
    "ExecuteTime": {
     "end_time": "2025-01-23T21:25:10.739210Z",
     "start_time": "2025-01-23T21:25:10.650022Z"
    }
   },
   "outputs": [
    {
     "data": {
      "text/plain": "                     token_str\nchunk_num token_num           \n0         0                The\n          1            Project\n          2          Gutenberg\n          3              EBook\n          4                 of\n...                        ...\n1131      35                to\n          36              hear\n          37             about\n          38               new\n          39           eBooks.\n\n[86307 rows x 1 columns]",
      "text/html": "<div>\n<style scoped>\n    .dataframe tbody tr th:only-of-type {\n        vertical-align: middle;\n    }\n\n    .dataframe tbody tr th {\n        vertical-align: top;\n    }\n\n    .dataframe thead th {\n        text-align: right;\n    }\n</style>\n<table border=\"1\" class=\"dataframe\">\n  <thead>\n    <tr style=\"text-align: right;\">\n      <th></th>\n      <th></th>\n      <th>token_str</th>\n    </tr>\n    <tr>\n      <th>chunk_num</th>\n      <th>token_num</th>\n      <th></th>\n    </tr>\n  </thead>\n  <tbody>\n    <tr>\n      <th rowspan=\"5\" valign=\"top\">0</th>\n      <th>0</th>\n      <td>The</td>\n    </tr>\n    <tr>\n      <th>1</th>\n      <td>Project</td>\n    </tr>\n    <tr>\n      <th>2</th>\n      <td>Gutenberg</td>\n    </tr>\n    <tr>\n      <th>3</th>\n      <td>EBook</td>\n    </tr>\n    <tr>\n      <th>4</th>\n      <td>of</td>\n    </tr>\n    <tr>\n      <th>...</th>\n      <th>...</th>\n      <td>...</td>\n    </tr>\n    <tr>\n      <th rowspan=\"5\" valign=\"top\">1131</th>\n      <th>35</th>\n      <td>to</td>\n    </tr>\n    <tr>\n      <th>36</th>\n      <td>hear</td>\n    </tr>\n    <tr>\n      <th>37</th>\n      <td>about</td>\n    </tr>\n    <tr>\n      <th>38</th>\n      <td>new</td>\n    </tr>\n    <tr>\n      <th>39</th>\n      <td>eBooks.</td>\n    </tr>\n  </tbody>\n</table>\n<p>86307 rows × 1 columns</p>\n</div>"
     },
     "execution_count": 28,
     "metadata": {},
     "output_type": "execute_result"
    }
   ],
   "source": [
    "K"
   ]
  },
  {
   "cell_type": "markdown",
   "metadata": {
    "slideshow": {
     "slide_type": "slide"
    },
    "tags": []
   },
   "source": [
    "Broken down into steps"
   ]
  },
  {
   "cell_type": "code",
   "execution_count": 29,
   "metadata": {
    "tags": [],
    "ExecuteTime": {
     "end_time": "2025-01-23T21:25:10.740189Z",
     "start_time": "2025-01-23T21:25:10.654770Z"
    }
   },
   "outputs": [],
   "source": [
    "# text.chunk_str.str.split()"
   ]
  },
  {
   "cell_type": "code",
   "execution_count": 30,
   "metadata": {
    "tags": [],
    "ExecuteTime": {
     "end_time": "2025-01-23T21:25:10.740965Z",
     "start_time": "2025-01-23T21:25:10.658019Z"
    }
   },
   "outputs": [],
   "source": [
    "# text.chunk_str.str.split(expand=True)"
   ]
  },
  {
   "cell_type": "code",
   "execution_count": 31,
   "metadata": {
    "tags": [],
    "ExecuteTime": {
     "end_time": "2025-01-23T21:25:10.741723Z",
     "start_time": "2025-01-23T21:25:10.660204Z"
    }
   },
   "outputs": [],
   "source": [
    "# text.chunk_str.str.split(expand=True).stack()"
   ]
  },
  {
   "cell_type": "code",
   "execution_count": 32,
   "metadata": {
    "tags": [],
    "ExecuteTime": {
     "end_time": "2025-01-23T21:25:10.761002Z",
     "start_time": "2025-01-23T21:25:10.662267Z"
    }
   },
   "outputs": [],
   "source": [
    "# text.chunk_str.str.split(expand=True).stack().to_frame('token_str')"
   ]
  },
  {
   "cell_type": "code",
   "execution_count": 33,
   "metadata": {
    "slideshow": {
     "slide_type": "slide"
    },
    "tags": [],
    "ExecuteTime": {
     "end_time": "2025-01-23T21:25:10.821561Z",
     "start_time": "2025-01-23T21:25:10.666035Z"
    }
   },
   "outputs": [
    {
     "data": {
      "text/plain": "                          token_str\nchunk_num token_num                \n19        0                     Sir\n          1                  Walter\n          2                 Elliot,\n          3                      of\n          4                Kellynch\n          5                   Hall,\n          6                      in\n          7          Somersetshire,\n          8                     was\n          9                       a\n          10                    man\n          11                   who,\n          12                    for\n          13                    his\n          14                    own\n          15             amusement,\n          16                  never\n          17                   took\n          18                     up\n          19                    any",
      "text/html": "<div>\n<style scoped>\n    .dataframe tbody tr th:only-of-type {\n        vertical-align: middle;\n    }\n\n    .dataframe tbody tr th {\n        vertical-align: top;\n    }\n\n    .dataframe thead th {\n        text-align: right;\n    }\n</style>\n<table border=\"1\" class=\"dataframe\">\n  <thead>\n    <tr style=\"text-align: right;\">\n      <th></th>\n      <th></th>\n      <th>token_str</th>\n    </tr>\n    <tr>\n      <th>chunk_num</th>\n      <th>token_num</th>\n      <th></th>\n    </tr>\n  </thead>\n  <tbody>\n    <tr>\n      <th rowspan=\"20\" valign=\"top\">19</th>\n      <th>0</th>\n      <td>Sir</td>\n    </tr>\n    <tr>\n      <th>1</th>\n      <td>Walter</td>\n    </tr>\n    <tr>\n      <th>2</th>\n      <td>Elliot,</td>\n    </tr>\n    <tr>\n      <th>3</th>\n      <td>of</td>\n    </tr>\n    <tr>\n      <th>4</th>\n      <td>Kellynch</td>\n    </tr>\n    <tr>\n      <th>5</th>\n      <td>Hall,</td>\n    </tr>\n    <tr>\n      <th>6</th>\n      <td>in</td>\n    </tr>\n    <tr>\n      <th>7</th>\n      <td>Somersetshire,</td>\n    </tr>\n    <tr>\n      <th>8</th>\n      <td>was</td>\n    </tr>\n    <tr>\n      <th>9</th>\n      <td>a</td>\n    </tr>\n    <tr>\n      <th>10</th>\n      <td>man</td>\n    </tr>\n    <tr>\n      <th>11</th>\n      <td>who,</td>\n    </tr>\n    <tr>\n      <th>12</th>\n      <td>for</td>\n    </tr>\n    <tr>\n      <th>13</th>\n      <td>his</td>\n    </tr>\n    <tr>\n      <th>14</th>\n      <td>own</td>\n    </tr>\n    <tr>\n      <th>15</th>\n      <td>amusement,</td>\n    </tr>\n    <tr>\n      <th>16</th>\n      <td>never</td>\n    </tr>\n    <tr>\n      <th>17</th>\n      <td>took</td>\n    </tr>\n    <tr>\n      <th>18</th>\n      <td>up</td>\n    </tr>\n    <tr>\n      <th>19</th>\n      <td>any</td>\n    </tr>\n  </tbody>\n</table>\n</div>"
     },
     "execution_count": 33,
     "metadata": {},
     "output_type": "execute_result"
    }
   ],
   "source": [
    "K.iloc[100:120]"
   ]
  },
  {
   "cell_type": "markdown",
   "metadata": {
    "slideshow": {
     "slide_type": "slide"
    },
    "tags": []
   },
   "source": [
    "## Do Some Cleaning"
   ]
  },
  {
   "cell_type": "code",
   "execution_count": 34,
   "metadata": {
    "tags": [],
    "ExecuteTime": {
     "end_time": "2025-01-23T21:25:10.879521Z",
     "start_time": "2025-01-23T21:25:10.680102Z"
    }
   },
   "outputs": [],
   "source": [
    "K['term_str'] = K.token_str.str.replace(r'\\W+', '', regex=True).str.lower()"
   ]
  },
  {
   "cell_type": "code",
   "execution_count": 35,
   "metadata": {
    "tags": [],
    "ExecuteTime": {
     "end_time": "2025-01-23T21:25:10.881096Z",
     "start_time": "2025-01-23T21:25:10.706016Z"
    }
   },
   "outputs": [
    {
     "data": {
      "text/plain": "                     token_str   term_str\nchunk_num token_num                      \n41        0              Their      their\n848       16             great      great\n674       18           Perhaps    perhaps\n983       43             think      think\n271       79         collected  collected\n854       33              them       them\n435       57               him        him\n84        6           observed   observed\n379       40             might      might\n236       30               the        the",
      "text/html": "<div>\n<style scoped>\n    .dataframe tbody tr th:only-of-type {\n        vertical-align: middle;\n    }\n\n    .dataframe tbody tr th {\n        vertical-align: top;\n    }\n\n    .dataframe thead th {\n        text-align: right;\n    }\n</style>\n<table border=\"1\" class=\"dataframe\">\n  <thead>\n    <tr style=\"text-align: right;\">\n      <th></th>\n      <th></th>\n      <th>token_str</th>\n      <th>term_str</th>\n    </tr>\n    <tr>\n      <th>chunk_num</th>\n      <th>token_num</th>\n      <th></th>\n      <th></th>\n    </tr>\n  </thead>\n  <tbody>\n    <tr>\n      <th>41</th>\n      <th>0</th>\n      <td>Their</td>\n      <td>their</td>\n    </tr>\n    <tr>\n      <th>848</th>\n      <th>16</th>\n      <td>great</td>\n      <td>great</td>\n    </tr>\n    <tr>\n      <th>674</th>\n      <th>18</th>\n      <td>Perhaps</td>\n      <td>perhaps</td>\n    </tr>\n    <tr>\n      <th>983</th>\n      <th>43</th>\n      <td>think</td>\n      <td>think</td>\n    </tr>\n    <tr>\n      <th>271</th>\n      <th>79</th>\n      <td>collected</td>\n      <td>collected</td>\n    </tr>\n    <tr>\n      <th>854</th>\n      <th>33</th>\n      <td>them</td>\n      <td>them</td>\n    </tr>\n    <tr>\n      <th>435</th>\n      <th>57</th>\n      <td>him</td>\n      <td>him</td>\n    </tr>\n    <tr>\n      <th>84</th>\n      <th>6</th>\n      <td>observed</td>\n      <td>observed</td>\n    </tr>\n    <tr>\n      <th>379</th>\n      <th>40</th>\n      <td>might</td>\n      <td>might</td>\n    </tr>\n    <tr>\n      <th>236</th>\n      <th>30</th>\n      <td>the</td>\n      <td>the</td>\n    </tr>\n  </tbody>\n</table>\n</div>"
     },
     "execution_count": 35,
     "metadata": {},
     "output_type": "execute_result"
    }
   ],
   "source": [
    "K.sample(10)"
   ]
  },
  {
   "cell_type": "markdown",
   "metadata": {
    "slideshow": {
     "slide_type": "slide"
    },
    "tags": []
   },
   "source": [
    "## Extract a Vocabulary\n",
    "\n",
    "`V`: A table of terms. As opposed to tokens, which are term _instances_.\n",
    "\n",
    "**Terms** are symbol **types**.\n",
    "\n",
    "**Tokens** are symbol **instances**."
   ]
  },
  {
   "cell_type": "code",
   "execution_count": 36,
   "metadata": {
    "tags": [],
    "ExecuteTime": {
     "end_time": "2025-01-23T21:25:10.883584Z",
     "start_time": "2025-01-23T21:25:10.712557Z"
    }
   },
   "outputs": [],
   "source": [
    "V = K.term_str.value_counts().to_frame('n')\n",
    "V.index.name = 'term_str'"
   ]
  },
  {
   "cell_type": "code",
   "execution_count": 37,
   "metadata": {
    "tags": [],
    "ExecuteTime": {
     "end_time": "2025-01-23T21:25:10.916402Z",
     "start_time": "2025-01-23T21:25:10.726054Z"
    }
   },
   "outputs": [
    {
     "data": {
      "text/plain": "             n\nterm_str      \nthe       3501\nto        2862\nand       2851\nof        2684\na         1648\nin        1439\nwas       1336\nher       1202\nhad       1187\nshe       1143",
      "text/html": "<div>\n<style scoped>\n    .dataframe tbody tr th:only-of-type {\n        vertical-align: middle;\n    }\n\n    .dataframe tbody tr th {\n        vertical-align: top;\n    }\n\n    .dataframe thead th {\n        text-align: right;\n    }\n</style>\n<table border=\"1\" class=\"dataframe\">\n  <thead>\n    <tr style=\"text-align: right;\">\n      <th></th>\n      <th>n</th>\n    </tr>\n    <tr>\n      <th>term_str</th>\n      <th></th>\n    </tr>\n  </thead>\n  <tbody>\n    <tr>\n      <th>the</th>\n      <td>3501</td>\n    </tr>\n    <tr>\n      <th>to</th>\n      <td>2862</td>\n    </tr>\n    <tr>\n      <th>and</th>\n      <td>2851</td>\n    </tr>\n    <tr>\n      <th>of</th>\n      <td>2684</td>\n    </tr>\n    <tr>\n      <th>a</th>\n      <td>1648</td>\n    </tr>\n    <tr>\n      <th>in</th>\n      <td>1439</td>\n    </tr>\n    <tr>\n      <th>was</th>\n      <td>1336</td>\n    </tr>\n    <tr>\n      <th>her</th>\n      <td>1202</td>\n    </tr>\n    <tr>\n      <th>had</th>\n      <td>1187</td>\n    </tr>\n    <tr>\n      <th>she</th>\n      <td>1143</td>\n    </tr>\n  </tbody>\n</table>\n</div>"
     },
     "execution_count": 37,
     "metadata": {},
     "output_type": "execute_result"
    }
   ],
   "source": [
    "V.head(10)"
   ]
  },
  {
   "cell_type": "markdown",
   "metadata": {
    "slideshow": {
     "slide_type": "slide"
    },
    "tags": []
   },
   "source": [
    "Define relative frequency, an estimate of the probability of the word."
   ]
  },
  {
   "cell_type": "code",
   "execution_count": 38,
   "metadata": {
    "tags": [],
    "ExecuteTime": {
     "end_time": "2025-01-23T21:25:10.917633Z",
     "start_time": "2025-01-23T21:25:10.729984Z"
    }
   },
   "outputs": [],
   "source": [
    "V['p'] = V.n / V.n.sum()"
   ]
  },
  {
   "cell_type": "code",
   "execution_count": 39,
   "metadata": {
    "tags": [],
    "ExecuteTime": {
     "end_time": "2025-01-23T21:25:10.929008Z",
     "start_time": "2025-01-23T21:25:10.733262Z"
    }
   },
   "outputs": [
    {
     "data": {
      "text/plain": "                n         p\nterm_str                   \nthe          3501  0.040564\nto           2862  0.033161\nand          2851  0.033033\nof           2684  0.031098\na            1648  0.019095\n...           ...       ...\nowners          1  0.000012\nconvictions     1  0.000012\nprecluded       1  0.000012\nwellknown       1  0.000012\nnewsletter      1  0.000012\n\n[6333 rows x 2 columns]",
      "text/html": "<div>\n<style scoped>\n    .dataframe tbody tr th:only-of-type {\n        vertical-align: middle;\n    }\n\n    .dataframe tbody tr th {\n        vertical-align: top;\n    }\n\n    .dataframe thead th {\n        text-align: right;\n    }\n</style>\n<table border=\"1\" class=\"dataframe\">\n  <thead>\n    <tr style=\"text-align: right;\">\n      <th></th>\n      <th>n</th>\n      <th>p</th>\n    </tr>\n    <tr>\n      <th>term_str</th>\n      <th></th>\n      <th></th>\n    </tr>\n  </thead>\n  <tbody>\n    <tr>\n      <th>the</th>\n      <td>3501</td>\n      <td>0.040564</td>\n    </tr>\n    <tr>\n      <th>to</th>\n      <td>2862</td>\n      <td>0.033161</td>\n    </tr>\n    <tr>\n      <th>and</th>\n      <td>2851</td>\n      <td>0.033033</td>\n    </tr>\n    <tr>\n      <th>of</th>\n      <td>2684</td>\n      <td>0.031098</td>\n    </tr>\n    <tr>\n      <th>a</th>\n      <td>1648</td>\n      <td>0.019095</td>\n    </tr>\n    <tr>\n      <th>...</th>\n      <td>...</td>\n      <td>...</td>\n    </tr>\n    <tr>\n      <th>owners</th>\n      <td>1</td>\n      <td>0.000012</td>\n    </tr>\n    <tr>\n      <th>convictions</th>\n      <td>1</td>\n      <td>0.000012</td>\n    </tr>\n    <tr>\n      <th>precluded</th>\n      <td>1</td>\n      <td>0.000012</td>\n    </tr>\n    <tr>\n      <th>wellknown</th>\n      <td>1</td>\n      <td>0.000012</td>\n    </tr>\n    <tr>\n      <th>newsletter</th>\n      <td>1</td>\n      <td>0.000012</td>\n    </tr>\n  </tbody>\n</table>\n<p>6333 rows × 2 columns</p>\n</div>"
     },
     "execution_count": 39,
     "metadata": {},
     "output_type": "execute_result"
    }
   ],
   "source": [
    "V"
   ]
  },
  {
   "cell_type": "markdown",
   "metadata": {
    "slideshow": {
     "slide_type": "slide"
    },
    "tags": []
   },
   "source": [
    "## Visualize Frequent Words"
   ]
  },
  {
   "cell_type": "code",
   "execution_count": 40,
   "metadata": {
    "tags": [],
    "ExecuteTime": {
     "end_time": "2025-01-23T21:25:11.009384Z",
     "start_time": "2025-01-23T21:25:10.738463Z"
    }
   },
   "outputs": [
    {
     "data": {
      "text/plain": "<Figure size 1000x500 with 1 Axes>",
      "image/png": "[encoded data removed]"
     },
     "metadata": {},
     "output_type": "display_data"
    }
   ],
   "source": [
    "V.p.plot(figsize=(10,5), fontsize=14, rot=45, legend=False);"
   ]
  },
  {
   "cell_type": "code",
   "execution_count": 41,
   "metadata": {
    "slideshow": {
     "slide_type": "skip"
    },
    "tags": [],
    "ExecuteTime": {
     "end_time": "2025-01-23T21:25:11.012566Z",
     "start_time": "2025-01-23T21:25:10.824988Z"
    }
   },
   "outputs": [],
   "source": [
    "# V.p.plot(figsize=(10,5), fontsize=14, rot=45, legend=False, logy=True);"
   ]
  },
  {
   "cell_type": "code",
   "execution_count": 44,
   "metadata": {
    "slideshow": {
     "slide_type": "subslide"
    },
    "tags": [],
    "ExecuteTime": {
     "end_time": "2025-01-23T21:25:23.120597Z",
     "start_time": "2025-01-23T21:25:23.017699Z"
    }
   },
   "outputs": [
    {
     "data": {
      "text/plain": "<Figure size 1000x1000 with 1 Axes>",
      "image/png": "[encoded data removed]"
     },
     "metadata": {},
     "output_type": "display_data"
    }
   ],
   "source": [
    "V.p.head(20).sort_values().plot.barh(figsize=(10,10));"
   ]
  },
  {
   "cell_type": "markdown",
   "metadata": {
    "slideshow": {
     "slide_type": "slide"
    },
    "tags": []
   },
   "source": [
    "## Save Work"
   ]
  },
  {
   "cell_type": "code",
   "execution_count": 43,
   "metadata": {
    "tags": [],
    "ExecuteTime": {
     "end_time": "2025-01-23T21:25:11.319746Z",
     "start_time": "2025-01-23T21:25:10.954775Z"
    }
   },
   "outputs": [],
   "source": [
    "K.to_csv(f\"{output_dir}/M01-ff-TOKENS.csv\")\n",
    "V.to_csv(f\"{output_dir}/M01-ff-VOCAB.csv\")"
   ]
  },
  {
   "cell_type": "markdown",
   "metadata": {
    "slideshow": {
     "slide_type": "slide"
    },
    "tags": []
   },
   "source": [
    "## The The\n",
    "\n",
    "Why is \"the\" the most frequent word?\n",
    "\n",
    "Consider that \"the\" is \"[The Most Powerful Word in the English Language](http://www.bbc.com/culture/story/20200109-is-this-the-most-powerful-word-in-the-english-language).\"\n",
    "\n",
    "> ... ‘the’ lies at the heart of English grammar, having a function rather than a meaning. Words are split into two categories: expressions with a semantic meaning and functional words like ‘the’, ‘to’, ‘for’, with a job to do. ‘The’ can function in multiple ways. This is typical, explains Gary Thoms, assistant professor in linguistics at New York University: “a super high-usage word will often develop a real flexibility”, with different subtle uses that make it hard to define. Helping us understand what is being referred to, ‘the’ makes sense of nouns as a subject or an object. So even someone with a rudimentary grasp of English can tell the difference between ‘I ate an apple’ and ‘I ate the apple’.\n",
    "\n",
    "Note: function vs. meaning ...\n",
    "\n",
    "> **Function words are very specific to each language.**<br/><br/>\n",
    "So, someone who is a native Hindi or Russian speaker is going to have to think very differently when constructing a sentence in English. Murphy says that she has noticed, for instance, that sometimes her Chinese students hedge their bets and include ‘the’ where it is not required. Conversely, Smith describes Russian friends who are so unsure when to use ‘the’ that they sometimes leave a little pause: ‘I went into... bank. I picked up... pen.’ English speakers learning a language with no equivalent of ‘the’ also struggle and might overcompensate by using words like ‘this’ and ‘that’ instead."
   ]
  }
 ],
 "metadata": {
  "hide_input": false,
  "kernelspec": {
   "display_name": "Python 3",
   "language": "python",
   "name": "python3"
  },
  "language_info": {
   "codemirror_mode": {
    "name": "ipython",
    "version": 3
   },
   "file_extension": ".py",
   "mimetype": "text/x-python",
   "name": "python",
   "nbconvert_exporter": "python",
   "pygments_lexer": "ipython3",
   "version": "3.11.4"
  },
  "latex_envs": {
   "LaTeX_envs_menu_present": true,
   "autoclose": true,
   "autocomplete": true,
   "bibliofile": "biblio.bib",
   "cite_by": "apalike",
   "current_citInitial": 1,
   "eqLabelWithNumbers": true,
   "eqNumInitial": 1,
   "hotkeys": {
    "equation": "Ctrl-E",
    "itemize": "Ctrl-I"
   },
   "labels_anchors": false,
   "latex_user_defs": false,
   "report_style_numbering": false,
   "user_envs_cfg": false
  },
  "toc": {
   "base_numbering": 1,
   "nav_menu": {},
   "number_sections": true,
   "sideBar": true,
   "skip_h1_title": false,
   "title_cell": "Table of Contents",
   "title_sidebar": "Contents",
   "toc_cell": false,
   "toc_position": {},
   "toc_section_display": true,
   "toc_window_display": true
  },
  "varInspector": {
   "cols": {
    "lenName": 16,
    "lenType": 16,
    "lenVar": 40
   },
   "kernels_config": {
    "python": {
     "delete_cmd_postfix": "",
     "delete_cmd_prefix": "del ",
     "library": "var_list.py",
     "varRefreshCmd": "print(var_dic_list())"
    },
    "r": {
     "delete_cmd_postfix": ") ",
     "delete_cmd_prefix": "rm(",
     "library": "var_list.r",
     "varRefreshCmd": "cat(var_dic_list()) "
    }
   },
   "types_to_exclude": [
    "module",
    "function",
    "builtin_function_or_method",
    "instance",
    "_Feature"
   ],
   "window_display": false
  },
  "vscode": {
   "interpreter": {
    "hash": "c3b963de08c47c3b6758389c5e0978ad73698a111eb508d4e16b558edb8f4cbf"
   }
  },
  "widgets": {
   "application/vnd.jupyter.widget-state+json": {
    "state": {},
    "version_major": 2,
    "version_minor": 0
   }
  }
 },
 "nbformat": 4,
 "nbformat_minor": 4
}
